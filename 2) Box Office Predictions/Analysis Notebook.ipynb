{
 "cells": [
  {
   "cell_type": "code",
   "execution_count": 1,
   "metadata": {
    "collapsed": true
   },
   "outputs": [],
   "source": [
    "from sklearn import datasets, cross_validation, linear_model, grid_search\n",
    "import numpy as np\n",
    "import pandas as pd\n",
    "import operator\n",
    "\n",
    "\n",
    "import matplotlib.pyplot as plt\n",
    "\n",
    "from sklearn.cross_validation import cross_val_score, train_test_split, KFold\n",
    "from sklearn.ensemble import RandomForestRegressor as rfr\n",
    "\n",
    "\n",
    "from sklearn.cross_validation import train_test_split\n",
    "from sklearn.ensemble import RandomForestRegressor, GradientBoostingRegressor\n",
    "from sklearn.linear_model import LinearRegression, Ridge, Lasso, ElasticNet\n",
    "from sklearn.grid_search import GridSearchCV\n",
    "\n",
    "import seaborn as sns\n",
    "import matplotlib.pyplot as plt\n",
    "%matplotlib inline"
   ]
  },
  {
   "cell_type": "code",
   "execution_count": 2,
   "metadata": {
    "collapsed": false
   },
   "outputs": [],
   "source": [
    "df = pd.read_csv('movie_data_13527_fixed_binaries_inflation_adjusted.csv')\n",
    "\n",
    "df['total_gross'] = df['International Gross (2016 dollars)'] + df['Domestic Gross (2016 dollars)']\n",
    "df['Domestic_Gross/Budget'] = df['Domestic Gross (2016 dollars)']/df['Budget (2016 dollars)']\n",
    "df['International_Gross/Budget'] = df['International Gross (2016 dollars)']/df['Budget (2016 dollars)']\n",
    "df['Total_Gross/Budget'] = df['Domestic_Gross/Budget'] + df['International_Gross/Budget']\n",
    "\n",
    "\n",
    "# dropping things not used in the model\n",
    "todrop = ['Rank', 'Movie Title', 'Theaters', 'Theaters.1', 'Genre', 'Studio', 'Close', 'Link', 'All Time Worldwide', 'All Time Domestic', 'Worldwide Yearly', 'Worldwide Yearly in Rating']\n",
    "for entry in todrop:\n",
    "    df.drop(entry, axis = 1, inplace = True)\n",
    "    \n",
    "# Parsing opening date into an ordinal day of year and defining whether it's summer    \n",
    "def dayofyear(datestr):\n",
    "    try:\n",
    "        datelist = datestr.split('/')\n",
    "        m, d = int(datelist[0]), int(datelist[1])\n",
    "        days = [31,29,31,30,31,30,31,31,30,31,30,31]\n",
    "        return sum(days[:m-1]) + d\n",
    "    except ValueError:\n",
    "        return np.NaN\n",
    "\n",
    "def month(datestr):\n",
    "    try:\n",
    "        datelist = datestr.split('/')\n",
    "        return int(datelist[0])\n",
    "    except ValueError:\n",
    "        return np.NaN\n",
    "\n",
    "def summer(datestr):\n",
    "    try:\n",
    "        datelist = datestr.split('/')\n",
    "        return int(int(datelist[0]) in [6,7,8])\n",
    "    except ValueError:\n",
    "        return np.NaN\n",
    "    \n",
    "df['summer'] = df['Open'].apply(summer)\n",
    "df['month'] = df['Open'].apply(month)\n",
    "df.Open = df.Open.apply(dayofyear)"
   ]
  },
  {
   "cell_type": "code",
   "execution_count": 3,
   "metadata": {
    "collapsed": false
   },
   "outputs": [
    {
     "data": {
      "text/plain": [
       "[('International_Gross/Budget', 82.9365666124501),\n",
       " ('Total_Gross/Budget', 82.9365666124501),\n",
       " ('Budget (2016 dollars)', 78.70767410912318),\n",
       " ('Domestic_Gross/Budget', 78.70767410912318),\n",
       " ('International Gross (2016 dollars)', 62.61274582285967),\n",
       " ('total_gross', 62.61274582285967),\n",
       " ('Opening', 6.98654443294396),\n",
       " ('any_column', 0.8296613928729853),\n",
       " ('Runtime', 0.6358125092414609),\n",
       " ('Open', 0.2809404110601804),\n",
       " ('summer', 0.2809404110601804),\n",
       " ('month', 0.2809404110601804),\n",
       " ('comedy', 0.0),\n",
       " ('epic', 0.0),\n",
       " ('family', 0.0),\n",
       " ('crime', 0.0),\n",
       " ('animation', 0.0),\n",
       " ('concert', 0.0),\n",
       " ('thriller', 0.0),\n",
       " ('music', 0.0),\n",
       " ('foreign', 0.0),\n",
       " ('romance', 0.0),\n",
       " ('documentary', 0.0),\n",
       " ('scifi', 0.0),\n",
       " ('war', 0.0),\n",
       " ('Domestic Gross (2016 dollars)', 0.0),\n",
       " ('period', 0.0),\n",
       " ('Year', 0.0),\n",
       " ('Rating', 0.0),\n",
       " ('western', 0.0),\n",
       " ('romantic', 0.0),\n",
       " ('imax', 0.0),\n",
       " ('sports', 0.0),\n",
       " ('action', 0.0),\n",
       " ('historical', 0.0),\n",
       " ('fantasy', 0.0),\n",
       " ('horror', 0.0),\n",
       " ('musical', 0.0),\n",
       " ('adventure', 0.0),\n",
       " ('drama', 0.0)]"
      ]
     },
     "execution_count": 3,
     "metadata": {},
     "output_type": "execute_result"
    }
   ],
   "source": [
    "# A Dictionary of what pecernt of figures in each column are NaNs\n",
    "nanpct = {}\n",
    "for column in df.columns:\n",
    "    colcopy = df[column].copy()\n",
    "    colcopy.dropna(axis = 0, inplace = True)\n",
    "    nanpct[column] = (len(df[column]) - len(colcopy))/len(df[column]) * 100\n",
    "framecopy = df.copy()\n",
    "framecopy.dropna(axis = 0, inplace = True)\n",
    "nanpct['any_column'] = (len(df) - len(framecopy))/len(df)\n",
    "sorted(nanpct.items(), key=operator.itemgetter(1), reverse = True)"
   ]
  },
  {
   "cell_type": "markdown",
   "metadata": {},
   "source": [
    "Most of the data gaps are in budget and return, so there's not much you can do to fill them."
   ]
  },
  {
   "cell_type": "code",
   "execution_count": 4,
   "metadata": {
    "collapsed": false
   },
   "outputs": [],
   "source": [
    "# dropping NaNs\n",
    "features = df.copy()\n",
    "features.dropna(axis = 0, inplace = True)"
   ]
  },
  {
   "cell_type": "code",
   "execution_count": 5,
   "metadata": {
    "collapsed": false
   },
   "outputs": [
    {
     "data": {
      "text/plain": [
       "Index(['Domestic Gross (2016 dollars)', 'Opening', 'Open', 'Year',\n",
       "       'International Gross (2016 dollars)', 'Budget (2016 dollars)',\n",
       "       'Runtime', 'Rating', 'action', 'romantic', 'musical', 'concert', 'imax',\n",
       "       'comedy', 'war', 'fantasy', 'historical', 'period', 'drama', 'thriller',\n",
       "       'adventure', 'western', 'horror', 'romance', 'animation', 'scifi',\n",
       "       'music', 'crime', 'foreign', 'sports', 'family', 'documentary', 'epic',\n",
       "       'total_gross', 'Domestic_Gross/Budget', 'International_Gross/Budget',\n",
       "       'Total_Gross/Budget', 'summer', 'month'],\n",
       "      dtype='object')"
      ]
     },
     "execution_count": 5,
     "metadata": {},
     "output_type": "execute_result"
    }
   ],
   "source": [
    "features.columns"
   ]
  },
  {
   "cell_type": "code",
   "execution_count": 6,
   "metadata": {
    "collapsed": false
   },
   "outputs": [
    {
     "data": {
      "text/plain": [
       "[('comedy', 31.553819444444443),\n",
       " ('drama', 21.354166666666664),\n",
       " ('action', 16.927083333333336),\n",
       " ('thriller', 12.022569444444445),\n",
       " ('horror', 9.98263888888889),\n",
       " ('adventure', 7.942708333333333),\n",
       " ('scifi', 6.597222222222222),\n",
       " ('animation', 6.206597222222222),\n",
       " ('romantic', 5.295138888888888),\n",
       " ('family', 4.817708333333334),\n",
       " ('crime', 4.296875),\n",
       " ('period', 3.689236111111111),\n",
       " ('fantasy', 3.4288194444444446),\n",
       " ('sports', 2.430555555555556),\n",
       " ('romance', 2.34375),\n",
       " ('war', 1.6059027777777777),\n",
       " ('foreign', 1.3888888888888888),\n",
       " ('music', 1.2586805555555556),\n",
       " ('western', 0.8246527777777778),\n",
       " ('historical', 0.8246527777777778),\n",
       " ('musical', 0.78125),\n",
       " ('documentary', 0.607638888888889),\n",
       " ('epic', 0.2170138888888889),\n",
       " ('concert', 0.08680555555555555),\n",
       " ('imax', 0.043402777777777776)]"
      ]
     },
     "execution_count": 6,
     "metadata": {},
     "output_type": "execute_result"
    }
   ],
   "source": [
    "genre_names = ['action', 'romantic', 'musical', 'concert', 'imax',\n",
    "       'comedy', 'war', 'fantasy', 'historical', 'period', 'drama', 'thriller',\n",
    "       'adventure', 'western', 'horror', 'romance', 'animation', 'scifi',\n",
    "       'music', 'crime', 'foreign', 'sports', 'family', 'documentary', 'epic']\n",
    "\n",
    "pctfull = {}\n",
    "for name in genre_names:\n",
    "    pctfull[name] = features[name].sum()/len(features)*100\n",
    "sorted(pctfull.items(), key=operator.itemgetter(1), reverse = True)"
   ]
  },
  {
   "cell_type": "code",
   "execution_count": 7,
   "metadata": {
    "collapsed": true
   },
   "outputs": [],
   "source": [
    "# Dropping columns below 1%, everything that ticks at least one box there is \"some other genre\"\n",
    "others = np.zeros(features.Year.shape)\n",
    "for name in genre_names:\n",
    "    if pctfull[name] < 1:\n",
    "        others = others + features[name]\n",
    "        features.drop(name, axis = 1, inplace = True)\n",
    "features['other_genre'] = ((others > 0) + 0)"
   ]
  },
  {
   "cell_type": "code",
   "execution_count": 8,
   "metadata": {
    "collapsed": false
   },
   "outputs": [],
   "source": [
    "features['total_genres'] = np.zeros(features.Year.shape)\n",
    "for name in genre_names:\n",
    "    if name in features.columns:\n",
    "        features['total_genres'] = features['total_genres'] + features[name]\n",
    "features['total_genres'] = features['total_genres'] + features['other_genre']"
   ]
  },
  {
   "cell_type": "markdown",
   "metadata": {},
   "source": [
    "Next we need to remove outliers in terms of gross/budget to avoid skewing our data set."
   ]
  },
  {
   "cell_type": "code",
   "execution_count": 9,
   "metadata": {
    "collapsed": false
   },
   "outputs": [
    {
     "data": {
      "text/plain": [
       "<matplotlib.text.Text at 0x118f71710>"
      ]
     },
     "execution_count": 9,
     "metadata": {},
     "output_type": "execute_result"
    },
    {
     "data": {
      "image/png": "[encoded data removed]",
      "text/plain": [
       "<matplotlib.figure.Figure at 0x117217f98>"
      ]
     },
     "metadata": {},
     "output_type": "display_data"
    }
   ],
   "source": [
    "plt.figure(figsize = [20,20])\n",
    "plt.scatter(np.log10(features['Budget (2016 dollars)']/10**6), np.log10(features['Total_Gross/Budget']))\n",
    "# plt.scatter(np.log10(features['Budget (2016 dollars)']/10**6), np.log10(features['total_gross']/10**6))\n",
    "\n",
    "plt.title('Log/Log budget vs total gross/budget ratio')\n",
    "plt.xlabel('Log10 of budget (millions USD 2016)')\n",
    "plt.ylabel('Log10 of total gross/budget ratio')"
   ]
  },
  {
   "cell_type": "markdown",
   "metadata": {},
   "source": [
    "The low budget movies almost all have a high gross/budget ratio because its an unrepresentative set. Most $50,000 budget films don't get released at all; the ones in our data set are the few lucky/good ones. \n",
    "\n",
    "I'll set a threshold at 10 million by eye"
   ]
  },
  {
   "cell_type": "code",
   "execution_count": 10,
   "metadata": {
    "collapsed": false
   },
   "outputs": [
    {
     "data": {
      "text/plain": [
       "2304"
      ]
     },
     "execution_count": 10,
     "metadata": {},
     "output_type": "execute_result"
    }
   ],
   "source": [
    "len(features)"
   ]
  },
  {
   "cell_type": "code",
   "execution_count": 11,
   "metadata": {
    "collapsed": false
   },
   "outputs": [
    {
     "data": {
      "text/plain": [
       "2085"
      ]
     },
     "execution_count": 11,
     "metadata": {},
     "output_type": "execute_result"
    }
   ],
   "source": [
    "features = features[features['Budget (2016 dollars)'] > 10**7]\n",
    "len(features)"
   ]
  },
  {
   "cell_type": "code",
   "execution_count": 12,
   "metadata": {
    "collapsed": false
   },
   "outputs": [
    {
     "data": {
      "text/plain": [
       "Index(['Domestic Gross (2016 dollars)', 'Opening', 'Open', 'Year',\n",
       "       'International Gross (2016 dollars)', 'Budget (2016 dollars)',\n",
       "       'Runtime', 'Rating', 'action', 'romantic', 'musical', 'concert', 'imax',\n",
       "       'comedy', 'war', 'fantasy', 'historical', 'period', 'drama', 'thriller',\n",
       "       'adventure', 'western', 'horror', 'romance', 'animation', 'scifi',\n",
       "       'music', 'crime', 'foreign', 'sports', 'family', 'documentary', 'epic',\n",
       "       'total_gross', 'Domestic_Gross/Budget', 'International_Gross/Budget',\n",
       "       'Total_Gross/Budget', 'summer', 'month'],\n",
       "      dtype='object')"
      ]
     },
     "execution_count": 12,
     "metadata": {},
     "output_type": "execute_result"
    }
   ],
   "source": [
    "df.columns"
   ]
  },
  {
   "cell_type": "markdown",
   "metadata": {},
   "source": [
    "Next I look at the budget and mean gross."
   ]
  },
  {
   "cell_type": "code",
   "execution_count": 13,
   "metadata": {
    "collapsed": false
   },
   "outputs": [],
   "source": [
    "ratingdict = {0:'G',1:'PG',2:'PG-13',3: 'R', 4: 'NC-17', 5: 'Unrated',6: 'X'}\n",
    "def ratingtrans(value):\n",
    "    return ratingdict[value]"
   ]
  },
  {
   "cell_type": "code",
   "execution_count": 14,
   "metadata": {
    "collapsed": false
   },
   "outputs": [
    {
     "data": {
      "text/html": [
       "<div>\n",
       "<table border=\"1\" class=\"dataframe\">\n",
       "  <thead>\n",
       "    <tr style=\"text-align: right;\">\n",
       "      <th></th>\n",
       "      <th>Rating</th>\n",
       "      <th>num_films</th>\n",
       "      <th>mean_Domestic_Gross/Budget</th>\n",
       "      <th>mean_International_Gross/Budget</th>\n",
       "      <th>mean_Total_Gross/Budget</th>\n",
       "    </tr>\n",
       "  </thead>\n",
       "  <tbody>\n",
       "    <tr>\n",
       "      <th>0</th>\n",
       "      <td>G</td>\n",
       "      <td>61</td>\n",
       "      <td>1.638682</td>\n",
       "      <td>2.088505</td>\n",
       "      <td>3.727187</td>\n",
       "    </tr>\n",
       "    <tr>\n",
       "      <th>1</th>\n",
       "      <td>PG</td>\n",
       "      <td>334</td>\n",
       "      <td>1.503856</td>\n",
       "      <td>1.816522</td>\n",
       "      <td>3.320378</td>\n",
       "    </tr>\n",
       "    <tr>\n",
       "      <th>2</th>\n",
       "      <td>PG-13</td>\n",
       "      <td>898</td>\n",
       "      <td>1.363994</td>\n",
       "      <td>1.694236</td>\n",
       "      <td>3.058230</td>\n",
       "    </tr>\n",
       "    <tr>\n",
       "      <th>3</th>\n",
       "      <td>R</td>\n",
       "      <td>783</td>\n",
       "      <td>1.254098</td>\n",
       "      <td>1.402151</td>\n",
       "      <td>2.656250</td>\n",
       "    </tr>\n",
       "    <tr>\n",
       "      <th>4</th>\n",
       "      <td>NC-17</td>\n",
       "      <td>2</td>\n",
       "      <td>0.234841</td>\n",
       "      <td>2.428720</td>\n",
       "      <td>2.663561</td>\n",
       "    </tr>\n",
       "    <tr>\n",
       "      <th>5</th>\n",
       "      <td>Unrated</td>\n",
       "      <td>7</td>\n",
       "      <td>0.063921</td>\n",
       "      <td>2.343547</td>\n",
       "      <td>2.407468</td>\n",
       "    </tr>\n",
       "  </tbody>\n",
       "</table>\n",
       "</div>"
      ],
      "text/plain": [
       "    Rating  num_films  mean_Domestic_Gross/Budget  \\\n",
       "0        G         61                    1.638682   \n",
       "1       PG        334                    1.503856   \n",
       "2    PG-13        898                    1.363994   \n",
       "3        R        783                    1.254098   \n",
       "4    NC-17          2                    0.234841   \n",
       "5  Unrated          7                    0.063921   \n",
       "\n",
       "   mean_International_Gross/Budget  mean_Total_Gross/Budget  \n",
       "0                         2.088505                 3.727187  \n",
       "1                         1.816522                 3.320378  \n",
       "2                         1.694236                 3.058230  \n",
       "3                         1.402151                 2.656250  \n",
       "4                         2.428720                 2.663561  \n",
       "5                         2.343547                 2.407468  "
      ]
     },
     "execution_count": 14,
     "metadata": {},
     "output_type": "execute_result"
    }
   ],
   "source": [
    "byrating = features.groupby(\"Rating\", as_index=False).mean()[['Budget (2016 dollars)', 'Domestic Gross (2016 dollars)', 'International Gross (2016 dollars)']]\n",
    "byrating['Rating'] = byrating.index\n",
    "byrating.Rating = byrating.Rating.apply(ratingtrans)\n",
    "byrating['mean_Domestic_Gross/Budget'] = byrating['Domestic Gross (2016 dollars)']/byrating['Budget (2016 dollars)']\n",
    "byrating['mean_International_Gross/Budget'] = byrating['International Gross (2016 dollars)']/byrating['Budget (2016 dollars)']\n",
    "byrating['mean_Total_Gross/Budget'] = byrating['mean_International_Gross/Budget'] + byrating['mean_Domestic_Gross/Budget']\n",
    "byrating['budget_means_mil'] = byrating['Budget (2016 dollars)']/10**6\n",
    "byrating['international_means_mil'] = byrating['International Gross (2016 dollars)']/10**6\n",
    "byrating['domestic_means_mil'] = byrating['Domestic Gross (2016 dollars)']/10**6\n",
    "byrating.dropna(axis = 0, inplace = True)\n",
    "\n",
    "num_films = []\n",
    "for i in range(6):  \n",
    "    num_films.append(sum(features.Rating == i))\n",
    "byrating['num_films'] = num_films\n",
    "\n",
    "byrating[['Rating','num_films','mean_Domestic_Gross/Budget','mean_International_Gross/Budget', 'mean_Total_Gross/Budget']]"
   ]
  },
  {
   "cell_type": "markdown",
   "metadata": {},
   "source": [
    "I would hesitate to draw conclusions from the NC-17 and Unrated statistics, as there are very few films in either category. Aside from small sample size, this also implies that the sample is likely skewed; that the NC-17 and Unrated films which survive in our set are very unrepresentative. I therefore leave them out of the next two plots."
   ]
  },
  {
   "cell_type": "code",
   "execution_count": 15,
   "metadata": {
    "collapsed": false
   },
   "outputs": [
    {
     "data": {
      "image/png": "[encoded data removed]",
      "text/plain": [
       "<matplotlib.figure.Figure at 0x11831dda0>"
      ]
     },
     "metadata": {},
     "output_type": "display_data"
    }
   ],
   "source": [
    "fig, ax = plt.subplots()#figsize = [10,10]\n",
    "\n",
    "bar_width = 0.20\n",
    "right_shift = 0.20\n",
    "\n",
    "opacity = 0.4\n",
    "error_config = {'ecolor': '0.3'}\n",
    "\n",
    "rects1 = plt.bar(byrating.index[:4] + right_shift, byrating['mean_Domestic_Gross/Budget'][:4], bar_width,\n",
    "                 alpha=opacity,\n",
    "                 color='b',\n",
    "                 label='Domestic')\n",
    "\n",
    "rects2 = plt.bar(byrating.index[:4] + right_shift + bar_width, byrating['mean_International_Gross/Budget'][:4], bar_width,\n",
    "                 alpha=opacity,\n",
    "                 color='r',\n",
    "                 label='International')\n",
    "\n",
    "rects3 = plt.bar(byrating.index[:4] + right_shift + 2 * bar_width, byrating['mean_Total_Gross/Budget'][:4], bar_width,\n",
    "                 alpha=opacity,\n",
    "                 color='g',\n",
    "                 label='Total')\n",
    "\n",
    "plt.xlabel('MPAA Rating')\n",
    "plt.ylabel('Mean Gross/Budget')\n",
    "plt.title('Mean Gross/Budget by MPAA Rating')\n",
    "plt.xticks(byrating.index[:4] + 0.5, byrating.Rating[:4])\n",
    "# plt.font()\n",
    "plt.legend()\n",
    "\n",
    "plt.tight_layout()\n",
    "plt.show()\n",
    "\n",
    "\n"
   ]
  },
  {
   "cell_type": "markdown",
   "metadata": {},
   "source": [
    "Among the major ratings, we have enough films to tease out a relationship. For both foreign and domestic films, more restrictive ratings mean a lower total gross to budget ratio, though this declines more rapidly with rating restrictiveness in the international market. This is most likely due to higher rated films being rejected or marginalized in media markets more restrictive/puritanical than the US (Mainland China, the Gulf States, etc.)"
   ]
  },
  {
   "cell_type": "code",
   "execution_count": 16,
   "metadata": {
    "collapsed": false
   },
   "outputs": [
    {
     "data": {
      "text/plain": [
       "<matplotlib.legend.Legend at 0x1183ecac8>"
      ]
     },
     "execution_count": 16,
     "metadata": {},
     "output_type": "execute_result"
    },
    {
     "data": {
      "image/png": "[encoded data removed]",
      "text/plain": [
       "<matplotlib.figure.Figure at 0x118407908>"
      ]
     },
     "metadata": {},
     "output_type": "display_data"
    }
   ],
   "source": [
    "\n",
    "fig, ax = plt.subplots()#figsize = [10,10]\n",
    "\n",
    "bar_width = 0.20\n",
    "\n",
    "opacity = 0.4\n",
    "error_config = {'ecolor': '0.3'}\n",
    "\n",
    "rects1 = plt.bar(byrating.index[:4] + bar_width, byrating['budget_means_mil'][:4], bar_width,\n",
    "                 alpha=opacity,\n",
    "                 color='b',\n",
    "                 label='Mean Budgets')\n",
    "\n",
    "rects2 = plt.bar(byrating.index[:4] + 2 * bar_width, byrating['domestic_means_mil'][:4], bar_width,\n",
    "                 alpha=opacity,\n",
    "                 color='r',\n",
    "                 label='Mean Domestic Gross')\n",
    "\n",
    "rects3 = plt.bar(byrating.index[:4] + 3 * bar_width, byrating['international_means_mil'][:4], bar_width,\n",
    "                 alpha=opacity,\n",
    "                 color='g',\n",
    "                 label='Mean International Gross')\n",
    "\n",
    "\n",
    "plt.xlabel('MPAA Rating')\n",
    "plt.ylabel('Millions of 2016 Dollars')\n",
    "plt.title('Mean Grosses and Budgets by MPAA Rating')\n",
    "plt.xticks(byrating.index[:4] + 0.5, byrating.Rating[:4])\n",
    "plt.legend(loc = 'best')\n",
    "\n",
    "# bymonth\n"
   ]
  },
  {
   "cell_type": "code",
   "execution_count": 17,
   "metadata": {
    "collapsed": false
   },
   "outputs": [
    {
     "data": {
      "text/plain": [
       "<matplotlib.legend.Legend at 0x11841b978>"
      ]
     },
     "execution_count": 17,
     "metadata": {},
     "output_type": "execute_result"
    },
    {
     "data": {
      "image/png": "[encoded data removed]",
      "text/plain": [
       "<matplotlib.figure.Figure at 0x1184347f0>"
      ]
     },
     "metadata": {},
     "output_type": "display_data"
    }
   ],
   "source": [
    "monthlist = ['Jan','Feb','Mar','Apr','May','Jun','Jul','Aug','Sep','Oct','Nov','Dec']\n",
    "\n",
    "bymonth = features.groupby(\"month\", as_index=False).mean()[['Budget (2016 dollars)', 'Domestic Gross (2016 dollars)', 'International Gross (2016 dollars)']]\n",
    "bymonth['month'] = bymonth.index + 1\n",
    "# # byrating.Rating = byrating.Rating.apply(ratingtrans)\n",
    "bymonth['budget_means_mil'] = bymonth['Budget (2016 dollars)']/10**6\n",
    "bymonth['international_means_mil'] = bymonth['International Gross (2016 dollars)']/10**6\n",
    "bymonth['domestic_means_mil'] = bymonth['Domestic Gross (2016 dollars)']/10**6\n",
    "\n",
    "bymonth['mean_Domestic_Gross/Budget'] = bymonth['Domestic Gross (2016 dollars)']/bymonth['Budget (2016 dollars)']\n",
    "bymonth['mean_International_Gross/Budget'] = bymonth['International Gross (2016 dollars)']/bymonth['Budget (2016 dollars)']\n",
    "bymonth['mean_Total_Gross/Budget'] = bymonth['mean_International_Gross/Budget'] + bymonth['mean_Domestic_Gross/Budget']\n",
    "# bymonth = bymonth[['budget_means_mil','international_means_mil', 'domestic_means_mil', 'month']]\n",
    "bymonth.dropna(axis = 0, inplace = True)\n",
    "\n",
    "fig, ax = plt.subplots()#figsize = [8,8]\n",
    "\n",
    "bar_width = 0.20\n",
    "\n",
    "opacity = 0.4\n",
    "error_config = {'ecolor': '0.3'}\n",
    "\n",
    "rects1 = plt.bar(bymonth.month - min(bymonth.month) + bar_width, bymonth['mean_Domestic_Gross/Budget'], bar_width,\n",
    "                 alpha=opacity,\n",
    "                 color='b',\n",
    "                 label='Domestic')\n",
    "\n",
    "rects2 = plt.bar(bymonth.month - min(bymonth.month) + 2 * bar_width, bymonth['mean_International_Gross/Budget'], bar_width,\n",
    "                 alpha=opacity,\n",
    "                 color='r',\n",
    "                 label='International')\n",
    "\n",
    "rects3 = plt.bar(bymonth.month - min(bymonth.month) + 3 * bar_width, bymonth['mean_Total_Gross/Budget'], bar_width,\n",
    "                 alpha=opacity,\n",
    "                 color='g',\n",
    "                 label='Total')\n",
    "\n",
    "plt.xlabel('Month')\n",
    "plt.ylabel('Mean Gross/Budget')\n",
    "plt.title('Mean Gross/Budget by Month')\n",
    "plt.xticks(bymonth.month - min(bymonth.month) + 0.5 , monthlist)\n",
    "# plt.xlim([0,17])\n",
    "plt.legend(loc = 'best')\n"
   ]
  },
  {
   "cell_type": "code",
   "execution_count": 18,
   "metadata": {
    "collapsed": false
   },
   "outputs": [
    {
     "data": {
      "text/plain": [
       "<matplotlib.legend.Legend at 0x118d385c0>"
      ]
     },
     "execution_count": 18,
     "metadata": {},
     "output_type": "execute_result"
    },
    {
     "data": {
      "image/png": "[encoded data removed]",
      "text/plain": [
       "<matplotlib.figure.Figure at 0x11838e6a0>"
      ]
     },
     "metadata": {},
     "output_type": "display_data"
    }
   ],
   "source": [
    "fig, ax = plt.subplots()#figsize = [8,8]\n",
    "\n",
    "bar_width = 0.20\n",
    "\n",
    "opacity = 0.4\n",
    "error_config = {'ecolor': '0.3'}\n",
    "\n",
    "rects1 = plt.bar(bymonth.month - min(bymonth.month) + bar_width, bymonth['budget_means_mil'], bar_width,\n",
    "                 alpha=opacity,\n",
    "                 color='b',\n",
    "                 label='Mean Budgets')\n",
    "\n",
    "rects2 = plt.bar(bymonth.month - min(bymonth.month) + 2 * bar_width, bymonth['domestic_means_mil'], bar_width,\n",
    "                 alpha=opacity,\n",
    "                 color='r',\n",
    "                 label='Mean Domestic Gross')\n",
    "\n",
    "rects3 = plt.bar(bymonth.month - min(bymonth.month) + 3 * bar_width, bymonth['international_means_mil'], bar_width,\n",
    "                 alpha=opacity,\n",
    "                 color='g',\n",
    "                 label='Mean International Gross')\n",
    "\n",
    "plt.xlabel('Month')\n",
    "plt.ylabel('Millions of 2016 Dollars')\n",
    "plt.title('Mean Grosses and Budgets by Month')\n",
    "plt.xticks(bymonth.month - min(bymonth.month) + 0.5, monthlist)\n",
    "# plt.xlim([0,17])\n",
    "plt.legend(loc = 'best')\n"
   ]
  },
  {
   "cell_type": "code",
   "execution_count": 19,
   "metadata": {
    "collapsed": false
   },
   "outputs": [
    {
     "data": {
      "text/plain": [
       "2010    146\n",
       "2000    132\n",
       "2002    128\n",
       "2004    124\n",
       "2011    122\n",
       "2001    120\n",
       "2003    119\n",
       "2008    118\n",
       "2009    113\n",
       "2005    113\n",
       "2006    108\n",
       "2013    105\n",
       "2015     98\n",
       "2012     95\n",
       "2014     94\n",
       "2007     85\n",
       "1999     82\n",
       "1998     34\n",
       "1997     28\n",
       "1996     20\n",
       "1994     19\n",
       "1995     14\n",
       "1991     13\n",
       "1992     13\n",
       "1990     12\n",
       "1993     10\n",
       "1988      5\n",
       "1989      3\n",
       "1984      3\n",
       "1987      2\n",
       "1982      2\n",
       "1986      1\n",
       "1985      1\n",
       "1983      1\n",
       "1981      1\n",
       "1980      1\n",
       "Name: Year, dtype: int64"
      ]
     },
     "execution_count": 19,
     "metadata": {},
     "output_type": "execute_result"
    }
   ],
   "source": [
    "features.Year.value_counts()"
   ]
  },
  {
   "cell_type": "markdown",
   "metadata": {},
   "source": [
    "To plot by year I only want years with enough movies with full data to be significant; if too few films are in the data set for each year this reduces significance of the average, and also means the data set is biased. For example the only film from 1980 with an international gross is the Empire Strikes Back -- the top grossing film of the year and a very unrepresentative sample of the films from that year.\n",
    "\n",
    "I therefore only plot the years with more than 50 films, both because this is a nice discontinuity in the data, and because all the years with > 50 films are sequential."
   ]
  },
  {
   "cell_type": "code",
   "execution_count": 20,
   "metadata": {
    "collapsed": false
   },
   "outputs": [
    {
     "data": {
      "text/plain": [
       "<matplotlib.legend.Legend at 0x11890dc88>"
      ]
     },
     "execution_count": 20,
     "metadata": {},
     "output_type": "execute_result"
    },
    {
     "data": {
      "image/png": "[encoded data removed]",
      "text/plain": [
       "<matplotlib.figure.Figure at 0x1185a6470>"
      ]
     },
     "metadata": {},
     "output_type": "display_data"
    }
   ],
   "source": [
    "years, domestic_means, international_means, budget_means = [], [], [], []\n",
    "for year in features.Year.unique():\n",
    "    yearfeats = features[features.Year == year]\n",
    "    if len(yearfeats) > 50:\n",
    "        years.append(year)\n",
    "        domestic_means.append(yearfeats['Domestic Gross (2016 dollars)'].mean())\n",
    "        international_means.append(yearfeats['International Gross (2016 dollars)'].mean())\n",
    "        budget_means.append(yearfeats['Budget (2016 dollars)'].mean())\n",
    "byyear = pd.DataFrame(data = years, columns = ['year'])\n",
    "byyear['budget_means_mil'] = budget_means\n",
    "byyear['budget_means_mil'] = byyear['budget_means_mil']/10**6\n",
    "byyear['domestic_means_mil'] = domestic_means\n",
    "byyear['domestic_means_mil'] = byyear['domestic_means_mil']/10**6\n",
    "byyear['international_means_mil'] = international_means\n",
    "byyear['international_means_mil'] = byyear['international_means_mil']/10**6\n",
    "byyear['mean_Domestic_Gross/Budget'] = byyear['domestic_means_mil']/byyear['budget_means_mil']\n",
    "byyear['mean_International_Gross/Budget'] = byyear['international_means_mil']/byyear['budget_means_mil']\n",
    "byyear['mean_Total_Gross/Budget'] = byyear['mean_International_Gross/Budget'] + byyear['mean_Domestic_Gross/Budget']\n",
    "\n",
    "fig, ax = plt.subplots(figsize = [8,8])\n",
    "\n",
    "bar_width = 0.20\n",
    "\n",
    "opacity = 0.4\n",
    "error_config = {'ecolor': '0.3'}\n",
    "\n",
    "\n",
    "rects1 = plt.bar(byyear.year - min(byyear.year) + bar_width, byyear['mean_Domestic_Gross/Budget'], bar_width,\n",
    "                 alpha=opacity,\n",
    "                 color='b',\n",
    "                 label='Domestic')\n",
    "\n",
    "rects2 = plt.bar(byyear.year - min(byyear.year) + 2 * bar_width, byyear['mean_International_Gross/Budget'], bar_width,\n",
    "                 alpha=opacity,\n",
    "                 color='r',\n",
    "                 label='International')\n",
    "\n",
    "rects3 = plt.bar(byyear.year - min(byyear.year) + 3 * bar_width, byyear['mean_Total_Gross/Budget'], bar_width,\n",
    "                 alpha=opacity,\n",
    "                 color='g',\n",
    "                 label='Total')\n",
    "\n",
    "plt.xlabel('Year')\n",
    "plt.ylabel('Mean Gross/Budget')\n",
    "plt.title('Mean Gross/Budget by Year')\n",
    "plt.xticks(byyear.year - min(byyear.year) + 0.5, byyear.year)\n",
    "plt.xlim([0,17])\n",
    "plt.legend(loc = 'best')"
   ]
  },
  {
   "cell_type": "code",
   "execution_count": 21,
   "metadata": {
    "collapsed": false
   },
   "outputs": [
    {
     "data": {
      "text/plain": [
       "<matplotlib.legend.Legend at 0x11d013ac8>"
      ]
     },
     "execution_count": 21,
     "metadata": {},
     "output_type": "execute_result"
    },
    {
     "data": {
      "image/png": "[encoded data removed]",
      "text/plain": [
       "<matplotlib.figure.Figure at 0x11857f0b8>"
      ]
     },
     "metadata": {},
     "output_type": "display_data"
    }
   ],
   "source": [
    "fig, ax = plt.subplots(figsize = [8,8])\n",
    "\n",
    "bar_width = 0.20\n",
    "\n",
    "opacity = 0.4\n",
    "error_config = {'ecolor': '0.3'}\n",
    "\n",
    "rects1 = plt.bar(byyear.year - min(byyear.year) + bar_width, byyear['budget_means_mil'], bar_width,\n",
    "                 alpha=opacity,\n",
    "                 color='b',\n",
    "                 label='Mean Budgets')\n",
    "\n",
    "rects2 = plt.bar(byyear.year - min(byyear.year) + 2 * bar_width, byyear['domestic_means_mil'], bar_width,\n",
    "                 alpha=opacity,\n",
    "                 color='r',\n",
    "                 label='Mean Domestic Gross')\n",
    "\n",
    "rects3 = plt.bar(byyear.year - min(byyear.year) + 3 * bar_width, byyear['international_means_mil'], bar_width,\n",
    "                 alpha=opacity,\n",
    "                 color='g',\n",
    "                 label='Mean International Gross')\n",
    "\n",
    "plt.xlabel('Year')\n",
    "plt.ylabel('Gross or Budget in Millions of 2016 Dollars')\n",
    "plt.title('Grosses and Budgets by Year')\n",
    "plt.xticks(byyear.year - min(byyear.year) + 0.5, byyear.year)\n",
    "plt.xlim([0,17])\n",
    "plt.legend(loc = 'best')"
   ]
  },
  {
   "cell_type": "markdown",
   "metadata": {},
   "source": [
    "Overall, there's no clear trend in the (inflation adjusted) budget or domestic returns, however international returns are clearly rising both in absolute terms and in market share, and this is making films more profitable overall."
   ]
  },
  {
   "cell_type": "code",
   "execution_count": 22,
   "metadata": {
    "collapsed": false
   },
   "outputs": [
    {
     "data": {
      "text/plain": [
       "<matplotlib.legend.Legend at 0x11d3a4c18>"
      ]
     },
     "execution_count": 22,
     "metadata": {},
     "output_type": "execute_result"
    },
    {
     "data": {
      "image/png": "[encoded data removed]",
      "text/plain": [
       "<matplotlib.figure.Figure at 0x11cfcc470>"
      ]
     },
     "metadata": {},
     "output_type": "display_data"
    }
   ],
   "source": [
    "genres_good, domestic_means, international_means, budget_means = [], [], [], []\n",
    "for genre in genre_names:\n",
    "    if genre in features.columns:\n",
    "        genres_good.append(genre)\n",
    "        genredata = features[features[genre] > 0]\n",
    "        domestic_means.append(genredata['Domestic Gross (2016 dollars)'].mean())\n",
    "        international_means.append(genredata['International Gross (2016 dollars)'].mean())\n",
    "        budget_means.append(genredata['Budget (2016 dollars)'].mean())\n",
    "        \n",
    "bygenre = pd.DataFrame(data = genres_good, columns = ['genre'])\n",
    "bygenre['budget_means_mil'] = budget_means\n",
    "bygenre['budget_means_mil'] = bygenre['budget_means_mil']/10**6\n",
    "bygenre['domestic_means_mil'] = domestic_means\n",
    "bygenre['domestic_means_mil'] = bygenre['domestic_means_mil']/10**6\n",
    "bygenre['international_means_mil'] = international_means\n",
    "bygenre['international_means_mil'] = bygenre['international_means_mil']/10**6\n",
    "bygenre['mean_Domestic_Gross/Budget'] = bygenre['domestic_means_mil']/bygenre['budget_means_mil']\n",
    "bygenre['mean_International_Gross/Budget'] = bygenre['international_means_mil']/bygenre['budget_means_mil']\n",
    "bygenre['mean_Total_Gross/Budget'] = bygenre['mean_International_Gross/Budget'] + bygenre['mean_Domestic_Gross/Budget']\n",
    "\n",
    "fig, ax = plt.subplots()#figsize = [8,8]\n",
    "\n",
    "bar_width = 0.20\n",
    "\n",
    "opacity = 0.4\n",
    "error_config = {'ecolor': '0.3'}\n",
    "\n",
    "\n",
    "rects1 = plt.bar(np.arange(len(genres_good)) + bar_width, bygenre['mean_Domestic_Gross/Budget'], bar_width,\n",
    "                 alpha=opacity,\n",
    "                 color='b',\n",
    "                 label='Domestic')\n",
    "\n",
    "rects2 = plt.bar(np.arange(len(genres_good)) + 2 * bar_width, bygenre['mean_International_Gross/Budget'], bar_width,\n",
    "                 alpha=opacity,\n",
    "                 color='r',\n",
    "                 label='International')\n",
    "\n",
    "rects3 = plt.bar(np.arange(len(genres_good)) + 3 * bar_width, bygenre['mean_Total_Gross/Budget'], bar_width,\n",
    "                 alpha=opacity,\n",
    "                 color='g',\n",
    "                 label='Total')\n",
    "\n",
    "plt.xlabel('Genre')\n",
    "plt.ylabel('Mean Gross/Budget')\n",
    "plt.title('Mean Gross/Budget by Genre')\n",
    "plt.xticks(np.arange(len(genres_good)) + 0.5, bygenre.genre, rotation = 90)\n",
    "plt.xlim([0,17])\n",
    "plt.legend(loc = 'best')"
   ]
  },
  {
   "cell_type": "code",
   "execution_count": 23,
   "metadata": {
    "collapsed": false
   },
   "outputs": [
    {
     "data": {
      "text/plain": [
       "<matplotlib.legend.Legend at 0x11d3fa8d0>"
      ]
     },
     "execution_count": 23,
     "metadata": {},
     "output_type": "execute_result"
    },
    {
     "data": {
      "image/png": "[encoded data removed]",
      "text/plain": [
       "<matplotlib.figure.Figure at 0x11d013128>"
      ]
     },
     "metadata": {},
     "output_type": "display_data"
    }
   ],
   "source": [
    "fig, ax = plt.subplots()#figsize = [8,8]\n",
    "\n",
    "bar_width = 0.20\n",
    "\n",
    "opacity = 0.4\n",
    "error_config = {'ecolor': '0.3'}\n",
    "\n",
    "rects1 = plt.bar(np.arange(len(genres_good)) + bar_width, bygenre['budget_means_mil'], bar_width,\n",
    "                 alpha=opacity,\n",
    "                 color='b',\n",
    "                 label='Mean Budgets')\n",
    "\n",
    "rects2 = plt.bar(np.arange(len(genres_good)) + 2 * bar_width, bygenre['domestic_means_mil'], bar_width,\n",
    "                 alpha=opacity,\n",
    "                 color='r',\n",
    "                 label='Mean Domestic Gross')\n",
    "\n",
    "rects3 = plt.bar(np.arange(len(genres_good)) + 3 * bar_width, bygenre['international_means_mil'], bar_width,\n",
    "                 alpha=opacity,\n",
    "                 color='g',\n",
    "                 label='Mean International Gross')\n",
    "\n",
    "plt.xlabel('Genre')\n",
    "plt.ylabel('Mean Gross or Budget in Millions of 2016 Dollars')\n",
    "plt.title('Mean Grosses and Budgets by Genre')\n",
    "plt.xticks(np.arange(len(genres_good)) + 0.5, bygenre.genre, rotation = 90)\n",
    "plt.legend(loc = 'best')"
   ]
  },
  {
   "cell_type": "code",
   "execution_count": 24,
   "metadata": {
    "collapsed": false
   },
   "outputs": [],
   "source": [
    "xcols = features.columns.tolist()\n",
    "hitlist2 = ['Domestic Gross (2016 dollars)', 'International Gross (2016 dollars)', 'Opening',\n",
    "            'Total_Gross/Budget','Domestic_Gross/Budget','International_Gross/Budget', 'total_gross']\n",
    "for entry in hitlist2:\n",
    "    while entry in xcols:\n",
    "        xcols.remove(entry)"
   ]
  },
  {
   "cell_type": "code",
   "execution_count": 25,
   "metadata": {
    "collapsed": false
   },
   "outputs": [],
   "source": [
    "X, y = features[xcols], features['Total_Gross/Budget']\n",
    "X_train, X_test, y_train, y_test = train_test_split(X,y, test_size=0.3, random_state=42)\n",
    "kfold = KFold(len(X_train), n_folds=5, shuffle=True, random_state=42)"
   ]
  },
  {
   "cell_type": "code",
   "execution_count": 26,
   "metadata": {
    "collapsed": false
   },
   "outputs": [],
   "source": [
    "def build_grid_search_est(model, X, y, cv=5, **params):\n",
    "    \n",
    "    grid_est = GridSearchCV(model, param_grid=params, cv=cv)\n",
    "    grid_est.fit(X, y)\n",
    "    df = pd.DataFrame(grid_est.grid_scores_)\n",
    "    for param in params:\n",
    "        df[param] = df.parameters.apply(lambda val: val[param])\n",
    "#         plt.plot(np.log(df.alpha), df.mean_validation_score);\n",
    "#         plt.semilogx(df.alpha, df.mean_validation_score)\n",
    "    grid_est.grid_scores_\n",
    "    return grid_est"
   ]
  },
  {
   "cell_type": "code",
   "execution_count": 27,
   "metadata": {
    "collapsed": false
   },
   "outputs": [
    {
     "name": "stderr",
     "output_type": "stream",
     "text": [
      "//anaconda/lib/python3.5/site-packages/scipy/linalg/basic.py:884: RuntimeWarning: internal gelsd driver lwork query error, required iwork dimension not returned. This is likely the result of LAPACK bug 0038, fixed in LAPACK 3.2.2 (released July 21, 2010). Falling back to 'gelss' driver.\n",
      "  warnings.warn(mesg, RuntimeWarning)\n"
     ]
    }
   ],
   "source": [
    "lin_reg_est = LinearRegression()\n",
    "lin_reg_est.fit(X_train, y_train);"
   ]
  },
  {
   "cell_type": "code",
   "execution_count": 28,
   "metadata": {
    "collapsed": false
   },
   "outputs": [
    {
     "name": "stderr",
     "output_type": "stream",
     "text": [
      "//anaconda/lib/python3.5/site-packages/sklearn/linear_model/coordinate_descent.py:466: ConvergenceWarning: Objective did not converge. You might want to increase the number of iterations\n",
      "  ConvergenceWarning)\n",
      "//anaconda/lib/python3.5/site-packages/sklearn/linear_model/coordinate_descent.py:466: ConvergenceWarning: Objective did not converge. You might want to increase the number of iterations\n",
      "  ConvergenceWarning)\n",
      "//anaconda/lib/python3.5/site-packages/sklearn/linear_model/coordinate_descent.py:466: ConvergenceWarning: Objective did not converge. You might want to increase the number of iterations\n",
      "  ConvergenceWarning)\n",
      "//anaconda/lib/python3.5/site-packages/sklearn/linear_model/coordinate_descent.py:466: ConvergenceWarning: Objective did not converge. You might want to increase the number of iterations\n",
      "  ConvergenceWarning)\n",
      "//anaconda/lib/python3.5/site-packages/sklearn/linear_model/coordinate_descent.py:466: ConvergenceWarning: Objective did not converge. You might want to increase the number of iterations\n",
      "  ConvergenceWarning)\n"
     ]
    },
    {
     "name": "stdout",
     "output_type": "stream",
     "text": [
      "Lasso Grid Search\n"
     ]
    },
    {
     "name": "stderr",
     "output_type": "stream",
     "text": [
      "//anaconda/lib/python3.5/site-packages/sklearn/linear_model/coordinate_descent.py:466: ConvergenceWarning: Objective did not converge. You might want to increase the number of iterations\n",
      "  ConvergenceWarning)\n",
      "//anaconda/lib/python3.5/site-packages/sklearn/linear_model/coordinate_descent.py:466: ConvergenceWarning: Objective did not converge. You might want to increase the number of iterations\n",
      "  ConvergenceWarning)\n",
      "//anaconda/lib/python3.5/site-packages/sklearn/linear_model/coordinate_descent.py:466: ConvergenceWarning: Objective did not converge. You might want to increase the number of iterations\n",
      "  ConvergenceWarning)\n",
      "//anaconda/lib/python3.5/site-packages/sklearn/linear_model/coordinate_descent.py:466: ConvergenceWarning: Objective did not converge. You might want to increase the number of iterations\n",
      "  ConvergenceWarning)\n",
      "//anaconda/lib/python3.5/site-packages/sklearn/linear_model/coordinate_descent.py:466: ConvergenceWarning: Objective did not converge. You might want to increase the number of iterations\n",
      "  ConvergenceWarning)\n",
      "//anaconda/lib/python3.5/site-packages/sklearn/linear_model/coordinate_descent.py:466: ConvergenceWarning: Objective did not converge. You might want to increase the number of iterations\n",
      "  ConvergenceWarning)\n",
      "//anaconda/lib/python3.5/site-packages/sklearn/linear_model/coordinate_descent.py:466: ConvergenceWarning: Objective did not converge. You might want to increase the number of iterations\n",
      "  ConvergenceWarning)\n",
      "//anaconda/lib/python3.5/site-packages/sklearn/linear_model/coordinate_descent.py:466: ConvergenceWarning: Objective did not converge. You might want to increase the number of iterations\n",
      "  ConvergenceWarning)\n",
      "//anaconda/lib/python3.5/site-packages/sklearn/linear_model/coordinate_descent.py:466: ConvergenceWarning: Objective did not converge. You might want to increase the number of iterations\n",
      "  ConvergenceWarning)\n",
      "//anaconda/lib/python3.5/site-packages/sklearn/linear_model/coordinate_descent.py:466: ConvergenceWarning: Objective did not converge. You might want to increase the number of iterations\n",
      "  ConvergenceWarning)\n",
      "//anaconda/lib/python3.5/site-packages/sklearn/linear_model/coordinate_descent.py:466: ConvergenceWarning: Objective did not converge. You might want to increase the number of iterations\n",
      "  ConvergenceWarning)\n",
      "//anaconda/lib/python3.5/site-packages/sklearn/linear_model/coordinate_descent.py:466: ConvergenceWarning: Objective did not converge. You might want to increase the number of iterations\n",
      "  ConvergenceWarning)\n",
      "//anaconda/lib/python3.5/site-packages/sklearn/linear_model/coordinate_descent.py:466: ConvergenceWarning: Objective did not converge. You might want to increase the number of iterations\n",
      "  ConvergenceWarning)\n",
      "//anaconda/lib/python3.5/site-packages/sklearn/linear_model/coordinate_descent.py:466: ConvergenceWarning: Objective did not converge. You might want to increase the number of iterations\n",
      "  ConvergenceWarning)\n",
      "//anaconda/lib/python3.5/site-packages/sklearn/linear_model/coordinate_descent.py:466: ConvergenceWarning: Objective did not converge. You might want to increase the number of iterations\n",
      "  ConvergenceWarning)\n",
      "//anaconda/lib/python3.5/site-packages/sklearn/linear_model/coordinate_descent.py:466: ConvergenceWarning: Objective did not converge. You might want to increase the number of iterations\n",
      "  ConvergenceWarning)\n",
      "//anaconda/lib/python3.5/site-packages/sklearn/linear_model/coordinate_descent.py:466: ConvergenceWarning: Objective did not converge. You might want to increase the number of iterations\n",
      "  ConvergenceWarning)\n",
      "//anaconda/lib/python3.5/site-packages/sklearn/linear_model/coordinate_descent.py:466: ConvergenceWarning: Objective did not converge. You might want to increase the number of iterations\n",
      "  ConvergenceWarning)\n",
      "//anaconda/lib/python3.5/site-packages/sklearn/linear_model/coordinate_descent.py:466: ConvergenceWarning: Objective did not converge. You might want to increase the number of iterations\n",
      "  ConvergenceWarning)\n",
      "//anaconda/lib/python3.5/site-packages/sklearn/linear_model/coordinate_descent.py:466: ConvergenceWarning: Objective did not converge. You might want to increase the number of iterations\n",
      "  ConvergenceWarning)\n",
      "//anaconda/lib/python3.5/site-packages/sklearn/linear_model/coordinate_descent.py:466: ConvergenceWarning: Objective did not converge. You might want to increase the number of iterations\n",
      "  ConvergenceWarning)\n",
      "//anaconda/lib/python3.5/site-packages/sklearn/linear_model/coordinate_descent.py:466: ConvergenceWarning: Objective did not converge. You might want to increase the number of iterations\n",
      "  ConvergenceWarning)\n",
      "//anaconda/lib/python3.5/site-packages/sklearn/linear_model/coordinate_descent.py:466: ConvergenceWarning: Objective did not converge. You might want to increase the number of iterations\n",
      "  ConvergenceWarning)\n",
      "//anaconda/lib/python3.5/site-packages/sklearn/linear_model/coordinate_descent.py:466: ConvergenceWarning: Objective did not converge. You might want to increase the number of iterations\n",
      "  ConvergenceWarning)\n",
      "//anaconda/lib/python3.5/site-packages/sklearn/linear_model/coordinate_descent.py:466: ConvergenceWarning: Objective did not converge. You might want to increase the number of iterations\n",
      "  ConvergenceWarning)\n",
      "//anaconda/lib/python3.5/site-packages/sklearn/linear_model/coordinate_descent.py:466: ConvergenceWarning: Objective did not converge. You might want to increase the number of iterations\n",
      "  ConvergenceWarning)\n",
      "//anaconda/lib/python3.5/site-packages/sklearn/linear_model/coordinate_descent.py:466: ConvergenceWarning: Objective did not converge. You might want to increase the number of iterations\n",
      "  ConvergenceWarning)\n",
      "//anaconda/lib/python3.5/site-packages/sklearn/linear_model/coordinate_descent.py:466: ConvergenceWarning: Objective did not converge. You might want to increase the number of iterations\n",
      "  ConvergenceWarning)\n",
      "//anaconda/lib/python3.5/site-packages/sklearn/linear_model/coordinate_descent.py:466: ConvergenceWarning: Objective did not converge. You might want to increase the number of iterations\n",
      "  ConvergenceWarning)\n",
      "//anaconda/lib/python3.5/site-packages/sklearn/linear_model/coordinate_descent.py:466: ConvergenceWarning: Objective did not converge. You might want to increase the number of iterations\n",
      "  ConvergenceWarning)\n",
      "//anaconda/lib/python3.5/site-packages/sklearn/linear_model/coordinate_descent.py:466: ConvergenceWarning: Objective did not converge. You might want to increase the number of iterations\n",
      "  ConvergenceWarning)\n",
      "//anaconda/lib/python3.5/site-packages/sklearn/linear_model/coordinate_descent.py:466: ConvergenceWarning: Objective did not converge. You might want to increase the number of iterations\n",
      "  ConvergenceWarning)\n",
      "//anaconda/lib/python3.5/site-packages/sklearn/linear_model/coordinate_descent.py:466: ConvergenceWarning: Objective did not converge. You might want to increase the number of iterations\n",
      "  ConvergenceWarning)\n",
      "//anaconda/lib/python3.5/site-packages/sklearn/linear_model/coordinate_descent.py:466: ConvergenceWarning: Objective did not converge. You might want to increase the number of iterations\n",
      "  ConvergenceWarning)\n",
      "//anaconda/lib/python3.5/site-packages/sklearn/linear_model/coordinate_descent.py:466: ConvergenceWarning: Objective did not converge. You might want to increase the number of iterations\n",
      "  ConvergenceWarning)\n",
      "//anaconda/lib/python3.5/site-packages/sklearn/linear_model/coordinate_descent.py:466: ConvergenceWarning: Objective did not converge. You might want to increase the number of iterations\n",
      "  ConvergenceWarning)\n",
      "//anaconda/lib/python3.5/site-packages/sklearn/linear_model/coordinate_descent.py:466: ConvergenceWarning: Objective did not converge. You might want to increase the number of iterations\n",
      "  ConvergenceWarning)\n",
      "//anaconda/lib/python3.5/site-packages/sklearn/linear_model/coordinate_descent.py:466: ConvergenceWarning: Objective did not converge. You might want to increase the number of iterations\n",
      "  ConvergenceWarning)\n",
      "//anaconda/lib/python3.5/site-packages/sklearn/linear_model/coordinate_descent.py:466: ConvergenceWarning: Objective did not converge. You might want to increase the number of iterations\n",
      "  ConvergenceWarning)\n",
      "//anaconda/lib/python3.5/site-packages/sklearn/linear_model/coordinate_descent.py:466: ConvergenceWarning: Objective did not converge. You might want to increase the number of iterations\n",
      "  ConvergenceWarning)\n",
      "//anaconda/lib/python3.5/site-packages/sklearn/linear_model/coordinate_descent.py:466: ConvergenceWarning: Objective did not converge. You might want to increase the number of iterations\n",
      "  ConvergenceWarning)\n",
      "//anaconda/lib/python3.5/site-packages/sklearn/linear_model/coordinate_descent.py:466: ConvergenceWarning: Objective did not converge. You might want to increase the number of iterations\n",
      "  ConvergenceWarning)\n",
      "//anaconda/lib/python3.5/site-packages/sklearn/linear_model/coordinate_descent.py:466: ConvergenceWarning: Objective did not converge. You might want to increase the number of iterations\n",
      "  ConvergenceWarning)\n",
      "//anaconda/lib/python3.5/site-packages/sklearn/linear_model/coordinate_descent.py:466: ConvergenceWarning: Objective did not converge. You might want to increase the number of iterations\n",
      "  ConvergenceWarning)\n",
      "//anaconda/lib/python3.5/site-packages/sklearn/linear_model/coordinate_descent.py:466: ConvergenceWarning: Objective did not converge. You might want to increase the number of iterations\n",
      "  ConvergenceWarning)\n",
      "//anaconda/lib/python3.5/site-packages/sklearn/linear_model/coordinate_descent.py:466: ConvergenceWarning: Objective did not converge. You might want to increase the number of iterations\n",
      "  ConvergenceWarning)\n",
      "//anaconda/lib/python3.5/site-packages/sklearn/linear_model/coordinate_descent.py:466: ConvergenceWarning: Objective did not converge. You might want to increase the number of iterations\n",
      "  ConvergenceWarning)\n",
      "//anaconda/lib/python3.5/site-packages/sklearn/linear_model/coordinate_descent.py:466: ConvergenceWarning: Objective did not converge. You might want to increase the number of iterations\n",
      "  ConvergenceWarning)\n",
      "//anaconda/lib/python3.5/site-packages/sklearn/linear_model/coordinate_descent.py:466: ConvergenceWarning: Objective did not converge. You might want to increase the number of iterations\n",
      "  ConvergenceWarning)\n",
      "//anaconda/lib/python3.5/site-packages/sklearn/linear_model/coordinate_descent.py:466: ConvergenceWarning: Objective did not converge. You might want to increase the number of iterations\n",
      "  ConvergenceWarning)\n",
      "//anaconda/lib/python3.5/site-packages/sklearn/linear_model/coordinate_descent.py:466: ConvergenceWarning: Objective did not converge. You might want to increase the number of iterations\n",
      "  ConvergenceWarning)\n",
      "//anaconda/lib/python3.5/site-packages/sklearn/linear_model/coordinate_descent.py:466: ConvergenceWarning: Objective did not converge. You might want to increase the number of iterations\n",
      "  ConvergenceWarning)\n",
      "//anaconda/lib/python3.5/site-packages/sklearn/linear_model/coordinate_descent.py:466: ConvergenceWarning: Objective did not converge. You might want to increase the number of iterations\n",
      "  ConvergenceWarning)\n",
      "//anaconda/lib/python3.5/site-packages/sklearn/linear_model/coordinate_descent.py:466: ConvergenceWarning: Objective did not converge. You might want to increase the number of iterations\n",
      "  ConvergenceWarning)\n",
      "//anaconda/lib/python3.5/site-packages/sklearn/linear_model/coordinate_descent.py:466: ConvergenceWarning: Objective did not converge. You might want to increase the number of iterations\n",
      "  ConvergenceWarning)\n",
      "//anaconda/lib/python3.5/site-packages/sklearn/linear_model/coordinate_descent.py:466: ConvergenceWarning: Objective did not converge. You might want to increase the number of iterations\n",
      "  ConvergenceWarning)\n",
      "//anaconda/lib/python3.5/site-packages/sklearn/linear_model/coordinate_descent.py:466: ConvergenceWarning: Objective did not converge. You might want to increase the number of iterations\n",
      "  ConvergenceWarning)\n",
      "//anaconda/lib/python3.5/site-packages/sklearn/linear_model/coordinate_descent.py:466: ConvergenceWarning: Objective did not converge. You might want to increase the number of iterations\n",
      "  ConvergenceWarning)\n",
      "//anaconda/lib/python3.5/site-packages/sklearn/linear_model/coordinate_descent.py:466: ConvergenceWarning: Objective did not converge. You might want to increase the number of iterations\n",
      "  ConvergenceWarning)\n",
      "//anaconda/lib/python3.5/site-packages/sklearn/linear_model/coordinate_descent.py:466: ConvergenceWarning: Objective did not converge. You might want to increase the number of iterations\n",
      "  ConvergenceWarning)\n",
      "//anaconda/lib/python3.5/site-packages/sklearn/linear_model/coordinate_descent.py:466: ConvergenceWarning: Objective did not converge. You might want to increase the number of iterations\n",
      "  ConvergenceWarning)\n",
      "//anaconda/lib/python3.5/site-packages/sklearn/linear_model/coordinate_descent.py:466: ConvergenceWarning: Objective did not converge. You might want to increase the number of iterations\n",
      "  ConvergenceWarning)\n",
      "//anaconda/lib/python3.5/site-packages/sklearn/linear_model/coordinate_descent.py:466: ConvergenceWarning: Objective did not converge. You might want to increase the number of iterations\n",
      "  ConvergenceWarning)\n",
      "//anaconda/lib/python3.5/site-packages/sklearn/linear_model/coordinate_descent.py:466: ConvergenceWarning: Objective did not converge. You might want to increase the number of iterations\n",
      "  ConvergenceWarning)\n",
      "//anaconda/lib/python3.5/site-packages/sklearn/linear_model/coordinate_descent.py:466: ConvergenceWarning: Objective did not converge. You might want to increase the number of iterations\n",
      "  ConvergenceWarning)\n",
      "//anaconda/lib/python3.5/site-packages/sklearn/linear_model/coordinate_descent.py:466: ConvergenceWarning: Objective did not converge. You might want to increase the number of iterations\n",
      "  ConvergenceWarning)\n",
      "//anaconda/lib/python3.5/site-packages/sklearn/linear_model/coordinate_descent.py:466: ConvergenceWarning: Objective did not converge. You might want to increase the number of iterations\n",
      "  ConvergenceWarning)\n",
      "//anaconda/lib/python3.5/site-packages/sklearn/linear_model/coordinate_descent.py:466: ConvergenceWarning: Objective did not converge. You might want to increase the number of iterations\n",
      "  ConvergenceWarning)\n",
      "//anaconda/lib/python3.5/site-packages/sklearn/linear_model/coordinate_descent.py:466: ConvergenceWarning: Objective did not converge. You might want to increase the number of iterations\n",
      "  ConvergenceWarning)\n",
      "//anaconda/lib/python3.5/site-packages/sklearn/linear_model/coordinate_descent.py:466: ConvergenceWarning: Objective did not converge. You might want to increase the number of iterations\n",
      "  ConvergenceWarning)\n",
      "//anaconda/lib/python3.5/site-packages/sklearn/linear_model/coordinate_descent.py:466: ConvergenceWarning: Objective did not converge. You might want to increase the number of iterations\n",
      "  ConvergenceWarning)\n",
      "//anaconda/lib/python3.5/site-packages/sklearn/linear_model/coordinate_descent.py:466: ConvergenceWarning: Objective did not converge. You might want to increase the number of iterations\n",
      "  ConvergenceWarning)\n",
      "//anaconda/lib/python3.5/site-packages/sklearn/linear_model/coordinate_descent.py:466: ConvergenceWarning: Objective did not converge. You might want to increase the number of iterations\n",
      "  ConvergenceWarning)\n",
      "//anaconda/lib/python3.5/site-packages/sklearn/linear_model/coordinate_descent.py:466: ConvergenceWarning: Objective did not converge. You might want to increase the number of iterations\n",
      "  ConvergenceWarning)\n",
      "//anaconda/lib/python3.5/site-packages/sklearn/linear_model/coordinate_descent.py:466: ConvergenceWarning: Objective did not converge. You might want to increase the number of iterations\n",
      "  ConvergenceWarning)\n",
      "//anaconda/lib/python3.5/site-packages/sklearn/linear_model/coordinate_descent.py:466: ConvergenceWarning: Objective did not converge. You might want to increase the number of iterations\n",
      "  ConvergenceWarning)\n",
      "//anaconda/lib/python3.5/site-packages/sklearn/linear_model/coordinate_descent.py:466: ConvergenceWarning: Objective did not converge. You might want to increase the number of iterations\n",
      "  ConvergenceWarning)\n",
      "//anaconda/lib/python3.5/site-packages/sklearn/linear_model/coordinate_descent.py:466: ConvergenceWarning: Objective did not converge. You might want to increase the number of iterations\n",
      "  ConvergenceWarning)\n",
      "//anaconda/lib/python3.5/site-packages/sklearn/linear_model/coordinate_descent.py:466: ConvergenceWarning: Objective did not converge. You might want to increase the number of iterations\n",
      "  ConvergenceWarning)\n",
      "//anaconda/lib/python3.5/site-packages/sklearn/linear_model/coordinate_descent.py:466: ConvergenceWarning: Objective did not converge. You might want to increase the number of iterations\n",
      "  ConvergenceWarning)\n",
      "//anaconda/lib/python3.5/site-packages/sklearn/linear_model/coordinate_descent.py:466: ConvergenceWarning: Objective did not converge. You might want to increase the number of iterations\n",
      "  ConvergenceWarning)\n",
      "//anaconda/lib/python3.5/site-packages/sklearn/linear_model/coordinate_descent.py:466: ConvergenceWarning: Objective did not converge. You might want to increase the number of iterations\n",
      "  ConvergenceWarning)\n",
      "//anaconda/lib/python3.5/site-packages/sklearn/linear_model/coordinate_descent.py:466: ConvergenceWarning: Objective did not converge. You might want to increase the number of iterations\n",
      "  ConvergenceWarning)\n",
      "//anaconda/lib/python3.5/site-packages/sklearn/linear_model/coordinate_descent.py:466: ConvergenceWarning: Objective did not converge. You might want to increase the number of iterations\n",
      "  ConvergenceWarning)\n",
      "//anaconda/lib/python3.5/site-packages/sklearn/linear_model/coordinate_descent.py:466: ConvergenceWarning: Objective did not converge. You might want to increase the number of iterations\n",
      "  ConvergenceWarning)\n",
      "//anaconda/lib/python3.5/site-packages/sklearn/linear_model/coordinate_descent.py:466: ConvergenceWarning: Objective did not converge. You might want to increase the number of iterations\n",
      "  ConvergenceWarning)\n",
      "//anaconda/lib/python3.5/site-packages/sklearn/linear_model/coordinate_descent.py:466: ConvergenceWarning: Objective did not converge. You might want to increase the number of iterations\n",
      "  ConvergenceWarning)\n",
      "//anaconda/lib/python3.5/site-packages/sklearn/linear_model/coordinate_descent.py:466: ConvergenceWarning: Objective did not converge. You might want to increase the number of iterations\n",
      "  ConvergenceWarning)\n",
      "//anaconda/lib/python3.5/site-packages/sklearn/linear_model/coordinate_descent.py:466: ConvergenceWarning: Objective did not converge. You might want to increase the number of iterations\n",
      "  ConvergenceWarning)\n"
     ]
    },
    {
     "name": "stdout",
     "output_type": "stream",
     "text": [
      "{'alpha': 0.0093260334688321997}\n"
     ]
    },
    {
     "name": "stderr",
     "output_type": "stream",
     "text": [
      "//anaconda/lib/python3.5/site-packages/sklearn/linear_model/coordinate_descent.py:466: ConvergenceWarning: Objective did not converge. You might want to increase the number of iterations\n",
      "  ConvergenceWarning)\n"
     ]
    }
   ],
   "source": [
    "print(\"Lasso Grid Search\")\n",
    "lasso_grid_est = build_grid_search_est(Lasso(), X_train, y_train, cv=kfold,\n",
    "                                       alpha=np.logspace(-4, 9, 100))\n",
    "\n",
    "\n",
    "print(lasso_grid_est.best_params_)"
   ]
  },
  {
   "cell_type": "code",
   "execution_count": 29,
   "metadata": {
    "collapsed": false
   },
   "outputs": [
    {
     "name": "stdout",
     "output_type": "stream",
     "text": [
      "{'alpha': 59.94842503189421}\n"
     ]
    }
   ],
   "source": [
    "ridge_grid_est = build_grid_search_est(Ridge(), X_train, y_train, cv=kfold,\n",
    "                                       alpha=np.logspace(-4, 9, 100))\n",
    "\n",
    "print(ridge_grid_est.best_params_)"
   ]
  },
  {
   "cell_type": "code",
   "execution_count": 30,
   "metadata": {
    "collapsed": false,
    "scrolled": false
   },
   "outputs": [
    {
     "name": "stdout",
     "output_type": "stream",
     "text": [
      "Elastic Net Grid Search\n"
     ]
    },
    {
     "name": "stderr",
     "output_type": "stream",
     "text": [
      "//anaconda/lib/python3.5/site-packages/sklearn/linear_model/coordinate_descent.py:466: ConvergenceWarning: Objective did not converge. You might want to increase the number of iterations\n",
      "  ConvergenceWarning)\n",
      "//anaconda/lib/python3.5/site-packages/sklearn/linear_model/coordinate_descent.py:466: ConvergenceWarning: Objective did not converge. You might want to increase the number of iterations\n",
      "  ConvergenceWarning)\n",
      "//anaconda/lib/python3.5/site-packages/sklearn/linear_model/coordinate_descent.py:466: ConvergenceWarning: Objective did not converge. You might want to increase the number of iterations\n",
      "  ConvergenceWarning)\n",
      "//anaconda/lib/python3.5/site-packages/sklearn/linear_model/coordinate_descent.py:466: ConvergenceWarning: Objective did not converge. You might want to increase the number of iterations\n",
      "  ConvergenceWarning)\n",
      "//anaconda/lib/python3.5/site-packages/sklearn/linear_model/coordinate_descent.py:466: ConvergenceWarning: Objective did not converge. You might want to increase the number of iterations\n",
      "  ConvergenceWarning)\n",
      "//anaconda/lib/python3.5/site-packages/sklearn/linear_model/coordinate_descent.py:466: ConvergenceWarning: Objective did not converge. You might want to increase the number of iterations\n",
      "  ConvergenceWarning)\n",
      "//anaconda/lib/python3.5/site-packages/sklearn/linear_model/coordinate_descent.py:466: ConvergenceWarning: Objective did not converge. You might want to increase the number of iterations\n",
      "  ConvergenceWarning)\n",
      "//anaconda/lib/python3.5/site-packages/sklearn/linear_model/coordinate_descent.py:466: ConvergenceWarning: Objective did not converge. You might want to increase the number of iterations\n",
      "  ConvergenceWarning)\n",
      "//anaconda/lib/python3.5/site-packages/sklearn/linear_model/coordinate_descent.py:466: ConvergenceWarning: Objective did not converge. You might want to increase the number of iterations\n",
      "  ConvergenceWarning)\n",
      "//anaconda/lib/python3.5/site-packages/sklearn/linear_model/coordinate_descent.py:466: ConvergenceWarning: Objective did not converge. You might want to increase the number of iterations\n",
      "  ConvergenceWarning)\n",
      "//anaconda/lib/python3.5/site-packages/sklearn/linear_model/coordinate_descent.py:466: ConvergenceWarning: Objective did not converge. You might want to increase the number of iterations\n",
      "  ConvergenceWarning)\n",
      "//anaconda/lib/python3.5/site-packages/sklearn/linear_model/coordinate_descent.py:466: ConvergenceWarning: Objective did not converge. You might want to increase the number of iterations\n",
      "  ConvergenceWarning)\n",
      "//anaconda/lib/python3.5/site-packages/sklearn/linear_model/coordinate_descent.py:466: ConvergenceWarning: Objective did not converge. You might want to increase the number of iterations\n",
      "  ConvergenceWarning)\n",
      "//anaconda/lib/python3.5/site-packages/sklearn/linear_model/coordinate_descent.py:466: ConvergenceWarning: Objective did not converge. You might want to increase the number of iterations\n",
      "  ConvergenceWarning)\n",
      "//anaconda/lib/python3.5/site-packages/sklearn/linear_model/coordinate_descent.py:466: ConvergenceWarning: Objective did not converge. You might want to increase the number of iterations\n",
      "  ConvergenceWarning)\n",
      "//anaconda/lib/python3.5/site-packages/sklearn/linear_model/coordinate_descent.py:466: ConvergenceWarning: Objective did not converge. You might want to increase the number of iterations\n",
      "  ConvergenceWarning)\n",
      "//anaconda/lib/python3.5/site-packages/sklearn/linear_model/coordinate_descent.py:466: ConvergenceWarning: Objective did not converge. You might want to increase the number of iterations\n",
      "  ConvergenceWarning)\n",
      "//anaconda/lib/python3.5/site-packages/sklearn/linear_model/coordinate_descent.py:466: ConvergenceWarning: Objective did not converge. You might want to increase the number of iterations\n",
      "  ConvergenceWarning)\n",
      "//anaconda/lib/python3.5/site-packages/sklearn/linear_model/coordinate_descent.py:466: ConvergenceWarning: Objective did not converge. You might want to increase the number of iterations\n",
      "  ConvergenceWarning)\n",
      "//anaconda/lib/python3.5/site-packages/sklearn/linear_model/coordinate_descent.py:466: ConvergenceWarning: Objective did not converge. You might want to increase the number of iterations\n",
      "  ConvergenceWarning)\n",
      "//anaconda/lib/python3.5/site-packages/sklearn/linear_model/coordinate_descent.py:466: ConvergenceWarning: Objective did not converge. You might want to increase the number of iterations\n",
      "  ConvergenceWarning)\n",
      "//anaconda/lib/python3.5/site-packages/sklearn/linear_model/coordinate_descent.py:466: ConvergenceWarning: Objective did not converge. You might want to increase the number of iterations\n",
      "  ConvergenceWarning)\n",
      "//anaconda/lib/python3.5/site-packages/sklearn/linear_model/coordinate_descent.py:466: ConvergenceWarning: Objective did not converge. You might want to increase the number of iterations\n",
      "  ConvergenceWarning)\n",
      "//anaconda/lib/python3.5/site-packages/sklearn/linear_model/coordinate_descent.py:466: ConvergenceWarning: Objective did not converge. You might want to increase the number of iterations\n",
      "  ConvergenceWarning)\n",
      "//anaconda/lib/python3.5/site-packages/sklearn/linear_model/coordinate_descent.py:466: ConvergenceWarning: Objective did not converge. You might want to increase the number of iterations\n",
      "  ConvergenceWarning)\n",
      "//anaconda/lib/python3.5/site-packages/sklearn/linear_model/coordinate_descent.py:466: ConvergenceWarning: Objective did not converge. You might want to increase the number of iterations\n",
      "  ConvergenceWarning)\n",
      "//anaconda/lib/python3.5/site-packages/sklearn/linear_model/coordinate_descent.py:466: ConvergenceWarning: Objective did not converge. You might want to increase the number of iterations\n",
      "  ConvergenceWarning)\n",
      "//anaconda/lib/python3.5/site-packages/sklearn/linear_model/coordinate_descent.py:466: ConvergenceWarning: Objective did not converge. You might want to increase the number of iterations\n",
      "  ConvergenceWarning)\n",
      "//anaconda/lib/python3.5/site-packages/sklearn/linear_model/coordinate_descent.py:466: ConvergenceWarning: Objective did not converge. You might want to increase the number of iterations\n",
      "  ConvergenceWarning)\n",
      "//anaconda/lib/python3.5/site-packages/sklearn/linear_model/coordinate_descent.py:466: ConvergenceWarning: Objective did not converge. You might want to increase the number of iterations\n",
      "  ConvergenceWarning)\n",
      "//anaconda/lib/python3.5/site-packages/sklearn/linear_model/coordinate_descent.py:466: ConvergenceWarning: Objective did not converge. You might want to increase the number of iterations\n",
      "  ConvergenceWarning)\n",
      "//anaconda/lib/python3.5/site-packages/sklearn/linear_model/coordinate_descent.py:466: ConvergenceWarning: Objective did not converge. You might want to increase the number of iterations\n",
      "  ConvergenceWarning)\n",
      "//anaconda/lib/python3.5/site-packages/sklearn/linear_model/coordinate_descent.py:466: ConvergenceWarning: Objective did not converge. You might want to increase the number of iterations\n",
      "  ConvergenceWarning)\n",
      "//anaconda/lib/python3.5/site-packages/sklearn/linear_model/coordinate_descent.py:466: ConvergenceWarning: Objective did not converge. You might want to increase the number of iterations\n",
      "  ConvergenceWarning)\n",
      "//anaconda/lib/python3.5/site-packages/sklearn/linear_model/coordinate_descent.py:466: ConvergenceWarning: Objective did not converge. You might want to increase the number of iterations\n",
      "  ConvergenceWarning)\n",
      "//anaconda/lib/python3.5/site-packages/sklearn/linear_model/coordinate_descent.py:466: ConvergenceWarning: Objective did not converge. You might want to increase the number of iterations\n",
      "  ConvergenceWarning)\n",
      "//anaconda/lib/python3.5/site-packages/sklearn/linear_model/coordinate_descent.py:466: ConvergenceWarning: Objective did not converge. You might want to increase the number of iterations\n",
      "  ConvergenceWarning)\n",
      "//anaconda/lib/python3.5/site-packages/sklearn/linear_model/coordinate_descent.py:466: ConvergenceWarning: Objective did not converge. You might want to increase the number of iterations\n",
      "  ConvergenceWarning)\n",
      "//anaconda/lib/python3.5/site-packages/sklearn/linear_model/coordinate_descent.py:466: ConvergenceWarning: Objective did not converge. You might want to increase the number of iterations\n",
      "  ConvergenceWarning)\n",
      "//anaconda/lib/python3.5/site-packages/sklearn/linear_model/coordinate_descent.py:466: ConvergenceWarning: Objective did not converge. You might want to increase the number of iterations\n",
      "  ConvergenceWarning)\n",
      "//anaconda/lib/python3.5/site-packages/sklearn/linear_model/coordinate_descent.py:466: ConvergenceWarning: Objective did not converge. You might want to increase the number of iterations\n",
      "  ConvergenceWarning)\n",
      "//anaconda/lib/python3.5/site-packages/sklearn/linear_model/coordinate_descent.py:466: ConvergenceWarning: Objective did not converge. You might want to increase the number of iterations\n",
      "  ConvergenceWarning)\n",
      "//anaconda/lib/python3.5/site-packages/sklearn/linear_model/coordinate_descent.py:466: ConvergenceWarning: Objective did not converge. You might want to increase the number of iterations\n",
      "  ConvergenceWarning)\n",
      "//anaconda/lib/python3.5/site-packages/sklearn/linear_model/coordinate_descent.py:466: ConvergenceWarning: Objective did not converge. You might want to increase the number of iterations\n",
      "  ConvergenceWarning)\n",
      "//anaconda/lib/python3.5/site-packages/sklearn/linear_model/coordinate_descent.py:466: ConvergenceWarning: Objective did not converge. You might want to increase the number of iterations\n",
      "  ConvergenceWarning)\n",
      "//anaconda/lib/python3.5/site-packages/sklearn/linear_model/coordinate_descent.py:466: ConvergenceWarning: Objective did not converge. You might want to increase the number of iterations\n",
      "  ConvergenceWarning)\n",
      "//anaconda/lib/python3.5/site-packages/sklearn/linear_model/coordinate_descent.py:466: ConvergenceWarning: Objective did not converge. You might want to increase the number of iterations\n",
      "  ConvergenceWarning)\n",
      "//anaconda/lib/python3.5/site-packages/sklearn/linear_model/coordinate_descent.py:466: ConvergenceWarning: Objective did not converge. You might want to increase the number of iterations\n",
      "  ConvergenceWarning)\n",
      "//anaconda/lib/python3.5/site-packages/sklearn/linear_model/coordinate_descent.py:466: ConvergenceWarning: Objective did not converge. You might want to increase the number of iterations\n",
      "  ConvergenceWarning)\n",
      "//anaconda/lib/python3.5/site-packages/sklearn/linear_model/coordinate_descent.py:466: ConvergenceWarning: Objective did not converge. You might want to increase the number of iterations\n",
      "  ConvergenceWarning)\n",
      "//anaconda/lib/python3.5/site-packages/sklearn/linear_model/coordinate_descent.py:466: ConvergenceWarning: Objective did not converge. You might want to increase the number of iterations\n",
      "  ConvergenceWarning)\n",
      "//anaconda/lib/python3.5/site-packages/sklearn/linear_model/coordinate_descent.py:466: ConvergenceWarning: Objective did not converge. You might want to increase the number of iterations\n",
      "  ConvergenceWarning)\n",
      "//anaconda/lib/python3.5/site-packages/sklearn/linear_model/coordinate_descent.py:466: ConvergenceWarning: Objective did not converge. You might want to increase the number of iterations\n",
      "  ConvergenceWarning)\n",
      "//anaconda/lib/python3.5/site-packages/sklearn/linear_model/coordinate_descent.py:466: ConvergenceWarning: Objective did not converge. You might want to increase the number of iterations\n",
      "  ConvergenceWarning)\n",
      "//anaconda/lib/python3.5/site-packages/sklearn/linear_model/coordinate_descent.py:466: ConvergenceWarning: Objective did not converge. You might want to increase the number of iterations\n",
      "  ConvergenceWarning)\n",
      "//anaconda/lib/python3.5/site-packages/sklearn/linear_model/coordinate_descent.py:466: ConvergenceWarning: Objective did not converge. You might want to increase the number of iterations\n",
      "  ConvergenceWarning)\n",
      "//anaconda/lib/python3.5/site-packages/sklearn/linear_model/coordinate_descent.py:466: ConvergenceWarning: Objective did not converge. You might want to increase the number of iterations\n",
      "  ConvergenceWarning)\n",
      "//anaconda/lib/python3.5/site-packages/sklearn/linear_model/coordinate_descent.py:466: ConvergenceWarning: Objective did not converge. You might want to increase the number of iterations\n",
      "  ConvergenceWarning)\n",
      "//anaconda/lib/python3.5/site-packages/sklearn/linear_model/coordinate_descent.py:466: ConvergenceWarning: Objective did not converge. You might want to increase the number of iterations\n",
      "  ConvergenceWarning)\n",
      "//anaconda/lib/python3.5/site-packages/sklearn/linear_model/coordinate_descent.py:466: ConvergenceWarning: Objective did not converge. You might want to increase the number of iterations\n",
      "  ConvergenceWarning)\n",
      "//anaconda/lib/python3.5/site-packages/sklearn/linear_model/coordinate_descent.py:466: ConvergenceWarning: Objective did not converge. You might want to increase the number of iterations\n",
      "  ConvergenceWarning)\n",
      "//anaconda/lib/python3.5/site-packages/sklearn/linear_model/coordinate_descent.py:466: ConvergenceWarning: Objective did not converge. You might want to increase the number of iterations\n",
      "  ConvergenceWarning)\n",
      "//anaconda/lib/python3.5/site-packages/sklearn/linear_model/coordinate_descent.py:466: ConvergenceWarning: Objective did not converge. You might want to increase the number of iterations\n",
      "  ConvergenceWarning)\n",
      "//anaconda/lib/python3.5/site-packages/sklearn/linear_model/coordinate_descent.py:466: ConvergenceWarning: Objective did not converge. You might want to increase the number of iterations\n",
      "  ConvergenceWarning)\n",
      "//anaconda/lib/python3.5/site-packages/sklearn/linear_model/coordinate_descent.py:466: ConvergenceWarning: Objective did not converge. You might want to increase the number of iterations\n",
      "  ConvergenceWarning)\n",
      "//anaconda/lib/python3.5/site-packages/sklearn/linear_model/coordinate_descent.py:466: ConvergenceWarning: Objective did not converge. You might want to increase the number of iterations\n",
      "  ConvergenceWarning)\n",
      "//anaconda/lib/python3.5/site-packages/sklearn/linear_model/coordinate_descent.py:466: ConvergenceWarning: Objective did not converge. You might want to increase the number of iterations\n",
      "  ConvergenceWarning)\n",
      "//anaconda/lib/python3.5/site-packages/sklearn/linear_model/coordinate_descent.py:466: ConvergenceWarning: Objective did not converge. You might want to increase the number of iterations\n",
      "  ConvergenceWarning)\n",
      "//anaconda/lib/python3.5/site-packages/sklearn/linear_model/coordinate_descent.py:466: ConvergenceWarning: Objective did not converge. You might want to increase the number of iterations\n",
      "  ConvergenceWarning)\n",
      "//anaconda/lib/python3.5/site-packages/sklearn/linear_model/coordinate_descent.py:466: ConvergenceWarning: Objective did not converge. You might want to increase the number of iterations\n",
      "  ConvergenceWarning)\n",
      "//anaconda/lib/python3.5/site-packages/sklearn/linear_model/coordinate_descent.py:466: ConvergenceWarning: Objective did not converge. You might want to increase the number of iterations\n",
      "  ConvergenceWarning)\n",
      "//anaconda/lib/python3.5/site-packages/sklearn/linear_model/coordinate_descent.py:466: ConvergenceWarning: Objective did not converge. You might want to increase the number of iterations\n",
      "  ConvergenceWarning)\n",
      "//anaconda/lib/python3.5/site-packages/sklearn/linear_model/coordinate_descent.py:466: ConvergenceWarning: Objective did not converge. You might want to increase the number of iterations\n",
      "  ConvergenceWarning)\n",
      "//anaconda/lib/python3.5/site-packages/sklearn/linear_model/coordinate_descent.py:466: ConvergenceWarning: Objective did not converge. You might want to increase the number of iterations\n",
      "  ConvergenceWarning)\n",
      "//anaconda/lib/python3.5/site-packages/sklearn/linear_model/coordinate_descent.py:466: ConvergenceWarning: Objective did not converge. You might want to increase the number of iterations\n",
      "  ConvergenceWarning)\n",
      "//anaconda/lib/python3.5/site-packages/sklearn/linear_model/coordinate_descent.py:466: ConvergenceWarning: Objective did not converge. You might want to increase the number of iterations\n",
      "  ConvergenceWarning)\n",
      "//anaconda/lib/python3.5/site-packages/sklearn/linear_model/coordinate_descent.py:466: ConvergenceWarning: Objective did not converge. You might want to increase the number of iterations\n",
      "  ConvergenceWarning)\n",
      "//anaconda/lib/python3.5/site-packages/sklearn/linear_model/coordinate_descent.py:466: ConvergenceWarning: Objective did not converge. You might want to increase the number of iterations\n",
      "  ConvergenceWarning)\n",
      "//anaconda/lib/python3.5/site-packages/sklearn/linear_model/coordinate_descent.py:466: ConvergenceWarning: Objective did not converge. You might want to increase the number of iterations\n",
      "  ConvergenceWarning)\n",
      "//anaconda/lib/python3.5/site-packages/sklearn/linear_model/coordinate_descent.py:466: ConvergenceWarning: Objective did not converge. You might want to increase the number of iterations\n",
      "  ConvergenceWarning)\n",
      "//anaconda/lib/python3.5/site-packages/sklearn/linear_model/coordinate_descent.py:466: ConvergenceWarning: Objective did not converge. You might want to increase the number of iterations\n",
      "  ConvergenceWarning)\n",
      "//anaconda/lib/python3.5/site-packages/sklearn/linear_model/coordinate_descent.py:466: ConvergenceWarning: Objective did not converge. You might want to increase the number of iterations\n",
      "  ConvergenceWarning)\n",
      "//anaconda/lib/python3.5/site-packages/sklearn/linear_model/coordinate_descent.py:466: ConvergenceWarning: Objective did not converge. You might want to increase the number of iterations\n",
      "  ConvergenceWarning)\n",
      "//anaconda/lib/python3.5/site-packages/sklearn/linear_model/coordinate_descent.py:466: ConvergenceWarning: Objective did not converge. You might want to increase the number of iterations\n",
      "  ConvergenceWarning)\n",
      "//anaconda/lib/python3.5/site-packages/sklearn/linear_model/coordinate_descent.py:466: ConvergenceWarning: Objective did not converge. You might want to increase the number of iterations\n",
      "  ConvergenceWarning)\n",
      "//anaconda/lib/python3.5/site-packages/sklearn/linear_model/coordinate_descent.py:466: ConvergenceWarning: Objective did not converge. You might want to increase the number of iterations\n",
      "  ConvergenceWarning)\n",
      "//anaconda/lib/python3.5/site-packages/sklearn/linear_model/coordinate_descent.py:466: ConvergenceWarning: Objective did not converge. You might want to increase the number of iterations\n",
      "  ConvergenceWarning)\n",
      "//anaconda/lib/python3.5/site-packages/sklearn/linear_model/coordinate_descent.py:466: ConvergenceWarning: Objective did not converge. You might want to increase the number of iterations\n",
      "  ConvergenceWarning)\n",
      "//anaconda/lib/python3.5/site-packages/sklearn/linear_model/coordinate_descent.py:466: ConvergenceWarning: Objective did not converge. You might want to increase the number of iterations\n",
      "  ConvergenceWarning)\n",
      "//anaconda/lib/python3.5/site-packages/sklearn/linear_model/coordinate_descent.py:466: ConvergenceWarning: Objective did not converge. You might want to increase the number of iterations\n",
      "  ConvergenceWarning)\n",
      "//anaconda/lib/python3.5/site-packages/sklearn/linear_model/coordinate_descent.py:466: ConvergenceWarning: Objective did not converge. You might want to increase the number of iterations\n",
      "  ConvergenceWarning)\n",
      "//anaconda/lib/python3.5/site-packages/sklearn/linear_model/coordinate_descent.py:466: ConvergenceWarning: Objective did not converge. You might want to increase the number of iterations\n",
      "  ConvergenceWarning)\n",
      "//anaconda/lib/python3.5/site-packages/sklearn/linear_model/coordinate_descent.py:466: ConvergenceWarning: Objective did not converge. You might want to increase the number of iterations\n",
      "  ConvergenceWarning)\n",
      "//anaconda/lib/python3.5/site-packages/sklearn/linear_model/coordinate_descent.py:466: ConvergenceWarning: Objective did not converge. You might want to increase the number of iterations\n",
      "  ConvergenceWarning)\n",
      "//anaconda/lib/python3.5/site-packages/sklearn/linear_model/coordinate_descent.py:466: ConvergenceWarning: Objective did not converge. You might want to increase the number of iterations\n",
      "  ConvergenceWarning)\n",
      "//anaconda/lib/python3.5/site-packages/sklearn/linear_model/coordinate_descent.py:466: ConvergenceWarning: Objective did not converge. You might want to increase the number of iterations\n",
      "  ConvergenceWarning)\n",
      "//anaconda/lib/python3.5/site-packages/sklearn/linear_model/coordinate_descent.py:466: ConvergenceWarning: Objective did not converge. You might want to increase the number of iterations\n",
      "  ConvergenceWarning)\n",
      "//anaconda/lib/python3.5/site-packages/sklearn/linear_model/coordinate_descent.py:466: ConvergenceWarning: Objective did not converge. You might want to increase the number of iterations\n",
      "  ConvergenceWarning)\n",
      "//anaconda/lib/python3.5/site-packages/sklearn/linear_model/coordinate_descent.py:466: ConvergenceWarning: Objective did not converge. You might want to increase the number of iterations\n",
      "  ConvergenceWarning)\n",
      "//anaconda/lib/python3.5/site-packages/sklearn/linear_model/coordinate_descent.py:466: ConvergenceWarning: Objective did not converge. You might want to increase the number of iterations\n",
      "  ConvergenceWarning)\n",
      "//anaconda/lib/python3.5/site-packages/sklearn/linear_model/coordinate_descent.py:466: ConvergenceWarning: Objective did not converge. You might want to increase the number of iterations\n",
      "  ConvergenceWarning)\n",
      "//anaconda/lib/python3.5/site-packages/sklearn/linear_model/coordinate_descent.py:466: ConvergenceWarning: Objective did not converge. You might want to increase the number of iterations\n",
      "  ConvergenceWarning)\n",
      "//anaconda/lib/python3.5/site-packages/sklearn/linear_model/coordinate_descent.py:466: ConvergenceWarning: Objective did not converge. You might want to increase the number of iterations\n",
      "  ConvergenceWarning)\n",
      "//anaconda/lib/python3.5/site-packages/sklearn/linear_model/coordinate_descent.py:466: ConvergenceWarning: Objective did not converge. You might want to increase the number of iterations\n",
      "  ConvergenceWarning)\n",
      "//anaconda/lib/python3.5/site-packages/sklearn/linear_model/coordinate_descent.py:466: ConvergenceWarning: Objective did not converge. You might want to increase the number of iterations\n",
      "  ConvergenceWarning)\n",
      "//anaconda/lib/python3.5/site-packages/sklearn/linear_model/coordinate_descent.py:466: ConvergenceWarning: Objective did not converge. You might want to increase the number of iterations\n",
      "  ConvergenceWarning)\n",
      "//anaconda/lib/python3.5/site-packages/sklearn/linear_model/coordinate_descent.py:466: ConvergenceWarning: Objective did not converge. You might want to increase the number of iterations\n",
      "  ConvergenceWarning)\n"
     ]
    },
    {
     "name": "stdout",
     "output_type": "stream",
     "text": [
      "{'alpha': 0.017073526474706922}\n"
     ]
    },
    {
     "name": "stderr",
     "output_type": "stream",
     "text": [
      "//anaconda/lib/python3.5/site-packages/sklearn/linear_model/coordinate_descent.py:466: ConvergenceWarning: Objective did not converge. You might want to increase the number of iterations\n",
      "  ConvergenceWarning)\n"
     ]
    }
   ],
   "source": [
    "print(\"Elastic Net Grid Search\")\n",
    "elastic_net_grid_est = build_grid_search_est(ElasticNet(), X_train, y_train, cv=kfold,\n",
    "                                       alpha=np.logspace(-4, 9, 100))\n",
    "\n",
    "\n",
    "print(elastic_net_grid_est.best_params_)"
   ]
  },
  {
   "cell_type": "code",
   "execution_count": 31,
   "metadata": {
    "collapsed": false
   },
   "outputs": [],
   "source": [
    "# # Tuned the grid search dimensions independently\n",
    "# # Comment this bit out if you don't want to re-run the time-consuming grid search\n",
    "# #nestimators 10000\n",
    "# #samples 10\n",
    "# #depth 10\n",
    "\n",
    "# estlist = [int(x) for x in np.logspace(3,4, num = 2)]\n",
    "# samplist = [int(x) for x in np.logspace(0.5,1.5, num = 3)]\n",
    "# depthlist = [int(x) for x in np.logspace(3.5,4.5, num = 3)]\n",
    "# # depthlist.append(None)\n",
    "# # depthlist\n",
    "\n",
    "# import time\n",
    "# t0 = time.time()\n",
    "\n",
    "# print(\"Random Forest Grid Search\")\n",
    "\n",
    "# rf_grid_est = build_grid_search_est(rfr(), X_train, y_train, cv=kfold,\n",
    "#                                        n_estimators=estlist, min_samples_split=samplist, max_depth = depthlist)\n",
    "\n",
    "# print(rf_grid_est.best_params_)\n",
    "# print(time.time()-t0)\n"
   ]
  },
  {
   "cell_type": "code",
   "execution_count": 32,
   "metadata": {
    "collapsed": false,
    "scrolled": true
   },
   "outputs": [
    {
     "data": {
      "text/plain": [
       "RandomForestRegressor(bootstrap=True, criterion='mse', max_depth=10,\n",
       "           max_features='auto', max_leaf_nodes=None, min_samples_leaf=1,\n",
       "           min_samples_split=10, min_weight_fraction_leaf=0.0,\n",
       "           n_estimators=10000, n_jobs=1, oob_score=False,\n",
       "           random_state=None, verbose=0, warm_start=False)"
      ]
     },
     "execution_count": 32,
     "metadata": {},
     "output_type": "execute_result"
    }
   ],
   "source": [
    "# best params from above\n",
    "rf_model = rfr(max_depth = 10, min_samples_split = 10, n_estimators = 10000)\n",
    "rf_model.fit(X_train,y_train)"
   ]
  },
  {
   "cell_type": "code",
   "execution_count": 33,
   "metadata": {
    "collapsed": false,
    "scrolled": false
   },
   "outputs": [
    {
     "name": "stdout",
     "output_type": "stream",
     "text": [
      "Linear Regression: 0.0735134732454\n",
      "Lasso Regression: 0.0771828618648\n",
      "Ridge Regression: 0.0787526518406\n",
      "ElasticNet Regression: 0.078145733036\n",
      "Random Forest: 0.233014287869\n"
     ]
    }
   ],
   "source": [
    "from sklearn.metrics import r2_score, mean_squared_error\n",
    "\n",
    "y_pred_lr = lin_reg_est.predict(X_test)\n",
    "print(\"Linear Regression:\", r2_score(y_test, y_pred_lr))\n",
    "\n",
    "y_pred_la = lasso_grid_est.predict(X_test)\n",
    "print(\"Lasso Regression:\", r2_score(y_test, y_pred_la))\n",
    "\n",
    "y_pred_r = ridge_grid_est.predict(X_test)\n",
    "print(\"Ridge Regression:\", r2_score(y_test, y_pred_r))\n",
    "\n",
    "y_pred_en = elastic_net_grid_est.predict(X_test)\n",
    "print(\"ElasticNet Regression:\", r2_score(y_test, y_pred_en))\n",
    "\n",
    "y_pred_rf = rf_model.predict(X_test)\n",
    "print(\"Random Forest:\", r2_score(y_test, y_pred_rf))"
   ]
  },
  {
   "cell_type": "code",
   "execution_count": 34,
   "metadata": {
    "collapsed": false
   },
   "outputs": [
    {
     "data": {
      "text/plain": [
       "99.0"
      ]
     },
     "execution_count": 34,
     "metadata": {},
     "output_type": "execute_result"
    }
   ],
   "source": [
    "def percentile(mylist, percentile):\n",
    "    mylist2 = mylist[:]\n",
    "    if type(mylist) != list:\n",
    "        mylist2 = list(mylist)\n",
    "    mylist2 = sorted(mylist2)\n",
    "    num = percentile*(len(mylist2)-1)/100\n",
    "    lower, upper = mylist2[int(num)], mylist2[int(num) + 1]\n",
    "    return lower * (int(num) + 1 - num) + upper * (num - int(num))\n",
    "\n",
    "percentile(np.arange(11)*10,99)"
   ]
  },
  {
   "cell_type": "code",
   "execution_count": 35,
   "metadata": {
    "collapsed": false
   },
   "outputs": [],
   "source": [
    "pct_thresholds = np.arange(5,100,5)\n",
    "above_thresholds, labels = [], ['All']\n",
    "for i in pct_thresholds:\n",
    "    above_thresholds.append(y_test[(y_pred_rf > percentile(y_pred_rf,i))].mean())\n",
    "    labels.append('Top ' + str(100-i) + '%')"
   ]
  },
  {
   "cell_type": "code",
   "execution_count": 36,
   "metadata": {
    "collapsed": false,
    "scrolled": true
   },
   "outputs": [
    {
     "data": {
      "text/plain": [
       "([<matplotlib.axis.XTick at 0x124087400>,\n",
       "  <matplotlib.axis.XTick at 0x1240877f0>,\n",
       "  <matplotlib.axis.XTick at 0x12408efd0>,\n",
       "  <matplotlib.axis.XTick at 0x124038c88>,\n",
       "  <matplotlib.axis.XTick at 0x124038198>,\n",
       "  <matplotlib.axis.XTick at 0x12403b9b0>,\n",
       "  <matplotlib.axis.XTick at 0x11deeb4e0>,\n",
       "  <matplotlib.axis.XTick at 0x11deebfd0>,\n",
       "  <matplotlib.axis.XTick at 0x11dee1b00>,\n",
       "  <matplotlib.axis.XTick at 0x11ded6630>,\n",
       "  <matplotlib.axis.XTick at 0x11dec1160>,\n",
       "  <matplotlib.axis.XTick at 0x11dec1c50>,\n",
       "  <matplotlib.axis.XTick at 0x11dec3780>,\n",
       "  <matplotlib.axis.XTick at 0x11ded22b0>,\n",
       "  <matplotlib.axis.XTick at 0x11ded2da0>,\n",
       "  <matplotlib.axis.XTick at 0x11dee5748>,\n",
       "  <matplotlib.axis.XTick at 0x11def0c18>,\n",
       "  <matplotlib.axis.XTick at 0x11def0128>,\n",
       "  <matplotlib.axis.XTick at 0x11def95f8>,\n",
       "  <matplotlib.axis.XTick at 0x11ddfe550>],\n",
       " <a list of 20 Text xticklabel objects>)"
      ]
     },
     "execution_count": 36,
     "metadata": {},
     "output_type": "execute_result"
    },
    {
     "data": {
      "image/png": "[encoded data removed]",
      "text/plain": [
       "<matplotlib.figure.Figure at 0x11d751278>"
      ]
     },
     "metadata": {},
     "output_type": "display_data"
    }
   ],
   "source": [
    "fig, ax = plt.subplots()\n",
    "\n",
    "bar_width = 0.8\n",
    "opacity = 0.4;\n",
    "error_config = {'ecolor': '0.3'}\n",
    "\n",
    "rects1 = plt.bar(np.arange(len(pct_thresholds)) + 1 + (1-bar_width)/2, above_thresholds, bar_width,\n",
    "                 alpha=opacity,\n",
    "                 color='b')\n",
    "\n",
    "rects2 = plt.bar([(1-bar_width)/2], [y_test.mean()], bar_width,\n",
    "                 alpha=opacity,\n",
    "                 color='r')\n",
    "\n",
    "\n",
    "plt.xlabel('Predicted total gross/budget ratio threshold')\n",
    "plt.ylabel('Mean total gross/budget for films above threshold')\n",
    "plt.title('Mean total gross/budget vs. predicted threshold')\n",
    "plt.xticks(np.arange(len(pct_thresholds) + 1) + 0.5, labels, rotation = 90)"
   ]
  }
 ],
 "metadata": {
  "kernelspec": {
   "display_name": "Python 3",
   "language": "python",
   "name": "python3"
  },
  "language_info": {
   "codemirror_mode": {
    "name": "ipython",
    "version": 3
   },
   "file_extension": ".py",
   "mimetype": "text/x-python",
   "name": "python",
   "nbconvert_exporter": "python",
   "pygments_lexer": "ipython3",
   "version": "3.5.2"
  }
 },
 "nbformat": 4,
 "nbformat_minor": 0
}
