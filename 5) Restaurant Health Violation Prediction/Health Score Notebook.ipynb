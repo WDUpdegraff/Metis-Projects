{
 "cells": [
  {
   "cell_type": "code",
   "execution_count": 527,
   "metadata": {
    "collapsed": false
   },
   "outputs": [],
   "source": [
    "import pandas as pd\n",
    "from sklearn.metrics import confusion_matrix\n",
    "import numpy as np\n",
    "import sklearn\n",
    "import matplotlib.pyplot as plt\n",
    "%matplotlib inline\n",
    "from sklearn.metrics import roc_curve\n",
    "from sklearn.cross_validation import train_test_split\n",
    "from sklearn import decomposition\n",
    "from sklearn.feature_extraction.text import CountVectorizer, TfidfVectorizer, TfidfTransformer\n",
    "from sklearn import linear_model, cross_validation\n",
    "from sklearn.linear_model import LogisticRegression, LinearRegression, SGDClassifier, Lasso, Ridge, ElasticNet\n",
    "from sklearn import pipeline\n",
    "from sklearn.grid_search import GridSearchCV\n",
    "from sklearn.ensemble import RandomForestClassifier as rf\n",
    "from sklearn.ensemble import RandomForestRegressor as rfr\n",
    "from sklearn.svm import SVR\n",
    "\n",
    "from xgboost import XGBClassifier as xgb\n",
    "from xgboost import XGBRegressor as xgbr\n",
    "import string\n",
    "from sklearn.pipeline import TransformerMixin, FeatureUnion, make_pipeline, make_union\n",
    "from sklearn.decomposition import TruncatedSVD\n",
    "from sklearn.metrics import roc_auc_score, precision_recall_curve\n",
    "from sklearn.preprocessing import Normalizer\n",
    "from sklearn.naive_bayes import MultinomialNB, GaussianNB\n",
    "from sklearn.pipeline import Pipeline\n",
    "\n",
    "from nltk.tokenize import word_tokenize #, PunktSentenceTokenizer, \n",
    "from nltk.stem import PorterStemmer\n",
    "from nltk.corpus import stopwords\n",
    "from gensim import corpora, models, similarities, matutils\n",
    "import time, random, json, math, sys"
   ]
  },
  {
   "cell_type": "code",
   "execution_count": 2,
   "metadata": {
    "collapsed": true
   },
   "outputs": [],
   "source": [
    "t00 = time.time()"
   ]
  },
  {
   "cell_type": "code",
   "execution_count": 477,
   "metadata": {
    "collapsed": false
   },
   "outputs": [],
   "source": [
    "def getpercentile(mylist, myval):\n",
    "    s = sorted(mylist)\n",
    "    s2 = sorted(mylist)\n",
    "    n = (s.index(myval) + 1)/len(mylist)*100\n",
    "    n2 = (s2.index(myval) + 2)/len(mylist)*100\n",
    "    return n, n2\n",
    "\n",
    "def percentile(mylist, mypercentile):\n",
    "    s = sorted(mylist)\n",
    "    n = (mypercentile/100 * len(mylist)) - 0.5\n",
    "    if n == int(n):\n",
    "        return s[int(n)]\n",
    "    else:\n",
    "        return (s[int(n) + 1] - s[int(n)]) * (n - int(n)) + s[int(n)]\n",
    "\n",
    "def ptransform(myseries, mypercentile):\n",
    "    thresh = percentile(myseries.values.tolist(), mypercentile)\n",
    "    return (myseries > thresh) + 0\n",
    "\n",
    "def scoreapprox(targets):\n",
    "    return targets['*'] + 2 * targets['**'] + 3 * targets['***']"
   ]
  },
  {
   "cell_type": "code",
   "execution_count": 4,
   "metadata": {
    "collapsed": false
   },
   "outputs": [],
   "source": [
    "def year(string):\n",
    "    ymd = string.split('-')\n",
    "    return int(ymd[0])\n",
    "\n",
    "def month(string):\n",
    "    ymd = string.split('-')\n",
    "    return int(ymd[1])\n",
    "\n",
    "def day(string):\n",
    "    ymd = string.split('-')\n",
    "    return int(ymd[2])\n",
    "\n",
    "def decyear(string):\n",
    "    ymd = string.split('-')\n",
    "    return int(ymd[0]) + (int(ymd[1]) - 1)/12 + (int(ymd[2]) - 1)/(31*12)\n",
    "\n",
    "def dateparse(dataframe, datecol):\n",
    "    dataframe['year'] =  dataframe.date.apply(year,0)\n",
    "    dataframe['month'] =  dataframe.date.apply(month,0)\n",
    "    dataframe['day'] =  dataframe.date.apply(day,0)\n",
    "    dataframe['decyear'] = dataframe.date.apply(decyear,0)"
   ]
  },
  {
   "cell_type": "code",
   "execution_count": 5,
   "metadata": {
    "collapsed": false
   },
   "outputs": [],
   "source": [
    "ids = pd.read_csv('restaurant_ids_to_yelp_ids.csv')\n",
    "yelpcols = ['yelp_id_0', 'yelp_id_1', 'yelp_id_2', 'yelp_id_3']\n",
    "bostids = ids['restaurant_id'].values.tolist()\n",
    "yelpids = ids[yelpcols].values.tolist()"
   ]
  },
  {
   "cell_type": "code",
   "execution_count": 6,
   "metadata": {
    "collapsed": false
   },
   "outputs": [],
   "source": [
    "id_dict = {}\n",
    "for i in range(len(yelpids)):\n",
    "    line = yelpids[i]\n",
    "    for yelpid in line:\n",
    "        if type(yelpid) == str:\n",
    "            if len(yelpid) > 5:\n",
    "                id_dict[yelpid] = bostids[i]"
   ]
  },
  {
   "cell_type": "code",
   "execution_count": 7,
   "metadata": {
    "collapsed": false
   },
   "outputs": [
    {
     "data": {
      "text/plain": [
       "0.9555206698063841"
      ]
     },
     "execution_count": 7,
     "metadata": {},
     "output_type": "execute_result"
    }
   ],
   "source": [
    "idvals = list(id_dict.values())\n",
    "idvalcts, ones = [], []\n",
    "goodvals = []\n",
    "for idval in idvals:\n",
    "    ct = idvals.count(idval)\n",
    "    idvalcts.append(ct) \n",
    "    ones.append((ct == 1) + 0)\n",
    "sum(ones)/len(ones)"
   ]
  },
  {
   "cell_type": "code",
   "execution_count": 8,
   "metadata": {
    "collapsed": false
   },
   "outputs": [],
   "source": [
    "valsdict = {}\n",
    "\n",
    "violations = pd.read_csv('AllViolations.csv')\n",
    "dateparse(violations, 'date')\n",
    "\n",
    "vlist = violations[['date','decyear','*','**','***','restaurant_id']].values.tolist()\n",
    "for line in vlist:\n",
    "    entry = line[:-1]\n",
    "    rid = line[-1]\n",
    "    if rid not in valsdict.keys():\n",
    "        valsdict[rid] = [entry]\n",
    "    else:\n",
    "        valsdict[rid].append(entry)\n",
    "\n",
    "for key in valsdict.keys():\n",
    "    valsdict[key].sort()"
   ]
  },
  {
   "cell_type": "code",
   "execution_count": 9,
   "metadata": {
    "collapsed": false
   },
   "outputs": [
    {
     "name": "stderr",
     "output_type": "stream",
     "text": [
      "//anaconda/lib/python3.5/site-packages/IPython/core/interactiveshell.py:2723: DtypeWarning: Columns (10) have mixed types. Specify dtype option on import or set low_memory=False.\n",
      "  interactivity=interactivity, compiler=compiler, result=result)\n"
     ]
    },
    {
     "data": {
      "text/html": [
       "<div>\n",
       "<table border=\"1\" class=\"dataframe\">\n",
       "  <thead>\n",
       "    <tr style=\"text-align: right;\">\n",
       "      <th></th>\n",
       "      <th>COMPNOS</th>\n",
       "      <th>NatureCode</th>\n",
       "      <th>INCIDENT_TYPE_DESCRIPTION</th>\n",
       "      <th>MAIN_CRIMECODE</th>\n",
       "      <th>REPTDISTRICT</th>\n",
       "      <th>REPORTINGAREA</th>\n",
       "      <th>FROMDATE</th>\n",
       "      <th>WEAPONTYPE</th>\n",
       "      <th>Shooting</th>\n",
       "      <th>DOMESTIC</th>\n",
       "      <th>SHIFT</th>\n",
       "      <th>Year</th>\n",
       "      <th>Month</th>\n",
       "      <th>DAY_WEEK</th>\n",
       "      <th>UCRPART</th>\n",
       "      <th>X</th>\n",
       "      <th>Y</th>\n",
       "      <th>STREETNAME</th>\n",
       "      <th>XSTREETNAME</th>\n",
       "      <th>Location</th>\n",
       "    </tr>\n",
       "  </thead>\n",
       "  <tbody>\n",
       "    <tr>\n",
       "      <th>0</th>\n",
       "      <td>120420285.0</td>\n",
       "      <td>BERPTA</td>\n",
       "      <td>RESIDENTIAL BURGLARY</td>\n",
       "      <td>05RB</td>\n",
       "      <td>D4</td>\n",
       "      <td>629</td>\n",
       "      <td>07/08/2012 06:00:00 AM</td>\n",
       "      <td>Other</td>\n",
       "      <td>No</td>\n",
       "      <td>No</td>\n",
       "      <td>Last</td>\n",
       "      <td>2012</td>\n",
       "      <td>7</td>\n",
       "      <td>Sunday</td>\n",
       "      <td>Part One</td>\n",
       "      <td>763273.1791</td>\n",
       "      <td>2951498.962</td>\n",
       "      <td>ABERDEEN ST</td>\n",
       "      <td>NaN</td>\n",
       "      <td>(42.34638135, -71.10379454)</td>\n",
       "    </tr>\n",
       "    <tr>\n",
       "      <th>1</th>\n",
       "      <td>120419202.0</td>\n",
       "      <td>PSHOT</td>\n",
       "      <td>AGGRAVATED ASSAULT</td>\n",
       "      <td>04xx</td>\n",
       "      <td>B2</td>\n",
       "      <td>327</td>\n",
       "      <td>07/08/2012 06:03:00 AM</td>\n",
       "      <td>Firearm</td>\n",
       "      <td>Yes</td>\n",
       "      <td>No</td>\n",
       "      <td>Last</td>\n",
       "      <td>2012</td>\n",
       "      <td>7</td>\n",
       "      <td>Sunday</td>\n",
       "      <td>Part One</td>\n",
       "      <td>771223.1638</td>\n",
       "      <td>2940772.099</td>\n",
       "      <td>HOWARD AV</td>\n",
       "      <td>NaN</td>\n",
       "      <td>(42.31684135, -71.07458456)</td>\n",
       "    </tr>\n",
       "    <tr>\n",
       "      <th>2</th>\n",
       "      <td>120419213.0</td>\n",
       "      <td>ARMROB</td>\n",
       "      <td>ROBBERY</td>\n",
       "      <td>03xx</td>\n",
       "      <td>D4</td>\n",
       "      <td>625</td>\n",
       "      <td>07/08/2012 06:26:00 AM</td>\n",
       "      <td>Firearm</td>\n",
       "      <td>No</td>\n",
       "      <td>No</td>\n",
       "      <td>Last</td>\n",
       "      <td>2012</td>\n",
       "      <td>7</td>\n",
       "      <td>Sunday</td>\n",
       "      <td>Part One</td>\n",
       "      <td>765118.8605</td>\n",
       "      <td>2950217.536</td>\n",
       "      <td>JERSEY ST</td>\n",
       "      <td>QUEENSBERRY ST</td>\n",
       "      <td>(42.34284135, -71.09698955)</td>\n",
       "    </tr>\n",
       "    <tr>\n",
       "      <th>3</th>\n",
       "      <td>120419223.0</td>\n",
       "      <td>ALARMC</td>\n",
       "      <td>COMMERCIAL BURGLARY</td>\n",
       "      <td>05CB</td>\n",
       "      <td>B2</td>\n",
       "      <td>258</td>\n",
       "      <td>07/08/2012 06:56:00 AM</td>\n",
       "      <td>Other</td>\n",
       "      <td>No</td>\n",
       "      <td>No</td>\n",
       "      <td>Last</td>\n",
       "      <td>2012</td>\n",
       "      <td>7</td>\n",
       "      <td>Sunday</td>\n",
       "      <td>Part One</td>\n",
       "      <td>773591.8648</td>\n",
       "      <td>2940638.174</td>\n",
       "      <td>COLUMBIA RD</td>\n",
       "      <td>NaN</td>\n",
       "      <td>(42.3164411, -71.06582908)</td>\n",
       "    </tr>\n",
       "    <tr>\n",
       "      <th>4</th>\n",
       "      <td>120419236.0</td>\n",
       "      <td>ARMROB</td>\n",
       "      <td>ROBBERY</td>\n",
       "      <td>03xx</td>\n",
       "      <td>E18</td>\n",
       "      <td>496</td>\n",
       "      <td>07/08/2012 07:15:00 AM</td>\n",
       "      <td>Firearm</td>\n",
       "      <td>No</td>\n",
       "      <td>No</td>\n",
       "      <td>Last</td>\n",
       "      <td>2012</td>\n",
       "      <td>7</td>\n",
       "      <td>Sunday</td>\n",
       "      <td>Part One</td>\n",
       "      <td>759042.7315</td>\n",
       "      <td>2923832.681</td>\n",
       "      <td>COLLINS ST</td>\n",
       "      <td>NaN</td>\n",
       "      <td>(42.27051636, -71.11989955)</td>\n",
       "    </tr>\n",
       "  </tbody>\n",
       "</table>\n",
       "</div>"
      ],
      "text/plain": [
       "       COMPNOS NatureCode INCIDENT_TYPE_DESCRIPTION MAIN_CRIMECODE  \\\n",
       "0  120420285.0     BERPTA      RESIDENTIAL BURGLARY           05RB   \n",
       "1  120419202.0     PSHOT         AGGRAVATED ASSAULT           04xx   \n",
       "2  120419213.0     ARMROB                   ROBBERY           03xx   \n",
       "3  120419223.0     ALARMC       COMMERCIAL BURGLARY           05CB   \n",
       "4  120419236.0     ARMROB                   ROBBERY           03xx   \n",
       "\n",
       "  REPTDISTRICT  REPORTINGAREA                FROMDATE WEAPONTYPE Shooting  \\\n",
       "0           D4            629  07/08/2012 06:00:00 AM      Other       No   \n",
       "1           B2            327  07/08/2012 06:03:00 AM    Firearm      Yes   \n",
       "2           D4            625  07/08/2012 06:26:00 AM    Firearm       No   \n",
       "3           B2            258  07/08/2012 06:56:00 AM      Other       No   \n",
       "4          E18            496  07/08/2012 07:15:00 AM    Firearm       No   \n",
       "\n",
       "  DOMESTIC SHIFT  Year  Month DAY_WEEK   UCRPART            X            Y  \\\n",
       "0       No  Last  2012      7   Sunday  Part One  763273.1791  2951498.962   \n",
       "1       No  Last  2012      7   Sunday  Part One  771223.1638  2940772.099   \n",
       "2       No  Last  2012      7   Sunday  Part One  765118.8605  2950217.536   \n",
       "3       No  Last  2012      7   Sunday  Part One  773591.8648  2940638.174   \n",
       "4       No  Last  2012      7   Sunday  Part One  759042.7315  2923832.681   \n",
       "\n",
       "    STREETNAME     XSTREETNAME                     Location  \n",
       "0  ABERDEEN ST             NaN  (42.34638135, -71.10379454)  \n",
       "1    HOWARD AV             NaN  (42.31684135, -71.07458456)  \n",
       "2    JERSEY ST  QUEENSBERRY ST  (42.34284135, -71.09698955)  \n",
       "3  COLUMBIA RD             NaN   (42.3164411, -71.06582908)  \n",
       "4   COLLINS ST             NaN  (42.27051636, -71.11989955)  "
      ]
     },
     "execution_count": 9,
     "metadata": {},
     "output_type": "execute_result"
    }
   ],
   "source": [
    "crimedata = pd.read_csv('Crime_Incident_Reports__July_2012_-_August_2015___Source__Legacy_System_.csv')\n",
    "crimedata.head()"
   ]
  },
  {
   "cell_type": "code",
   "execution_count": 10,
   "metadata": {
    "collapsed": false
   },
   "outputs": [],
   "source": [
    "crimelocs = crimedata.Location.values.tolist()\n",
    "crimelats, crimelongs = [], []\n",
    "for line in crimelocs:\n",
    "    crimelats.append(line[0])"
   ]
  },
  {
   "cell_type": "code",
   "execution_count": 11,
   "metadata": {
    "collapsed": false
   },
   "outputs": [
    {
     "name": "stderr",
     "output_type": "stream",
     "text": [
      "//anaconda/lib/python3.5/site-packages/ipykernel/__main__.py:14: SettingWithCopyWarning: \n",
      "A value is trying to be set on a copy of a slice from a DataFrame\n",
      "\n",
      "See the caveats in the documentation: http://pandas.pydata.org/pandas-docs/stable/indexing.html#indexing-view-versus-copy\n"
     ]
    },
    {
     "data": {
      "text/html": [
       "<div>\n",
       "<table border=\"1\" class=\"dataframe\">\n",
       "  <thead>\n",
       "    <tr style=\"text-align: right;\">\n",
       "      <th></th>\n",
       "      <th>lat</th>\n",
       "      <th>long</th>\n",
       "    </tr>\n",
       "  </thead>\n",
       "  <tbody>\n",
       "    <tr>\n",
       "      <th>0</th>\n",
       "      <td>42.3464</td>\n",
       "      <td>-71.1038</td>\n",
       "    </tr>\n",
       "    <tr>\n",
       "      <th>1</th>\n",
       "      <td>42.3168</td>\n",
       "      <td>-71.0746</td>\n",
       "    </tr>\n",
       "    <tr>\n",
       "      <th>2</th>\n",
       "      <td>42.3428</td>\n",
       "      <td>-71.097</td>\n",
       "    </tr>\n",
       "    <tr>\n",
       "      <th>3</th>\n",
       "      <td>42.3164</td>\n",
       "      <td>-71.0658</td>\n",
       "    </tr>\n",
       "    <tr>\n",
       "      <th>4</th>\n",
       "      <td>42.2705</td>\n",
       "      <td>-71.1199</td>\n",
       "    </tr>\n",
       "  </tbody>\n",
       "</table>\n",
       "</div>"
      ],
      "text/plain": [
       "       lat     long\n",
       "0  42.3464 -71.1038\n",
       "1  42.3168 -71.0746\n",
       "2  42.3428  -71.097\n",
       "3  42.3164 -71.0658\n",
       "4  42.2705 -71.1199"
      ]
     },
     "execution_count": 11,
     "metadata": {},
     "output_type": "execute_result"
    }
   ],
   "source": [
    "def getlatlong(mystring, which):\n",
    "    mylist = mystring.replace('(','').replace(')','').split(', ')\n",
    "    lat, long = float(mylist[0]), float(mylist[1])\n",
    "    out = [np.nan, [lat,long][which]]\n",
    "    check = (lat > 40) * (lat < 45) * (long < -70) * (long > -75)\n",
    "    return out[check]\n",
    "def getlats(mystring):\n",
    "    return getlatlong(mystring,0)\n",
    "def getlongs(mystring):\n",
    "    return getlatlong(mystring,1)\n",
    "crimedata['lat'] = crimedata.Location.apply(getlats,0)\n",
    "crimedata['long'] = crimedata.Location.apply(getlongs,0)\n",
    "cll = crimedata[['lat','long']]\n",
    "cll.dropna(inplace = True)\n",
    "cll.head()"
   ]
  },
  {
   "cell_type": "markdown",
   "metadata": {},
   "source": [
    "ALL RESTAURANT IDS ARE INCLUDED"
   ]
  },
  {
   "cell_type": "code",
   "execution_count": 12,
   "metadata": {
    "collapsed": false
   },
   "outputs": [],
   "source": [
    "with open('yelp_academic_dataset_review.json') as f:\n",
    "    reviews = f.readlines()\n",
    "\n",
    "with open('yelp_academic_dataset_user.json') as f:\n",
    "    users = f.readlines()\n",
    "    \n",
    "with open('yelp_academic_dataset_tip.json') as f:\n",
    "    tips = f.readlines()\n",
    "\n",
    "with open('yelp_academic_dataset_business.json') as f:\n",
    "    businesses = f.readlines()"
   ]
  },
  {
   "cell_type": "code",
   "execution_count": 13,
   "metadata": {
    "collapsed": false
   },
   "outputs": [],
   "source": [
    "def jsonstolist(lines):\n",
    "    dicts, allkeys = [], []\n",
    "    for line in lines:\n",
    "        d = json.loads(line)\n",
    "        d2 = {}\n",
    "        for key in list(d.keys()):\n",
    "            if type(d[key]) != dict:\n",
    "                d2[key] = d[key]\n",
    "            else:\n",
    "                for key2 in list(d[key].keys()):\n",
    "                    d2[key2] = d[key][key2]\n",
    "        dicts.append(d2)\n",
    "        allkeys.extend(list(d2.keys()))\n",
    "    unique_keys = list(set(allkeys))\n",
    "    biglist = []\n",
    "    for d in dicts:\n",
    "        linelist = []\n",
    "        for category in unique_keys:\n",
    "            if category in d.keys():\n",
    "                linelist.append(d[category])\n",
    "            else:\n",
    "                linelist.append(0)\n",
    "        biglist.append(linelist)\n",
    "    return biglist, unique_keys"
   ]
  },
  {
   "cell_type": "code",
   "execution_count": 14,
   "metadata": {
    "collapsed": false
   },
   "outputs": [],
   "source": [
    "businesses_list, businessess_columns = jsonstolist(businesses)\n",
    "bdata = pd.DataFrame(businesses_list, columns = businessess_columns)"
   ]
  },
  {
   "cell_type": "code",
   "execution_count": 15,
   "metadata": {
    "collapsed": false
   },
   "outputs": [],
   "source": [
    "reviews_list, reviews_columns = jsonstolist(reviews)\n",
    "rdata = pd.DataFrame(reviews_list, columns = reviews_columns)"
   ]
  },
  {
   "cell_type": "code",
   "execution_count": 16,
   "metadata": {
    "collapsed": false
   },
   "outputs": [],
   "source": [
    "dateparse(rdata,'date')"
   ]
  },
  {
   "cell_type": "code",
   "execution_count": 17,
   "metadata": {
    "collapsed": false
   },
   "outputs": [],
   "source": [
    "tips_list, tips_columns = jsonstolist(tips)\n",
    "tdata = pd.DataFrame(tips_list, columns = tips_columns)"
   ]
  },
  {
   "cell_type": "code",
   "execution_count": 18,
   "metadata": {
    "collapsed": true
   },
   "outputs": [],
   "source": [
    "dateparse(tdata,'date')"
   ]
  },
  {
   "cell_type": "code",
   "execution_count": 19,
   "metadata": {
    "collapsed": false
   },
   "outputs": [],
   "source": [
    "users_list, users_columns = jsonstolist(users)\n",
    "udata = pd.DataFrame(users_list, columns = users_columns)"
   ]
  },
  {
   "cell_type": "code",
   "execution_count": 20,
   "metadata": {
    "collapsed": false
   },
   "outputs": [
    {
     "data": {
      "text/plain": [
       "Index(['full_address', 'Noise Level', 'Caters', 'review_count', 'city',\n",
       "       'Payment Types', 'Outdoor Seating', 'Parking', 'Wi-Fi', 'Has TV',\n",
       "       'Thursday', 'Dietary Restrictions', 'Alcohol', 'Good for Kids',\n",
       "       'Monday', 'Delivery', 'Friday', 'Dogs Allowed', 'Open 24 Hours',\n",
       "       'Coat Check', 'BYOB', 'Music', 'Ages Allowed', 'Tuesday', 'Sunday',\n",
       "       'Wednesday', 'Attire', 'Accepts Credit Cards', 'categories', 'stars',\n",
       "       'Good For', 'Takes Reservations', 'latitude', 'type', 'Drive-Thru',\n",
       "       'Wheelchair Accessible', 'state', 'Saturday', 'Smoking',\n",
       "       'Good For Dancing', 'Good For Kids', 'Happy Hour', 'Corkage',\n",
       "       'business_id', 'By Appointment Only', 'neighborhoods', 'BYOB/Corkage',\n",
       "       'name', 'Price Range', 'open', 'Take-out', 'Waiter Service',\n",
       "       'Order at Counter', 'Ambience', 'longitude', 'Good For Groups'],\n",
       "      dtype='object')"
      ]
     },
     "execution_count": 20,
     "metadata": {},
     "output_type": "execute_result"
    }
   ],
   "source": [
    "bdata.columns"
   ]
  },
  {
   "cell_type": "code",
   "execution_count": 21,
   "metadata": {
    "collapsed": false
   },
   "outputs": [
    {
     "data": {
      "text/plain": [
       "Index(['full_address', 'Noise Level', 'Caters', 'review_count', 'city',\n",
       "       'Payment Types', 'Outdoor Seating', 'Parking', 'Wi-Fi', 'Has TV',\n",
       "       'Thursday', 'Dietary Restrictions', 'Alcohol', 'Monday', 'Delivery',\n",
       "       'Friday', 'Dogs Allowed', 'Open 24 Hours', 'Coat Check', 'BYOB',\n",
       "       'Music', 'Ages Allowed', 'Tuesday', 'Sunday', 'Wednesday', 'Attire',\n",
       "       'Accepts Credit Cards', 'categories', 'stars', 'Good For',\n",
       "       'Takes Reservations', 'latitude', 'type', 'Drive-Thru',\n",
       "       'Wheelchair Accessible', 'state', 'Saturday', 'Smoking',\n",
       "       'Good For Dancing', 'Good For Kids', 'Happy Hour', 'Corkage',\n",
       "       'business_id', 'By Appointment Only', 'neighborhoods', 'BYOB/Corkage',\n",
       "       'name', 'Price Range', 'open', 'Take-out', 'Waiter Service',\n",
       "       'Order at Counter', 'Ambience', 'longitude', 'Good For Groups'],\n",
       "      dtype='object')"
      ]
     },
     "execution_count": 21,
     "metadata": {},
     "output_type": "execute_result"
    }
   ],
   "source": [
    "bdata['Good For Kids'] = bdata['Good For Kids'] + bdata['Good for Kids']\n",
    "bdata.drop('Good for Kids', axis=1, inplace=True)\n",
    "bdata.columns"
   ]
  },
  {
   "cell_type": "code",
   "execution_count": 22,
   "metadata": {
    "collapsed": false
   },
   "outputs": [
    {
     "name": "stdout",
     "output_type": "stream",
     "text": [
      "['Caters', 'review_count', 'Outdoor Seating', 'Has TV', 'Delivery', 'Dogs Allowed', 'Open 24 Hours', 'Coat Check', 'BYOB', 'stars', 'Takes Reservations', 'latitude', 'Drive-Thru', 'Wheelchair Accessible', 'Good For Dancing', 'Good For Kids', 'Happy Hour', 'Corkage', 'By Appointment Only', 'Price Range', 'open', 'Take-out', 'Waiter Service', 'Order at Counter', 'longitude', 'Good For Groups']\n",
      "['Payment Types', 'Parking', 'Thursday', 'Dietary Restrictions', 'Monday', 'Friday', 'Music', 'Tuesday', 'Sunday', 'Wednesday', 'Accepts Credit Cards', 'categories', 'Good For', 'Saturday', 'neighborhoods', 'Ambience']\n",
      "['Noise Level', 'Wi-Fi', 'Ages Allowed', 'Smoking', 'BYOB/Corkage']\n",
      "['full_address', 'city', 'Alcohol', 'Attire', 'type', 'state', 'business_id', 'name']\n"
     ]
    }
   ],
   "source": [
    "numcols, dictcols, seminumcols, othercols = [], [], [], []\n",
    "for colname in list(bdata.columns):\n",
    "    try:\n",
    "        sum(bdata[colname])\n",
    "        numcols.append(colname)\n",
    "    except TypeError:\n",
    "        head = bdata[colname].tolist()\n",
    "        dl = 0\n",
    "        n = 0\n",
    "        for entry in head:\n",
    "            dl = dl + (type(entry) in [dict, list])\n",
    "            n = n + (type(entry) in [int, float, bool])\n",
    "        if dl > 1:\n",
    "            dictcols.append(colname)\n",
    "        elif n > len(bdata)/4:\n",
    "            seminumcols.append(colname)\n",
    "        else:\n",
    "            othercols.append(colname)\n",
    "print(numcols)\n",
    "print(dictcols)\n",
    "print(seminumcols)\n",
    "print(othercols)"
   ]
  },
  {
   "cell_type": "code",
   "execution_count": 23,
   "metadata": {
    "collapsed": false
   },
   "outputs": [
    {
     "data": {
      "text/html": [
       "<div>\n",
       "<table border=\"1\" class=\"dataframe\">\n",
       "  <thead>\n",
       "    <tr style=\"text-align: right;\">\n",
       "      <th></th>\n",
       "      <th>Payment Types</th>\n",
       "      <th>Parking</th>\n",
       "      <th>Thursday</th>\n",
       "      <th>Dietary Restrictions</th>\n",
       "      <th>Monday</th>\n",
       "      <th>Friday</th>\n",
       "      <th>Music</th>\n",
       "      <th>Tuesday</th>\n",
       "      <th>Sunday</th>\n",
       "      <th>Wednesday</th>\n",
       "      <th>Accepts Credit Cards</th>\n",
       "      <th>categories</th>\n",
       "      <th>Good For</th>\n",
       "      <th>Saturday</th>\n",
       "      <th>neighborhoods</th>\n",
       "      <th>Ambience</th>\n",
       "    </tr>\n",
       "  </thead>\n",
       "  <tbody>\n",
       "    <tr>\n",
       "      <th>0</th>\n",
       "      <td>0</td>\n",
       "      <td>{'garage': False, 'validated': False, 'valet':...</td>\n",
       "      <td>0</td>\n",
       "      <td>0</td>\n",
       "      <td>0</td>\n",
       "      <td>0</td>\n",
       "      <td>0</td>\n",
       "      <td>0</td>\n",
       "      <td>0</td>\n",
       "      <td>0</td>\n",
       "      <td>True</td>\n",
       "      <td>[Bakeries, Food, Event Planning &amp; Services, Ca...</td>\n",
       "      <td>0</td>\n",
       "      <td>0</td>\n",
       "      <td>[Financial District]</td>\n",
       "      <td>0</td>\n",
       "    </tr>\n",
       "    <tr>\n",
       "      <th>1</th>\n",
       "      <td>0</td>\n",
       "      <td>{'garage': False, 'validated': False, 'valet':...</td>\n",
       "      <td>{'close': '15:00', 'open': '06:00'}</td>\n",
       "      <td>0</td>\n",
       "      <td>{'close': '15:00', 'open': '06:00'}</td>\n",
       "      <td>{'close': '15:00', 'open': '06:00'}</td>\n",
       "      <td>0</td>\n",
       "      <td>{'close': '15:00', 'open': '06:00'}</td>\n",
       "      <td>0</td>\n",
       "      <td>{'close': '15:00', 'open': '06:00'}</td>\n",
       "      <td>0</td>\n",
       "      <td>[Delis, Restaurants, Event Planning &amp; Services...</td>\n",
       "      <td>{'latenight': False, 'breakfast': False, 'dess...</td>\n",
       "      <td>0</td>\n",
       "      <td>[Beacon Hill]</td>\n",
       "      <td>{'hipster': False, 'upscale': False, 'touristy...</td>\n",
       "    </tr>\n",
       "    <tr>\n",
       "      <th>2</th>\n",
       "      <td>0</td>\n",
       "      <td>{'garage': False, 'validated': False, 'valet':...</td>\n",
       "      <td>{'close': '16:00', 'open': '05:30'}</td>\n",
       "      <td>0</td>\n",
       "      <td>{'close': '16:00', 'open': '05:30'}</td>\n",
       "      <td>{'close': '16:00', 'open': '05:30'}</td>\n",
       "      <td>0</td>\n",
       "      <td>{'close': '16:00', 'open': '05:30'}</td>\n",
       "      <td>0</td>\n",
       "      <td>{'close': '16:00', 'open': '05:30'}</td>\n",
       "      <td>True</td>\n",
       "      <td>[Delis, Restaurants]</td>\n",
       "      <td>{'latenight': False, 'breakfast': False, 'dess...</td>\n",
       "      <td>0</td>\n",
       "      <td>[Downtown]</td>\n",
       "      <td>{'hipster': False, 'upscale': False, 'touristy...</td>\n",
       "    </tr>\n",
       "    <tr>\n",
       "      <th>3</th>\n",
       "      <td>0</td>\n",
       "      <td>{'garage': False, 'validated': False, 'valet':...</td>\n",
       "      <td>{'close': '18:00', 'open': '05:00'}</td>\n",
       "      <td>0</td>\n",
       "      <td>{'close': '18:00', 'open': '05:00'}</td>\n",
       "      <td>{'close': '18:00', 'open': '05:00'}</td>\n",
       "      <td>0</td>\n",
       "      <td>{'close': '18:00', 'open': '05:00'}</td>\n",
       "      <td>0</td>\n",
       "      <td>{'close': '18:00', 'open': '05:00'}</td>\n",
       "      <td>True</td>\n",
       "      <td>[Food, Sandwiches, Coffee &amp; Tea, Breakfast &amp; B...</td>\n",
       "      <td>{'latenight': False, 'breakfast': True, 'desse...</td>\n",
       "      <td>{'close': '13:00', 'open': '07:00'}</td>\n",
       "      <td>[Beacon Hill, Downtown]</td>\n",
       "      <td>{'hipster': False, 'upscale': False, 'touristy...</td>\n",
       "    </tr>\n",
       "    <tr>\n",
       "      <th>4</th>\n",
       "      <td>0</td>\n",
       "      <td>{'garage': True, 'validated': False, 'valet': ...</td>\n",
       "      <td>{'close': '22:00', 'open': '06:30'}</td>\n",
       "      <td>0</td>\n",
       "      <td>{'close': '22:00', 'open': '06:30'}</td>\n",
       "      <td>{'close': '22:00', 'open': '06:30'}</td>\n",
       "      <td>0</td>\n",
       "      <td>{'close': '22:00', 'open': '06:30'}</td>\n",
       "      <td>{'close': '22:00', 'open': '07:00'}</td>\n",
       "      <td>{'close': '22:00', 'open': '06:30'}</td>\n",
       "      <td>True</td>\n",
       "      <td>[American (New), Restaurants]</td>\n",
       "      <td>{'latenight': False, 'breakfast': False, 'dess...</td>\n",
       "      <td>{'close': '22:00', 'open': '07:00'}</td>\n",
       "      <td>[Downtown]</td>\n",
       "      <td>{'hipster': False, 'upscale': False, 'touristy...</td>\n",
       "    </tr>\n",
       "  </tbody>\n",
       "</table>\n",
       "</div>"
      ],
      "text/plain": [
       "  Payment Types                                            Parking  \\\n",
       "0             0  {'garage': False, 'validated': False, 'valet':...   \n",
       "1             0  {'garage': False, 'validated': False, 'valet':...   \n",
       "2             0  {'garage': False, 'validated': False, 'valet':...   \n",
       "3             0  {'garage': False, 'validated': False, 'valet':...   \n",
       "4             0  {'garage': True, 'validated': False, 'valet': ...   \n",
       "\n",
       "                              Thursday Dietary Restrictions  \\\n",
       "0                                    0                    0   \n",
       "1  {'close': '15:00', 'open': '06:00'}                    0   \n",
       "2  {'close': '16:00', 'open': '05:30'}                    0   \n",
       "3  {'close': '18:00', 'open': '05:00'}                    0   \n",
       "4  {'close': '22:00', 'open': '06:30'}                    0   \n",
       "\n",
       "                                Monday                               Friday  \\\n",
       "0                                    0                                    0   \n",
       "1  {'close': '15:00', 'open': '06:00'}  {'close': '15:00', 'open': '06:00'}   \n",
       "2  {'close': '16:00', 'open': '05:30'}  {'close': '16:00', 'open': '05:30'}   \n",
       "3  {'close': '18:00', 'open': '05:00'}  {'close': '18:00', 'open': '05:00'}   \n",
       "4  {'close': '22:00', 'open': '06:30'}  {'close': '22:00', 'open': '06:30'}   \n",
       "\n",
       "  Music                              Tuesday  \\\n",
       "0     0                                    0   \n",
       "1     0  {'close': '15:00', 'open': '06:00'}   \n",
       "2     0  {'close': '16:00', 'open': '05:30'}   \n",
       "3     0  {'close': '18:00', 'open': '05:00'}   \n",
       "4     0  {'close': '22:00', 'open': '06:30'}   \n",
       "\n",
       "                                Sunday                            Wednesday  \\\n",
       "0                                    0                                    0   \n",
       "1                                    0  {'close': '15:00', 'open': '06:00'}   \n",
       "2                                    0  {'close': '16:00', 'open': '05:30'}   \n",
       "3                                    0  {'close': '18:00', 'open': '05:00'}   \n",
       "4  {'close': '22:00', 'open': '07:00'}  {'close': '22:00', 'open': '06:30'}   \n",
       "\n",
       "  Accepts Credit Cards                                         categories  \\\n",
       "0                 True  [Bakeries, Food, Event Planning & Services, Ca...   \n",
       "1                    0  [Delis, Restaurants, Event Planning & Services...   \n",
       "2                 True                               [Delis, Restaurants]   \n",
       "3                 True  [Food, Sandwiches, Coffee & Tea, Breakfast & B...   \n",
       "4                 True                      [American (New), Restaurants]   \n",
       "\n",
       "                                            Good For  \\\n",
       "0                                                  0   \n",
       "1  {'latenight': False, 'breakfast': False, 'dess...   \n",
       "2  {'latenight': False, 'breakfast': False, 'dess...   \n",
       "3  {'latenight': False, 'breakfast': True, 'desse...   \n",
       "4  {'latenight': False, 'breakfast': False, 'dess...   \n",
       "\n",
       "                              Saturday            neighborhoods  \\\n",
       "0                                    0     [Financial District]   \n",
       "1                                    0            [Beacon Hill]   \n",
       "2                                    0               [Downtown]   \n",
       "3  {'close': '13:00', 'open': '07:00'}  [Beacon Hill, Downtown]   \n",
       "4  {'close': '22:00', 'open': '07:00'}               [Downtown]   \n",
       "\n",
       "                                            Ambience  \n",
       "0                                                  0  \n",
       "1  {'hipster': False, 'upscale': False, 'touristy...  \n",
       "2  {'hipster': False, 'upscale': False, 'touristy...  \n",
       "3  {'hipster': False, 'upscale': False, 'touristy...  \n",
       "4  {'hipster': False, 'upscale': False, 'touristy...  "
      ]
     },
     "execution_count": 23,
     "metadata": {},
     "output_type": "execute_result"
    }
   ],
   "source": [
    "bdata[dictcols].head()"
   ]
  },
  {
   "cell_type": "markdown",
   "metadata": {},
   "source": [
    "Parse all of em"
   ]
  },
  {
   "cell_type": "code",
   "execution_count": 24,
   "metadata": {
    "collapsed": true
   },
   "outputs": [],
   "source": [
    "def dictbinaries(dataframe, colname):\n",
    "    allkeys = []\n",
    "    mylist = dataframe[colname].values.tolist()\n",
    "    for line in mylist:\n",
    "        if type(line) == dict:\n",
    "            allkeys.extend(list(line.keys()))\n",
    "        elif type(line) == list:\n",
    "            allkeys.extend(line)\n",
    "    allkeys = list(set(allkeys))\n",
    "    newnames = []\n",
    "    for key in allkeys:\n",
    "        newname = colname + '_' + key\n",
    "        def addbinary(mydict):\n",
    "            out = 0\n",
    "            if type(mydict) == dict:\n",
    "                if key in mydict.keys():\n",
    "                    out = mydict[key]\n",
    "            elif type(mydict) == list:\n",
    "                out = (key in mydict)\n",
    "            if type(out) == str:\n",
    "                if ':' in out[2:]:\n",
    "                    cp = out.find(':')\n",
    "                    hour = int(out[cp-2:cp])\n",
    "                    minute = int(out[cp+1:cp+3])\n",
    "                    out = hour + minute/60\n",
    "            return out\n",
    "        dataframe[newname] = dataframe[colname].apply(addbinary,1)\n",
    "        newnames.append(newname)\n",
    "    return newnames"
   ]
  },
  {
   "cell_type": "code",
   "execution_count": 25,
   "metadata": {
    "collapsed": false
   },
   "outputs": [],
   "source": [
    "def quintiles(mylist, n = 5):\n",
    "    slist = sorted(mylist)\n",
    "    out = []\n",
    "    for i in range(n):\n",
    "        start = int(i*len(slist)/n)\n",
    "        end = int((i+1)*len(slist)/n)\n",
    "        if end >= len(slist):\n",
    "            end = len(slist) - 1\n",
    "        out.append([slist[start], slist[end]])\n",
    "#         out.append(slist[i * interval - 1])\n",
    "    return out    \n",
    "\n",
    "def quintilize(dataframe, colname, n = 5, mode = 'both'):\n",
    "    quints = quintiles(dataframe[colname].values.tolist(), n = n)\n",
    "    newnames = []\n",
    "    bigname = colname + '_quintile'\n",
    "    if mode in ['single','both']:\n",
    "        newnames.append(bigname)\n",
    "    for i in range(len(quints)):\n",
    "        [start, end] = quints[i]\n",
    "        end = end + (i == len(quints) - 1) # increase if at end to be inclusive\n",
    "        def inrange(val):\n",
    "            return (val >= start)*(val < end) + 0\n",
    "        if mode in ['binaries','both']:\n",
    "            newname = colname + '_quintile_' + str(i + 1)\n",
    "            newnames.append(newname)\n",
    "            dataframe[newname] = dataframe[colname].apply(inrange,1)\n",
    "        if mode in ['single','both']:\n",
    "            if i == 0:\n",
    "                dataframe[bigname] = dataframe[colname].apply(inrange,1) * (i + 1)\n",
    "            else:\n",
    "                dataframe[bigname] = dataframe[bigname] + dataframe[colname].apply(inrange,1) * (i + 1)\n",
    "    return newnames"
   ]
  },
  {
   "cell_type": "code",
   "execution_count": 26,
   "metadata": {
    "collapsed": false
   },
   "outputs": [],
   "source": [
    "dictnumcols = dictbinaries(bdata,dictcols[0])\n",
    "for col in dictcols[1:]:\n",
    "    dictnumcols.extend(dictbinaries(bdata, col))"
   ]
  },
  {
   "cell_type": "markdown",
   "metadata": {},
   "source": [
    "Double check types"
   ]
  },
  {
   "cell_type": "code",
   "execution_count": 27,
   "metadata": {
    "collapsed": false
   },
   "outputs": [],
   "source": [
    "for col in dictnumcols:\n",
    "    try:\n",
    "        sum(bdata[col])\n",
    "    except TypeError:\n",
    "        print(col)"
   ]
  },
  {
   "cell_type": "markdown",
   "metadata": {},
   "source": [
    "All numerical, now checking semi-numerical"
   ]
  },
  {
   "cell_type": "code",
   "execution_count": 28,
   "metadata": {
    "collapsed": false
   },
   "outputs": [
    {
     "data": {
      "text/html": [
       "<div>\n",
       "<table border=\"1\" class=\"dataframe\">\n",
       "  <thead>\n",
       "    <tr style=\"text-align: right;\">\n",
       "      <th></th>\n",
       "      <th>Noise Level</th>\n",
       "      <th>Wi-Fi</th>\n",
       "      <th>Ages Allowed</th>\n",
       "      <th>Smoking</th>\n",
       "      <th>BYOB/Corkage</th>\n",
       "    </tr>\n",
       "  </thead>\n",
       "  <tbody>\n",
       "    <tr>\n",
       "      <th>0</th>\n",
       "      <td>0</td>\n",
       "      <td>0</td>\n",
       "      <td>0</td>\n",
       "      <td>0</td>\n",
       "      <td>0</td>\n",
       "    </tr>\n",
       "    <tr>\n",
       "      <th>1</th>\n",
       "      <td>average</td>\n",
       "      <td>no</td>\n",
       "      <td>0</td>\n",
       "      <td>0</td>\n",
       "      <td>0</td>\n",
       "    </tr>\n",
       "    <tr>\n",
       "      <th>2</th>\n",
       "      <td>average</td>\n",
       "      <td>0</td>\n",
       "      <td>0</td>\n",
       "      <td>0</td>\n",
       "      <td>0</td>\n",
       "    </tr>\n",
       "    <tr>\n",
       "      <th>3</th>\n",
       "      <td>average</td>\n",
       "      <td>free</td>\n",
       "      <td>0</td>\n",
       "      <td>0</td>\n",
       "      <td>0</td>\n",
       "    </tr>\n",
       "    <tr>\n",
       "      <th>4</th>\n",
       "      <td>quiet</td>\n",
       "      <td>no</td>\n",
       "      <td>0</td>\n",
       "      <td>0</td>\n",
       "      <td>0</td>\n",
       "    </tr>\n",
       "  </tbody>\n",
       "</table>\n",
       "</div>"
      ],
      "text/plain": [
       "  Noise Level Wi-Fi Ages Allowed Smoking BYOB/Corkage\n",
       "0           0     0            0       0            0\n",
       "1     average    no            0       0            0\n",
       "2     average     0            0       0            0\n",
       "3     average  free            0       0            0\n",
       "4       quiet    no            0       0            0"
      ]
     },
     "execution_count": 28,
     "metadata": {},
     "output_type": "execute_result"
    }
   ],
   "source": [
    "bdata[seminumcols].head()"
   ]
  },
  {
   "cell_type": "code",
   "execution_count": 29,
   "metadata": {
    "collapsed": false
   },
   "outputs": [
    {
     "name": "stdout",
     "output_type": "stream",
     "text": [
      "Noise Level\n",
      "average      921\n",
      "0            533\n",
      "quiet        219\n",
      "loud         172\n",
      "very_loud     85\n",
      "Name: Noise Level, dtype: int64\n",
      "\n",
      "Wi-Fi\n",
      "no      885\n",
      "0       637\n",
      "free    392\n",
      "paid     16\n",
      "Name: Wi-Fi, dtype: int64\n",
      "\n",
      "Ages Allowed\n",
      "0          1912\n",
      "21plus       17\n",
      "allages       1\n",
      "Name: Ages Allowed, dtype: int64\n",
      "\n",
      "Smoking\n",
      "0          1560\n",
      "no          308\n",
      "outdoor      55\n",
      "yes           7\n",
      "Name: Smoking, dtype: int64\n",
      "\n",
      "BYOB/Corkage\n",
      "0              1274\n",
      "no              433\n",
      "yes_free        187\n",
      "yes_corkage      36\n",
      "Name: BYOB/Corkage, dtype: int64\n",
      "\n"
     ]
    }
   ],
   "source": [
    "for col in seminumcols:\n",
    "    print(col)\n",
    "    print(bdata[col].value_counts())\n",
    "    print()"
   ]
  },
  {
   "cell_type": "code",
   "execution_count": 30,
   "metadata": {
    "collapsed": false
   },
   "outputs": [
    {
     "name": "stderr",
     "output_type": "stream",
     "text": [
      "//anaconda/lib/python3.5/site-packages/pandas/computation/expressions.py:181: UserWarning: evaluating in Python space because the '+' operator is not supported by numexpr for the bool dtype, use '|' instead\n",
      "  unsupported[op_str]))\n"
     ]
    }
   ],
   "source": [
    "bdata['Smokingb'] = (bdata.Smoking == 'yes') + (bdata.Smoking == 'outdoor') + 0\n",
    "bdata['wifib'] = (bdata['Wi-Fi'] == 'free') + (bdata['Wi-Fi'] == 'paid') + 0\n",
    "bdata['Corkage'] = ((bdata['Corkage'] + (bdata['BYOB/Corkage'] == 'yes_corkage'))>0) + 0\n",
    "bdata['allages'] = (bdata['Ages Allowed'] != 0) + 0\n",
    "bdata['BYOB'] = (((bdata['BYOB/Corkage'] == 'yes_free') + 0 + bdata['BYOB']) > 0) + 1\n",
    "bdata['Noise'] = (bdata['Noise Level'] == 'average') + 2*(bdata['Noise Level'] == 'loud') + 3*(bdata['Noise Level'] == 'very_loud')\n",
    "noisemean = bdata['Noise'][bdata['Noise Level'] != 0].mean()\n",
    "bdata['Noise'] = bdata['Noise'] + noisemean * (bdata['Noise Level'] == 0)\n",
    "snumcols = ['Noise','Smokingb', 'wifib', 'allages']"
   ]
  },
  {
   "cell_type": "markdown",
   "metadata": {},
   "source": [
    "Now the others"
   ]
  },
  {
   "cell_type": "code",
   "execution_count": 31,
   "metadata": {
    "collapsed": false
   },
   "outputs": [
    {
     "data": {
      "text/html": [
       "<div>\n",
       "<table border=\"1\" class=\"dataframe\">\n",
       "  <thead>\n",
       "    <tr style=\"text-align: right;\">\n",
       "      <th></th>\n",
       "      <th>full_address</th>\n",
       "      <th>city</th>\n",
       "      <th>Alcohol</th>\n",
       "      <th>Attire</th>\n",
       "      <th>type</th>\n",
       "      <th>state</th>\n",
       "      <th>business_id</th>\n",
       "      <th>name</th>\n",
       "    </tr>\n",
       "  </thead>\n",
       "  <tbody>\n",
       "    <tr>\n",
       "      <th>0</th>\n",
       "      <td>75 Federal Street\\nFinancial District\\nBoston,...</td>\n",
       "      <td>Boston</td>\n",
       "      <td>0</td>\n",
       "      <td>0</td>\n",
       "      <td>business</td>\n",
       "      <td>MA</td>\n",
       "      <td>Jp9svt7sRT4zwdbzQ8KQmw</td>\n",
       "      <td>Rebecca's Cafe</td>\n",
       "    </tr>\n",
       "    <tr>\n",
       "      <th>1</th>\n",
       "      <td>8 City Hall Ave\\nBeacon Hill\\nBoston, MA 02108</td>\n",
       "      <td>Boston</td>\n",
       "      <td>0</td>\n",
       "      <td>casual</td>\n",
       "      <td>business</td>\n",
       "      <td>MA</td>\n",
       "      <td>CgdK8DiyX9Y4kTKEPi_qgA</td>\n",
       "      <td>Delicato Cafe &amp; Caterer</td>\n",
       "    </tr>\n",
       "    <tr>\n",
       "      <th>2</th>\n",
       "      <td>2 Center Plz\\nDowntown\\nBoston, MA 02108</td>\n",
       "      <td>Boston</td>\n",
       "      <td>none</td>\n",
       "      <td>casual</td>\n",
       "      <td>business</td>\n",
       "      <td>MA</td>\n",
       "      <td>SAnMTC1rm-PhP8DQC4zeyg</td>\n",
       "      <td>Plaza Deli</td>\n",
       "    </tr>\n",
       "    <tr>\n",
       "      <th>3</th>\n",
       "      <td>122 Bowdoin St\\nBeacon Hill\\nBoston, MA 02108</td>\n",
       "      <td>Boston</td>\n",
       "      <td>none</td>\n",
       "      <td>casual</td>\n",
       "      <td>business</td>\n",
       "      <td>MA</td>\n",
       "      <td>75dtVyDb8Sfwb7dR0cBvdg</td>\n",
       "      <td>Capitol Coffee House</td>\n",
       "    </tr>\n",
       "    <tr>\n",
       "      <th>4</th>\n",
       "      <td>60 School St\\nDowntown\\nBoston, MA 02108</td>\n",
       "      <td>Boston</td>\n",
       "      <td>full_bar</td>\n",
       "      <td>dressy</td>\n",
       "      <td>business</td>\n",
       "      <td>MA</td>\n",
       "      <td>0uvgsJnwyCvNpjHOEYtlyQ</td>\n",
       "      <td>Parker's Restaurant</td>\n",
       "    </tr>\n",
       "  </tbody>\n",
       "</table>\n",
       "</div>"
      ],
      "text/plain": [
       "                                        full_address    city   Alcohol  \\\n",
       "0  75 Federal Street\\nFinancial District\\nBoston,...  Boston         0   \n",
       "1     8 City Hall Ave\\nBeacon Hill\\nBoston, MA 02108  Boston         0   \n",
       "2           2 Center Plz\\nDowntown\\nBoston, MA 02108  Boston      none   \n",
       "3      122 Bowdoin St\\nBeacon Hill\\nBoston, MA 02108  Boston      none   \n",
       "4           60 School St\\nDowntown\\nBoston, MA 02108  Boston  full_bar   \n",
       "\n",
       "   Attire      type state             business_id                     name  \n",
       "0       0  business    MA  Jp9svt7sRT4zwdbzQ8KQmw           Rebecca's Cafe  \n",
       "1  casual  business    MA  CgdK8DiyX9Y4kTKEPi_qgA  Delicato Cafe & Caterer  \n",
       "2  casual  business    MA  SAnMTC1rm-PhP8DQC4zeyg               Plaza Deli  \n",
       "3  casual  business    MA  75dtVyDb8Sfwb7dR0cBvdg     Capitol Coffee House  \n",
       "4  dressy  business    MA  0uvgsJnwyCvNpjHOEYtlyQ      Parker's Restaurant  "
      ]
     },
     "execution_count": 31,
     "metadata": {},
     "output_type": "execute_result"
    }
   ],
   "source": [
    "bdata[othercols].head()"
   ]
  },
  {
   "cell_type": "code",
   "execution_count": 32,
   "metadata": {
    "collapsed": false
   },
   "outputs": [
    {
     "name": "stdout",
     "output_type": "stream",
     "text": [
      "full_address\n",
      "800 Boylston St\\nBack Bay\\nBoston, MA 02199                                                       8\n",
      "417 Washington St\\nDowntown\\nBoston, MA 02108                                                     6\n",
      "334 Massachusetts Ave\\nBoston, MA 02115                                                           4\n",
      "1095 Commonwealth Ave\\nAllston/Brighton\\nBoston, MA 02215                                         4\n",
      "1 Faneuil Hall Market Pl\\nBoston, MA 02109                                                        4\n",
      "184 High St\\nFinancial District\\nBoston, MA 02110                                                 4\n",
      "350 Longwood Ave\\nBoston, MA 02115                                                                3\n",
      "15 Arlington St\\nBack Bay\\nBoston, MA 02116                                                       3\n",
      "1395 Washington St\\nSouth End\\nBoston, MA 02118                                                   3\n",
      "255 State St\\nWaterfront\\nBoston, MA 02109                                                        3\n",
      "354 Chestnut Hill Ave\\nBrighton, MA 02135                                                         3\n",
      "53 State St\\nFinancial District\\nBoston, MA 02109                                                 3\n",
      "1260 Boylston St\\nFenway\\nBoston, MA 02215                                                        3\n",
      "75 Federal St\\nFinancial District\\nBoston, MA 02110                                               3\n",
      "Boston Logan International Airport, Terminal E\\n1 Harborside Dr\\nEast Boston\\nBoston, MA 02128    3\n",
      "101 Arch St\\nDowntown\\nBoston, MA 02110                                                           3\n",
      "InterContinental Boston\\n510 Atlantic Ave\\nWaterfront\\nBoston, MA 02210                           3\n",
      "10 Huntington Ave\\nBack Bay\\nBoston, MA 02116                                                     3\n",
      "Boston Logan International Airport\\n1 Harborside Dr\\nEast Boston\\nBoston, MA 02128                3\n",
      "48 Winter St\\nDowntown\\nBoston, MA 02108                                                          3\n",
      "225 Northern Ave\\nWaterfront\\nBoston, MA 02210                                                    3\n",
      "425 Summer St\\nSouth Boston\\nBoston, MA 02210                                                     3\n",
      "275 Tremont St\\nBack Bay\\nBoston, MA 02116                                                        3\n",
      "8 Park Plz\\nBoston, MA 02116                                                                      3\n",
      "2360 Washington St\\nDudley Square\\nRoxbury, MA 02119                                              3\n",
      "Boston Logan International Airport, Terminal B\\n1 Harborside Dr\\nEast Boston\\nBoston, MA 02128    2\n",
      "138 Cambridge St\\nBeacon Hill\\nBoston, MA 02114                                                   2\n",
      "75 Francis St\\nBoston, MA 02115                                                                   2\n",
      "33 Union St\\nBoston, MA 02108                                                                     2\n",
      "2 Tremont St\\nBrighton, MA 02135                                                                  2\n",
      "                                                                                                 ..\n",
      "752 Bennington St\\nEast Boston\\nBoston, MA 02128                                                  1\n",
      "2257 Dorchester Ave\\nDorchester\\nDorchester Center, MA 02124                                      1\n",
      "81 Charles St\\nBeacon Hill\\nBoston, MA 02114                                                      1\n",
      "493 Massachusetts Ave\\nSouth End\\nBoston, MA 02118                                                1\n",
      "120 Faneuil Hall Marketplace\\nDowntown\\nBoston, MA 02228                                          1\n",
      "1270 Boylston St\\nFenway\\nBoston, MA 02215                                                        1\n",
      "723 Centre St\\nJamaica Plain\\nJamaica Plain, MA 02130                                             1\n",
      "85 Canal St\\nBoston, MA 02144                                                                     1\n",
      "495 Beacon St\\nBack Bay\\nBoston, MA 02115                                                         1\n",
      "221 Dudley Street\\nDudley Square\\nRoxbury, MA 02119                                               1\n",
      "1955 Beacon St\\nBrighton, MA 02135                                                                1\n",
      "75 Federal Street\\nFinancial District\\nBoston, MA 02110                                           1\n",
      "595 Commonwealth Ave\\n2nd Fl\\nBoston, MA 02215                                                    1\n",
      "658 Centre St\\nJamaica Plain\\nJamaica Plain, MA 02130                                             1\n",
      "1110 Boylston St\\nBoston, MA 02215                                                                1\n",
      "52 Gainsborough St\\nBoston, MA 02115                                                              1\n",
      "433 Washington St\\nBrighton, MA 02135                                                             1\n",
      "62 Boylston St\\nBack Bay\\nBoston, MA 02116                                                        1\n",
      "45 Gainsborough St\\nBoston, MA 02115                                                              1\n",
      "229 Brighton Ave\\nAllston/Brighton\\nBoston, MA 02228                                              1\n",
      "611 Dorchester Ave\\nSouth Boston\\nBoston, MA 02127                                                1\n",
      "480 Columbus Ave\\nSouth End\\nBoston, MA 02118                                                     1\n",
      "284 Amory St\\nJamaica Plain\\nJamaica Plain, MA 02130                                              1\n",
      "525 Washington St\\nBrighton, MA 02135                                                             1\n",
      "14A Westland Ave\\nBoston, MA 02115                                                                1\n",
      "Ames Hotel\\n1 Ct St\\nDowntown\\nBoston, MA 02108                                                   1\n",
      "414 W Broadway\\nSouth Boston\\nBoston, MA 02127                                                    1\n",
      "477 Shawmut Ave\\nSouth End\\nBoston, MA 02118                                                      1\n",
      "85 Bedford St\\nBoston, MA 02111                                                                   1\n",
      "280 Huntington Ave.\\nBoston, MA 02115                                                             1\n",
      "Name: full_address, dtype: int64\n",
      "\n",
      "city\n",
      "Boston               1386\n",
      "Allston               105\n",
      "Brighton               94\n",
      "Dorchester             80\n",
      "Jamaica Plain          71\n",
      "West Roxbury           38\n",
      "Roslindale             34\n",
      "Charlestown            29\n",
      "Roxbury                24\n",
      "East Boston            17\n",
      "Roxbury Crossing       12\n",
      "South Boston           12\n",
      "Dorchester Center      12\n",
      "Hyde Park               7\n",
      "Mattapan                5\n",
      "Chestnut Hill           2\n",
      "Mission Hill            1\n",
      "Cambridge               1\n",
      "Name: city, dtype: int64\n",
      "\n",
      "Alcohol\n",
      "none             750\n",
      "full_bar         625\n",
      "0                300\n",
      "beer_and_wine    255\n",
      "Name: Alcohol, dtype: int64\n",
      "\n",
      "Attire\n",
      "casual    1524\n",
      "0          319\n",
      "dressy      86\n",
      "formal       1\n",
      "Name: Attire, dtype: int64\n",
      "\n",
      "type\n",
      "business    1930\n",
      "Name: type, dtype: int64\n",
      "\n",
      "state\n",
      "MA    1930\n",
      "Name: state, dtype: int64\n",
      "\n",
      "business_id\n",
      "pNIj3erXkRiks86iiZYRHg    1\n",
      "0d1KH62BWiIQOalN2RQ69A    1\n",
      "73st8cJMOhaHDX_Z1jDg8g    1\n",
      "UBC5el6SsBbAnw4tIRXrpQ    1\n",
      "8dHsRdSZOcqbBjzRjSyeHQ    1\n",
      "0xvkZACuX_A2AxuT0ogoiQ    1\n",
      "KibO1gddNpKzPduJKPGQXA    1\n",
      "GYCRSBBNkanEAtUJlvO3qg    1\n",
      "mFwIsaKcgaF4i7gK9TzPMw    1\n",
      "MBeTiQcvjtGQ4Y1Ytsu2HQ    1\n",
      "XRqWRp6By2VMscC-s1FYRQ    1\n",
      "41MN7KtpS5fwXktQZHXbSg    1\n",
      "xVperK2epRvgKRiDMwuxFQ    1\n",
      "fwhsxvsvpKNfgX5omOxeRw    1\n",
      "kHRriet-nxcUnw2K8CeJnw    1\n",
      "gYhc_mDxk2zUdpAlFMsiQg    1\n",
      "mZdBHetTAzm1qq5XFinFNg    1\n",
      "MGp8f_l3OJolDeCHl41G1w    1\n",
      "alfHV-81Vo7Ira6Wecm-cQ    1\n",
      "4XfqrOQ2UCOTeTxNtqUpXA    1\n",
      "dWaKSQ0ldxG3SxLVZ_R_4A    1\n",
      "iqubgiDqYbdSbP7utF6AvA    1\n",
      "dtGIasvBH1BCONExdel82A    1\n",
      "Pf0x-IBHLeGKG4KyvcfEfA    1\n",
      "kP1oWndxlfNP1Co9L6577A    1\n",
      "ipoA0DYacS1gdtrmX5Y3Sg    1\n",
      "kOi5uJyXjQpRr53ll1-W1g    1\n",
      "lcz33DBpt5F3ZgHnaST22A    1\n",
      "Me_gPehkPj9iO1SNLF0Ycw    1\n",
      "KfnOYbgaz_SLBb1GS50H3g    1\n",
      "                         ..\n",
      "JD0nDtLucfhkb1C3xGDl9A    1\n",
      "peAzRMNYdZW8cL2cDYs2sw    1\n",
      "NHducBCtF5qnAUxj-EcZzQ    1\n",
      "1J_nO3AHh-xLThRAlhMcbg    1\n",
      "PMbMIX5gsVsdlDbn3afOyA    1\n",
      "7wQhheZPcC6OpcxLa4hdFQ    1\n",
      "FbzMDetaaZJxCaJ8s0AxZg    1\n",
      "LsB51VPkcEK-ZEhYsbNvwA    1\n",
      "gBKqBFKv37RRS7Y_Cp1RBw    1\n",
      "d6EcQ_zLp2vEgHriQTOmRg    1\n",
      "EWLnEPHowyn7-Cc5UotQ8A    1\n",
      "s1KXk0Dya4a86jE0OSTkug    1\n",
      "lPFlAg5x3zINQvOd1neaXg    1\n",
      "1TlReKO-_ArpQKfNll7dcg    1\n",
      "7sFcxaqbZOSAzH0yoFN82A    1\n",
      "ud32NXukTbB017Xw1b49DA    1\n",
      "cYxzlsSxbH3sxvmUb3-CUg    1\n",
      "YCGgZKEpbdtpC8jSPCuCRQ    1\n",
      "Jp9svt7sRT4zwdbzQ8KQmw    1\n",
      "ZkI8FRbUqRSP9RaRMsc-4A    1\n",
      "qenTgcDmv8EtvuerVIGc-A    1\n",
      "xx2dw2tUVh7kgLSbKLV1NA    1\n",
      "XwdoY4HpowSTHAp37YzhuQ    1\n",
      "VSitWuLlGrx1Gy1VMs1xBA    1\n",
      "s9QfbcJnTeHb0H2V7CIqxA    1\n",
      "Cfklt_XYr0rwHdEEQwBrrQ    1\n",
      "YaBk55sk1Ra_v_21EsveJQ    1\n",
      "TyazmhDw1bCuaxGheZ2Q9Q    1\n",
      "KjDD8mCPWbPRNL7uyQoTzQ    1\n",
      "M4qCjI8_jAUI2wQ2Jx05lQ    1\n",
      "Name: business_id, dtype: int64\n",
      "\n",
      "name\n",
      "Dunkin' Donuts                  38\n",
      "Starbucks                       28\n",
      "Au Bon Pain                     13\n",
      "Subway                          11\n",
      "Burger King                      8\n",
      "McDonald's                       8\n",
      "Boloco                           7\n",
      "Domino's Pizza                   7\n",
      "Bruegger's Bagels                6\n",
      "Cosi                             6\n",
      "Bertucci's                       5\n",
      "Qdoba Mexican Grill              5\n",
      "Sebastians Café & Catering       4\n",
      "B. Good                          4\n",
      "Rebecca's Cafe                   4\n",
      "Papa Gino's Pizzeria             4\n",
      "Upper Crust Pizzeria             4\n",
      "Emack & Bolio's                  4\n",
      "Cold Stone Creamery              4\n",
      "Wendy's                          4\n",
      "Panera Bread                     4\n",
      "Regina Pizzeria                  4\n",
      "Uno Pizzeria & Grill             3\n",
      "Taste of the Town                3\n",
      "Applebee's                       3\n",
      "Crazy Dough's Pizza              3\n",
      "Legal Sea Foods                  3\n",
      "Papa John's Pizza                3\n",
      "Boston Beer Works                3\n",
      "Pressed Sandwiches               3\n",
      "                                ..\n",
      "College Pizza                    1\n",
      "Blunch                           1\n",
      "Peach Farm                       1\n",
      "Tiernan's Pub & Restaurant       1\n",
      "The Warren Tavern                1\n",
      "Appleton Cafe                    1\n",
      "The Haven                        1\n",
      "Sweet Pepper                     1\n",
      "My Diner                         1\n",
      "West Garden                      1\n",
      "Restaurant Laura                 1\n",
      "Imperial Pizza                   1\n",
      "Dawat Fine Indian Cuisine        1\n",
      "Souper Salad of Center Plaza     1\n",
      "Taiwan Café                      1\n",
      "China Sky Restaurant             1\n",
      "Boston & Maine Fish              1\n",
      "Jacob Wirth                      1\n",
      "Trinity                          1\n",
      "Curtins Roadside Tavern          1\n",
      "Pavia Italian Cuisine            1\n",
      "Osaka Express                    1\n",
      "The Banshee                      1\n",
      "Green Field Churrascaria         1\n",
      "Floramo's Deli                   1\n",
      "Paradise Rock Club               1\n",
      "Joe V's                          1\n",
      "Anna's Taqueria                  1\n",
      "Minibar                          1\n",
      "Red Island Restaurant            1\n",
      "Name: name, dtype: int64\n",
      "\n"
     ]
    }
   ],
   "source": [
    "for col in othercols:\n",
    "    print(col)\n",
    "    print(bdata[col].value_counts())\n",
    "    print()"
   ]
  },
  {
   "cell_type": "code",
   "execution_count": 33,
   "metadata": {
    "collapsed": false
   },
   "outputs": [
    {
     "name": "stderr",
     "output_type": "stream",
     "text": [
      "//anaconda/lib/python3.5/site-packages/pandas/computation/expressions.py:181: UserWarning: evaluating in Python space because the '+' operator is not supported by numexpr for the bool dtype, use '|' instead\n",
      "  unsupported[op_str]))\n"
     ]
    }
   ],
   "source": [
    "bdata['fancy'] = (bdata.Attire == 'dressy') + (bdata.Attire == 'formal')\n",
    "bdata['alc'] = (bdata.Alcohol == 'full_bar') * 2 + (bdata.Alcohol == 'beer_and_wine') * 1\n",
    "alcmean = bdata['alc'][bdata['Alcohol'] != 0].mean()\n",
    "bdata['alc'] = bdata['alc']  + alcmean * (bdata['Alcohol'] == 0)\n",
    "onumcols = ['fancy','alc']\n",
    "cities = list(set(bdata.city.values.tolist()))\n",
    "for city in cities:\n",
    "    name = 'city_' + city\n",
    "    onumcols.append(name)\n",
    "    bdata[name] = bdata.city == city"
   ]
  },
  {
   "cell_type": "code",
   "execution_count": 34,
   "metadata": {
    "collapsed": false
   },
   "outputs": [],
   "source": [
    "all_numerical_columns = numcols[:]\n",
    "all_numerical_columns.extend(dictnumcols)\n",
    "all_numerical_columns.extend(snumcols)\n",
    "all_numerical_columns.extend(onumcols)"
   ]
  },
  {
   "cell_type": "code",
   "execution_count": 35,
   "metadata": {
    "collapsed": false
   },
   "outputs": [
    {
     "data": {
      "text/plain": [
       "(0, 100)"
      ]
     },
     "execution_count": 35,
     "metadata": {},
     "output_type": "execute_result"
    },
    {
     "data": {
      "image/png": "[encoded data removed]",
      "text/plain": [
       "<matplotlib.figure.Figure at 0x136347f28>"
      ]
     },
     "metadata": {},
     "output_type": "display_data"
    }
   ],
   "source": [
    "nonzeros = []\n",
    "good_numerical_columns = []\n",
    "for colname in all_numerical_columns:\n",
    "    nonzero = sum((bdata[colname] != 0))\n",
    "    nonzeros.append(nonzero)\n",
    "    if nonzero > 30:\n",
    "        good_numerical_columns.append(colname)\n",
    "plt.hist(nonzeros, bins = 500)\n",
    "plt.xlim([0,100])"
   ]
  },
  {
   "cell_type": "markdown",
   "metadata": {},
   "source": [
    "Most of these aren't too common; so I set a minimum of 50 establishments to prevent overfitting."
   ]
  },
  {
   "cell_type": "code",
   "execution_count": 36,
   "metadata": {
    "collapsed": false
   },
   "outputs": [
    {
     "data": {
      "text/plain": [
       "True"
      ]
     },
     "execution_count": 36,
     "metadata": {},
     "output_type": "execute_result"
    }
   ],
   "source": [
    "len(good_numerical_columns) == len(set(good_numerical_columns))"
   ]
  },
  {
   "cell_type": "markdown",
   "metadata": {},
   "source": [
    "No dupes! Now bool to numerical:"
   ]
  },
  {
   "cell_type": "code",
   "execution_count": 37,
   "metadata": {
    "collapsed": false
   },
   "outputs": [
    {
     "data": {
      "text/html": [
       "<div>\n",
       "<table border=\"1\" class=\"dataframe\">\n",
       "  <thead>\n",
       "    <tr style=\"text-align: right;\">\n",
       "      <th></th>\n",
       "      <th>Caters</th>\n",
       "      <th>review_count</th>\n",
       "      <th>Outdoor Seating</th>\n",
       "      <th>Has TV</th>\n",
       "      <th>Delivery</th>\n",
       "      <th>Coat Check</th>\n",
       "      <th>BYOB</th>\n",
       "      <th>stars</th>\n",
       "      <th>Takes Reservations</th>\n",
       "      <th>latitude</th>\n",
       "      <th>...</th>\n",
       "      <th>wifib</th>\n",
       "      <th>fancy</th>\n",
       "      <th>alc</th>\n",
       "      <th>city_Roslindale</th>\n",
       "      <th>city_Allston</th>\n",
       "      <th>city_Jamaica Plain</th>\n",
       "      <th>city_Brighton</th>\n",
       "      <th>city_Dorchester</th>\n",
       "      <th>city_Boston</th>\n",
       "      <th>city_West Roxbury</th>\n",
       "    </tr>\n",
       "  </thead>\n",
       "  <tbody>\n",
       "    <tr>\n",
       "      <th>0</th>\n",
       "      <td>0</td>\n",
       "      <td>6</td>\n",
       "      <td>0</td>\n",
       "      <td>0</td>\n",
       "      <td>0</td>\n",
       "      <td>0</td>\n",
       "      <td>1</td>\n",
       "      <td>3.5</td>\n",
       "      <td>0</td>\n",
       "      <td>42.355083</td>\n",
       "      <td>...</td>\n",
       "      <td>0</td>\n",
       "      <td>0</td>\n",
       "      <td>0.923313</td>\n",
       "      <td>0</td>\n",
       "      <td>0</td>\n",
       "      <td>0</td>\n",
       "      <td>0</td>\n",
       "      <td>0</td>\n",
       "      <td>1</td>\n",
       "      <td>0</td>\n",
       "    </tr>\n",
       "    <tr>\n",
       "      <th>1</th>\n",
       "      <td>1</td>\n",
       "      <td>44</td>\n",
       "      <td>0</td>\n",
       "      <td>0</td>\n",
       "      <td>0</td>\n",
       "      <td>0</td>\n",
       "      <td>1</td>\n",
       "      <td>4.0</td>\n",
       "      <td>0</td>\n",
       "      <td>42.357500</td>\n",
       "      <td>...</td>\n",
       "      <td>0</td>\n",
       "      <td>0</td>\n",
       "      <td>0.923313</td>\n",
       "      <td>0</td>\n",
       "      <td>0</td>\n",
       "      <td>0</td>\n",
       "      <td>0</td>\n",
       "      <td>0</td>\n",
       "      <td>1</td>\n",
       "      <td>0</td>\n",
       "    </tr>\n",
       "    <tr>\n",
       "      <th>2</th>\n",
       "      <td>1</td>\n",
       "      <td>12</td>\n",
       "      <td>0</td>\n",
       "      <td>0</td>\n",
       "      <td>1</td>\n",
       "      <td>0</td>\n",
       "      <td>1</td>\n",
       "      <td>3.0</td>\n",
       "      <td>0</td>\n",
       "      <td>42.360074</td>\n",
       "      <td>...</td>\n",
       "      <td>0</td>\n",
       "      <td>0</td>\n",
       "      <td>0.000000</td>\n",
       "      <td>0</td>\n",
       "      <td>0</td>\n",
       "      <td>0</td>\n",
       "      <td>0</td>\n",
       "      <td>0</td>\n",
       "      <td>1</td>\n",
       "      <td>0</td>\n",
       "    </tr>\n",
       "    <tr>\n",
       "      <th>3</th>\n",
       "      <td>1</td>\n",
       "      <td>60</td>\n",
       "      <td>0</td>\n",
       "      <td>0</td>\n",
       "      <td>0</td>\n",
       "      <td>0</td>\n",
       "      <td>1</td>\n",
       "      <td>3.5</td>\n",
       "      <td>0</td>\n",
       "      <td>42.358870</td>\n",
       "      <td>...</td>\n",
       "      <td>1</td>\n",
       "      <td>0</td>\n",
       "      <td>0.000000</td>\n",
       "      <td>0</td>\n",
       "      <td>0</td>\n",
       "      <td>0</td>\n",
       "      <td>0</td>\n",
       "      <td>0</td>\n",
       "      <td>1</td>\n",
       "      <td>0</td>\n",
       "    </tr>\n",
       "    <tr>\n",
       "      <th>4</th>\n",
       "      <td>0</td>\n",
       "      <td>111</td>\n",
       "      <td>0</td>\n",
       "      <td>0</td>\n",
       "      <td>0</td>\n",
       "      <td>0</td>\n",
       "      <td>1</td>\n",
       "      <td>3.5</td>\n",
       "      <td>1</td>\n",
       "      <td>42.357845</td>\n",
       "      <td>...</td>\n",
       "      <td>0</td>\n",
       "      <td>1</td>\n",
       "      <td>2.000000</td>\n",
       "      <td>0</td>\n",
       "      <td>0</td>\n",
       "      <td>0</td>\n",
       "      <td>0</td>\n",
       "      <td>0</td>\n",
       "      <td>1</td>\n",
       "      <td>0</td>\n",
       "    </tr>\n",
       "  </tbody>\n",
       "</table>\n",
       "<p>5 rows × 118 columns</p>\n",
       "</div>"
      ],
      "text/plain": [
       "  Caters  review_count Outdoor Seating Has TV Delivery Coat Check  BYOB  \\\n",
       "0      0             6               0      0        0          0     1   \n",
       "1      1            44               0      0        0          0     1   \n",
       "2      1            12               0      0        1          0     1   \n",
       "3      1            60               0      0        0          0     1   \n",
       "4      0           111               0      0        0          0     1   \n",
       "\n",
       "   stars Takes Reservations   latitude        ...        wifib fancy  \\\n",
       "0    3.5                  0  42.355083        ...            0     0   \n",
       "1    4.0                  0  42.357500        ...            0     0   \n",
       "2    3.0                  0  42.360074        ...            0     0   \n",
       "3    3.5                  0  42.358870        ...            1     0   \n",
       "4    3.5                  1  42.357845        ...            0     1   \n",
       "\n",
       "        alc city_Roslindale  city_Allston  city_Jamaica Plain  city_Brighton  \\\n",
       "0  0.923313               0             0                   0              0   \n",
       "1  0.923313               0             0                   0              0   \n",
       "2  0.000000               0             0                   0              0   \n",
       "3  0.000000               0             0                   0              0   \n",
       "4  2.000000               0             0                   0              0   \n",
       "\n",
       "  city_Dorchester city_Boston city_West Roxbury  \n",
       "0               0           1                 0  \n",
       "1               0           1                 0  \n",
       "2               0           1                 0  \n",
       "3               0           1                 0  \n",
       "4               0           1                 0  \n",
       "\n",
       "[5 rows x 118 columns]"
      ]
     },
     "execution_count": 37,
     "metadata": {},
     "output_type": "execute_result"
    }
   ],
   "source": [
    "for name in good_numerical_columns:\n",
    "    bdata[name] = bdata[name] + 0\n",
    "bdata[good_numerical_columns].head()"
   ]
  },
  {
   "cell_type": "code",
   "execution_count": 38,
   "metadata": {
    "collapsed": true
   },
   "outputs": [],
   "source": [
    "weekdays = ['Monday', 'Tuesday', 'Wednesday', 'Thursday', 'Friday']\n",
    "weekends = ['Saturday', 'Sunday']\n",
    "            \n",
    "def time_open(dataframe, mydays, prefix):\n",
    "    cols_summed = []\n",
    "    newname = prefix + '_time_open'\n",
    "    for i in range(len(mydays)):\n",
    "        day = mydays[i]\n",
    "        topen, tclose = day+ '_open', day+ '_close'\n",
    "        if (topen in dataframe.columns)*(tclose in dataframe.columns) == 1:\n",
    "            diff = dataframe[tclose] - dataframe[topen]\n",
    "            diff2 = diff + (diff < 0)*24\n",
    "            if i > 0:\n",
    "                dataframe[newname] = dataframe[newname] + diff2\n",
    "            else:\n",
    "                dataframe[newname] = diff2\n",
    "            cols_summed.extend([topen,tclose])\n",
    "    return cols_summed, newname\n",
    "\n",
    "weekdaycols, weekdaycol = time_open(bdata, weekdays, 'weekday')\n",
    "weekendcols, weekendcol = time_open(bdata, weekends, 'weekend')\n",
    "\n",
    "good_numerical_columns.extend([weekdaycol,weekendcol])\n",
    "todrop = weekdaycols[:]\n",
    "todrop.extend(weekendcols)\n",
    "for line in todrop:\n",
    "    while line in good_numerical_columns:\n",
    "        good_numerical_columns.remove(line)"
   ]
  },
  {
   "cell_type": "code",
   "execution_count": 39,
   "metadata": {
    "collapsed": false
   },
   "outputs": [
    {
     "data": {
      "text/html": [
       "<div>\n",
       "<table border=\"1\" class=\"dataframe\">\n",
       "  <thead>\n",
       "    <tr style=\"text-align: right;\">\n",
       "      <th></th>\n",
       "      <th>Caters</th>\n",
       "      <th>review_count</th>\n",
       "      <th>Outdoor Seating</th>\n",
       "      <th>Has TV</th>\n",
       "      <th>Delivery</th>\n",
       "      <th>Coat Check</th>\n",
       "      <th>BYOB</th>\n",
       "      <th>stars</th>\n",
       "      <th>Takes Reservations</th>\n",
       "      <th>latitude</th>\n",
       "      <th>...</th>\n",
       "      <th>alc</th>\n",
       "      <th>city_Roslindale</th>\n",
       "      <th>city_Allston</th>\n",
       "      <th>city_Jamaica Plain</th>\n",
       "      <th>city_Brighton</th>\n",
       "      <th>city_Dorchester</th>\n",
       "      <th>city_Boston</th>\n",
       "      <th>city_West Roxbury</th>\n",
       "      <th>weekday_time_open</th>\n",
       "      <th>weekend_time_open</th>\n",
       "    </tr>\n",
       "  </thead>\n",
       "  <tbody>\n",
       "    <tr>\n",
       "      <th>0</th>\n",
       "      <td>0</td>\n",
       "      <td>6</td>\n",
       "      <td>0</td>\n",
       "      <td>0</td>\n",
       "      <td>0</td>\n",
       "      <td>0</td>\n",
       "      <td>1</td>\n",
       "      <td>3.5</td>\n",
       "      <td>0</td>\n",
       "      <td>42.355083</td>\n",
       "      <td>...</td>\n",
       "      <td>0.923313</td>\n",
       "      <td>0</td>\n",
       "      <td>0</td>\n",
       "      <td>0</td>\n",
       "      <td>0</td>\n",
       "      <td>0</td>\n",
       "      <td>1</td>\n",
       "      <td>0</td>\n",
       "      <td>0.0</td>\n",
       "      <td>0.0</td>\n",
       "    </tr>\n",
       "    <tr>\n",
       "      <th>1</th>\n",
       "      <td>1</td>\n",
       "      <td>44</td>\n",
       "      <td>0</td>\n",
       "      <td>0</td>\n",
       "      <td>0</td>\n",
       "      <td>0</td>\n",
       "      <td>1</td>\n",
       "      <td>4.0</td>\n",
       "      <td>0</td>\n",
       "      <td>42.357500</td>\n",
       "      <td>...</td>\n",
       "      <td>0.923313</td>\n",
       "      <td>0</td>\n",
       "      <td>0</td>\n",
       "      <td>0</td>\n",
       "      <td>0</td>\n",
       "      <td>0</td>\n",
       "      <td>1</td>\n",
       "      <td>0</td>\n",
       "      <td>45.0</td>\n",
       "      <td>0.0</td>\n",
       "    </tr>\n",
       "    <tr>\n",
       "      <th>2</th>\n",
       "      <td>1</td>\n",
       "      <td>12</td>\n",
       "      <td>0</td>\n",
       "      <td>0</td>\n",
       "      <td>1</td>\n",
       "      <td>0</td>\n",
       "      <td>1</td>\n",
       "      <td>3.0</td>\n",
       "      <td>0</td>\n",
       "      <td>42.360074</td>\n",
       "      <td>...</td>\n",
       "      <td>0.000000</td>\n",
       "      <td>0</td>\n",
       "      <td>0</td>\n",
       "      <td>0</td>\n",
       "      <td>0</td>\n",
       "      <td>0</td>\n",
       "      <td>1</td>\n",
       "      <td>0</td>\n",
       "      <td>52.5</td>\n",
       "      <td>0.0</td>\n",
       "    </tr>\n",
       "    <tr>\n",
       "      <th>3</th>\n",
       "      <td>1</td>\n",
       "      <td>60</td>\n",
       "      <td>0</td>\n",
       "      <td>0</td>\n",
       "      <td>0</td>\n",
       "      <td>0</td>\n",
       "      <td>1</td>\n",
       "      <td>3.5</td>\n",
       "      <td>0</td>\n",
       "      <td>42.358870</td>\n",
       "      <td>...</td>\n",
       "      <td>0.000000</td>\n",
       "      <td>0</td>\n",
       "      <td>0</td>\n",
       "      <td>0</td>\n",
       "      <td>0</td>\n",
       "      <td>0</td>\n",
       "      <td>1</td>\n",
       "      <td>0</td>\n",
       "      <td>65.0</td>\n",
       "      <td>6.0</td>\n",
       "    </tr>\n",
       "    <tr>\n",
       "      <th>4</th>\n",
       "      <td>0</td>\n",
       "      <td>111</td>\n",
       "      <td>0</td>\n",
       "      <td>0</td>\n",
       "      <td>0</td>\n",
       "      <td>0</td>\n",
       "      <td>1</td>\n",
       "      <td>3.5</td>\n",
       "      <td>1</td>\n",
       "      <td>42.357845</td>\n",
       "      <td>...</td>\n",
       "      <td>2.000000</td>\n",
       "      <td>0</td>\n",
       "      <td>0</td>\n",
       "      <td>0</td>\n",
       "      <td>0</td>\n",
       "      <td>0</td>\n",
       "      <td>1</td>\n",
       "      <td>0</td>\n",
       "      <td>77.5</td>\n",
       "      <td>30.0</td>\n",
       "    </tr>\n",
       "  </tbody>\n",
       "</table>\n",
       "<p>5 rows × 106 columns</p>\n",
       "</div>"
      ],
      "text/plain": [
       "  Caters  review_count Outdoor Seating Has TV Delivery Coat Check  BYOB  \\\n",
       "0      0             6               0      0        0          0     1   \n",
       "1      1            44               0      0        0          0     1   \n",
       "2      1            12               0      0        1          0     1   \n",
       "3      1            60               0      0        0          0     1   \n",
       "4      0           111               0      0        0          0     1   \n",
       "\n",
       "   stars Takes Reservations   latitude        ...              alc  \\\n",
       "0    3.5                  0  42.355083        ...         0.923313   \n",
       "1    4.0                  0  42.357500        ...         0.923313   \n",
       "2    3.0                  0  42.360074        ...         0.000000   \n",
       "3    3.5                  0  42.358870        ...         0.000000   \n",
       "4    3.5                  1  42.357845        ...         2.000000   \n",
       "\n",
       "  city_Roslindale city_Allston city_Jamaica Plain  city_Brighton  \\\n",
       "0               0            0                  0              0   \n",
       "1               0            0                  0              0   \n",
       "2               0            0                  0              0   \n",
       "3               0            0                  0              0   \n",
       "4               0            0                  0              0   \n",
       "\n",
       "   city_Dorchester  city_Boston city_West Roxbury weekday_time_open  \\\n",
       "0                0            1                 0               0.0   \n",
       "1                0            1                 0              45.0   \n",
       "2                0            1                 0              52.5   \n",
       "3                0            1                 0              65.0   \n",
       "4                0            1                 0              77.5   \n",
       "\n",
       "  weekend_time_open  \n",
       "0               0.0  \n",
       "1               0.0  \n",
       "2               0.0  \n",
       "3               6.0  \n",
       "4              30.0  \n",
       "\n",
       "[5 rows x 106 columns]"
      ]
     },
     "execution_count": 39,
     "metadata": {},
     "output_type": "execute_result"
    }
   ],
   "source": [
    "bdata[good_numerical_columns].head()"
   ]
  },
  {
   "cell_type": "code",
   "execution_count": 40,
   "metadata": {
    "collapsed": false
   },
   "outputs": [],
   "source": [
    "for name in ['lat','long','latitude','longitude']:\n",
    "    while name in good_numerical_columns:\n",
    "        good_numerical_columns.remove(name)\n",
    "        \n",
    "toget = ['business_id']\n",
    "toget.extend(good_numerical_columns)\n",
    "\n",
    "junk = []\n",
    "\n",
    "othervalsdict = {}\n",
    "biglist = bdata[toget].values.tolist()\n",
    "for line in biglist:\n",
    "    othervalsdict[line[0]] = line[1:]\n",
    "    junk.append(line[1:])"
   ]
  },
  {
   "cell_type": "code",
   "execution_count": 41,
   "metadata": {
    "collapsed": false,
    "scrolled": true
   },
   "outputs": [
    {
     "name": "stderr",
     "output_type": "stream",
     "text": [
      "//anaconda/lib/python3.5/site-packages/ipykernel/__main__.py:13: SettingWithCopyWarning: \n",
      "A value is trying to be set on a copy of a slice from a DataFrame.\n",
      "Try using .loc[row_indexer,col_indexer] = value instead\n",
      "\n",
      "See the caveats in the documentation: http://pandas.pydata.org/pandas-docs/stable/indexing.html#indexing-view-versus-copy\n",
      "//anaconda/lib/python3.5/site-packages/ipykernel/__main__.py:14: SettingWithCopyWarning: \n",
      "A value is trying to be set on a copy of a slice from a DataFrame.\n",
      "Try using .loc[row_indexer,col_indexer] = value instead\n",
      "\n",
      "See the caveats in the documentation: http://pandas.pydata.org/pandas-docs/stable/indexing.html#indexing-view-versus-copy\n"
     ]
    }
   ],
   "source": [
    "boston_centroid = [(cll.lat.mean() + bdata.latitude.mean())/2,(cll.long.mean() + bdata.longitude.mean())/2]\n",
    "# arithmetic mean of lats and longs of criminal activity and restaurants\n",
    "# at this latitude, 111 km per degree lat, 82 km per degree long for small delta\n",
    "# approximation for quick computation\n",
    "# converting lat longs to centroid here\n",
    "\n",
    "\n",
    "def boston_xy(dataframe):\n",
    "    if 'lat' in dataframe.columns:\n",
    "        lat, long = 'lat', 'long'\n",
    "    elif 'latitude' in dataframe.columns:\n",
    "        lat, long = 'latitude', 'longitude'\n",
    "    dataframe['y'] = (dataframe[lat] - boston_centroid[0])*111\n",
    "    dataframe['x'] = (dataframe[long] - boston_centroid[1])*82\n",
    "# cll['y'] = (cll.lats - boston_centroid[0])*111\n",
    "# cll['x'] = (cll.longs - boston_centroid[1])*82\n",
    "boston_xy(cll)\n",
    "boston_xy(bdata)\n",
    "cxy = cll[['x','y']]\n"
   ]
  },
  {
   "cell_type": "code",
   "execution_count": 42,
   "metadata": {
    "collapsed": false
   },
   "outputs": [
    {
     "name": "stdout",
     "output_type": "stream",
     "text": [
      "61.548299074172974\n"
     ]
    }
   ],
   "source": [
    "cxy_sub = cxy.sample(n = 1000)# for speed\n",
    "def get_close_boston(myx, myy, thresh, data, ltype = 'euclidean'):\n",
    "    if ltype == 'euclidean':\n",
    "        dists = np.square(myy - data.y) + np.square(myx - data.x)\n",
    "    if ltype == 'manhattan':\n",
    "        dists = myy - data.y + myx - data.x\n",
    "    return sum(dists < thresh)/len(data)\n",
    "\n",
    "bizlatlong = bdata[['business_id','x','y']]\n",
    "bizxy = bizlatlong.values.tolist()\n",
    "nearstuff = {}\n",
    "t0 = time.time()\n",
    "for line in bizxy:\n",
    "    nearstuff[line[0]] = [line[1], line[2], get_close_boston(line[1], line[2], 2, cxy_sub),\n",
    "                          get_close_boston(line[1], line[2], 1, cxy_sub),\n",
    "                          get_close_boston(line[1], line[2], 0.5, cxy_sub),\n",
    "                          get_close_boston(line[1], line[2], 0.25, cxy_sub),\n",
    "                          get_close_boston(line[1], line[2], 0.1, cxy_sub),\n",
    "                          get_close_boston(line[1], line[2], 2, bizlatlong), \n",
    "                          get_close_boston(line[1], line[2], 1, bizlatlong),\n",
    "                          get_close_boston(line[1], line[2], .5, bizlatlong), \n",
    "                          get_close_boston(line[1], line[2], .25, bizlatlong), \n",
    "                          get_close_boston(line[1], line[2], .1, bizlatlong)]\n",
    "print(time.time()-t0)"
   ]
  },
  {
   "cell_type": "code",
   "execution_count": 43,
   "metadata": {
    "collapsed": true
   },
   "outputs": [],
   "source": [
    "biznames = bdata[['name','business_id']].values.tolist()\n",
    "namewords = []\n",
    "for i in range(len(biznames)):\n",
    "    linewords = biznames[i][0].split()\n",
    "    namewords.extend(linewords)\n",
    "    biznames[i].append(linewords)\n",
    "# biznames[0]#.lower()\n",
    "namewords = list(set(namewords))\n",
    "freqdict = {}\n",
    "for word in namewords:\n",
    "    counter = 0\n",
    "    for line in biznames:\n",
    "        counter = counter + (word in line[2])\n",
    "    freqdict[word] = counter\n",
    "        "
   ]
  },
  {
   "cell_type": "code",
   "execution_count": 44,
   "metadata": {
    "collapsed": false
   },
   "outputs": [
    {
     "data": {
      "text/plain": [
       "0.2879396984924623"
      ]
     },
     "execution_count": 44,
     "metadata": {},
     "output_type": "execute_result"
    }
   ],
   "source": [
    "recurring = []\n",
    "for key in freqdict.keys():\n",
    "    if freqdict[key] > 1:\n",
    "        recurring.append(key)\n",
    "len(recurring)/len(freqdict.keys())"
   ]
  },
  {
   "cell_type": "markdown",
   "metadata": {},
   "source": [
    "71% of words that occur in restaurant names only do so once"
   ]
  },
  {
   "cell_type": "code",
   "execution_count": 45,
   "metadata": {
    "collapsed": false
   },
   "outputs": [],
   "source": [
    "killdict = {}\n",
    "for line in biznames:\n",
    "    tokill = []\n",
    "    for word in line[2]:\n",
    "        if word not in recurring:\n",
    "            tokill.append(word)\n",
    "    killdict[line[1]] = tokill"
   ]
  },
  {
   "cell_type": "code",
   "execution_count": 46,
   "metadata": {
    "collapsed": false
   },
   "outputs": [
    {
     "data": {
      "text/plain": [
       "1584"
      ]
     },
     "execution_count": 46,
     "metadata": {},
     "output_type": "execute_result"
    }
   ],
   "source": [
    "rbiz = set(rdata.business_id.unique())\n",
    "tbiz = set(tdata.business_id.unique())\n",
    "biz = rbiz.intersection(tbiz)\n",
    "biz = list(biz.intersection(set(id_dict.keys())))\n",
    "len(biz)"
   ]
  },
  {
   "cell_type": "code",
   "execution_count": 47,
   "metadata": {
    "collapsed": false
   },
   "outputs": [],
   "source": [
    "name_ids = {}\n",
    "for line in biznames:\n",
    "    name_ids[line[1]] = line[0]\n",
    "    if line[1] in id_dict.keys():\n",
    "        name_ids[id_dict[line[1]]] = line[0]"
   ]
  },
  {
   "cell_type": "code",
   "execution_count": 48,
   "metadata": {
    "collapsed": false
   },
   "outputs": [],
   "source": [
    "def restname(restid):\n",
    "    return name_ids[restid]\n",
    "\n",
    "dateparse(violations, 'date')\n",
    "    \n",
    "violations['name'] = violations.restaurant_id.apply(restname,0)\n",
    "violations_recent = violations[violations.year > 2014]\n",
    "violations_recent = violations_recent[violations_recent.month > 5]\n"
   ]
  },
  {
   "cell_type": "markdown",
   "metadata": {},
   "source": [
    "Matched these to actual; found the meaning of each category:\n",
    "one asterisk = non critical violation\n",
    "two = critical violation\n",
    "three = critical violation with foodborne illness"
   ]
  },
  {
   "cell_type": "code",
   "execution_count": 49,
   "metadata": {
    "collapsed": false
   },
   "outputs": [
    {
     "data": {
      "text/plain": [
       "0.78864072937870922"
      ]
     },
     "execution_count": 49,
     "metadata": {},
     "output_type": "execute_result"
    }
   ],
   "source": [
    "sum(violations['*'] > 0)/len(violations)"
   ]
  },
  {
   "cell_type": "code",
   "execution_count": 50,
   "metadata": {
    "collapsed": true
   },
   "outputs": [],
   "source": [
    "def splitfilter(textlist,badwords):\n",
    "    badwords_lower = []\n",
    "    for badword in badwords:\n",
    "        badwords_lower.append(badword.lower())\n",
    "    goodtextlist = []    \n",
    "    for line in textlist:\n",
    "#         print(line)\n",
    "        words = line[0][0].split()\n",
    "        goodtext = ''\n",
    "#         print(words)\n",
    "        for word in words:\n",
    "            if word.lower() not in badwords_lower:\n",
    "                goodtext = goodtext + word + ' '\n",
    "        goodtextlist.append(goodtext)\n",
    "    return goodtextlist\n",
    "                \n",
    "            \n",
    "        "
   ]
  },
  {
   "cell_type": "code",
   "execution_count": 51,
   "metadata": {
    "collapsed": false
   },
   "outputs": [],
   "source": [
    "def filtered_text(row):\n",
    "    badwords_lower = []\n",
    "    for word in killdict[row['business_id']]:\n",
    "        badwords_lower.append(word)\n",
    "    words = row['text'].split()\n",
    "    outtext = ''\n",
    "    for word in words:\n",
    "        if word.lower() not in badwords_lower:\n",
    "            outtext = outtext + word + ' '\n",
    "    return outtext\n",
    "\n",
    "rdata['filtered_text'] = rdata.apply(filtered_text, axis = 1)\n",
    "tdata['filtered_text'] = rdata.apply(filtered_text, axis = 1)"
   ]
  },
  {
   "cell_type": "code",
   "execution_count": 52,
   "metadata": {
    "collapsed": false
   },
   "outputs": [],
   "source": [
    "def dupeu(row):\n",
    "    return ((row['filtered_text'] + '\\n') * (row['useful'] + 1))[:-1]\n",
    "def dupel(row):\n",
    "    return ((row['filtered_text'] + '\\n') * (row['likes'] + 1))[:-1]\n",
    "rdata['filtered_text_dupe'] = rdata.apply(dupeu, axis = 1)\n",
    "tdata['filtered_text_dupe'] = tdata.apply(dupel, axis = 1)\n"
   ]
  },
  {
   "cell_type": "code",
   "execution_count": 53,
   "metadata": {
    "collapsed": false
   },
   "outputs": [
    {
     "name": "stdout",
     "output_type": "stream",
     "text": [
      "reviews: 2.0172876154804165\n",
      "tips: 1.0054608693539175\n"
     ]
    }
   ],
   "source": [
    "allr = '\\n'.join(rdata.filtered_text.values.tolist())[:-1]\n",
    "allr2 = '\\n'.join(rdata.filtered_text_dupe.values.tolist())[:-1]\n",
    "print('reviews: ' + str(len(allr2)/len(allr)))\n",
    "\n",
    "allt = '\\n'.join(tdata.filtered_text.values.tolist())[:-1]\n",
    "allt2 = '\\n'.join(tdata.filtered_text_dupe.values.tolist())[:-1]\n",
    "print('tips: ' + str(len(allt2)/len(allt)))"
   ]
  },
  {
   "cell_type": "markdown",
   "metadata": {},
   "source": [
    "doubles the list length for reviews, slight increase for tips"
   ]
  },
  {
   "cell_type": "code",
   "execution_count": 54,
   "metadata": {
    "collapsed": true
   },
   "outputs": [],
   "source": [
    "def skipjoin(mylist,splitstr):\n",
    "    out = ''\n",
    "    for entry in mylist:\n",
    "        if type(entry) == str:\n",
    "            out = out + entry + splitstr\n",
    "        elif type(entry) == list:\n",
    "            if len(entry) > 0:\n",
    "                if type(entry[0]) == str:\n",
    "                    out = out + entry[0] + splitstr\n",
    "    return out"
   ]
  },
  {
   "cell_type": "code",
   "execution_count": 55,
   "metadata": {
    "collapsed": false
   },
   "outputs": [],
   "source": [
    "def monthguess(decdate):\n",
    "    return int((decdate - int(decdate))*12) + 1\n",
    "# ascending temperature order\n",
    "# fall above spring reflecting that average of spring --> fall greater than fall -->spring\n",
    "def getseason(monthint):\n",
    "    if monthint in [12,1,2]:\n",
    "        return 0\n",
    "    elif monthint in [3,4,5]:\n",
    "        return 1\n",
    "    elif monthint in [6,7,8]:\n",
    "        return 3\n",
    "    elif monthint in [9,10,11]:\n",
    "        return 2"
   ]
  },
  {
   "cell_type": "code",
   "execution_count": 56,
   "metadata": {
    "collapsed": true
   },
   "outputs": [],
   "source": [
    "def getcol(mylol,colnum):\n",
    "    out = []\n",
    "    for line in mylol:\n",
    "        if type(line) == list:\n",
    "            if len(line) > 1:\n",
    "                if type(line[colnum]) in [float, int]:\n",
    "                    out.append(line[colnum])\n",
    "    return out\n",
    "\n",
    "def ratingstuff(starvals):\n",
    "    L = len(starvals)\n",
    "    ratingpcts = []\n",
    "    for starval in uniquestars:\n",
    "        ratingpcts.append(starvals.count(starval)/L)\n",
    "    ratingpcts.append(sum(starvals)/L)\n",
    "    return ratingpcts"
   ]
  },
  {
   "cell_type": "code",
   "execution_count": 57,
   "metadata": {
    "collapsed": false
   },
   "outputs": [
    {
     "data": {
      "text/plain": [
       "[1, 2, 3, 4, 5]"
      ]
     },
     "execution_count": 57,
     "metadata": {},
     "output_type": "execute_result"
    }
   ],
   "source": [
    "uniquestars = sorted(list(rdata.stars.unique()))\n",
    "uniquestars"
   ]
  },
  {
   "cell_type": "code",
   "execution_count": 58,
   "metadata": {
    "collapsed": false
   },
   "outputs": [
    {
     "name": "stdout",
     "output_type": "stream",
     "text": [
      "721.5450220108032\n"
     ]
    }
   ],
   "source": [
    "singledoc, multidoc, targetvals = [], [], []\n",
    "\n",
    "t0 = time.time()\n",
    "\n",
    "windows, befores, allbefores, alldocs = [], [], [], []\n",
    "total_inspections = 0\n",
    "rblens, rwlens = [],[]\n",
    "for entry in biz:\n",
    "    rb = rdata[rdata.business_id == entry]\n",
    "    tb = tdata[tdata.business_id == entry]\n",
    "    targs = valsdict[id_dict[entry]]\n",
    "    xycrimebiz = nearstuff[entry]\n",
    "    pairs = []\n",
    "    badwords_lower = []\n",
    "    othervalstuff = othervalsdict[entry]\n",
    "    atext = rb[['filtered_text_dupe','decyear','stars']].values.tolist()\n",
    "    aratingpcts = ratingstuff(getcol(atext,2))\n",
    "    atext.append(tb[['filtered_text_dupe','decyear']].values.tolist())\n",
    "    random.shuffle(atext)\n",
    "    outa = [skipjoin(atext,'\\n\\n\\n')]\n",
    "    outa.append(entry)\n",
    "    outa.extend(xycrimebiz)\n",
    "    outa.extend(othervalstuff)\n",
    "    outa.extend(aratingpcts)\n",
    "    outa.extend([len(rb), len(tb)])\n",
    "    alldocs.append(outa)\n",
    "#     outa.extend(targs[i][2:])\n",
    "    for word in killdict[entry]:\n",
    "        badwords_lower.append(word.lower())\n",
    "    for i in range(len(targs)):\n",
    "        total_inspections = total_inspections + 1\n",
    "        end = targs[i][1]\n",
    "        startb = end - 0.3333# found median about .31, mean about .36; 4 months is convenient\n",
    "        startw = startb\n",
    "\n",
    "        if i > 0:\n",
    "            startw = max([startb, targs[i-1][1]])\n",
    "        rbe = rb[rb.decyear < end]\n",
    "        tbe = tb[tb.decyear < end]\n",
    "        rbw = rbe[rbe.decyear > startw]\n",
    "        tbw = tbe[tbe.decyear > startw]\n",
    "        rbb = rbe[rbe.decyear > startb]\n",
    "        tbb = tbe[tbe.decyear > startb]\n",
    "        season_end = getseason(monthguess(end))\n",
    "#         season_avgw = season_end + getseason(monthguess(startw))/2\n",
    "        if len(rbw) > 0:\n",
    "            if len(rbb) > 0:\n",
    "                abtext = rbe[['filtered_text_dupe','decyear','stars']].values.tolist()\n",
    "                abratingpcts = ratingstuff(getcol(abtext,2))\n",
    "                abtext.append(tbe[['filtered_text_dupe','decyear']].values.tolist())\n",
    "                abtimerange = end - min(getcol(abtext,1))\n",
    "                abtimemean = end - sum(getcol(abtext,1))/len(getcol(abtext,1))\n",
    "                btext = rbb[['filtered_text_dupe','decyear','stars']].values.tolist()\n",
    "                bratingpcts = ratingstuff(getcol(btext,2))\n",
    "                btext.append(tbb[['filtered_text_dupe','decyear']].values.tolist())\n",
    "                btimerange = end - min(getcol(btext,1))\n",
    "                btimemean = end - sum(getcol(btext,1))/len(getcol(btext,1))\n",
    "                wtext = rbw[['filtered_text_dupe','decyear','stars']].values.tolist()\n",
    "                wratingpcts = ratingstuff(getcol(wtext,2))\n",
    "                wtext.append(tbw[['filtered_text_dupe','decyear']].values.tolist())\n",
    "                wtimerange = end - min(getcol(wtext,1))\n",
    "                wtimemean = end - sum(getcol(wtext,1))/len(getcol(wtext,1))\n",
    "                random.shuffle(abtext)\n",
    "                random.shuffle(btext)\n",
    "                random.shuffle(wtext)\n",
    "                \n",
    "                outb = [skipjoin(btext,'\\n\\n\\n')]\n",
    "                outb.append(entry)\n",
    "                outb.extend(xycrimebiz)\n",
    "                outb.append(season_end)\n",
    "                outb.extend(othervalstuff)\n",
    "                outb.extend(bratingpcts)\n",
    "                outb.extend([len(rbb), len(tbb), btimerange, btimemean])\n",
    "                outb.extend(targs[i][2:])\n",
    "                befores.append(outb)\n",
    "                \n",
    "                outab = [skipjoin(abtext,'\\n\\n\\n')]\n",
    "                outab.append(entry)\n",
    "                outab.extend(xycrimebiz)\n",
    "                outab.append(season_end)\n",
    "                outab.extend(othervalstuff)\n",
    "                outab.extend(abratingpcts)\n",
    "                outab.extend([len(rbe), len(tbe), abtimerange, abtimemean])\n",
    "                outab.extend(targs[i][2:])\n",
    "                allbefores.append(outb)\n",
    "                \n",
    "                \n",
    "                outw = [skipjoin(wtext,'\\n\\n\\n')]\n",
    "                outw.append(entry)\n",
    "                outw.extend(xycrimebiz)\n",
    "                outw.append(season_end)\n",
    "                outw.extend(othervalstuff)\n",
    "                outw.extend(wratingpcts)\n",
    "                outw.extend([len(rbw), len(tbw), wtimerange, wtimemean])\n",
    "                outw.extend(targs[i][2:])\n",
    "                windows.append(outw)\n",
    "print(time.time() - t0)"
   ]
  },
  {
   "cell_type": "code",
   "execution_count": 59,
   "metadata": {
    "collapsed": false
   },
   "outputs": [
    {
     "data": {
      "text/plain": [
       "6"
      ]
     },
     "execution_count": 59,
     "metadata": {},
     "output_type": "execute_result"
    }
   ],
   "source": [
    "len(windows[0]) - len(alldocs[0])"
   ]
  },
  {
   "cell_type": "code",
   "execution_count": 60,
   "metadata": {
    "collapsed": false
   },
   "outputs": [
    {
     "data": {
      "text/plain": [
       "['text',\n",
       " 'restaurant_id',\n",
       " 'x',\n",
       " 'y',\n",
       " 'crimes_2_km',\n",
       " 'crimes_1_km',\n",
       " 'crimes_500_m',\n",
       " 'crimes_250_m',\n",
       " 'crimes_100_m',\n",
       " 'restaurants_2_km',\n",
       " 'restaurants_1_km',\n",
       " 'restaurants_500_m',\n",
       " 'restaurants_250_m',\n",
       " 'restaurants_100_m',\n",
       " 'season',\n",
       " 'Caters',\n",
       " 'review_count',\n",
       " 'Outdoor Seating',\n",
       " 'Has TV',\n",
       " 'Delivery',\n",
       " 'Coat Check',\n",
       " 'BYOB',\n",
       " 'stars',\n",
       " 'Takes Reservations',\n",
       " 'Wheelchair Accessible',\n",
       " 'Good For Dancing',\n",
       " 'Good For Kids',\n",
       " 'Happy Hour',\n",
       " 'Corkage',\n",
       " 'Price Range',\n",
       " 'open',\n",
       " 'Take-out',\n",
       " 'Waiter Service',\n",
       " 'Order at Counter',\n",
       " 'Good For Groups',\n",
       " 'Parking_garage',\n",
       " 'Parking_lot',\n",
       " 'Parking_validated',\n",
       " 'Parking_valet',\n",
       " 'Parking_street',\n",
       " 'Dietary Restrictions_vegetarian',\n",
       " 'Music_jukebox',\n",
       " 'Music_background_music',\n",
       " 'Music_live',\n",
       " 'Music_dj',\n",
       " 'categories_Arts & Entertainment',\n",
       " 'categories_Pubs',\n",
       " 'categories_French',\n",
       " 'categories_Thai',\n",
       " 'categories_Latin American',\n",
       " 'categories_Food',\n",
       " 'categories_Bars',\n",
       " 'categories_Sports Bars',\n",
       " 'categories_Pizza',\n",
       " 'categories_Restaurants',\n",
       " 'categories_Breakfast & Brunch',\n",
       " 'categories_Nightlife',\n",
       " 'categories_Event Planning & Services',\n",
       " 'categories_Ice Cream & Frozen Yogurt',\n",
       " 'categories_Lounges',\n",
       " 'categories_Salad',\n",
       " 'categories_Chinese',\n",
       " 'categories_Sushi Bars',\n",
       " 'categories_American (Traditional)',\n",
       " 'categories_Mexican',\n",
       " 'categories_Donuts',\n",
       " 'categories_Coffee & Tea',\n",
       " 'categories_Delis',\n",
       " 'categories_Bakeries',\n",
       " 'categories_Sandwiches',\n",
       " 'categories_Music Venues',\n",
       " 'categories_Italian',\n",
       " 'categories_Seafood',\n",
       " 'categories_Burgers',\n",
       " 'categories_Japanese',\n",
       " 'categories_Fast Food',\n",
       " 'categories_American (New)',\n",
       " 'Good For_lunch',\n",
       " 'Good For_dinner',\n",
       " 'Good For_brunch',\n",
       " 'Good For_latenight',\n",
       " 'Good For_breakfast',\n",
       " 'neighborhoods_Roslindale',\n",
       " 'neighborhoods_South End',\n",
       " 'neighborhoods_Back Bay',\n",
       " 'neighborhoods_West Roxbury',\n",
       " 'neighborhoods_Downtown',\n",
       " 'neighborhoods_Allston/Brighton',\n",
       " 'neighborhoods_Charlestown',\n",
       " 'neighborhoods_Beacon Hill',\n",
       " 'neighborhoods_South Boston',\n",
       " 'neighborhoods_Jamaica Plain',\n",
       " 'neighborhoods_Chinatown',\n",
       " 'neighborhoods_Financial District',\n",
       " 'neighborhoods_East Boston',\n",
       " 'neighborhoods_Dorchester',\n",
       " 'neighborhoods_Waterfront',\n",
       " 'neighborhoods_Fenway',\n",
       " 'neighborhoods_North End',\n",
       " 'Ambience_romantic',\n",
       " 'Ambience_classy',\n",
       " 'Ambience_casual',\n",
       " 'Ambience_intimate',\n",
       " 'Ambience_trendy',\n",
       " 'Ambience_divey',\n",
       " 'Noise',\n",
       " 'Smokingb',\n",
       " 'wifib',\n",
       " 'fancy',\n",
       " 'alc',\n",
       " 'city_Roslindale',\n",
       " 'city_Allston',\n",
       " 'city_Jamaica Plain',\n",
       " 'city_Brighton',\n",
       " 'city_Dorchester',\n",
       " 'city_Boston',\n",
       " 'city_West Roxbury',\n",
       " 'weekday_time_open',\n",
       " 'weekend_time_open',\n",
       " 1,\n",
       " 2,\n",
       " 3,\n",
       " 4,\n",
       " 5,\n",
       " 'average',\n",
       " 'num_revs',\n",
       " 'num_tips',\n",
       " 'time_range',\n",
       " 'mean_time_before_inspection',\n",
       " '*',\n",
       " '**',\n",
       " '***']"
      ]
     },
     "execution_count": 60,
     "metadata": {},
     "output_type": "execute_result"
    }
   ],
   "source": [
    "colnames = ['text', 'restaurant_id','x','y','crimes_2_km', 'crimes_1_km', 'crimes_500_m', 'crimes_250_m', 'crimes_100_m',\n",
    "            'restaurants_2_km', 'restaurants_1_km', 'restaurants_500_m', 'restaurants_250_m', 'restaurants_100_m', 'season']\n",
    "colnames.extend(good_numerical_columns)\n",
    "colnames.extend(uniquestars)\n",
    "colnames.extend(['average','num_revs', 'num_tips', 'time_range', 'mean_time_before_inspection','*','**','***'])\n",
    "colnames"
   ]
  },
  {
   "cell_type": "code",
   "execution_count": 61,
   "metadata": {
    "collapsed": true
   },
   "outputs": [],
   "source": [
    "# timeless_data is different from data_timeless defined later\n",
    "# former is only columns that are constant, latter has data defined for whole set like\n",
    "timeless_colnames = colnames[:-3]\n",
    "toremove_tc = ['time_range','mean_time_before_inspection','season']\n",
    "for line in toremove_tc:\n",
    "    timeless_colnames.remove(line)"
   ]
  },
  {
   "cell_type": "code",
   "execution_count": 62,
   "metadata": {
    "collapsed": false
   },
   "outputs": [
    {
     "data": {
      "text/html": [
       "<div>\n",
       "<table border=\"1\" class=\"dataframe\">\n",
       "  <thead>\n",
       "    <tr style=\"text-align: right;\">\n",
       "      <th></th>\n",
       "      <th>text</th>\n",
       "      <th>restaurant_id</th>\n",
       "      <th>x</th>\n",
       "      <th>y</th>\n",
       "      <th>crimes_2_km</th>\n",
       "      <th>crimes_1_km</th>\n",
       "      <th>crimes_500_m</th>\n",
       "      <th>crimes_250_m</th>\n",
       "      <th>crimes_100_m</th>\n",
       "      <th>restaurants_2_km</th>\n",
       "      <th>...</th>\n",
       "      <th>4</th>\n",
       "      <th>5</th>\n",
       "      <th>average</th>\n",
       "      <th>num_revs</th>\n",
       "      <th>num_tips</th>\n",
       "      <th>time_range</th>\n",
       "      <th>mean_time_before_inspection</th>\n",
       "      <th>*</th>\n",
       "      <th>**</th>\n",
       "      <th>***</th>\n",
       "    </tr>\n",
       "  </thead>\n",
       "  <tbody>\n",
       "    <tr>\n",
       "      <th>0</th>\n",
       "      <td>good coffee on the T, a great alternate to Dun...</td>\n",
       "      <td>ei9SSSKqwsktRAVe02N7XQ</td>\n",
       "      <td>-1.164237</td>\n",
       "      <td>-0.290635</td>\n",
       "      <td>0.089</td>\n",
       "      <td>0.049</td>\n",
       "      <td>0.03</td>\n",
       "      <td>0.021</td>\n",
       "      <td>0.007</td>\n",
       "      <td>0.060622</td>\n",
       "      <td>...</td>\n",
       "      <td>0.000000</td>\n",
       "      <td>0.000000</td>\n",
       "      <td>3.000000</td>\n",
       "      <td>1</td>\n",
       "      <td>0</td>\n",
       "      <td>0.145161</td>\n",
       "      <td>0.145161</td>\n",
       "      <td>0</td>\n",
       "      <td>0</td>\n",
       "      <td>0</td>\n",
       "    </tr>\n",
       "    <tr>\n",
       "      <th>1</th>\n",
       "      <td>I love Butterfly Cafe! Their coffee is delicio...</td>\n",
       "      <td>ei9SSSKqwsktRAVe02N7XQ</td>\n",
       "      <td>-1.164237</td>\n",
       "      <td>-0.290635</td>\n",
       "      <td>0.089</td>\n",
       "      <td>0.049</td>\n",
       "      <td>0.03</td>\n",
       "      <td>0.021</td>\n",
       "      <td>0.007</td>\n",
       "      <td>0.060622</td>\n",
       "      <td>...</td>\n",
       "      <td>0.666667</td>\n",
       "      <td>0.333333</td>\n",
       "      <td>4.333333</td>\n",
       "      <td>3</td>\n",
       "      <td>0</td>\n",
       "      <td>0.075269</td>\n",
       "      <td>0.059140</td>\n",
       "      <td>14</td>\n",
       "      <td>0</td>\n",
       "      <td>4</td>\n",
       "    </tr>\n",
       "    <tr>\n",
       "      <th>2</th>\n",
       "      <td>They have the best selections of teas (compara...</td>\n",
       "      <td>ei9SSSKqwsktRAVe02N7XQ</td>\n",
       "      <td>-1.164237</td>\n",
       "      <td>-0.290635</td>\n",
       "      <td>0.089</td>\n",
       "      <td>0.049</td>\n",
       "      <td>0.03</td>\n",
       "      <td>0.021</td>\n",
       "      <td>0.007</td>\n",
       "      <td>0.060622</td>\n",
       "      <td>...</td>\n",
       "      <td>0.333333</td>\n",
       "      <td>0.333333</td>\n",
       "      <td>4.000000</td>\n",
       "      <td>3</td>\n",
       "      <td>0</td>\n",
       "      <td>0.279570</td>\n",
       "      <td>0.217742</td>\n",
       "      <td>8</td>\n",
       "      <td>1</td>\n",
       "      <td>1</td>\n",
       "    </tr>\n",
       "    <tr>\n",
       "      <th>3</th>\n",
       "      <td>Worst T Travel Day in History. Walking all the...</td>\n",
       "      <td>ei9SSSKqwsktRAVe02N7XQ</td>\n",
       "      <td>-1.164237</td>\n",
       "      <td>-0.290635</td>\n",
       "      <td>0.089</td>\n",
       "      <td>0.049</td>\n",
       "      <td>0.03</td>\n",
       "      <td>0.021</td>\n",
       "      <td>0.007</td>\n",
       "      <td>0.060622</td>\n",
       "      <td>...</td>\n",
       "      <td>0.000000</td>\n",
       "      <td>1.000000</td>\n",
       "      <td>5.000000</td>\n",
       "      <td>1</td>\n",
       "      <td>0</td>\n",
       "      <td>0.201613</td>\n",
       "      <td>0.201613</td>\n",
       "      <td>10</td>\n",
       "      <td>2</td>\n",
       "      <td>0</td>\n",
       "    </tr>\n",
       "    <tr>\n",
       "      <th>4</th>\n",
       "      <td>I came here and had a regular old caramel latt...</td>\n",
       "      <td>ei9SSSKqwsktRAVe02N7XQ</td>\n",
       "      <td>-1.164237</td>\n",
       "      <td>-0.290635</td>\n",
       "      <td>0.089</td>\n",
       "      <td>0.049</td>\n",
       "      <td>0.03</td>\n",
       "      <td>0.021</td>\n",
       "      <td>0.007</td>\n",
       "      <td>0.060622</td>\n",
       "      <td>...</td>\n",
       "      <td>0.250000</td>\n",
       "      <td>0.250000</td>\n",
       "      <td>3.250000</td>\n",
       "      <td>4</td>\n",
       "      <td>0</td>\n",
       "      <td>0.290323</td>\n",
       "      <td>0.161962</td>\n",
       "      <td>2</td>\n",
       "      <td>0</td>\n",
       "      <td>0</td>\n",
       "    </tr>\n",
       "  </tbody>\n",
       "</table>\n",
       "<p>5 rows × 132 columns</p>\n",
       "</div>"
      ],
      "text/plain": [
       "                                                text           restaurant_id  \\\n",
       "0  good coffee on the T, a great alternate to Dun...  ei9SSSKqwsktRAVe02N7XQ   \n",
       "1  I love Butterfly Cafe! Their coffee is delicio...  ei9SSSKqwsktRAVe02N7XQ   \n",
       "2  They have the best selections of teas (compara...  ei9SSSKqwsktRAVe02N7XQ   \n",
       "3  Worst T Travel Day in History. Walking all the...  ei9SSSKqwsktRAVe02N7XQ   \n",
       "4  I came here and had a regular old caramel latt...  ei9SSSKqwsktRAVe02N7XQ   \n",
       "\n",
       "          x         y  crimes_2_km  crimes_1_km  crimes_500_m  crimes_250_m  \\\n",
       "0 -1.164237 -0.290635        0.089        0.049          0.03         0.021   \n",
       "1 -1.164237 -0.290635        0.089        0.049          0.03         0.021   \n",
       "2 -1.164237 -0.290635        0.089        0.049          0.03         0.021   \n",
       "3 -1.164237 -0.290635        0.089        0.049          0.03         0.021   \n",
       "4 -1.164237 -0.290635        0.089        0.049          0.03         0.021   \n",
       "\n",
       "   crimes_100_m  restaurants_2_km ...          4         5   average  \\\n",
       "0         0.007          0.060622 ...   0.000000  0.000000  3.000000   \n",
       "1         0.007          0.060622 ...   0.666667  0.333333  4.333333   \n",
       "2         0.007          0.060622 ...   0.333333  0.333333  4.000000   \n",
       "3         0.007          0.060622 ...   0.000000  1.000000  5.000000   \n",
       "4         0.007          0.060622 ...   0.250000  0.250000  3.250000   \n",
       "\n",
       "   num_revs  num_tips  time_range  mean_time_before_inspection   *  **  ***  \n",
       "0         1         0    0.145161                     0.145161   0   0    0  \n",
       "1         3         0    0.075269                     0.059140  14   0    4  \n",
       "2         3         0    0.279570                     0.217742   8   1    1  \n",
       "3         1         0    0.201613                     0.201613  10   2    0  \n",
       "4         4         0    0.290323                     0.161962   2   0    0  \n",
       "\n",
       "[5 rows x 132 columns]"
      ]
     },
     "execution_count": 62,
     "metadata": {},
     "output_type": "execute_result"
    }
   ],
   "source": [
    "windows_data = pd.DataFrame(windows, columns = colnames)\n",
    "befores_data = pd.DataFrame(befores, columns = colnames)\n",
    "allbefores_data = pd.DataFrame(allbefores, columns = colnames)\n",
    "allbefores_data.head()\n",
    "# boston_xy(windows_data)\n",
    "# boston_xy(befores_data)"
   ]
  },
  {
   "cell_type": "code",
   "execution_count": 63,
   "metadata": {
    "collapsed": false
   },
   "outputs": [
    {
     "data": {
      "text/plain": [
       "True"
      ]
     },
     "execution_count": 63,
     "metadata": {},
     "output_type": "execute_result"
    }
   ],
   "source": [
    "biznameswin = list(set((windows_data.restaurant_id.values.tolist())))\n",
    "biznamesbef = list(set((befores_data.restaurant_id.values.tolist())))\n",
    "\n",
    "(biznameswin == biznamesbef)# * (biznamestim == biznamesbef)"
   ]
  },
  {
   "cell_type": "code",
   "execution_count": 64,
   "metadata": {
    "collapsed": false
   },
   "outputs": [],
   "source": [
    "alldocs_overlap = []\n",
    "for line in alldocs:\n",
    "    if line[1] in biznameswin:\n",
    "        alldocs_overlap.append(line)"
   ]
  },
  {
   "cell_type": "code",
   "execution_count": 65,
   "metadata": {
    "collapsed": false
   },
   "outputs": [
    {
     "data": {
      "text/plain": [
       "6"
      ]
     },
     "execution_count": 65,
     "metadata": {},
     "output_type": "execute_result"
    }
   ],
   "source": [
    "len(windows[0]) - len(alldocs_overlap[0])"
   ]
  },
  {
   "cell_type": "markdown",
   "metadata": {},
   "source": [
    "Sanity check on consistent names"
   ]
  },
  {
   "cell_type": "code",
   "execution_count": 66,
   "metadata": {
    "collapsed": false
   },
   "outputs": [],
   "source": [
    "restaurants_train, restaurants_test = train_test_split(biznameswin, test_size = 0.3, random_state = 42)"
   ]
  },
  {
   "cell_type": "code",
   "execution_count": 67,
   "metadata": {
    "collapsed": true
   },
   "outputs": [],
   "source": [
    "traindict = {}\n",
    "for name in biznameswin:\n",
    "    traindict[name] = (name in restaurants_train) + 0"
   ]
  },
  {
   "cell_type": "code",
   "execution_count": 68,
   "metadata": {
    "collapsed": false
   },
   "outputs": [],
   "source": [
    "time_dependent_cols = ['text','season','average','num_revs', 'num_tips', 'time_range',\n",
    "                       'mean_time_before_inspection']\n",
    "time_dependent_cols.extend(uniquestars)\n",
    "time_independent_cols = [i for i in colnames if i not in time_dependent_cols]\n",
    "time_independent_feats = [i for i in time_independent_cols if i not in ['*','**','***']]\n",
    "all_non_text_feats = time_independent_feats[1:]\n",
    "all_non_text_feats.extend(time_dependent_cols[1:])#skips text"
   ]
  },
  {
   "cell_type": "code",
   "execution_count": 69,
   "metadata": {
    "collapsed": true
   },
   "outputs": [],
   "source": [
    "tc_not_text_feats = all_non_text_feats[:]\n",
    "for line in toremove_tc:\n",
    "    tc_not_text_feats.remove(line)"
   ]
  },
  {
   "cell_type": "code",
   "execution_count": 70,
   "metadata": {
    "collapsed": false
   },
   "outputs": [
    {
     "data": {
      "text/plain": [
       "True"
      ]
     },
     "execution_count": 70,
     "metadata": {},
     "output_type": "execute_result"
    }
   ],
   "source": [
    "len(time_dependent_cols) + len(time_independent_cols) == len(colnames)"
   ]
  },
  {
   "cell_type": "code",
   "execution_count": null,
   "metadata": {
    "collapsed": false
   },
   "outputs": [],
   "source": []
  },
  {
   "cell_type": "code",
   "execution_count": 71,
   "metadata": {
    "collapsed": false
   },
   "outputs": [
    {
     "data": {
      "text/html": [
       "<div>\n",
       "<table border=\"1\" class=\"dataframe\">\n",
       "  <thead>\n",
       "    <tr style=\"text-align: right;\">\n",
       "      <th></th>\n",
       "      <th>restaurant_id</th>\n",
       "      <th>x</th>\n",
       "      <th>y</th>\n",
       "      <th>crimes_2_km</th>\n",
       "      <th>crimes_1_km</th>\n",
       "      <th>crimes_500_m</th>\n",
       "      <th>crimes_250_m</th>\n",
       "      <th>crimes_100_m</th>\n",
       "      <th>restaurants_2_km</th>\n",
       "      <th>restaurants_1_km</th>\n",
       "      <th>...</th>\n",
       "      <th>city_Boston</th>\n",
       "      <th>city_West Roxbury</th>\n",
       "      <th>weekday_time_open</th>\n",
       "      <th>weekend_time_open</th>\n",
       "      <th>*</th>\n",
       "      <th>**</th>\n",
       "      <th>***</th>\n",
       "      <th>*&gt;0</th>\n",
       "      <th>***&gt;0</th>\n",
       "      <th>***&gt;0</th>\n",
       "    </tr>\n",
       "  </thead>\n",
       "  <tbody>\n",
       "    <tr>\n",
       "      <th>0</th>\n",
       "      <td>ei9SSSKqwsktRAVe02N7XQ</td>\n",
       "      <td>-1.164237</td>\n",
       "      <td>-0.290635</td>\n",
       "      <td>0.089</td>\n",
       "      <td>0.049</td>\n",
       "      <td>0.030</td>\n",
       "      <td>0.021</td>\n",
       "      <td>0.007</td>\n",
       "      <td>0.060622</td>\n",
       "      <td>0.024870</td>\n",
       "      <td>...</td>\n",
       "      <td>0</td>\n",
       "      <td>0</td>\n",
       "      <td>0.0</td>\n",
       "      <td>0.0</td>\n",
       "      <td>81</td>\n",
       "      <td>6</td>\n",
       "      <td>17</td>\n",
       "      <td>11</td>\n",
       "      <td>4</td>\n",
       "      <td>6</td>\n",
       "    </tr>\n",
       "    <tr>\n",
       "      <th>1</th>\n",
       "      <td>YwVrGJGxJrvanvKCPQyyQw</td>\n",
       "      <td>-5.708341</td>\n",
       "      <td>0.294224</td>\n",
       "      <td>0.016</td>\n",
       "      <td>0.010</td>\n",
       "      <td>0.008</td>\n",
       "      <td>0.006</td>\n",
       "      <td>0.001</td>\n",
       "      <td>0.030052</td>\n",
       "      <td>0.011399</td>\n",
       "      <td>...</td>\n",
       "      <td>0</td>\n",
       "      <td>0</td>\n",
       "      <td>56.0</td>\n",
       "      <td>22.5</td>\n",
       "      <td>73</td>\n",
       "      <td>12</td>\n",
       "      <td>28</td>\n",
       "      <td>15</td>\n",
       "      <td>8</td>\n",
       "      <td>13</td>\n",
       "    </tr>\n",
       "    <tr>\n",
       "      <th>2</th>\n",
       "      <td>tpLFD6PqwxAPkqqFdhP9LQ</td>\n",
       "      <td>0.787707</td>\n",
       "      <td>1.589338</td>\n",
       "      <td>0.155</td>\n",
       "      <td>0.091</td>\n",
       "      <td>0.046</td>\n",
       "      <td>0.021</td>\n",
       "      <td>0.004</td>\n",
       "      <td>0.317098</td>\n",
       "      <td>0.190155</td>\n",
       "      <td>...</td>\n",
       "      <td>1</td>\n",
       "      <td>0</td>\n",
       "      <td>75.0</td>\n",
       "      <td>30.0</td>\n",
       "      <td>51</td>\n",
       "      <td>2</td>\n",
       "      <td>8</td>\n",
       "      <td>13</td>\n",
       "      <td>2</td>\n",
       "      <td>4</td>\n",
       "    </tr>\n",
       "    <tr>\n",
       "      <th>3</th>\n",
       "      <td>QmPdjcEIWNG5WwxCOvHhhA</td>\n",
       "      <td>-0.451764</td>\n",
       "      <td>1.287807</td>\n",
       "      <td>0.117</td>\n",
       "      <td>0.072</td>\n",
       "      <td>0.046</td>\n",
       "      <td>0.023</td>\n",
       "      <td>0.010</td>\n",
       "      <td>0.207254</td>\n",
       "      <td>0.140933</td>\n",
       "      <td>...</td>\n",
       "      <td>1</td>\n",
       "      <td>0</td>\n",
       "      <td>57.5</td>\n",
       "      <td>21.0</td>\n",
       "      <td>183</td>\n",
       "      <td>23</td>\n",
       "      <td>33</td>\n",
       "      <td>24</td>\n",
       "      <td>14</td>\n",
       "      <td>20</td>\n",
       "    </tr>\n",
       "    <tr>\n",
       "      <th>4</th>\n",
       "      <td>W2PBFrdK1vbcjqeZJUc5ww</td>\n",
       "      <td>-2.957733</td>\n",
       "      <td>-4.277422</td>\n",
       "      <td>0.023</td>\n",
       "      <td>0.012</td>\n",
       "      <td>0.010</td>\n",
       "      <td>0.005</td>\n",
       "      <td>0.003</td>\n",
       "      <td>0.019171</td>\n",
       "      <td>0.006218</td>\n",
       "      <td>...</td>\n",
       "      <td>0</td>\n",
       "      <td>0</td>\n",
       "      <td>60.0</td>\n",
       "      <td>24.0</td>\n",
       "      <td>6</td>\n",
       "      <td>0</td>\n",
       "      <td>1</td>\n",
       "      <td>2</td>\n",
       "      <td>0</td>\n",
       "      <td>1</td>\n",
       "    </tr>\n",
       "  </tbody>\n",
       "</table>\n",
       "<p>5 rows × 123 columns</p>\n",
       "</div>"
      ],
      "text/plain": [
       "            restaurant_id         x         y  crimes_2_km  crimes_1_km  \\\n",
       "0  ei9SSSKqwsktRAVe02N7XQ -1.164237 -0.290635        0.089        0.049   \n",
       "1  YwVrGJGxJrvanvKCPQyyQw -5.708341  0.294224        0.016        0.010   \n",
       "2  tpLFD6PqwxAPkqqFdhP9LQ  0.787707  1.589338        0.155        0.091   \n",
       "3  QmPdjcEIWNG5WwxCOvHhhA -0.451764  1.287807        0.117        0.072   \n",
       "4  W2PBFrdK1vbcjqeZJUc5ww -2.957733 -4.277422        0.023        0.012   \n",
       "\n",
       "   crimes_500_m  crimes_250_m  crimes_100_m  restaurants_2_km  \\\n",
       "0         0.030         0.021         0.007          0.060622   \n",
       "1         0.008         0.006         0.001          0.030052   \n",
       "2         0.046         0.021         0.004          0.317098   \n",
       "3         0.046         0.023         0.010          0.207254   \n",
       "4         0.010         0.005         0.003          0.019171   \n",
       "\n",
       "   restaurants_1_km  ...    city_Boston  city_West Roxbury  weekday_time_open  \\\n",
       "0          0.024870  ...              0                  0                0.0   \n",
       "1          0.011399  ...              0                  0               56.0   \n",
       "2          0.190155  ...              1                  0               75.0   \n",
       "3          0.140933  ...              1                  0               57.5   \n",
       "4          0.006218  ...              0                  0               60.0   \n",
       "\n",
       "   weekend_time_open    *  **  ***  *>0  ***>0  ***>0  \n",
       "0                0.0   81   6   17   11      4      6  \n",
       "1               22.5   73  12   28   15      8     13  \n",
       "2               30.0   51   2    8   13      2      4  \n",
       "3               21.0  183  23   33   24     14     20  \n",
       "4               24.0    6   0    1    2      0      1  \n",
       "\n",
       "[5 rows x 123 columns]"
      ]
     },
     "execution_count": 71,
     "metadata": {},
     "output_type": "execute_result"
    }
   ],
   "source": [
    "oneoff = []\n",
    "boostdict = {}\n",
    "for entry in list(set((windows_data.restaurant_id.values.tolist()))):\n",
    "    wdsub = windows_data[time_independent_cols][windows_data.restaurant_id == entry].reset_index(drop = True)\n",
    "    outline = wdsub[time_independent_feats].iloc[0].tolist()# features\n",
    "    extendbit = list(wdsub[['*','**','***']].sum())# SUM NOT MEAN HERE\n",
    "    extendbit.extend(list((wdsub[['*','**','***']] > 0).sum()))# SUM NOT MEAN HERE\n",
    "    boostdict[entry] = extendbit\n",
    "    outline.extend(extendbit)# targets\n",
    "    oneoff.append(outline)\n",
    "time_independent_cols.extend(['*>0','***>0','***>0'])\n",
    "data_timeless = pd.DataFrame(oneoff, columns = time_independent_cols)\n",
    "data_timeless.head()"
   ]
  },
  {
   "cell_type": "code",
   "execution_count": 72,
   "metadata": {
    "collapsed": true
   },
   "outputs": [],
   "source": [
    "alldocs_overlap_good = []\n",
    "for line in alldocs_overlap:\n",
    "    line.extend(boostdict[line[1]])\n",
    "    alldocs_overlap_good.append(line)"
   ]
  },
  {
   "cell_type": "code",
   "execution_count": 73,
   "metadata": {
    "collapsed": false
   },
   "outputs": [
    {
     "data": {
      "text/plain": [
       "0"
      ]
     },
     "execution_count": 73,
     "metadata": {},
     "output_type": "execute_result"
    }
   ],
   "source": [
    "len(windows[0]) - len(alldocs_overlap_good[0])"
   ]
  },
  {
   "cell_type": "code",
   "execution_count": 74,
   "metadata": {
    "collapsed": false
   },
   "outputs": [],
   "source": [
    "timeless_colnames.extend(['*','**','***', '*>0','***>0','***>0'])"
   ]
  },
  {
   "cell_type": "code",
   "execution_count": 75,
   "metadata": {
    "collapsed": false
   },
   "outputs": [
    {
     "data": {
      "text/plain": [
       "True"
      ]
     },
     "execution_count": 75,
     "metadata": {},
     "output_type": "execute_result"
    }
   ],
   "source": [
    "timeless_data = pd.DataFrame(alldocs_overlap_good, columns = timeless_colnames)\n",
    "biznamestim = list(set((timeless_data.restaurant_id.values.tolist())))\n",
    "(biznamestim == biznamesbef)"
   ]
  },
  {
   "cell_type": "code",
   "execution_count": 76,
   "metadata": {
    "collapsed": false
   },
   "outputs": [],
   "source": [
    "def inothers(val):\n",
    "    return val not in biznameswin\n",
    "\n",
    "dropornot = timeless_data.restaurant_id.apply(inothers,1)\n",
    "\n",
    "\n"
   ]
  },
  {
   "cell_type": "code",
   "execution_count": 77,
   "metadata": {
    "collapsed": false
   },
   "outputs": [
    {
     "data": {
      "text/plain": [
       "(18448, 132)"
      ]
     },
     "execution_count": 77,
     "metadata": {},
     "output_type": "execute_result"
    }
   ],
   "source": [
    "timeless_data.shape\n",
    "data_timeless.shape\n",
    "windows_data.shape\n"
   ]
  },
  {
   "cell_type": "code",
   "execution_count": 78,
   "metadata": {
    "collapsed": false
   },
   "outputs": [
    {
     "data": {
      "text/html": [
       "<div>\n",
       "<table border=\"1\" class=\"dataframe\">\n",
       "  <thead>\n",
       "    <tr style=\"text-align: right;\">\n",
       "      <th></th>\n",
       "      <th>text</th>\n",
       "      <th>restaurant_id</th>\n",
       "      <th>x</th>\n",
       "      <th>y</th>\n",
       "      <th>crimes_2_km</th>\n",
       "      <th>crimes_1_km</th>\n",
       "      <th>crimes_500_m</th>\n",
       "      <th>crimes_250_m</th>\n",
       "      <th>crimes_100_m</th>\n",
       "      <th>restaurants_2_km</th>\n",
       "      <th>...</th>\n",
       "      <th>5</th>\n",
       "      <th>average</th>\n",
       "      <th>num_revs</th>\n",
       "      <th>num_tips</th>\n",
       "      <th>*</th>\n",
       "      <th>**</th>\n",
       "      <th>***</th>\n",
       "      <th>*&gt;0</th>\n",
       "      <th>***&gt;0</th>\n",
       "      <th>***&gt;0</th>\n",
       "    </tr>\n",
       "  </thead>\n",
       "  <tbody>\n",
       "    <tr>\n",
       "      <th>0</th>\n",
       "      <td>Worst T Travel Day in History. Walking all the...</td>\n",
       "      <td>ei9SSSKqwsktRAVe02N7XQ</td>\n",
       "      <td>-1.164237</td>\n",
       "      <td>-0.290635</td>\n",
       "      <td>0.089</td>\n",
       "      <td>0.049</td>\n",
       "      <td>0.030</td>\n",
       "      <td>0.021</td>\n",
       "      <td>0.007</td>\n",
       "      <td>0.060622</td>\n",
       "      <td>...</td>\n",
       "      <td>0.212121</td>\n",
       "      <td>3.666667</td>\n",
       "      <td>33</td>\n",
       "      <td>2</td>\n",
       "      <td>81</td>\n",
       "      <td>6</td>\n",
       "      <td>17</td>\n",
       "      <td>11</td>\n",
       "      <td>4</td>\n",
       "      <td>6</td>\n",
       "    </tr>\n",
       "    <tr>\n",
       "      <th>1</th>\n",
       "      <td>I love this place and hold it accountable for ...</td>\n",
       "      <td>YwVrGJGxJrvanvKCPQyyQw</td>\n",
       "      <td>-5.708341</td>\n",
       "      <td>0.294224</td>\n",
       "      <td>0.016</td>\n",
       "      <td>0.010</td>\n",
       "      <td>0.008</td>\n",
       "      <td>0.006</td>\n",
       "      <td>0.001</td>\n",
       "      <td>0.030052</td>\n",
       "      <td>...</td>\n",
       "      <td>0.305699</td>\n",
       "      <td>3.922280</td>\n",
       "      <td>193</td>\n",
       "      <td>7</td>\n",
       "      <td>73</td>\n",
       "      <td>12</td>\n",
       "      <td>28</td>\n",
       "      <td>15</td>\n",
       "      <td>8</td>\n",
       "      <td>13</td>\n",
       "    </tr>\n",
       "    <tr>\n",
       "      <th>2</th>\n",
       "      <td>As the name implies it is both a club AND a ca...</td>\n",
       "      <td>tpLFD6PqwxAPkqqFdhP9LQ</td>\n",
       "      <td>0.787707</td>\n",
       "      <td>1.589338</td>\n",
       "      <td>0.155</td>\n",
       "      <td>0.091</td>\n",
       "      <td>0.046</td>\n",
       "      <td>0.021</td>\n",
       "      <td>0.004</td>\n",
       "      <td>0.317098</td>\n",
       "      <td>...</td>\n",
       "      <td>0.140187</td>\n",
       "      <td>3.084112</td>\n",
       "      <td>214</td>\n",
       "      <td>22</td>\n",
       "      <td>51</td>\n",
       "      <td>2</td>\n",
       "      <td>8</td>\n",
       "      <td>13</td>\n",
       "      <td>2</td>\n",
       "      <td>4</td>\n",
       "    </tr>\n",
       "    <tr>\n",
       "      <th>3</th>\n",
       "      <td>The best (and cheapest) Indian buffet in Bosto...</td>\n",
       "      <td>QmPdjcEIWNG5WwxCOvHhhA</td>\n",
       "      <td>-0.451764</td>\n",
       "      <td>1.287807</td>\n",
       "      <td>0.117</td>\n",
       "      <td>0.072</td>\n",
       "      <td>0.046</td>\n",
       "      <td>0.023</td>\n",
       "      <td>0.010</td>\n",
       "      <td>0.207254</td>\n",
       "      <td>...</td>\n",
       "      <td>0.177778</td>\n",
       "      <td>3.300000</td>\n",
       "      <td>90</td>\n",
       "      <td>4</td>\n",
       "      <td>183</td>\n",
       "      <td>23</td>\n",
       "      <td>33</td>\n",
       "      <td>24</td>\n",
       "      <td>14</td>\n",
       "      <td>20</td>\n",
       "    </tr>\n",
       "    <tr>\n",
       "      <th>4</th>\n",
       "      <td>Seriously?! Has anyone here had a sandwich bef...</td>\n",
       "      <td>W2PBFrdK1vbcjqeZJUc5ww</td>\n",
       "      <td>-2.957733</td>\n",
       "      <td>-4.277422</td>\n",
       "      <td>0.023</td>\n",
       "      <td>0.012</td>\n",
       "      <td>0.010</td>\n",
       "      <td>0.005</td>\n",
       "      <td>0.003</td>\n",
       "      <td>0.019171</td>\n",
       "      <td>...</td>\n",
       "      <td>0.187500</td>\n",
       "      <td>3.687500</td>\n",
       "      <td>16</td>\n",
       "      <td>1</td>\n",
       "      <td>6</td>\n",
       "      <td>0</td>\n",
       "      <td>1</td>\n",
       "      <td>2</td>\n",
       "      <td>0</td>\n",
       "      <td>1</td>\n",
       "    </tr>\n",
       "  </tbody>\n",
       "</table>\n",
       "<p>5 rows × 132 columns</p>\n",
       "</div>"
      ],
      "text/plain": [
       "                                                text           restaurant_id  \\\n",
       "0  Worst T Travel Day in History. Walking all the...  ei9SSSKqwsktRAVe02N7XQ   \n",
       "1  I love this place and hold it accountable for ...  YwVrGJGxJrvanvKCPQyyQw   \n",
       "2  As the name implies it is both a club AND a ca...  tpLFD6PqwxAPkqqFdhP9LQ   \n",
       "3  The best (and cheapest) Indian buffet in Bosto...  QmPdjcEIWNG5WwxCOvHhhA   \n",
       "4  Seriously?! Has anyone here had a sandwich bef...  W2PBFrdK1vbcjqeZJUc5ww   \n",
       "\n",
       "          x         y  crimes_2_km  crimes_1_km  crimes_500_m  crimes_250_m  \\\n",
       "0 -1.164237 -0.290635        0.089        0.049         0.030         0.021   \n",
       "1 -5.708341  0.294224        0.016        0.010         0.008         0.006   \n",
       "2  0.787707  1.589338        0.155        0.091         0.046         0.021   \n",
       "3 -0.451764  1.287807        0.117        0.072         0.046         0.023   \n",
       "4 -2.957733 -4.277422        0.023        0.012         0.010         0.005   \n",
       "\n",
       "   crimes_100_m  restaurants_2_km  ...           5   average  num_revs  \\\n",
       "0         0.007          0.060622  ...    0.212121  3.666667        33   \n",
       "1         0.001          0.030052  ...    0.305699  3.922280       193   \n",
       "2         0.004          0.317098  ...    0.140187  3.084112       214   \n",
       "3         0.010          0.207254  ...    0.177778  3.300000        90   \n",
       "4         0.003          0.019171  ...    0.187500  3.687500        16   \n",
       "\n",
       "   num_tips    *  **  ***  *>0  ***>0  ***>0  \n",
       "0         2   81   6   17   11      4      6  \n",
       "1         7   73  12   28   15      8     13  \n",
       "2        22   51   2    8   13      2      4  \n",
       "3         4  183  23   33   24     14     20  \n",
       "4         1    6   0    1    2      0      1  \n",
       "\n",
       "[5 rows x 132 columns]"
      ]
     },
     "execution_count": 78,
     "metadata": {},
     "output_type": "execute_result"
    }
   ],
   "source": [
    "timeless_data.head()"
   ]
  },
  {
   "cell_type": "code",
   "execution_count": 79,
   "metadata": {
    "collapsed": false
   },
   "outputs": [
    {
     "data": {
      "text/plain": [
       "*_quintile        3.022974\n",
       "*_quintile_1      0.188258\n",
       "*_quintile_2      0.204850\n",
       "*_quintile_3      0.202936\n",
       "*_quintile_4      0.203574\n",
       "*_quintile_5      0.200383\n",
       "**_quintile       3.299936\n",
       "**_quintile_1     0.000000\n",
       "**_quintile_2     0.379706\n",
       "**_quintile_3     0.148692\n",
       "**_quintile_4     0.263561\n",
       "**_quintile_5     0.208041\n",
       "***_quintile      3.131461\n",
       "***_quintile_1    0.124442\n",
       "***_quintile_2    0.256541\n",
       "***_quintile_3    0.191449\n",
       "***_quintile_4    0.218251\n",
       "***_quintile_5    0.209317\n",
       "dtype: float64"
      ]
     },
     "execution_count": 79,
     "metadata": {},
     "output_type": "execute_result"
    }
   ],
   "source": [
    "news = []\n",
    "for name in ['*','**','***']:\n",
    "    new = quintilize(data_timeless, name)#, n = 5, mode = 'both')\n",
    "    news.extend(new)\n",
    "data_timeless[news].sum()/len(data_timeless)"
   ]
  },
  {
   "cell_type": "markdown",
   "metadata": {},
   "source": [
    "Not perfect because of how it can slice repeat values. Leave it for now. Use other thing."
   ]
  },
  {
   "cell_type": "code",
   "execution_count": 80,
   "metadata": {
    "collapsed": false
   },
   "outputs": [],
   "source": [
    "def traintag(name):\n",
    "    return traindict[name]\n",
    "\n",
    "def constsplit(rests, X, y):\n",
    "    train = rests.apply(traintag,1)\n",
    "    X_train = X[train == 1]\n",
    "    X_test = X[train == 0]\n",
    "    y_train = y[train == 1]\n",
    "    y_test = y[train == 0]\n",
    "    return X_train, X_test, y_train, y_test"
   ]
  },
  {
   "cell_type": "code",
   "execution_count": 81,
   "metadata": {
    "collapsed": false
   },
   "outputs": [
    {
     "data": {
      "text/plain": [
       "(13050, 1)"
      ]
     },
     "execution_count": 81,
     "metadata": {},
     "output_type": "execute_result"
    }
   ],
   "source": [
    "X_trainw, X_testw, y_trainw, y_testw = constsplit(windows_data['restaurant_id'],\n",
    "                                                  windows_data[['restaurant_id']],\n",
    "                                                  windows_data[['restaurant_id']])\n",
    "X_trainb, X_testb, y_trainb, y_testb = constsplit(befores_data['restaurant_id'],\n",
    "                                                  befores_data[['restaurant_id']],\n",
    "                                                  befores_data[['restaurant_id']])\n",
    "X_traint, X_testt, y_traint, y_testt = constsplit(data_timeless['restaurant_id'],\n",
    "                                                  data_timeless[['restaurant_id']],\n",
    "                                                  data_timeless[['restaurant_id']])\n",
    "X_trainw.shape"
   ]
  },
  {
   "cell_type": "code",
   "execution_count": 82,
   "metadata": {
    "collapsed": false
   },
   "outputs": [
    {
     "data": {
      "text/plain": [
       "1"
      ]
     },
     "execution_count": 82,
     "metadata": {},
     "output_type": "execute_result"
    }
   ],
   "source": [
    "wrestschecktrain = set(X_trainw.restaurant_id.values.tolist())\n",
    "brestschecktrain = set(X_trainb.restaurant_id.values.tolist())\n",
    "trestschecktrain = set(X_traint.restaurant_id.values.tolist())\n",
    "wrestschecktest = set(X_testw.restaurant_id.values.tolist())\n",
    "brestschecktest = set(X_testb.restaurant_id.values.tolist())\n",
    "trestschecktest = set(X_testt.restaurant_id.values.tolist())\n",
    "(wrestschecktrain == brestschecktrain) * (trestschecktrain == brestschecktrain) * (wrestschecktest == brestschecktest) * (trestschecktest == brestschecktest)"
   ]
  },
  {
   "cell_type": "markdown",
   "metadata": {},
   "source": [
    "IT WORKS"
   ]
  },
  {
   "cell_type": "code",
   "execution_count": 83,
   "metadata": {
    "collapsed": false
   },
   "outputs": [
    {
     "name": "stdout",
     "output_type": "stream",
     "text": [
      "898.2921659946442 seconds since start (assuming all at once)\n"
     ]
    }
   ],
   "source": [
    "print(str(time.time() - t00) + ' seconds since start (assuming all at once)')"
   ]
  },
  {
   "cell_type": "code",
   "execution_count": 84,
   "metadata": {
    "collapsed": false
   },
   "outputs": [
    {
     "data": {
      "text/plain": [
       "<matplotlib.collections.PathCollection at 0x1368b9630>"
      ]
     },
     "execution_count": 84,
     "metadata": {},
     "output_type": "execute_result"
    },
    {
     "data": {
      "image/png": "[encoded data removed]",
      "text/plain": [
       "<matplotlib.figure.Figure at 0x136752fd0>"
      ]
     },
     "metadata": {},
     "output_type": "display_data"
    }
   ],
   "source": [
    "plt.scatter(timeless_data['***'],timeless_data['**'])"
   ]
  },
  {
   "cell_type": "code",
   "execution_count": 85,
   "metadata": {
    "collapsed": false
   },
   "outputs": [
    {
     "data": {
      "text/plain": [
       "<matplotlib.text.Text at 0x13769bd30>"
      ]
     },
     "execution_count": 85,
     "metadata": {},
     "output_type": "execute_result"
    },
    {
     "data": {
      "image/png": "[encoded data removed]",
      "text/plain": [
       "<matplotlib.figure.Figure at 0x1369577f0>"
      ]
     },
     "metadata": {},
     "output_type": "display_data"
    }
   ],
   "source": [
    "plt.scatter(timeless_data['***'],timeless_data['average'])\n",
    "plt.title('violations vs rating')\n",
    "plt.xlabel('average rating')\n",
    "plt.ylabel('average major inspection issues')\n"
   ]
  },
  {
   "cell_type": "code",
   "execution_count": 86,
   "metadata": {
    "collapsed": false
   },
   "outputs": [
    {
     "data": {
      "text/plain": [
       "['text',\n",
       " 'restaurant_id',\n",
       " 'x',\n",
       " 'y',\n",
       " 'crimes_2_km',\n",
       " 'crimes_1_km',\n",
       " 'crimes_500_m',\n",
       " 'crimes_250_m',\n",
       " 'crimes_100_m',\n",
       " 'restaurants_2_km',\n",
       " 'restaurants_1_km',\n",
       " 'restaurants_500_m',\n",
       " 'restaurants_250_m',\n",
       " 'restaurants_100_m',\n",
       " 'Caters',\n",
       " 'review_count',\n",
       " 'Outdoor Seating',\n",
       " 'Has TV',\n",
       " 'Delivery',\n",
       " 'Coat Check',\n",
       " 'BYOB',\n",
       " 'stars',\n",
       " 'Takes Reservations',\n",
       " 'Wheelchair Accessible',\n",
       " 'Good For Dancing',\n",
       " 'Good For Kids',\n",
       " 'Happy Hour',\n",
       " 'Corkage',\n",
       " 'Price Range',\n",
       " 'open',\n",
       " 'Take-out',\n",
       " 'Waiter Service',\n",
       " 'Order at Counter',\n",
       " 'Good For Groups',\n",
       " 'Parking_garage',\n",
       " 'Parking_lot',\n",
       " 'Parking_validated',\n",
       " 'Parking_valet',\n",
       " 'Parking_street',\n",
       " 'Dietary Restrictions_vegetarian',\n",
       " 'Music_jukebox',\n",
       " 'Music_background_music',\n",
       " 'Music_live',\n",
       " 'Music_dj',\n",
       " 'categories_Arts & Entertainment',\n",
       " 'categories_Pubs',\n",
       " 'categories_French',\n",
       " 'categories_Thai',\n",
       " 'categories_Latin American',\n",
       " 'categories_Food',\n",
       " 'categories_Bars',\n",
       " 'categories_Sports Bars',\n",
       " 'categories_Pizza',\n",
       " 'categories_Restaurants',\n",
       " 'categories_Breakfast & Brunch',\n",
       " 'categories_Nightlife',\n",
       " 'categories_Event Planning & Services',\n",
       " 'categories_Ice Cream & Frozen Yogurt',\n",
       " 'categories_Lounges',\n",
       " 'categories_Salad',\n",
       " 'categories_Chinese',\n",
       " 'categories_Sushi Bars',\n",
       " 'categories_American (Traditional)',\n",
       " 'categories_Mexican',\n",
       " 'categories_Donuts',\n",
       " 'categories_Coffee & Tea',\n",
       " 'categories_Delis',\n",
       " 'categories_Bakeries',\n",
       " 'categories_Sandwiches',\n",
       " 'categories_Music Venues',\n",
       " 'categories_Italian',\n",
       " 'categories_Seafood',\n",
       " 'categories_Burgers',\n",
       " 'categories_Japanese',\n",
       " 'categories_Fast Food',\n",
       " 'categories_American (New)',\n",
       " 'Good For_lunch',\n",
       " 'Good For_dinner',\n",
       " 'Good For_brunch',\n",
       " 'Good For_latenight',\n",
       " 'Good For_breakfast',\n",
       " 'neighborhoods_Roslindale',\n",
       " 'neighborhoods_South End',\n",
       " 'neighborhoods_Back Bay',\n",
       " 'neighborhoods_West Roxbury',\n",
       " 'neighborhoods_Downtown',\n",
       " 'neighborhoods_Allston/Brighton',\n",
       " 'neighborhoods_Charlestown',\n",
       " 'neighborhoods_Beacon Hill',\n",
       " 'neighborhoods_South Boston',\n",
       " 'neighborhoods_Jamaica Plain',\n",
       " 'neighborhoods_Chinatown',\n",
       " 'neighborhoods_Financial District',\n",
       " 'neighborhoods_East Boston',\n",
       " 'neighborhoods_Dorchester',\n",
       " 'neighborhoods_Waterfront',\n",
       " 'neighborhoods_Fenway',\n",
       " 'neighborhoods_North End',\n",
       " 'Ambience_romantic',\n",
       " 'Ambience_classy',\n",
       " 'Ambience_casual',\n",
       " 'Ambience_intimate',\n",
       " 'Ambience_trendy',\n",
       " 'Ambience_divey',\n",
       " 'Noise',\n",
       " 'Smokingb',\n",
       " 'wifib',\n",
       " 'fancy',\n",
       " 'alc',\n",
       " 'city_Roslindale',\n",
       " 'city_Allston',\n",
       " 'city_Jamaica Plain',\n",
       " 'city_Brighton',\n",
       " 'city_Dorchester',\n",
       " 'city_Boston',\n",
       " 'city_West Roxbury',\n",
       " 'weekday_time_open',\n",
       " 'weekend_time_open',\n",
       " 1,\n",
       " 2,\n",
       " 3,\n",
       " 4,\n",
       " 5,\n",
       " 'average',\n",
       " 'num_revs',\n",
       " 'num_tips',\n",
       " '*',\n",
       " '**',\n",
       " '***',\n",
       " '*>0',\n",
       " '***>0',\n",
       " '***>0']"
      ]
     },
     "execution_count": 86,
     "metadata": {},
     "output_type": "execute_result"
    }
   ],
   "source": [
    "list(timeless_data.columns)"
   ]
  },
  {
   "cell_type": "code",
   "execution_count": 87,
   "metadata": {
    "collapsed": false
   },
   "outputs": [
    {
     "data": {
      "text/plain": [
       "<matplotlib.legend.Legend at 0x136af4ef0>"
      ]
     },
     "execution_count": 87,
     "metadata": {},
     "output_type": "execute_result"
    },
    {
     "data": {
      "image/png": "[encoded data removed]",
      "text/plain": [
       "<matplotlib.figure.Figure at 0x136a444a8>"
      ]
     },
     "metadata": {},
     "output_type": "display_data"
    }
   ],
   "source": [
    "plt.scatter(cxy.x,cxy.y, c = 'b', label = 'recorded crimes')\n",
    "plt.scatter(timeless_data.x,timeless_data.y, c = 'r', label = 'restaurants')\n",
    "plt.title('Restaurants and police records')\n",
    "plt.xlabel('East-West Distance from centroid, km')\n",
    "plt.ylabel('North-South Distance from centroid, km')\n",
    "plt.legend(loc = 'lower right')\n"
   ]
  },
  {
   "cell_type": "code",
   "execution_count": 88,
   "metadata": {
    "collapsed": false
   },
   "outputs": [
    {
     "data": {
      "text/plain": [
       "<matplotlib.text.Text at 0x136cd35f8>"
      ]
     },
     "execution_count": 88,
     "metadata": {},
     "output_type": "execute_result"
    },
    {
     "data": {
      "image/png": "[encoded data removed]",
      "text/plain": [
       "<matplotlib.figure.Figure at 0x1369c5cc0>"
      ]
     },
     "metadata": {},
     "output_type": "display_data"
    }
   ],
   "source": [
    "plt.scatter(timeless_data['***'],timeless_data['Price Range'])\n",
    "plt.title('violations vs price range')\n",
    "plt.xlabel('price range')\n",
    "plt.ylabel('average major inspection issues')\n"
   ]
  },
  {
   "cell_type": "code",
   "execution_count": 129,
   "metadata": {
    "collapsed": false
   },
   "outputs": [
    {
     "name": "stdout",
     "output_type": "stream",
     "text": [
      "train 0.898722627737\n",
      "test 0.906581740977\n",
      "auc 0.867866458007\n"
     ]
    },
    {
     "data": {
      "text/plain": [
       "<matplotlib.figure.Figure at 0x1439387f0>"
      ]
     },
     "execution_count": 129,
     "metadata": {},
     "output_type": "execute_result"
    },
    {
     "data": {
      "image/png": "[encoded data removed]",
      "text/plain": [
       "<matplotlib.figure.Figure at 0x144f71ac8>"
      ]
     },
     "metadata": {},
     "output_type": "display_data"
    },
    {
     "data": {
      "text/plain": [
       "<matplotlib.figure.Figure at 0x1439387f0>"
      ]
     },
     "metadata": {},
     "output_type": "display_data"
    }
   ],
   "source": [
    "X = timeless_data['text']\n",
    "y = ptransform(scoreapprox(timeless_data),90)\n",
    "X_train, X_test, y_train, y_test = constsplit(timeless_data.restaurant_id, X, y)\n",
    "modelt = Pipeline([('vect', CountVectorizer(ngram_range=(1, 2), lowercase = True,\n",
    "                                          stop_words = 'english')), # , max_df = 0.95, min_df = 0.05,\n",
    "                 ('tfidf', TfidfTransformer()), \n",
    "                 ('model', LogisticRegression()),])\n",
    "modelt.fit(X_train,y_train)\n",
    "\n",
    "pred_vals = modelt.predict_proba(X_test)\n",
    "roc = roc_curve(y_test, pred_vals[:,1])\n",
    "print('train '+ str(modelt.score(X_train,y_train)))\n",
    "print('test '+ str(modelt.score(X_test,y_test)))\n",
    "print('auc ' + str(roc_auc_score(y_test, pred_vals[:,1])))\n",
    "plt.plot(roc[0], roc[1])\n",
    "plt.title('ROC curve')\n",
    "plt.xlabel('FP Rate')\n",
    "plt.ylabel('TP Rate')\n",
    "precision, recall, thresholds = precision_recall_curve(y_test, pred_vals[:,1])\n",
    "plt.figure()"
   ]
  },
  {
   "cell_type": "code",
   "execution_count": 130,
   "metadata": {
    "collapsed": true
   },
   "outputs": [],
   "source": [
    "tpreds_train = modelt.predict_proba(X_train)[:,1]\n",
    "tpreds_test = modelt.predict_proba(X_test)[:,1]"
   ]
  },
  {
   "cell_type": "code",
   "execution_count": 131,
   "metadata": {
    "collapsed": false
   },
   "outputs": [
    {
     "name": "stdout",
     "output_type": "stream",
     "text": [
      "LogReg\n",
      "train 0.91697080292\n",
      "test 0.910828025478\n",
      "auc 0.835785080856\n",
      "NaiveBayes\n",
      "train 0.648722627737\n",
      "test 0.619957537155\n",
      "auc 0.807616066771\n",
      "RF\n",
      "train 0.985401459854\n",
      "test 0.912951167728\n",
      "auc 0.813249869588\n",
      "XGB\n",
      "train 0.954379562044\n",
      "test 0.904458598726\n",
      "auc 0.867031820553\n"
     ]
    },
    {
     "data": {
      "text/plain": [
       "<matplotlib.legend.Legend at 0x137282d30>"
      ]
     },
     "execution_count": 131,
     "metadata": {},
     "output_type": "execute_result"
    },
    {
     "data": {
      "image/png": "[encoded data removed]",
      "text/plain": [
       "<matplotlib.figure.Figure at 0x141fff828>"
      ]
     },
     "metadata": {},
     "output_type": "display_data"
    },
    {
     "data": {
      "image/png": "[encoded data removed]",
      "text/plain": [
       "<matplotlib.figure.Figure at 0x1466c5390>"
      ]
     },
     "metadata": {},
     "output_type": "display_data"
    }
   ],
   "source": [
    "#basic non-text\n",
    "X = timeless_data[tc_not_text_feats]\n",
    "y = ptransform(scoreapprox(timeless_data), 90)\n",
    "X_train, X_test, y_train, y_test = constsplit(timeless_data.restaurant_id, X, y)\n",
    "\n",
    "classification_models = [LogisticRegression(), GaussianNB(), rf(), xgb()]\n",
    "modelnames = ['LogReg','NaiveBayes','RF','XGB']\n",
    "models_pleasework = []\n",
    "for i in range(4):\n",
    "    model = classification_models[i]\n",
    "    model.fit(X_train, y_train)\n",
    "    pred_vals = model.predict_proba(X_test)\n",
    "    roc = roc_curve(y_test, pred_vals[:,1])\n",
    "    print(modelnames[i])\n",
    "    print('train '+ str(model.score(X_train,y_train)))\n",
    "    print('test '+ str(model.score(X_test,y_test)))\n",
    "    print('auc ' + str(roc_auc_score(y_test, pred_vals[:,1])))\n",
    "    plt.plot(roc[0], roc[1], label = modelnames[i])\n",
    "    plt.title('ROC curve')\n",
    "    plt.xlabel('FP Rate')\n",
    "    plt.ylabel('TP Rate')\n",
    "    models_pleasework.append(model)\n",
    "plt.legend(loc = 'best')  \n",
    "plt.figure()\n",
    "plt.title('PR Curve')\n",
    "plt.xlabel('Precision')\n",
    "plt.ylabel('Recall')\n",
    "for i in range(len(models_pleasework)):\n",
    "    model = models_pleasework[i]\n",
    "    pred_vals = model.predict_proba(X_test)\n",
    "    precision, recall, thresholds = precision_recall_curve(y_test, pred_vals[:,1])\n",
    "    plt.plot(recall, precision, label = modelnames[i])\n",
    "plt.legend(loc = 'best')"
   ]
  },
  {
   "cell_type": "code",
   "execution_count": 132,
   "metadata": {
    "collapsed": true
   },
   "outputs": [],
   "source": [
    "modelnt = models_pleasework[3]\n",
    "ntpreds_train = modelnt.predict_proba(X_train)[:,1]\n",
    "ntpreds_test = modelnt.predict_proba(X_test)[:,1]"
   ]
  },
  {
   "cell_type": "code",
   "execution_count": 330,
   "metadata": {
    "collapsed": false
   },
   "outputs": [],
   "source": [
    "X_train2 = pd.DataFrame(tpreds_train, columns = ['t'])\n",
    "X_train2['nt'] = ntpreds_train\n",
    "X_test2 = pd.DataFrame(tpreds_test, columns = ['t'])\n",
    "X_test2['nt'] = ntpreds_test"
   ]
  },
  {
   "cell_type": "code",
   "execution_count": 358,
   "metadata": {
    "collapsed": false
   },
   "outputs": [
    {
     "name": "stdout",
     "output_type": "stream",
     "text": [
      "LogReg\n",
      "train 0.964416058394\n",
      "test 0.908704883227\n",
      "auc 0.877203964528\n",
      "NaiveBayes\n",
      "train 0.964416058394\n",
      "test 0.900212314225\n",
      "auc 0.879212310902\n",
      "RF\n",
      "train 0.998175182482\n",
      "test 0.900212314225\n",
      "auc 0.782159624413\n",
      "XGB\n",
      "train 0.986313868613\n",
      "test 0.904458598726\n",
      "auc 0.873082942097\n"
     ]
    },
    {
     "data": {
      "text/plain": [
       "<matplotlib.legend.Legend at 0x13b8cd160>"
      ]
     },
     "execution_count": 358,
     "metadata": {},
     "output_type": "execute_result"
    },
    {
     "data": {
      "image/png": "[encoded data removed]",
      "text/plain": [
       "<matplotlib.figure.Figure at 0x142fa4ef0>"
      ]
     },
     "metadata": {},
     "output_type": "display_data"
    },
    {
     "data": {
      "image/png": "[encoded data removed]",
      "text/plain": [
       "<matplotlib.figure.Figure at 0x1430874a8>"
      ]
     },
     "metadata": {},
     "output_type": "display_data"
    }
   ],
   "source": [
    "classification_models = [LogisticRegression(), GaussianNB(), rf(), xgb()]\n",
    "modelnames = ['LogReg','NaiveBayes','RF','XGB']\n",
    "models_ensemble = []\n",
    "for i in range(4):\n",
    "    model = classification_models[i]\n",
    "    model.fit(X_train2, y_train)\n",
    "    pred_vals = model.predict_proba(X_test2)\n",
    "    roc = roc_curve(y_test, pred_vals[:,1])\n",
    "    print(modelnames[i])\n",
    "    print('train '+ str(model.score(X_train2,y_train)))\n",
    "    print('test '+ str(model.score(X_test2,y_test)))\n",
    "    print('auc ' + str(roc_auc_score(y_test, pred_vals[:,1])))\n",
    "    plt.plot(roc[0], roc[1], label = modelnames[i])\n",
    "    plt.title('ROC curve ' + modelnames[i])\n",
    "    plt.xlabel('FP Rate')\n",
    "    plt.ylabel('TP Rate')\n",
    "    models_ensemble.append(model)\n",
    "plt.legend(loc = 'best')  \n",
    "plt.figure()\n",
    "plt.title('PR Curve')\n",
    "plt.xlabel('Precision')\n",
    "plt.ylabel('Recall')\n",
    "for i in range(len(models_ensemble)):\n",
    "    model = models_ensemble[i]\n",
    "    pred_vals = model.predict_proba(X_test2)\n",
    "    precision, recall, thresholds = precision_recall_curve(y_test, pred_vals[:,1])\n",
    "    plt.plot(recall, precision, label = modelnames[i])\n",
    "plt.legend(loc = 'best')"
   ]
  },
  {
   "cell_type": "code",
   "execution_count": 359,
   "metadata": {
    "collapsed": true
   },
   "outputs": [],
   "source": [
    "goodmodel = models_ensemble[1]"
   ]
  },
  {
   "cell_type": "code",
   "execution_count": 372,
   "metadata": {
    "collapsed": false
   },
   "outputs": [
    {
     "name": "stdout",
     "output_type": "stream",
     "text": [
      "train 0.964416058394\n",
      "test 0.900212314225\n",
      "auc 0.879212310902\n"
     ]
    },
    {
     "data": {
      "text/plain": [
       "(0, 1)"
      ]
     },
     "execution_count": 372,
     "metadata": {},
     "output_type": "execute_result"
    },
    {
     "data": {
      "image/png": "[encoded data removed]",
      "text/plain": [
       "<matplotlib.figure.Figure at 0x145a77240>"
      ]
     },
     "metadata": {},
     "output_type": "display_data"
    },
    {
     "data": {
      "image/png": "[encoded data removed]",
      "text/plain": [
       "<matplotlib.figure.Figure at 0x13c5491d0>"
      ]
     },
     "metadata": {},
     "output_type": "display_data"
    }
   ],
   "source": [
    "pred_vals = goodmodel.predict_proba(X_test2)\n",
    "roc = roc_curve(y_test, pred_vals[:,1])\n",
    "print('train '+ str(goodmodel.score(X_train2,y_train)))\n",
    "print('test '+ str(goodmodel.score(X_test2,y_test)))\n",
    "print('auc ' + str(roc_auc_score(y_test, pred_vals[:,1])))\n",
    "plt.plot(roc[0], roc[1])\n",
    "plt.title('ROC curve')\n",
    "plt.xlabel('FP Rate')\n",
    "plt.ylabel('TP Rate')\n",
    "plt.xlim(([0,1]))\n",
    "plt.ylim(([0,1]))\n",
    "precision, recall, thresholds = precision_recall_curve(y_test, pred_vals[:,1])\n",
    "plt.figure()\n",
    "plt.title('PR Curve')\n",
    "plt.xlabel('Recall')\n",
    "plt.ylabel('Precision')\n",
    "plt.plot(recall, precision)\n",
    "plt.xlim(([0,1]))\n",
    "plt.ylim(([0,1]))"
   ]
  },
  {
   "cell_type": "code",
   "execution_count": 419,
   "metadata": {
    "collapsed": false
   },
   "outputs": [],
   "source": [
    "prc = pd.DataFrame(precision, columns = ['p'])\n",
    "prc['r'] = recall\n",
    "# prc['t'] = thresholds"
   ]
  },
  {
   "cell_type": "code",
   "execution_count": 420,
   "metadata": {
    "collapsed": false
   },
   "outputs": [
    {
     "data": {
      "text/html": [
       "<div>\n",
       "<table border=\"1\" class=\"dataframe\">\n",
       "  <thead>\n",
       "    <tr style=\"text-align: right;\">\n",
       "      <th></th>\n",
       "      <th>p</th>\n",
       "      <th>r</th>\n",
       "    </tr>\n",
       "  </thead>\n",
       "  <tbody>\n",
       "    <tr>\n",
       "      <th>308</th>\n",
       "      <td>0.615385</td>\n",
       "      <td>0.355556</td>\n",
       "    </tr>\n",
       "    <tr>\n",
       "      <th>310</th>\n",
       "      <td>0.652174</td>\n",
       "      <td>0.333333</td>\n",
       "    </tr>\n",
       "    <tr>\n",
       "      <th>311</th>\n",
       "      <td>0.636364</td>\n",
       "      <td>0.311111</td>\n",
       "    </tr>\n",
       "    <tr>\n",
       "      <th>312</th>\n",
       "      <td>0.619048</td>\n",
       "      <td>0.288889</td>\n",
       "    </tr>\n",
       "    <tr>\n",
       "      <th>314</th>\n",
       "      <td>0.631579</td>\n",
       "      <td>0.266667</td>\n",
       "    </tr>\n",
       "    <tr>\n",
       "      <th>315</th>\n",
       "      <td>0.611111</td>\n",
       "      <td>0.244444</td>\n",
       "    </tr>\n",
       "    <tr>\n",
       "      <th>316</th>\n",
       "      <td>1.000000</td>\n",
       "      <td>0.000000</td>\n",
       "    </tr>\n",
       "  </tbody>\n",
       "</table>\n",
       "</div>"
      ],
      "text/plain": [
       "            p         r\n",
       "308  0.615385  0.355556\n",
       "310  0.652174  0.333333\n",
       "311  0.636364  0.311111\n",
       "312  0.619048  0.288889\n",
       "314  0.631579  0.266667\n",
       "315  0.611111  0.244444\n",
       "316  1.000000  0.000000"
      ]
     },
     "execution_count": 420,
     "metadata": {},
     "output_type": "execute_result"
    }
   ],
   "source": [
    "prc[prc.p>0.6]"
   ]
  },
  {
   "cell_type": "code",
   "execution_count": 421,
   "metadata": {
    "collapsed": true
   },
   "outputs": [],
   "source": [
    "threshold = thresholds[310]#confirmed matching index"
   ]
  },
  {
   "cell_type": "code",
   "execution_count": 422,
   "metadata": {
    "collapsed": true
   },
   "outputs": [],
   "source": [
    "preds_test = goodmodel.predict(X_test2).tolist()"
   ]
  },
  {
   "cell_type": "code",
   "execution_count": 423,
   "metadata": {
    "collapsed": true
   },
   "outputs": [],
   "source": [
    "timeless_train, timeless_test, ytr, yte = constsplit(timeless_data.restaurant_id, timeless_data, y)"
   ]
  },
  {
   "cell_type": "code",
   "execution_count": 424,
   "metadata": {
    "collapsed": false
   },
   "outputs": [
    {
     "name": "stderr",
     "output_type": "stream",
     "text": [
      "//anaconda/lib/python3.5/site-packages/ipykernel/__main__.py:1: SettingWithCopyWarning: \n",
      "A value is trying to be set on a copy of a slice from a DataFrame.\n",
      "Try using .loc[row_indexer,col_indexer] = value instead\n",
      "\n",
      "See the caveats in the documentation: http://pandas.pydata.org/pandas-docs/stable/indexing.html#indexing-view-versus-copy\n",
      "  if __name__ == '__main__':\n"
     ]
    }
   ],
   "source": [
    "timeless_train['actual'] = y_train"
   ]
  },
  {
   "cell_type": "code",
   "execution_count": 450,
   "metadata": {
    "collapsed": false
   },
   "outputs": [
    {
     "name": "stderr",
     "output_type": "stream",
     "text": [
      "//anaconda/lib/python3.5/site-packages/ipykernel/__main__.py:1: SettingWithCopyWarning: \n",
      "A value is trying to be set on a copy of a slice from a DataFrame.\n",
      "Try using .loc[row_indexer,col_indexer] = value instead\n",
      "\n",
      "See the caveats in the documentation: http://pandas.pydata.org/pandas-docs/stable/indexing.html#indexing-view-versus-copy\n",
      "  if __name__ == '__main__':\n",
      "//anaconda/lib/python3.5/site-packages/ipykernel/__main__.py:2: SettingWithCopyWarning: \n",
      "A value is trying to be set on a copy of a slice from a DataFrame.\n",
      "Try using .loc[row_indexer,col_indexer] = value instead\n",
      "\n",
      "See the caveats in the documentation: http://pandas.pydata.org/pandas-docs/stable/indexing.html#indexing-view-versus-copy\n",
      "  from ipykernel import kernelapp as app\n",
      "//anaconda/lib/python3.5/site-packages/ipykernel/__main__.py:3: SettingWithCopyWarning: \n",
      "A value is trying to be set on a copy of a slice from a DataFrame.\n",
      "Try using .loc[row_indexer,col_indexer] = value instead\n",
      "\n",
      "See the caveats in the documentation: http://pandas.pydata.org/pandas-docs/stable/indexing.html#indexing-view-versus-copy\n",
      "  app.launch_new_instance()\n",
      "//anaconda/lib/python3.5/site-packages/ipykernel/__main__.py:4: SettingWithCopyWarning: \n",
      "A value is trying to be set on a copy of a slice from a DataFrame.\n",
      "Try using .loc[row_indexer,col_indexer] = value instead\n",
      "\n",
      "See the caveats in the documentation: http://pandas.pydata.org/pandas-docs/stable/indexing.html#indexing-view-versus-copy\n",
      "//anaconda/lib/python3.5/site-packages/ipykernel/__main__.py:5: SettingWithCopyWarning: \n",
      "A value is trying to be set on a copy of a slice from a DataFrame.\n",
      "Try using .loc[row_indexer,col_indexer] = value instead\n",
      "\n",
      "See the caveats in the documentation: http://pandas.pydata.org/pandas-docs/stable/indexing.html#indexing-view-versus-copy\n",
      "//anaconda/lib/python3.5/site-packages/ipykernel/__main__.py:6: SettingWithCopyWarning: \n",
      "A value is trying to be set on a copy of a slice from a DataFrame.\n",
      "Try using .loc[row_indexer,col_indexer] = value instead\n",
      "\n",
      "See the caveats in the documentation: http://pandas.pydata.org/pandas-docs/stable/indexing.html#indexing-view-versus-copy\n",
      "//anaconda/lib/python3.5/site-packages/ipykernel/__main__.py:7: SettingWithCopyWarning: \n",
      "A value is trying to be set on a copy of a slice from a DataFrame.\n",
      "Try using .loc[row_indexer,col_indexer] = value instead\n",
      "\n",
      "See the caveats in the documentation: http://pandas.pydata.org/pandas-docs/stable/indexing.html#indexing-view-versus-copy\n",
      "//anaconda/lib/python3.5/site-packages/ipykernel/__main__.py:8: SettingWithCopyWarning: \n",
      "A value is trying to be set on a copy of a slice from a DataFrame.\n",
      "Try using .loc[row_indexer,col_indexer] = value instead\n",
      "\n",
      "See the caveats in the documentation: http://pandas.pydata.org/pandas-docs/stable/indexing.html#indexing-view-versus-copy\n"
     ]
    }
   ],
   "source": [
    "timeless_train['actual'] = y_train.values.tolist()\n",
    "timeless_test['actual'] = y_test.values.tolist()\n",
    "timeless_train['predicted'] = goodmodel.predict(X_train2).tolist()\n",
    "timeless_test['predicted'] = goodmodel.predict(X_test2).tolist()\n",
    "timeless_train['prob'] = goodmodel.predict_proba(X_train2)[:,1].tolist()\n",
    "timeless_test['prob'] = goodmodel.predict_proba(X_test2)[:,1].tolist()\n",
    "timeless_train['predthresh'] = (timeless_train['prob'] >= threshold) + 0\n",
    "timeless_test['predthresh'] = (timeless_test['prob'] >= threshold) + 0\n",
    "# timeless_train['predone'] = (timeless_train['prob'] >= 1) + 0\n",
    "# timeless_test['predone'] = (timeless_test['prob'] >= 1) + 0"
   ]
  },
  {
   "cell_type": "code",
   "execution_count": 552,
   "metadata": {
    "collapsed": false
   },
   "outputs": [
    {
     "data": {
      "text/plain": [
       "0.6666666666666666"
      ]
     },
     "execution_count": 552,
     "metadata": {},
     "output_type": "execute_result"
    }
   ],
   "source": [
    "oneones = timeless_test[timeless_test.prob >= 1]\n",
    "oneones.actual.mean()"
   ]
  },
  {
   "cell_type": "code",
   "execution_count": 555,
   "metadata": {
    "collapsed": false
   },
   "outputs": [
    {
     "name": "stderr",
     "output_type": "stream",
     "text": [
      "//anaconda/lib/python3.5/site-packages/ipykernel/__main__.py:3: SettingWithCopyWarning: \n",
      "A value is trying to be set on a copy of a slice from a DataFrame.\n",
      "Try using .loc[row_indexer,col_indexer] = value instead\n",
      "\n",
      "See the caveats in the documentation: http://pandas.pydata.org/pandas-docs/stable/indexing.html#indexing-view-versus-copy\n",
      "  app.launch_new_instance()\n"
     ]
    }
   ],
   "source": [
    "meanscore = scoreapprox(timeless_test).mean()\n",
    "actuals = timeless_test[timeless_test.actual == 1]\n",
    "actuals['ind'] = list(range(1,len(actuals)+1))\n",
    "ones = timeless_test[timeless_test.prob >= threshold]\n",
    "FPs = ones[ones.actual != 1]\n",
    "TPs = actuals[actuals.prob >= threshold]\n",
    "FNs = actuals[actuals.prob < threshold]\n",
    "TNs = timeless_test[timeless_test.actual == 0]\n",
    "TNs = timeless_test[timeless_test.prob < threshold]\n",
    "\n",
    "# predx, predy = predones.ind, scoreapprox(predones)/scoreapprox(actuals).max()\n",
    "# missed = actuals[actuals.prob < 1]\n",
    "# missx, missy = missed.ind, scoreapprox(missed)/scoreapprox(actuals).max()\n"
   ]
  },
  {
   "cell_type": "code",
   "execution_count": 556,
   "metadata": {
    "collapsed": false
   },
   "outputs": [
    {
     "data": {
      "text/plain": [
       "263.6666666666667"
      ]
     },
     "execution_count": 556,
     "metadata": {},
     "output_type": "execute_result"
    }
   ],
   "source": [
    "scoreapprox(actuals).mean()"
   ]
  },
  {
   "cell_type": "code",
   "execution_count": null,
   "metadata": {
    "collapsed": true
   },
   "outputs": [],
   "source": []
  },
  {
   "cell_type": "code",
   "execution_count": 542,
   "metadata": {
    "collapsed": false
   },
   "outputs": [
    {
     "data": {
      "text/plain": [
       "73.5"
      ]
     },
     "execution_count": 542,
     "metadata": {},
     "output_type": "execute_result"
    }
   ],
   "source": [
    "scoreapprox(FPs).median()"
   ]
  },
  {
   "cell_type": "code",
   "execution_count": 543,
   "metadata": {
    "collapsed": false
   },
   "outputs": [
    {
     "data": {
      "text/plain": [
       "58.0"
      ]
     },
     "execution_count": 543,
     "metadata": {},
     "output_type": "execute_result"
    }
   ],
   "source": [
    "scoreapprox(timeless_test).median()"
   ]
  },
  {
   "cell_type": "code",
   "execution_count": 549,
   "metadata": {
    "collapsed": false
   },
   "outputs": [
    {
     "data": {
      "text/plain": [
       "3"
      ]
     },
     "execution_count": 549,
     "metadata": {},
     "output_type": "execute_result"
    }
   ],
   "source": [
    "sum(scoreapprox(FPs) < 58)"
   ]
  },
  {
   "cell_type": "code",
   "execution_count": 539,
   "metadata": {
    "collapsed": false
   },
   "outputs": [
    {
     "name": "stdout",
     "output_type": "stream",
     "text": [
      "TN: 448    FN: 30\n",
      "FP: 8      TP: 15\n"
     ]
    }
   ],
   "source": [
    "print('TN: ' + str(len(TNs)) + '    FN: ' + str(len(FNs)))\n",
    "print('FP: ' + str(len(FPs)) + '      TP: ' + str(len(TPs)))"
   ]
  },
  {
   "cell_type": "code",
   "execution_count": 529,
   "metadata": {
    "collapsed": false
   },
   "outputs": [
    {
     "data": {
      "text/plain": [
       "array([[418,   8],\n",
       "       [ 30,  15]])"
      ]
     },
     "execution_count": 529,
     "metadata": {},
     "output_type": "execute_result"
    }
   ],
   "source": [
    "confusion_matrix(timeless_test.actual, (timeless_test.prob >= threshold))"
   ]
  },
  {
   "cell_type": "code",
   "execution_count": 525,
   "metadata": {
    "collapsed": false
   },
   "outputs": [
    {
     "data": {
      "text/plain": [
       "1.5"
      ]
     },
     "execution_count": 525,
     "metadata": {},
     "output_type": "execute_result"
    }
   ],
   "source": [
    "len(ones)/len(predones)"
   ]
  },
  {
   "cell_type": "code",
   "execution_count": 523,
   "metadata": {
    "collapsed": false
   },
   "outputs": [
    {
     "data": {
      "text/html": [
       "<div>\n",
       "<table border=\"1\" class=\"dataframe\">\n",
       "  <thead>\n",
       "    <tr style=\"text-align: right;\">\n",
       "      <th></th>\n",
       "      <th>text</th>\n",
       "      <th>restaurant_id</th>\n",
       "      <th>x</th>\n",
       "      <th>y</th>\n",
       "      <th>crimes_2_km</th>\n",
       "      <th>crimes_1_km</th>\n",
       "      <th>crimes_500_m</th>\n",
       "      <th>crimes_250_m</th>\n",
       "      <th>crimes_100_m</th>\n",
       "      <th>restaurants_2_km</th>\n",
       "      <th>...</th>\n",
       "      <th>*&gt;0</th>\n",
       "      <th>***&gt;0</th>\n",
       "      <th>***&gt;0</th>\n",
       "      <th>actual</th>\n",
       "      <th>predicted</th>\n",
       "      <th>prob</th>\n",
       "      <th>predthresh</th>\n",
       "      <th>scoreapprox</th>\n",
       "      <th>predone</th>\n",
       "      <th>ind</th>\n",
       "    </tr>\n",
       "  </thead>\n",
       "  <tbody>\n",
       "    <tr>\n",
       "      <th>101</th>\n",
       "      <td>the first time i went there it was ok, everyth...</td>\n",
       "      <td>rYuTG2Cs0qFL4blQHnoUCw</td>\n",
       "      <td>1.749169</td>\n",
       "      <td>1.863641</td>\n",
       "      <td>0.140</td>\n",
       "      <td>0.087</td>\n",
       "      <td>0.058</td>\n",
       "      <td>0.038</td>\n",
       "      <td>0.012</td>\n",
       "      <td>0.350259</td>\n",
       "      <td>...</td>\n",
       "      <td>18</td>\n",
       "      <td>6</td>\n",
       "      <td>11</td>\n",
       "      <td>1</td>\n",
       "      <td>1</td>\n",
       "      <td>1.0</td>\n",
       "      <td>1</td>\n",
       "      <td>207</td>\n",
       "      <td>1</td>\n",
       "      <td>2</td>\n",
       "    </tr>\n",
       "    <tr>\n",
       "      <th>185</th>\n",
       "      <td>The taste of pho was delicious. Just the way I...</td>\n",
       "      <td>1sTikFYBH0LGM_Zqd1ZVnw</td>\n",
       "      <td>-0.449427</td>\n",
       "      <td>1.281258</td>\n",
       "      <td>0.117</td>\n",
       "      <td>0.072</td>\n",
       "      <td>0.046</td>\n",
       "      <td>0.023</td>\n",
       "      <td>0.010</td>\n",
       "      <td>0.207254</td>\n",
       "      <td>...</td>\n",
       "      <td>28</td>\n",
       "      <td>17</td>\n",
       "      <td>19</td>\n",
       "      <td>1</td>\n",
       "      <td>1</td>\n",
       "      <td>1.0</td>\n",
       "      <td>1</td>\n",
       "      <td>306</td>\n",
       "      <td>1</td>\n",
       "      <td>5</td>\n",
       "    </tr>\n",
       "  </tbody>\n",
       "</table>\n",
       "<p>2 rows × 139 columns</p>\n",
       "</div>"
      ],
      "text/plain": [
       "                                                  text  \\\n",
       "101  the first time i went there it was ok, everyth...   \n",
       "185  The taste of pho was delicious. Just the way I...   \n",
       "\n",
       "              restaurant_id         x         y  crimes_2_km  crimes_1_km  \\\n",
       "101  rYuTG2Cs0qFL4blQHnoUCw  1.749169  1.863641        0.140        0.087   \n",
       "185  1sTikFYBH0LGM_Zqd1ZVnw -0.449427  1.281258        0.117        0.072   \n",
       "\n",
       "     crimes_500_m  crimes_250_m  crimes_100_m  restaurants_2_km ...   *>0  \\\n",
       "101         0.058         0.038         0.012          0.350259 ...    18   \n",
       "185         0.046         0.023         0.010          0.207254 ...    28   \n",
       "\n",
       "     ***>0  ***>0  actual  predicted  prob  predthresh  scoreapprox  predone  \\\n",
       "101      6     11       1          1   1.0           1          207        1   \n",
       "185     17     19       1          1   1.0           1          306        1   \n",
       "\n",
       "     ind  \n",
       "101    2  \n",
       "185    5  \n",
       "\n",
       "[2 rows x 139 columns]"
      ]
     },
     "execution_count": 523,
     "metadata": {},
     "output_type": "execute_result"
    }
   ],
   "source": [
    "predones"
   ]
  },
  {
   "cell_type": "code",
   "execution_count": 465,
   "metadata": {
    "collapsed": false
   },
   "outputs": [
    {
     "data": {
      "text/plain": [
       "1.2396045681986656"
      ]
     },
     "execution_count": 465,
     "metadata": {},
     "output_type": "execute_result"
    }
   ],
   "source": [
    "predy.mean()/missy.mean()"
   ]
  },
  {
   "cell_type": "code",
   "execution_count": 469,
   "metadata": {
    "collapsed": false
   },
   "outputs": [
    {
     "data": {
      "text/plain": [
       "0.3392857142857143"
      ]
     },
     "execution_count": 469,
     "metadata": {},
     "output_type": "execute_result"
    }
   ],
   "source": [
    "len(predones)/len(actuals)"
   ]
  },
  {
   "cell_type": "code",
   "execution_count": 466,
   "metadata": {
    "collapsed": false
   },
   "outputs": [
    {
     "data": {
      "text/plain": [
       "0.3392857142857143"
      ]
     },
     "execution_count": 466,
     "metadata": {},
     "output_type": "execute_result"
    }
   ],
   "source": [
    "len(predy)/(len(predy) + len(missy))"
   ]
  },
  {
   "cell_type": "code",
   "execution_count": 462,
   "metadata": {
    "collapsed": false
   },
   "outputs": [
    {
     "data": {
      "text/plain": [
       "<matplotlib.collections.PathCollection at 0x1424c3c50>"
      ]
     },
     "execution_count": 462,
     "metadata": {},
     "output_type": "execute_result"
    },
    {
     "data": {
      "image/png": "[encoded data removed]",
      "text/plain": [
       "<matplotlib.figure.Figure at 0x1395302b0>"
      ]
     },
     "metadata": {},
     "output_type": "display_data"
    }
   ],
   "source": [
    "plt.scatter(missx, missy, c = 'r')\n",
    "plt.scatter(predx, predy, c = 'b')"
   ]
  },
  {
   "cell_type": "code",
   "execution_count": 458,
   "metadata": {
    "collapsed": false
   },
   "outputs": [],
   "source": [
    "ymiss = scoreapprox(missed).values.tolist()\n",
    "xmiss = list(range(1,len(ymiss)+1))\n",
    "yhit = scoreapprox(predones).values.tolist()\n",
    "xhit = list(range(1,len(yhit)+1))"
   ]
  },
  {
   "cell_type": "code",
   "execution_count": 519,
   "metadata": {
    "collapsed": false
   },
   "outputs": [
    {
     "data": {
      "text/plain": [
       "1.2396045681986656"
      ]
     },
     "execution_count": 519,
     "metadata": {},
     "output_type": "execute_result"
    }
   ],
   "source": [
    "scoreapprox(predones).mean()/scoreapprox(missed).mean()"
   ]
  },
  {
   "cell_type": "code",
   "execution_count": 521,
   "metadata": {
    "collapsed": false
   },
   "outputs": [
    {
     "data": {
      "text/plain": [
       "3.813410234089185"
      ]
     },
     "execution_count": 521,
     "metadata": {},
     "output_type": "execute_result"
    }
   ],
   "source": [
    "scoreapprox(predones).mean()/scoreapprox(timeless_test).mean()"
   ]
  },
  {
   "cell_type": "code",
   "execution_count": 432,
   "metadata": {
    "collapsed": false
   },
   "outputs": [
    {
     "name": "stderr",
     "output_type": "stream",
     "text": [
      "//anaconda/lib/python3.5/site-packages/pandas/computation/expressions.py:181: UserWarning: evaluating in Python space because the '*' operator is not supported by numexpr for the bool dtype, use '&' instead\n",
      "  unsupported[op_str]))\n"
     ]
    }
   ],
   "source": [
    "want = (timeless_test.actual == 1) * (timeless_test.predthresh == 1) * (timeless_test.stars >= 4)"
   ]
  },
  {
   "cell_type": "code",
   "execution_count": 433,
   "metadata": {
    "collapsed": false
   },
   "outputs": [
    {
     "data": {
      "text/html": [
       "<div>\n",
       "<table border=\"1\" class=\"dataframe\">\n",
       "  <thead>\n",
       "    <tr style=\"text-align: right;\">\n",
       "      <th></th>\n",
       "      <th>restaurant_id</th>\n",
       "      <th>actual</th>\n",
       "      <th>predthresh</th>\n",
       "      <th>prob</th>\n",
       "      <th>stars</th>\n",
       "    </tr>\n",
       "  </thead>\n",
       "  <tbody>\n",
       "    <tr>\n",
       "      <th>185</th>\n",
       "      <td>1sTikFYBH0LGM_Zqd1ZVnw</td>\n",
       "      <td>1</td>\n",
       "      <td>1</td>\n",
       "      <td>1.0</td>\n",
       "      <td>4.0</td>\n",
       "    </tr>\n",
       "    <tr>\n",
       "      <th>650</th>\n",
       "      <td>C_a6h-YdYPFDAX_3YJUTIA</td>\n",
       "      <td>1</td>\n",
       "      <td>1</td>\n",
       "      <td>1.0</td>\n",
       "      <td>4.0</td>\n",
       "    </tr>\n",
       "    <tr>\n",
       "      <th>722</th>\n",
       "      <td>sMrgQD2dYrvbe6VoZubSCg</td>\n",
       "      <td>1</td>\n",
       "      <td>1</td>\n",
       "      <td>1.0</td>\n",
       "      <td>4.0</td>\n",
       "    </tr>\n",
       "    <tr>\n",
       "      <th>1270</th>\n",
       "      <td>g3mb9okPoX9hlobP70Ib0g</td>\n",
       "      <td>1</td>\n",
       "      <td>1</td>\n",
       "      <td>1.0</td>\n",
       "      <td>4.0</td>\n",
       "    </tr>\n",
       "    <tr>\n",
       "      <th>1342</th>\n",
       "      <td>MiOurH3MHs6CwA6iOWehOQ</td>\n",
       "      <td>1</td>\n",
       "      <td>1</td>\n",
       "      <td>1.0</td>\n",
       "      <td>4.0</td>\n",
       "    </tr>\n",
       "    <tr>\n",
       "      <th>1429</th>\n",
       "      <td>SAyuXU4hbh5iLKHn824YZg</td>\n",
       "      <td>1</td>\n",
       "      <td>1</td>\n",
       "      <td>1.0</td>\n",
       "      <td>4.0</td>\n",
       "    </tr>\n",
       "  </tbody>\n",
       "</table>\n",
       "</div>"
      ],
      "text/plain": [
       "               restaurant_id  actual  predthresh  prob  stars\n",
       "185   1sTikFYBH0LGM_Zqd1ZVnw       1           1   1.0    4.0\n",
       "650   C_a6h-YdYPFDAX_3YJUTIA       1           1   1.0    4.0\n",
       "722   sMrgQD2dYrvbe6VoZubSCg       1           1   1.0    4.0\n",
       "1270  g3mb9okPoX9hlobP70Ib0g       1           1   1.0    4.0\n",
       "1342  MiOurH3MHs6CwA6iOWehOQ       1           1   1.0    4.0\n",
       "1429  SAyuXU4hbh5iLKHn824YZg       1           1   1.0    4.0"
      ]
     },
     "execution_count": 433,
     "metadata": {},
     "output_type": "execute_result"
    }
   ],
   "source": [
    "timeless_test[['restaurant_id', 'actual', 'predthresh', 'prob','stars']][want]"
   ]
  },
  {
   "cell_type": "code",
   "execution_count": 434,
   "metadata": {
    "collapsed": false
   },
   "outputs": [
    {
     "name": "stderr",
     "output_type": "stream",
     "text": [
      "//anaconda/lib/python3.5/site-packages/ipykernel/__main__.py:1: SettingWithCopyWarning: \n",
      "A value is trying to be set on a copy of a slice from a DataFrame.\n",
      "Try using .loc[row_indexer,col_indexer] = value instead\n",
      "\n",
      "See the caveats in the documentation: http://pandas.pydata.org/pandas-docs/stable/indexing.html#indexing-view-versus-copy\n",
      "  if __name__ == '__main__':\n"
     ]
    }
   ],
   "source": [
    "timeless_test['scoreapprox'] = scoreapprox(timeless_test)"
   ]
  },
  {
   "cell_type": "code",
   "execution_count": 435,
   "metadata": {
    "collapsed": false
   },
   "outputs": [],
   "source": [
    "tt = timeless_test.copy()\n",
    "tt = tt.sort_values(by = 'scoreapprox', ascending = False)"
   ]
  },
  {
   "cell_type": "code",
   "execution_count": 436,
   "metadata": {
    "collapsed": false
   },
   "outputs": [
    {
     "data": {
      "text/plain": [
       "185    38\n",
       "Name: indval, dtype: int64"
      ]
     },
     "execution_count": 436,
     "metadata": {},
     "output_type": "execute_result"
    }
   ],
   "source": [
    "td2a = timeless_data.copy()\n",
    "td2a['scoreval'] = scoreapprox(td2a)\n",
    "td2a = td2a.sort_values(by = 'scoreval', ascending = False)\n",
    "td2a['indval'] = list(range(1,len(td2a)+1))\n",
    "td2aval = td2a[td2a['restaurant_id'] == '1sTikFYBH0LGM_Zqd1ZVnw']\n",
    "td2aval.indval"
   ]
  },
  {
   "cell_type": "code",
   "execution_count": 437,
   "metadata": {
    "collapsed": false
   },
   "outputs": [
    {
     "data": {
      "text/plain": [
       "['text',\n",
       " 'restaurant_id',\n",
       " 'x',\n",
       " 'y',\n",
       " 'crimes_2_km',\n",
       " 'crimes_1_km',\n",
       " 'crimes_500_m',\n",
       " 'crimes_250_m',\n",
       " 'crimes_100_m',\n",
       " 'restaurants_2_km',\n",
       " 'restaurants_1_km',\n",
       " 'restaurants_500_m',\n",
       " 'restaurants_250_m',\n",
       " 'restaurants_100_m',\n",
       " 'Caters',\n",
       " 'review_count',\n",
       " 'Outdoor Seating',\n",
       " 'Has TV',\n",
       " 'Delivery',\n",
       " 'Coat Check',\n",
       " 'BYOB',\n",
       " 'stars',\n",
       " 'Takes Reservations',\n",
       " 'Wheelchair Accessible',\n",
       " 'Good For Dancing',\n",
       " 'Good For Kids',\n",
       " 'Happy Hour',\n",
       " 'Corkage',\n",
       " 'Price Range',\n",
       " 'open',\n",
       " 'Take-out',\n",
       " 'Waiter Service',\n",
       " 'Order at Counter',\n",
       " 'Good For Groups',\n",
       " 'Parking_garage',\n",
       " 'Parking_lot',\n",
       " 'Parking_validated',\n",
       " 'Parking_valet',\n",
       " 'Parking_street',\n",
       " 'Dietary Restrictions_vegetarian',\n",
       " 'Music_jukebox',\n",
       " 'Music_background_music',\n",
       " 'Music_live',\n",
       " 'Music_dj',\n",
       " 'categories_Arts & Entertainment',\n",
       " 'categories_Pubs',\n",
       " 'categories_French',\n",
       " 'categories_Thai',\n",
       " 'categories_Latin American',\n",
       " 'categories_Food',\n",
       " 'categories_Bars',\n",
       " 'categories_Sports Bars',\n",
       " 'categories_Pizza',\n",
       " 'categories_Restaurants',\n",
       " 'categories_Breakfast & Brunch',\n",
       " 'categories_Nightlife',\n",
       " 'categories_Event Planning & Services',\n",
       " 'categories_Ice Cream & Frozen Yogurt',\n",
       " 'categories_Lounges',\n",
       " 'categories_Salad',\n",
       " 'categories_Chinese',\n",
       " 'categories_Sushi Bars',\n",
       " 'categories_American (Traditional)',\n",
       " 'categories_Mexican',\n",
       " 'categories_Donuts',\n",
       " 'categories_Coffee & Tea',\n",
       " 'categories_Delis',\n",
       " 'categories_Bakeries',\n",
       " 'categories_Sandwiches',\n",
       " 'categories_Music Venues',\n",
       " 'categories_Italian',\n",
       " 'categories_Seafood',\n",
       " 'categories_Burgers',\n",
       " 'categories_Japanese',\n",
       " 'categories_Fast Food',\n",
       " 'categories_American (New)',\n",
       " 'Good For_lunch',\n",
       " 'Good For_dinner',\n",
       " 'Good For_brunch',\n",
       " 'Good For_latenight',\n",
       " 'Good For_breakfast',\n",
       " 'neighborhoods_Roslindale',\n",
       " 'neighborhoods_South End',\n",
       " 'neighborhoods_Back Bay',\n",
       " 'neighborhoods_West Roxbury',\n",
       " 'neighborhoods_Downtown',\n",
       " 'neighborhoods_Allston/Brighton',\n",
       " 'neighborhoods_Charlestown',\n",
       " 'neighborhoods_Beacon Hill',\n",
       " 'neighborhoods_South Boston',\n",
       " 'neighborhoods_Jamaica Plain',\n",
       " 'neighborhoods_Chinatown',\n",
       " 'neighborhoods_Financial District',\n",
       " 'neighborhoods_East Boston',\n",
       " 'neighborhoods_Dorchester',\n",
       " 'neighborhoods_Waterfront',\n",
       " 'neighborhoods_Fenway',\n",
       " 'neighborhoods_North End',\n",
       " 'Ambience_romantic',\n",
       " 'Ambience_classy',\n",
       " 'Ambience_casual',\n",
       " 'Ambience_intimate',\n",
       " 'Ambience_trendy',\n",
       " 'Ambience_divey',\n",
       " 'Noise',\n",
       " 'Smokingb',\n",
       " 'wifib',\n",
       " 'fancy',\n",
       " 'alc',\n",
       " 'city_Roslindale',\n",
       " 'city_Allston',\n",
       " 'city_Jamaica Plain',\n",
       " 'city_Brighton',\n",
       " 'city_Dorchester',\n",
       " 'city_Boston',\n",
       " 'city_West Roxbury',\n",
       " 'weekday_time_open',\n",
       " 'weekend_time_open',\n",
       " 1,\n",
       " 2,\n",
       " 3,\n",
       " 4,\n",
       " 5,\n",
       " 'average',\n",
       " 'num_revs',\n",
       " 'num_tips',\n",
       " '*',\n",
       " '**',\n",
       " '***',\n",
       " '*>0',\n",
       " '***>0',\n",
       " '***>0',\n",
       " 'actual',\n",
       " 'predicted',\n",
       " 'prob',\n",
       " 'predthresh',\n",
       " 'scoreapprox']"
      ]
     },
     "execution_count": 437,
     "metadata": {},
     "output_type": "execute_result"
    }
   ],
   "source": [
    "tt.columns.values.tolist()"
   ]
  },
  {
   "cell_type": "code",
   "execution_count": 438,
   "metadata": {
    "collapsed": false
   },
   "outputs": [
    {
     "data": {
      "text/plain": [
       "2    220\n",
       "1    190\n",
       "3     55\n",
       "4      6\n",
       "Name: Price Range, dtype: int64"
      ]
     },
     "execution_count": 438,
     "metadata": {},
     "output_type": "execute_result"
    }
   ],
   "source": [
    "tt['Price Range'].value_counts()"
   ]
  },
  {
   "cell_type": "code",
   "execution_count": 439,
   "metadata": {
    "collapsed": false
   },
   "outputs": [
    {
     "data": {
      "text/plain": [
       "3.5    155\n",
       "4.0    129\n",
       "3.0    106\n",
       "2.5     49\n",
       "4.5     19\n",
       "2.0     12\n",
       "1.5      1\n",
       "Name: stars, dtype: int64"
      ]
     },
     "execution_count": 439,
     "metadata": {},
     "output_type": "execute_result"
    }
   ],
   "source": [
    "tt.stars.value_counts()"
   ]
  },
  {
   "cell_type": "code",
   "execution_count": 440,
   "metadata": {
    "collapsed": false
   },
   "outputs": [
    {
     "data": {
      "text/html": [
       "<div>\n",
       "<table border=\"1\" class=\"dataframe\">\n",
       "  <thead>\n",
       "    <tr style=\"text-align: right;\">\n",
       "      <th></th>\n",
       "      <th>text</th>\n",
       "      <th>restaurant_id</th>\n",
       "      <th>x</th>\n",
       "      <th>y</th>\n",
       "      <th>crimes_2_km</th>\n",
       "      <th>crimes_1_km</th>\n",
       "      <th>crimes_500_m</th>\n",
       "      <th>crimes_250_m</th>\n",
       "      <th>crimes_100_m</th>\n",
       "      <th>restaurants_2_km</th>\n",
       "      <th>...</th>\n",
       "      <th>**</th>\n",
       "      <th>***</th>\n",
       "      <th>*&gt;0</th>\n",
       "      <th>***&gt;0</th>\n",
       "      <th>***&gt;0</th>\n",
       "      <th>actual</th>\n",
       "      <th>predicted</th>\n",
       "      <th>prob</th>\n",
       "      <th>predthresh</th>\n",
       "      <th>scoreapprox</th>\n",
       "    </tr>\n",
       "  </thead>\n",
       "  <tbody>\n",
       "    <tr>\n",
       "      <th>722</th>\n",
       "      <td>The waitress is very rude and very stiff. They...</td>\n",
       "      <td>sMrgQD2dYrvbe6VoZubSCg</td>\n",
       "      <td>1.775881</td>\n",
       "      <td>1.918154</td>\n",
       "      <td>0.142</td>\n",
       "      <td>0.088</td>\n",
       "      <td>0.060</td>\n",
       "      <td>0.043</td>\n",
       "      <td>0.014</td>\n",
       "      <td>0.353368</td>\n",
       "      <td>...</td>\n",
       "      <td>14</td>\n",
       "      <td>46</td>\n",
       "      <td>17</td>\n",
       "      <td>7</td>\n",
       "      <td>12</td>\n",
       "      <td>1</td>\n",
       "      <td>1</td>\n",
       "      <td>1.0</td>\n",
       "      <td>1</td>\n",
       "      <td>363</td>\n",
       "    </tr>\n",
       "    <tr>\n",
       "      <th>650</th>\n",
       "      <td>A bit pricey but you get what you pay for. Gre...</td>\n",
       "      <td>C_a6h-YdYPFDAX_3YJUTIA</td>\n",
       "      <td>0.517165</td>\n",
       "      <td>1.430442</td>\n",
       "      <td>0.146</td>\n",
       "      <td>0.096</td>\n",
       "      <td>0.046</td>\n",
       "      <td>0.023</td>\n",
       "      <td>0.006</td>\n",
       "      <td>0.276166</td>\n",
       "      <td>...</td>\n",
       "      <td>10</td>\n",
       "      <td>64</td>\n",
       "      <td>22</td>\n",
       "      <td>10</td>\n",
       "      <td>25</td>\n",
       "      <td>1</td>\n",
       "      <td>1</td>\n",
       "      <td>1.0</td>\n",
       "      <td>1</td>\n",
       "      <td>316</td>\n",
       "    </tr>\n",
       "    <tr>\n",
       "      <th>185</th>\n",
       "      <td>The taste of pho was delicious. Just the way I...</td>\n",
       "      <td>1sTikFYBH0LGM_Zqd1ZVnw</td>\n",
       "      <td>-0.449427</td>\n",
       "      <td>1.281258</td>\n",
       "      <td>0.117</td>\n",
       "      <td>0.072</td>\n",
       "      <td>0.046</td>\n",
       "      <td>0.023</td>\n",
       "      <td>0.010</td>\n",
       "      <td>0.207254</td>\n",
       "      <td>...</td>\n",
       "      <td>21</td>\n",
       "      <td>41</td>\n",
       "      <td>28</td>\n",
       "      <td>17</td>\n",
       "      <td>19</td>\n",
       "      <td>1</td>\n",
       "      <td>1</td>\n",
       "      <td>1.0</td>\n",
       "      <td>1</td>\n",
       "      <td>306</td>\n",
       "    </tr>\n",
       "    <tr>\n",
       "      <th>1342</th>\n",
       "      <td>The No Name Chicken was amazing! I was very im...</td>\n",
       "      <td>MiOurH3MHs6CwA6iOWehOQ</td>\n",
       "      <td>-4.552764</td>\n",
       "      <td>2.169791</td>\n",
       "      <td>0.058</td>\n",
       "      <td>0.038</td>\n",
       "      <td>0.021</td>\n",
       "      <td>0.012</td>\n",
       "      <td>0.004</td>\n",
       "      <td>0.091710</td>\n",
       "      <td>...</td>\n",
       "      <td>16</td>\n",
       "      <td>47</td>\n",
       "      <td>16</td>\n",
       "      <td>11</td>\n",
       "      <td>10</td>\n",
       "      <td>1</td>\n",
       "      <td>1</td>\n",
       "      <td>1.0</td>\n",
       "      <td>1</td>\n",
       "      <td>305</td>\n",
       "    </tr>\n",
       "    <tr>\n",
       "      <th>1270</th>\n",
       "      <td>Meh. Kind of just...there. Spring rolls were h...</td>\n",
       "      <td>g3mb9okPoX9hlobP70Ib0g</td>\n",
       "      <td>-0.442047</td>\n",
       "      <td>1.318820</td>\n",
       "      <td>0.116</td>\n",
       "      <td>0.072</td>\n",
       "      <td>0.046</td>\n",
       "      <td>0.029</td>\n",
       "      <td>0.009</td>\n",
       "      <td>0.208290</td>\n",
       "      <td>...</td>\n",
       "      <td>13</td>\n",
       "      <td>42</td>\n",
       "      <td>21</td>\n",
       "      <td>9</td>\n",
       "      <td>18</td>\n",
       "      <td>1</td>\n",
       "      <td>1</td>\n",
       "      <td>1.0</td>\n",
       "      <td>1</td>\n",
       "      <td>287</td>\n",
       "    </tr>\n",
       "    <tr>\n",
       "      <th>1429</th>\n",
       "      <td>My pad see ew is bursting with flavor! I just ...</td>\n",
       "      <td>SAyuXU4hbh5iLKHn824YZg</td>\n",
       "      <td>1.584797</td>\n",
       "      <td>1.920329</td>\n",
       "      <td>0.146</td>\n",
       "      <td>0.084</td>\n",
       "      <td>0.059</td>\n",
       "      <td>0.039</td>\n",
       "      <td>0.023</td>\n",
       "      <td>0.360622</td>\n",
       "      <td>...</td>\n",
       "      <td>5</td>\n",
       "      <td>20</td>\n",
       "      <td>20</td>\n",
       "      <td>5</td>\n",
       "      <td>7</td>\n",
       "      <td>1</td>\n",
       "      <td>1</td>\n",
       "      <td>1.0</td>\n",
       "      <td>1</td>\n",
       "      <td>263</td>\n",
       "    </tr>\n",
       "  </tbody>\n",
       "</table>\n",
       "<p>6 rows × 137 columns</p>\n",
       "</div>"
      ],
      "text/plain": [
       "                                                   text  \\\n",
       "722   The waitress is very rude and very stiff. They...   \n",
       "650   A bit pricey but you get what you pay for. Gre...   \n",
       "185   The taste of pho was delicious. Just the way I...   \n",
       "1342  The No Name Chicken was amazing! I was very im...   \n",
       "1270  Meh. Kind of just...there. Spring rolls were h...   \n",
       "1429  My pad see ew is bursting with flavor! I just ...   \n",
       "\n",
       "               restaurant_id         x         y  crimes_2_km  crimes_1_km  \\\n",
       "722   sMrgQD2dYrvbe6VoZubSCg  1.775881  1.918154        0.142        0.088   \n",
       "650   C_a6h-YdYPFDAX_3YJUTIA  0.517165  1.430442        0.146        0.096   \n",
       "185   1sTikFYBH0LGM_Zqd1ZVnw -0.449427  1.281258        0.117        0.072   \n",
       "1342  MiOurH3MHs6CwA6iOWehOQ -4.552764  2.169791        0.058        0.038   \n",
       "1270  g3mb9okPoX9hlobP70Ib0g -0.442047  1.318820        0.116        0.072   \n",
       "1429  SAyuXU4hbh5iLKHn824YZg  1.584797  1.920329        0.146        0.084   \n",
       "\n",
       "      crimes_500_m  crimes_250_m  crimes_100_m  restaurants_2_km     ...       \\\n",
       "722          0.060         0.043         0.014          0.353368     ...        \n",
       "650          0.046         0.023         0.006          0.276166     ...        \n",
       "185          0.046         0.023         0.010          0.207254     ...        \n",
       "1342         0.021         0.012         0.004          0.091710     ...        \n",
       "1270         0.046         0.029         0.009          0.208290     ...        \n",
       "1429         0.059         0.039         0.023          0.360622     ...        \n",
       "\n",
       "      **  ***  *>0  ***>0  ***>0  actual  predicted  prob  predthresh  \\\n",
       "722   14   46   17      7     12       1          1   1.0           1   \n",
       "650   10   64   22     10     25       1          1   1.0           1   \n",
       "185   21   41   28     17     19       1          1   1.0           1   \n",
       "1342  16   47   16     11     10       1          1   1.0           1   \n",
       "1270  13   42   21      9     18       1          1   1.0           1   \n",
       "1429   5   20   20      5      7       1          1   1.0           1   \n",
       "\n",
       "      scoreapprox  \n",
       "722           363  \n",
       "650           316  \n",
       "185           306  \n",
       "1342          305  \n",
       "1270          287  \n",
       "1429          263  \n",
       "\n",
       "[6 rows x 137 columns]"
      ]
     },
     "execution_count": 440,
     "metadata": {},
     "output_type": "execute_result"
    }
   ],
   "source": [
    "ttbads = tt[tt.stars > 3.5]\n",
    "ttbads = ttbads[ttbads['Price Range'] > 1]\n",
    "ttbads = ttbads[ttbads.prob > 0.7]\n",
    "ttbads = ttbads[ttbads.actual == 1]\n",
    "\n",
    "ttbads"
   ]
  },
  {
   "cell_type": "code",
   "execution_count": 355,
   "metadata": {
    "collapsed": false
   },
   "outputs": [
    {
     "data": {
      "text/plain": [
       "0.006369426751592357"
      ]
     },
     "execution_count": 355,
     "metadata": {},
     "output_type": "execute_result"
    }
   ],
   "source": [
    "sum(timeless_test.prob == 1)/len(timeless_test)"
   ]
  },
  {
   "cell_type": "code",
   "execution_count": 221,
   "metadata": {
    "collapsed": false
   },
   "outputs": [
    {
     "data": {
      "text/html": [
       "<div>\n",
       "<table border=\"1\" class=\"dataframe\">\n",
       "  <thead>\n",
       "    <tr style=\"text-align: right;\">\n",
       "      <th></th>\n",
       "      <th>text</th>\n",
       "      <th>restaurant_id</th>\n",
       "      <th>x</th>\n",
       "      <th>y</th>\n",
       "      <th>crimes_2_km</th>\n",
       "      <th>crimes_1_km</th>\n",
       "      <th>crimes_500_m</th>\n",
       "      <th>crimes_250_m</th>\n",
       "      <th>crimes_100_m</th>\n",
       "      <th>restaurants_2_km</th>\n",
       "      <th>...</th>\n",
       "      <th>**</th>\n",
       "      <th>***</th>\n",
       "      <th>*&gt;0</th>\n",
       "      <th>***&gt;0</th>\n",
       "      <th>***&gt;0</th>\n",
       "      <th>actual</th>\n",
       "      <th>predicted</th>\n",
       "      <th>prob</th>\n",
       "      <th>score</th>\n",
       "      <th>scoreapprox</th>\n",
       "    </tr>\n",
       "  </thead>\n",
       "  <tbody>\n",
       "    <tr>\n",
       "      <th>722</th>\n",
       "      <td>The waitress is very rude and very stiff. They...</td>\n",
       "      <td>sMrgQD2dYrvbe6VoZubSCg</td>\n",
       "      <td>1.775881</td>\n",
       "      <td>1.918154</td>\n",
       "      <td>0.142</td>\n",
       "      <td>0.088</td>\n",
       "      <td>0.06</td>\n",
       "      <td>0.043</td>\n",
       "      <td>0.014</td>\n",
       "      <td>0.353368</td>\n",
       "      <td>...</td>\n",
       "      <td>14</td>\n",
       "      <td>46</td>\n",
       "      <td>17</td>\n",
       "      <td>7</td>\n",
       "      <td>12</td>\n",
       "      <td>1</td>\n",
       "      <td>1</td>\n",
       "      <td>0.8</td>\n",
       "      <td>363</td>\n",
       "      <td>363</td>\n",
       "    </tr>\n",
       "  </tbody>\n",
       "</table>\n",
       "<p>1 rows × 137 columns</p>\n",
       "</div>"
      ],
      "text/plain": [
       "                                                  text  \\\n",
       "722  The waitress is very rude and very stiff. They...   \n",
       "\n",
       "              restaurant_id         x         y  crimes_2_km  crimes_1_km  \\\n",
       "722  sMrgQD2dYrvbe6VoZubSCg  1.775881  1.918154        0.142        0.088   \n",
       "\n",
       "     crimes_500_m  crimes_250_m  crimes_100_m  restaurants_2_km     ...       \\\n",
       "722          0.06         0.043         0.014          0.353368     ...        \n",
       "\n",
       "     **  ***  *>0  ***>0  ***>0  actual  predicted  prob  score  scoreapprox  \n",
       "722  14   46   17      7     12       1          1   0.8    363          363  \n",
       "\n",
       "[1 rows x 137 columns]"
      ]
     },
     "execution_count": 221,
     "metadata": {},
     "output_type": "execute_result"
    }
   ],
   "source": [
    "tt[tt.restaurant_id == 'sMrgQD2dYrvbe6VoZubSCg']"
   ]
  },
  {
   "cell_type": "code",
   "execution_count": 162,
   "metadata": {
    "collapsed": false
   },
   "outputs": [
    {
     "name": "stderr",
     "output_type": "stream",
     "text": [
      "//anaconda/lib/python3.5/site-packages/ipykernel/__main__.py:5: UserWarning: Boolean Series key will be reindexed to match DataFrame index.\n"
     ]
    },
    {
     "ename": "IndexingError",
     "evalue": "Unalignable boolean Series key provided",
     "output_type": "error",
     "traceback": [
      "\u001b[0;31m---------------------------------------------------------------------------\u001b[0m",
      "\u001b[0;31mIndexingError\u001b[0m                             Traceback (most recent call last)",
      "\u001b[0;32m<ipython-input-162-31f577c63f61>\u001b[0m in \u001b[0;36m<module>\u001b[0;34m()\u001b[0m\n\u001b[1;32m      3\u001b[0m \u001b[0;31m# tdTP = timeless_data[TP]\u001b[0m\u001b[0;34m\u001b[0m\u001b[0;34m\u001b[0m\u001b[0m\n\u001b[1;32m      4\u001b[0m \u001b[0;31m# tdTP\u001b[0m\u001b[0;34m\u001b[0m\u001b[0;34m\u001b[0m\u001b[0m\n\u001b[0;32m----> 5\u001b[0;31m \u001b[0mtimeless_test\u001b[0m\u001b[0;34m[\u001b[0m\u001b[0mTP\u001b[0m\u001b[0;34m[\u001b[0m\u001b[0mTP\u001b[0m \u001b[0;34m==\u001b[0m \u001b[0;36m1\u001b[0m\u001b[0;34m]\u001b[0m\u001b[0;34m]\u001b[0m\u001b[0;34m\u001b[0m\u001b[0m\n\u001b[0m",
      "\u001b[0;32m//anaconda/lib/python3.5/site-packages/pandas/core/frame.py\u001b[0m in \u001b[0;36m__getitem__\u001b[0;34m(self, key)\u001b[0m\n\u001b[1;32m   1984\u001b[0m         \u001b[0;32mif\u001b[0m \u001b[0misinstance\u001b[0m\u001b[0;34m(\u001b[0m\u001b[0mkey\u001b[0m\u001b[0;34m,\u001b[0m \u001b[0;34m(\u001b[0m\u001b[0mSeries\u001b[0m\u001b[0;34m,\u001b[0m \u001b[0mnp\u001b[0m\u001b[0;34m.\u001b[0m\u001b[0mndarray\u001b[0m\u001b[0;34m,\u001b[0m \u001b[0mIndex\u001b[0m\u001b[0;34m,\u001b[0m \u001b[0mlist\u001b[0m\u001b[0;34m)\u001b[0m\u001b[0;34m)\u001b[0m\u001b[0;34m:\u001b[0m\u001b[0;34m\u001b[0m\u001b[0m\n\u001b[1;32m   1985\u001b[0m             \u001b[0;31m# either boolean or fancy integer index\u001b[0m\u001b[0;34m\u001b[0m\u001b[0;34m\u001b[0m\u001b[0m\n\u001b[0;32m-> 1986\u001b[0;31m             \u001b[0;32mreturn\u001b[0m \u001b[0mself\u001b[0m\u001b[0;34m.\u001b[0m\u001b[0m_getitem_array\u001b[0m\u001b[0;34m(\u001b[0m\u001b[0mkey\u001b[0m\u001b[0;34m)\u001b[0m\u001b[0;34m\u001b[0m\u001b[0m\n\u001b[0m\u001b[1;32m   1987\u001b[0m         \u001b[0;32melif\u001b[0m \u001b[0misinstance\u001b[0m\u001b[0;34m(\u001b[0m\u001b[0mkey\u001b[0m\u001b[0;34m,\u001b[0m \u001b[0mDataFrame\u001b[0m\u001b[0;34m)\u001b[0m\u001b[0;34m:\u001b[0m\u001b[0;34m\u001b[0m\u001b[0m\n\u001b[1;32m   1988\u001b[0m             \u001b[0;32mreturn\u001b[0m \u001b[0mself\u001b[0m\u001b[0;34m.\u001b[0m\u001b[0m_getitem_frame\u001b[0m\u001b[0;34m(\u001b[0m\u001b[0mkey\u001b[0m\u001b[0;34m)\u001b[0m\u001b[0;34m\u001b[0m\u001b[0m\n",
      "\u001b[0;32m//anaconda/lib/python3.5/site-packages/pandas/core/frame.py\u001b[0m in \u001b[0;36m_getitem_array\u001b[0;34m(self, key)\u001b[0m\n\u001b[1;32m   2024\u001b[0m             \u001b[0;31m# check_bool_indexer will throw exception if Series key cannot\u001b[0m\u001b[0;34m\u001b[0m\u001b[0;34m\u001b[0m\u001b[0m\n\u001b[1;32m   2025\u001b[0m             \u001b[0;31m# be reindexed to match DataFrame rows\u001b[0m\u001b[0;34m\u001b[0m\u001b[0;34m\u001b[0m\u001b[0m\n\u001b[0;32m-> 2026\u001b[0;31m             \u001b[0mkey\u001b[0m \u001b[0;34m=\u001b[0m \u001b[0mcheck_bool_indexer\u001b[0m\u001b[0;34m(\u001b[0m\u001b[0mself\u001b[0m\u001b[0;34m.\u001b[0m\u001b[0mindex\u001b[0m\u001b[0;34m,\u001b[0m \u001b[0mkey\u001b[0m\u001b[0;34m)\u001b[0m\u001b[0;34m\u001b[0m\u001b[0m\n\u001b[0m\u001b[1;32m   2027\u001b[0m             \u001b[0mindexer\u001b[0m \u001b[0;34m=\u001b[0m \u001b[0mkey\u001b[0m\u001b[0;34m.\u001b[0m\u001b[0mnonzero\u001b[0m\u001b[0;34m(\u001b[0m\u001b[0;34m)\u001b[0m\u001b[0;34m[\u001b[0m\u001b[0;36m0\u001b[0m\u001b[0;34m]\u001b[0m\u001b[0;34m\u001b[0m\u001b[0m\n\u001b[1;32m   2028\u001b[0m             \u001b[0;32mreturn\u001b[0m \u001b[0mself\u001b[0m\u001b[0;34m.\u001b[0m\u001b[0mtake\u001b[0m\u001b[0;34m(\u001b[0m\u001b[0mindexer\u001b[0m\u001b[0;34m,\u001b[0m \u001b[0maxis\u001b[0m\u001b[0;34m=\u001b[0m\u001b[0;36m0\u001b[0m\u001b[0;34m,\u001b[0m \u001b[0mconvert\u001b[0m\u001b[0;34m=\u001b[0m\u001b[0;32mFalse\u001b[0m\u001b[0;34m)\u001b[0m\u001b[0;34m\u001b[0m\u001b[0m\n",
      "\u001b[0;32m//anaconda/lib/python3.5/site-packages/pandas/core/indexing.py\u001b[0m in \u001b[0;36mcheck_bool_indexer\u001b[0;34m(ax, key)\u001b[0m\n\u001b[1;32m   1753\u001b[0m         \u001b[0mmask\u001b[0m \u001b[0;34m=\u001b[0m \u001b[0mcom\u001b[0m\u001b[0;34m.\u001b[0m\u001b[0misnull\u001b[0m\u001b[0;34m(\u001b[0m\u001b[0mresult\u001b[0m\u001b[0;34m.\u001b[0m\u001b[0m_values\u001b[0m\u001b[0;34m)\u001b[0m\u001b[0;34m\u001b[0m\u001b[0m\n\u001b[1;32m   1754\u001b[0m         \u001b[0;32mif\u001b[0m \u001b[0mmask\u001b[0m\u001b[0;34m.\u001b[0m\u001b[0many\u001b[0m\u001b[0;34m(\u001b[0m\u001b[0;34m)\u001b[0m\u001b[0;34m:\u001b[0m\u001b[0;34m\u001b[0m\u001b[0m\n\u001b[0;32m-> 1755\u001b[0;31m             \u001b[0;32mraise\u001b[0m \u001b[0mIndexingError\u001b[0m\u001b[0;34m(\u001b[0m\u001b[0;34m'Unalignable boolean Series key provided'\u001b[0m\u001b[0;34m)\u001b[0m\u001b[0;34m\u001b[0m\u001b[0m\n\u001b[0m\u001b[1;32m   1756\u001b[0m \u001b[0;34m\u001b[0m\u001b[0m\n\u001b[1;32m   1757\u001b[0m         \u001b[0mresult\u001b[0m \u001b[0;34m=\u001b[0m \u001b[0mresult\u001b[0m\u001b[0;34m.\u001b[0m\u001b[0mastype\u001b[0m\u001b[0;34m(\u001b[0m\u001b[0mbool\u001b[0m\u001b[0;34m)\u001b[0m\u001b[0;34m.\u001b[0m\u001b[0m_values\u001b[0m\u001b[0;34m\u001b[0m\u001b[0m\n",
      "\u001b[0;31mIndexingError\u001b[0m: Unalignable boolean Series key provided"
     ]
    }
   ],
   "source": [
    "T = (preds_test == y_test)\n",
    "TP = y_test[T] == 1\n",
    "# tdTP = timeless_data[TP]\n",
    "# tdTP\n",
    "\n"
   ]
  },
  {
   "cell_type": "code",
   "execution_count": null,
   "metadata": {
    "collapsed": true
   },
   "outputs": [],
   "source": []
  },
  {
   "cell_type": "code",
   "execution_count": null,
   "metadata": {
    "collapsed": true
   },
   "outputs": [],
   "source": [
    "stop here"
   ]
  },
  {
   "cell_type": "code",
   "execution_count": 141,
   "metadata": {
    "collapsed": false
   },
   "outputs": [
    {
     "data": {
      "text/plain": [
       "True"
      ]
     },
     "execution_count": 141,
     "metadata": {},
     "output_type": "execute_result"
    }
   ],
   "source": [
    "overlap_feats = list(set(tc_not_text_feats).intersection(all_non_text_feats))\n",
    "set(overlap_feats) == set(tc_not_text_feats)"
   ]
  },
  {
   "cell_type": "markdown",
   "metadata": {},
   "source": [
    "# #models already trained\n",
    "# def combinefeats(model1,model2,X_train, X_test,feats1,feats2):\n",
    "#     X_train_2 = pd.DataFrame(model1.predict_proba(X_train[feats1])[:,1], columns = ['model1'])\n",
    "#     X_train_2['model2'] = model2.predict_proba(X_train[feats2])[:,1]\n",
    "#     X_test_2 = pd.DataFrame(model1.predict_proba(X_test[feats1])[:,1], columns = ['model1'])\n",
    "#     X_test_2['model2'] = model2.predict_proba(X_test[feats2])[:,1]\n",
    "#     return X_train_2, X_test_2"
   ]
  },
  {
   "cell_type": "markdown",
   "metadata": {},
   "source": [
    "# Just use this model it's fine"
   ]
  },
  {
   "cell_type": "code",
   "execution_count": null,
   "metadata": {
    "collapsed": true
   },
   "outputs": [],
   "source": []
  },
  {
   "cell_type": "code",
   "execution_count": 94,
   "metadata": {
    "collapsed": false
   },
   "outputs": [
    {
     "name": "stdout",
     "output_type": "stream",
     "text": [
      "train 1.0\n",
      "test 0.2042906844\n"
     ]
    }
   ],
   "source": [
    "X = timeless_data['text']\n",
    "y = scoreapprox(timeless_data)\n",
    "X_train, X_test, y_train, y_test = constsplit(timeless_data.restaurant_id, X, y)\n",
    "modelr = Pipeline([('vect', CountVectorizer(ngram_range=(1, 2), lowercase = True,\n",
    "                                          stop_words = 'english')), # , max_df = 0.95, min_df = 0.05,\n",
    "                 ('tfidf', TfidfTransformer()), \n",
    "                 ('model', LinearRegression()),])\n",
    "modelr.fit(X_train,y_train)\n",
    "\n",
    "# pred_vals = modelt.predict_proba(X_test)\n",
    "# roc = roc_curve(y_test, pred_vals[:,1])\n",
    "print('train '+ str(modelr.score(X_train,y_train)))\n",
    "print('test '+ str(modelr.score(X_test,y_test)))\n",
    "# print('auc ' + str(roc_auc_score(y_test, pred_vals[:,1])))\n",
    "# plt.plot(roc[0], roc[1])\n",
    "# plt.title('ROC curve')\n",
    "# plt.xlabel('FP Rate')\n",
    "# plt.ylabel('TP Rate')\n",
    "# precision, recall, thresholds = precision_recall_curve(y_test, pred_vals[:,1])\n",
    "# plt.figure()"
   ]
  },
  {
   "cell_type": "code",
   "execution_count": 480,
   "metadata": {
    "collapsed": false
   },
   "outputs": [],
   "source": [
    "coefs = list(modelt.named_steps['model'].coef_[0])\n",
    "features = modelt.named_steps['vect'].get_feature_names()"
   ]
  },
  {
   "cell_type": "code",
   "execution_count": 481,
   "metadata": {
    "collapsed": true
   },
   "outputs": [],
   "source": [
    "cf, cdict = [], {}\n",
    "for i in range(len(coefs)):\n",
    "    cf.append((coefs[i], features[i]))\n",
    "    cdict[features[i]] = coefs[i]\n",
    "cf.sort(reverse = True)\n",
    "positives = cf[:100]\n",
    "negatives = cf[-100:]\n",
    "negatives.sort()"
   ]
  },
  {
   "cell_type": "code",
   "execution_count": 491,
   "metadata": {
    "collapsed": false
   },
   "outputs": [
    {
     "name": "stdout",
     "output_type": "stream",
     "text": [
      "\n",
      "\"Dirty\" Words:\n",
      "\n",
      "sushi: 1.728\n",
      "pho: 1.657\n",
      "food: 1.614\n",
      "chinese: 1.197\n",
      "rice: 0.985\n",
      "thai: 0.885\n",
      "dim sum: 0.868\n",
      "good: 0.775\n",
      "noodles: 0.716\n",
      "indian: 0.715\n",
      "\n"
     ]
    }
   ],
   "source": [
    "print()\n",
    "print('\"Dirty\" Words:\\n')\n",
    "\n",
    "for line in positives[:10]:\n",
    "    num = str(round(line[0],3))\n",
    "    num = num + '0' * (5 - len(num))\n",
    "    print(line[1] + ': ' + num)\n",
    "print()"
   ]
  },
  {
   "cell_type": "code",
   "execution_count": 492,
   "metadata": {
    "collapsed": false
   },
   "outputs": [
    {
     "name": "stdout",
     "output_type": "stream",
     "text": [
      "\n",
      "\"Clean\" words:\n",
      "\n",
      "coffee: -0.577\n",
      "italian: -0.503\n",
      "pasta: -0.474\n",
      "north end: -0.456\n",
      "burger: -0.446\n",
      "burrito: -0.426\n",
      "pizza: -0.415\n",
      "north: -0.41\n",
      "sandwich: -0.316\n",
      "starbucks: -0.284\n",
      "\n"
     ]
    }
   ],
   "source": [
    "print()\n",
    "print('\"Clean\" words:\\n')\n",
    "\n",
    "for line in negatives[:10]:\n",
    "    num = str(round(line[0],3))\n",
    "    num = num + '0' * (5 - len(num))\n",
    "    print(line[1] + ': ' + num)\n",
    "print()"
   ]
  },
  {
   "cell_type": "code",
   "execution_count": 295,
   "metadata": {
    "collapsed": false
   },
   "outputs": [],
   "source": [
    "coefs = list(models_pleasework[0].coef_[0])\n",
    "features= tc_not_text_feats"
   ]
  },
  {
   "cell_type": "code",
   "execution_count": 296,
   "metadata": {
    "collapsed": false
   },
   "outputs": [],
   "source": [
    "# for i in range(len(coefs)):\n",
    "#     if type(cf[i][1]) not in [float,int,complex]:\n",
    "#         print(i)\n",
    "#         print(cf[i][0])\n",
    "#         print()"
   ]
  },
  {
   "cell_type": "code",
   "execution_count": 297,
   "metadata": {
    "collapsed": false
   },
   "outputs": [],
   "source": [
    "cf, cdict = [], {}\n",
    "for i in range(len(coefs)):\n",
    "    cf.append((coefs[i], features[i]))\n",
    "    cdict[features[i]] = coefs[i]\n",
    "cf.sort(reverse = True)\n",
    "positives = cf[:100]\n",
    "negatives = cf[-100:]\n",
    "negatives.sort()"
   ]
  },
  {
   "cell_type": "code",
   "execution_count": 299,
   "metadata": {
    "collapsed": false
   },
   "outputs": [
    {
     "name": "stdout",
     "output_type": "stream",
     "text": [
      "Waiter Service: 1.288\n",
      "categories_Chinese: 1.195\n",
      "Parking_validated: 1.119\n",
      "Happy Hour: 1.054\n",
      "categories_Sushi Bars: 0.997\n",
      "Ambience_divey: 0.992\n",
      "open: 0.983\n",
      "Ambience_casual: 0.804\n",
      "Coat Check: 0.755\n",
      "neighborhoods_South End: 0.72\n"
     ]
    }
   ],
   "source": [
    "for line in positives[:10]:\n",
    "    num = str(round(line[0],3))\n",
    "    print(line[1] + ': ' + num)"
   ]
  },
  {
   "cell_type": "code",
   "execution_count": 301,
   "metadata": {
    "collapsed": false
   },
   "outputs": [
    {
     "name": "stdout",
     "output_type": "stream",
     "text": [
      "city_Brighton: -1.386\n",
      "Good For Dancing: -1.289\n",
      "categories_Sandwiches: -1.219\n",
      "neighborhoods_North End: -1.167\n",
      "neighborhoods_East Boston: -1.09\n",
      "categories_Lounges: -1.001\n",
      "categories_Mexican: -0.956\n",
      "average: -0.937\n",
      "categories_Burgers: -0.851\n",
      "neighborhoods_Allston/Brighton: -0.794\n"
     ]
    }
   ],
   "source": [
    "for line in negatives[:10]:\n",
    "    num = str(round(line[0],3))\n",
    "    print(line[1] + ': ' + num)"
   ]
  },
  {
   "cell_type": "code",
   "execution_count": 311,
   "metadata": {
    "collapsed": false
   },
   "outputs": [
    {
     "data": {
      "text/plain": [
       "<bound method XGBModel.get_params of XGBClassifier(base_score=0.5, colsample_bylevel=1, colsample_bytree=1,\n",
       "       gamma=0, learning_rate=0.1, max_delta_step=0, max_depth=3,\n",
       "       min_child_weight=1, missing=None, n_estimators=100, nthread=-1,\n",
       "       objective='binary:logistic', reg_alpha=0, reg_lambda=1,\n",
       "       scale_pos_weight=1, seed=0, silent=True, subsample=1)>"
      ]
     },
     "execution_count": 311,
     "metadata": {},
     "output_type": "execute_result"
    }
   ],
   "source": [
    "modelnt."
   ]
  },
  {
   "cell_type": "code",
   "execution_count": 236,
   "metadata": {
    "collapsed": false
   },
   "outputs": [
    {
     "name": "stdout",
     "output_type": "stream",
     "text": [
      "beef: 0.606690478699\n",
      "pork: 0.231558756852\n",
      "noodle: 0.62101943809\n",
      "egg: 0.0283205641651\n",
      "soy: 0.192289307632\n",
      "ramen: -0.194967802056\n",
      "pho: 1.65725905561\n",
      "bread: -0.243544045219\n",
      "toast: 0.175316269795\n",
      "carrot: -0.00889168310484\n",
      "bagel: -0.263147010037\n",
      "sandwich: -0.316454911813\n"
     ]
    }
   ],
   "source": [
    "hygb = ['gross', 'mess', 'sticky', 'smell', 'restroom', 'dirty', 'bug', 'spider', 'gross', 'disgusting', 'clean', 'dirty', 'dirt', 'ew', 'eww', 'roach', 'cleanliness', 'hygeine', 'raw']\n",
    "ingb = ['beef', 'pork', 'noodle', 'egg', 'sushi', 'ramen', 'pho', 'bread', 'toast','carrot','bagel','sandwich']\n",
    "cuib = ['Vietnamese', 'Thai', 'Mexican', 'Japanese', 'Chinese', 'American', 'Pizza', 'Sushi', \n",
    "        'Indian', 'Italian', 'Asian']\n",
    "for word in ingb:\n",
    "    if word.lower() in cdict.keys():\n",
    "        print(word.lower() + ': ' + str(cdict[word.lower()]))"
   ]
  },
  {
   "cell_type": "code",
   "execution_count": 517,
   "metadata": {
    "collapsed": false
   },
   "outputs": [
    {
     "name": "stdout",
     "output_type": "stream",
     "text": [
      "Hygeine Words:\n",
      "\n",
      "bug: 0.037\n",
      "spider: 0.032\n",
      "slime: 0.005\n",
      "sticky: 0.231\n",
      "gross: 0.065\n",
      "disgusting: 0.044\n",
      "dirty: 0.066\n",
      "clean: 0.018\n",
      "smelly: 0.035\n",
      "ew: 0.056\n",
      "egg: 0.028\n",
      "raw: 0.077\n",
      "uncooked: 0.046\n",
      "health: 0.033\n",
      "vomit: 0.044\n",
      "puke: -0.007\n",
      "chinese: 1.197\n",
      "cooked: 0.057\n",
      "fresh: 0.048\n",
      "spaghetti: -0.052\n",
      "politics: 0.004\n",
      "weak: 0.015\n",
      "arms: -0.008\n",
      "heavy: 0.007\n"
     ]
    }
   ],
   "source": [
    "badwords = ['bug', 'spider', 'slime', 'sticky', 'gross', 'disgusting', 'dirty', 'clean', 'smelly', 'ew',\n",
    "             'egg', 'raw', 'uncooked', 'health', 'vomit', 'puke', 'chinese', 'cooked',\n",
    "           'fresh', 'spaghetti', 'politics', 'weak', 'arms', 'heavy']\n",
    "\n",
    "hygb = ['gross', 'mess', 'sticky', 'smell', 'restroom', 'dirty']\n",
    "ingb = ['beef', 'pork', 'noodle', 'egg', 'soy', 'ramen', 'pho']\n",
    "cuib = ['Vietnamese', 'Thai', 'Mexican', 'Japanese', 'Chinese', 'American', 'Pizza', 'Sushi', \n",
    "        'Indian', 'Italian', 'Asian']\n",
    "\n",
    "sentimentwords = ['good', 'bad', 'great', 'nice', 'delicious', 'yummy', 'tasty', 'weird']\n",
    "\n",
    "print('Hygeine Words:\\n')\n",
    "\n",
    "for word in badwords:\n",
    "    if word.lower() in cdict.keys():\n",
    "        num = str(round(cdict[word.lower()],3))\n",
    "        num = num + '0' * (5 - len(num))\n",
    "        print(word + ': ' + num)"
   ]
  },
  {
   "cell_type": "code",
   "execution_count": 91,
   "metadata": {
    "collapsed": false
   },
   "outputs": [
    {
     "data": {
      "text/plain": [
       "[<matplotlib.lines.Line2D at 0x136472748>]"
      ]
     },
     "execution_count": 91,
     "metadata": {},
     "output_type": "execute_result"
    },
    {
     "data": {
      "image/png": "[encoded data removed]",
      "text/plain": [
       "<matplotlib.figure.Figure at 0x13c239198>"
      ]
     },
     "metadata": {},
     "output_type": "display_data"
    }
   ],
   "source": [
    "plt.plot(recall, precision)"
   ]
  },
  {
   "cell_type": "code",
   "execution_count": 93,
   "metadata": {
    "collapsed": false
   },
   "outputs": [
    {
     "name": "stdout",
     "output_type": "stream",
     "text": [
      "train 0.909501915709\n",
      "test 0.918303075213\n",
      "auc 0.612454866958\n"
     ]
    },
    {
     "data": {
      "text/plain": [
       "[<matplotlib.lines.Line2D at 0x11a60d400>]"
      ]
     },
     "execution_count": 93,
     "metadata": {},
     "output_type": "execute_result"
    },
    {
     "data": {
      "image/png": "[encoded data removed]",
      "text/plain": [
       "<matplotlib.figure.Figure at 0x13bcdf048>"
      ]
     },
     "metadata": {},
     "output_type": "display_data"
    },
    {
     "data": {
      "image/png": "[encoded data removed]",
      "text/plain": [
       "<matplotlib.figure.Figure at 0x11a62fc50>"
      ]
     },
     "metadata": {},
     "output_type": "display_data"
    }
   ],
   "source": [
    "X = windows_data['text']\n",
    "y = ptransform(scoreapprox(windows_data),90)\n",
    "X_train, X_test, y_train, y_test = constsplit(windows_data.restaurant_id, X, y)\n",
    "modelt = Pipeline([('vect', CountVectorizer(ngram_range=(1, 2), lowercase = True,\n",
    "                                          stop_words = 'english')), # , max_df = 0.95, min_df = 0.05,\n",
    "                 ('tfidf', TfidfTransformer()), \n",
    "                 ('model', LogisticRegression()),])\n",
    "modelt.fit(X_train,y_train)\n",
    "\n",
    "pred_vals = modelt.predict_proba(X_test)\n",
    "roc = roc_curve(y_test, pred_vals[:,1])\n",
    "print('train '+ str(modelt.score(X_train,y_train)))\n",
    "print('test '+ str(modelt.score(X_test,y_test)))\n",
    "print('auc ' + str(roc_auc_score(y_test, pred_vals[:,1])))\n",
    "plt.plot(roc[0], roc[1])\n",
    "plt.title('ROC curve')\n",
    "plt.xlabel('FP Rate')\n",
    "plt.ylabel('TP Rate')\n",
    "precision, recall, thresholds = precision_recall_curve(y_test, pred_vals[:,1])\n",
    "plt.figure()\n",
    "plt.plot(recall, precision)"
   ]
  },
  {
   "cell_type": "markdown",
   "metadata": {},
   "source": [
    "# Get score without text features, then throw that and pca in to ID others."
   ]
  },
  {
   "cell_type": "markdown",
   "metadata": {},
   "source": [
    "# Marwin's stuff"
   ]
  },
  {
   "cell_type": "code",
   "execution_count": null,
   "metadata": {
    "collapsed": false
   },
   "outputs": [],
   "source": [
    "# import numpy as np\n",
    "# from sklearn.base import clone\n",
    "# from itertools import combinations\n",
    "# from sklearn.cross_validation import train_test_split, cross_val_score\n",
    "# from sklearn.metrics import accuracy_score\n",
    "# class SBS():\n",
    "#     def __init__(self, model, k_features,scoring_metric=accuracy_score, test_size=0.2, random_state=42):\n",
    "#         self.scoring_metric = scoring_metric\n",
    "#         self.model = clone(model)\n",
    "#         self.k_features = k_features\n",
    "#         self.test_size = test_size\n",
    "#         self.random_state = random_state\n",
    "        \n",
    "#     def fit(self,X,y, ids):\n",
    "#         X_train,X_test,y_train,y_test = constsplit(ids, X, y)\n",
    "#         dim = X_train.shape[1]\n",
    "#         self.indices_ = tuple(range(dim))\n",
    "#         self.subsets_ = [self.indices_]\n",
    "#         score = self._calc_score(X_train,y_train,X_test,y_test,self.indices_)\n",
    "#         self.scores_ = [score]\n",
    "        \n",
    "#         while dim > self.k_features:\n",
    "#             scores = []\n",
    "#             subsets = []\n",
    "            \n",
    "#             for p in combinations(self.indices_,r=dim-1):\n",
    "#                 score = self._calc_score(X_train,y_train,X_test,y_test,p)\n",
    "#                 scores.append(score)\n",
    "#                 subsets.append(p)\n",
    "\n",
    "#             best = np.argmax(scores)\n",
    "#             self.indices_ = subsets[best]\n",
    "#             self.subsets_.append(self.indices_)\n",
    "#             dim -= 1\n",
    "#             self.scores_.append(scores[best])\n",
    "#         self.k_score_ = self.scores_[-1]\n",
    "#         return self\n",
    "    \n",
    "#     def transform(self,X):\n",
    "#         return X[:,self.indices_]\n",
    "    \n",
    "#     def _calc_score(self,X_train,y_train,X_test,y_test,indices):\n",
    "#         results = self.model.fit(X_train[:,indices],y_train)\n",
    "#         #regression scoring\n",
    "# #        score = results.score(X_test[:,indices],y_test) \n",
    "# #        score = np.mean(self.scoring_metric(self.model,X_train,y_train,scoring='r2'))\n",
    "#         #classification scoring\n",
    "#         y_pred = self.model.predict(X_test[:,indices])\n",
    "#         score = self.scoring_metric(y_test,y_pred)\n",
    "#         return score "
   ]
  },
  {
   "cell_type": "code",
   "execution_count": 136,
   "metadata": {
    "collapsed": false
   },
   "outputs": [],
   "source": [
    "    # def score(model,Xte,yte, class_or_reg):\n",
    "    #     out = model.score(Xte,yte)\n",
    "    #     if class_or_reg == 'class':\n",
    "    #         pred_vals = model.predict_proba(Xte)\n",
    "    #         out = roc_auc_score(yte, pred_vals[:,1])    \n",
    "    #     return out\n",
    "\n",
    "    # def onelevel(Xtr, Xte, ytr, yte, mycols, model, class_or_reg):\n",
    "    #     if type(mycols) == list:\n",
    "    #         columns = mycols\n",
    "    #     else:\n",
    "    #         columns = list(mycols)\n",
    "    #     model.fit(Xtr, ytr)\n",
    "    #     allscore = score(model,Xte,yte, class_or_reg)\n",
    "    #     bestscore = allscore + 0\n",
    "    #     bestcols = mycols[:]\n",
    "    #     for column in columns:\n",
    "    #         innercols = columns[:]\n",
    "    #         innercols.remove(column)\n",
    "    #         model.fit(Xtr[innercols], ytr)\n",
    "    #         innerscore = score(model,Xte[innercols],yte, class_or_reg)\n",
    "    #         if innerscore > bestscore:\n",
    "    #             bestscore = innerscore\n",
    "    #             bestcols = innercols\n",
    "    #     return bestcols\n",
    "\n",
    "    # def movedown(Xtr, Xte, ytr, yte, mycols, model, class_or_reg):\n",
    "    #     colsteps = [mycols[:]]\n",
    "    #     colsteps.append(onelevel(Xtr, Xte, ytr, yte, colsteps[-1], model, class_or_reg))\n",
    "    #     keep_going = True - (colsteps[-1] == colsteps[-2])\n",
    "    #     while keep_going == True:\n",
    "    # #         lastcols = nextcols[:]\n",
    "    #         colsteps.append(onelevel(Xtr, Xte, ytr, yte, colsteps[-1], model, class_or_reg))\n",
    "    #         keep_going = keep_going - (colsteps[-1] == colsteps[-2])\n",
    "    #     return colsteps\n"
   ]
  },
  {
   "cell_type": "code",
   "execution_count": 138,
   "metadata": {
    "collapsed": true
   },
   "outputs": [],
   "source": [
    "# def onelevelup(Xtr, Xte, ytr, yte, allcols, chosencols, model, class_or_reg):\n",
    "#     othercols = list(set(allcols).difference(set(chosencols)))\n",
    "#     outcols = chosencols[:]\n",
    "#     outerscore = -1\n",
    "#     to_add = None\n",
    "#     if len(chosencols) > 0:\n",
    "#         model.fit(Xtr[chosencols], ytr)\n",
    "#         outerscore = score(model, Xte[chosencols], yte, class_or_reg)\n",
    "#     for column in othercols:\n",
    "#         currentcols = chosencols[:]\n",
    "#         currentcols.append(column)\n",
    "#         model.fit(Xtr[currentcols], ytr)\n",
    "#         innerscore = score(model, Xte[currentcols], yte, class_or_reg)\n",
    "#         if innerscore > outerscore:\n",
    "#             outerscore = innerscore\n",
    "#             to_add = column\n",
    "#     if to_add:\n",
    "#         outcols.append(to_add)\n",
    "#     return outcols\n",
    "\n",
    "# def moveup(Xtr, Xte, ytr, yte, allcols, model, class_or_reg):\n",
    "#     colsteps = [[]]\n",
    "#     colsteps.append(onelevelup(Xtr, Xte, ytr, yte, allcols, colsteps[-1], model, class_or_reg))\n",
    "#     keep_going = True - (colsteps[-1] == colsteps[-2])\n",
    "#     while keep_going == True:\n",
    "#         colsteps.append(onelevelup(Xtr, Xte, ytr, yte, allcols, colsteps[-1], model, class_or_reg))\n",
    "#         keep_going = keep_going - (colsteps[-1] == colsteps[-2])\n",
    "#     return colsteps"
   ]
  },
  {
   "cell_type": "code",
   "execution_count": 139,
   "metadata": {
    "collapsed": false
   },
   "outputs": [],
   "source": [
    "# #non-text\n",
    "# X = timeless_data[tc_not_text_feats]\n",
    "# y = scoreapprox(timeless_data)\n",
    "# X_train, X_test, y_train, y_test = constsplit(timeless_data.restaurant_id, X, y)\n",
    "# # t0 = time.time()\n",
    "# # colpath = movedown(X_train, X_test, y_train, y_test, list(X_train.columns), LinearRegression(), 'reg')\n",
    "# # colpath2 = moveup(X_train, X_test, y_train, y_test, colpath[-1], LinearRegression(), 'reg')\n",
    "# # print(time.time() - t0)"
   ]
  },
  {
   "cell_type": "code",
   "execution_count": 140,
   "metadata": {
    "collapsed": true
   },
   "outputs": [],
   "source": [
    "# def updown(Xtr, Xte, ytr, yte, allcols, model, class_or_reg, n_cycles):\n",
    "# #     colsteps_up = moveup(Xtr, Xte, ytr, yte, allcols, model, class_or_reg)\n",
    "#     stepcols = [allcols[:]]\n",
    "#     stepcols.append(movedown(Xtr, Xte, ytr, yte, stepcols[-1], model, class_or_reg)[-1])\n",
    "#     stepcols.append(moveup(Xtr, Xte, ytr, yte, stepcols[-1], model, class_or_reg)[-1])\n",
    "#     i = 1\n",
    "#     keep_going = (True - (stepcols[-1] == stepcols[-3])) * (True - (i > n_cycles))\n",
    "#     while keep_going == True:\n",
    "#         stepcols.append(movedown(Xtr, Xte, ytr, yte, stepcols[-1], model, class_or_reg)[-1])\n",
    "#         stepcols.append(moveup(Xtr, Xte, ytr, yte, stepcols[-1], model, class_or_reg)[-1])\n",
    "#         keep_going = (True - (stepcols[-1] == stepcols[-3])) * (True - (i > n_cycles))\n",
    "#         i = i + 1\n",
    "#     lens = []\n",
    "#     for col in stepcols:\n",
    "#         lens.append(len(col))\n",
    "#     return stepcols, lens, (True - (stepcols[-1] == stepcols[-3])), (True - (i > n_cycles)), i, keep_going\n",
    "    "
   ]
  },
  {
   "cell_type": "code",
   "execution_count": null,
   "metadata": {
    "collapsed": true
   },
   "outputs": [],
   "source": []
  },
  {
   "cell_type": "code",
   "execution_count": null,
   "metadata": {
    "collapsed": false
   },
   "outputs": [],
   "source": [
    "# t0 = time.time()\n",
    "# colpath3, lens, a, b, c, d = updown(X_train, X_test, y_train, y_test, list(X_train.columns), LinearRegression(), 'reg', 1)\n",
    "# print(time.time() - t0)\n",
    "# print([a,b, c, d])"
   ]
  },
  {
   "cell_type": "code",
   "execution_count": null,
   "metadata": {
    "collapsed": false
   },
   "outputs": [],
   "source": [
    "# # non-text reg\n",
    "\n",
    "# X = timeless_data[colpath3[-1]]\n",
    "# y = scoreapprox(timeless_data)\n",
    "# X_train, X_test, y_train, y_test = constsplit(timeless_data.restaurant_id, X, y)\n",
    "\n",
    "# regression_models = [LinearRegression(), Ridge(alpha = 0.1), ElasticNet(), Lasso(), rfr(), SVR()]\n",
    "# modelnames = ['LinReg','Ridge','ElasticNet','Lasso', 'RF', 'SVR']\n",
    "# models_pleasework = []\n",
    "# for i in range(len(modelnames)):\n",
    "#     model = regression_models[i]\n",
    "#     model.fit(X_train, y_train)\n",
    "# #     pred_vals = model.predict_proba(X_test[tc_not_text_feats])\n",
    "# #     roc = roc_curve(y_test, pred_vals[:,1])\n",
    "#     print(modelnames[i])\n",
    "#     print('train '+ str(model.score(X_train,y_train)))\n",
    "#     print('test '+ str(model.score(X_test,y_test)))"
   ]
  },
  {
   "cell_type": "code",
   "execution_count": null,
   "metadata": {
    "collapsed": false
   },
   "outputs": [],
   "source": [
    "# t0 = time.time()\n",
    "# colpath5, lens, a, b, c, d = updown(X_train, X_test, y_train, y_test, list(X_train.columns), rfr(), 'reg', 1)\n",
    "# print(time.time() - t0)\n",
    "# print([a,b, c, d])"
   ]
  },
  {
   "cell_type": "code",
   "execution_count": null,
   "metadata": {
    "collapsed": false
   },
   "outputs": [],
   "source": [
    "# colpath5[-1]"
   ]
  },
  {
   "cell_type": "code",
   "execution_count": null,
   "metadata": {
    "collapsed": true
   },
   "outputs": [],
   "source": [
    "# X = timeless_data[tc_not_text_feats]\n",
    "# y = ptransform(scoreapprox(timeless_data), 80)\n",
    "# X_train, X_test, y_train, y_test = constsplit(timeless_data.restaurant_id, X, y)"
   ]
  },
  {
   "cell_type": "code",
   "execution_count": null,
   "metadata": {
    "collapsed": false
   },
   "outputs": [],
   "source": [
    "# t0 = time.time()\n",
    "# colpath6, lens, a, b, c, d = updown(X_train, X_test, y_train, y_test, list(X_train.columns), LogisticRegression(), 'class', 1)\n",
    "# print(time.time() - t0)\n",
    "# print([a,b, c, d])"
   ]
  },
  {
   "cell_type": "code",
   "execution_count": null,
   "metadata": {
    "collapsed": false
   },
   "outputs": [],
   "source": [
    "# colpath6[-1]"
   ]
  },
  {
   "cell_type": "markdown",
   "metadata": {},
   "source": [
    "# updown actually goes in deterministic cycles"
   ]
  },
  {
   "cell_type": "code",
   "execution_count": null,
   "metadata": {
    "collapsed": false
   },
   "outputs": [],
   "source": [
    "# #non-text\n",
    "# xtctc = colpath6[-1][:]\n",
    "# xtctc.append('text')\n",
    "# X = timeless_data[xtctc]\n",
    "# y = ptransform(scoreapprox(timeless_data), 80)\n",
    "# X_train, X_test, y_train, y_test = constsplit(timeless_data.restaurant_id, X, y)\n",
    "\n",
    "# classification_models = [LogisticRegression(), GaussianNB(), rf(), xgb()]\n",
    "# modelnames = ['LogReg','NaiveBayes','RF','XGB']\n",
    "# models_pleasework = []\n",
    "# for i in range(4):\n",
    "#     model = classification_models[i]\n",
    "#     model.fit(X_train[colpath6[-1]], y_train)\n",
    "#     pred_vals = model.predict_proba(X_test[colpath6[-1]])\n",
    "#     roc = roc_curve(y_test, pred_vals[:,1])\n",
    "#     print(modelnames[i])\n",
    "#     print('train '+ str(model.score(X_train[colpath6[-1]],y_train)))\n",
    "#     print('test '+ str(model.score(X_test[colpath6[-1]],y_test)))\n",
    "#     print('auc ' + str(roc_auc_score(y_test, pred_vals[:,1])))\n",
    "#     plt.plot(roc[0], roc[1], label = modelnames[i])\n",
    "#     plt.title('ROC curve ' + modelnames[i])\n",
    "#     plt.xlabel('FP Rate')\n",
    "#     plt.ylabel('TP Rate')\n",
    "#     models_pleasework.append(model)\n",
    "# plt.legend(loc = 'best')  \n",
    "# plt.figure()\n",
    "# plt.title('PR Curve')\n",
    "# plt.xlabel('Precision')\n",
    "# plt.ylabel('Recall')\n",
    "# for i in range(len(models_pleasework)):\n",
    "#     model = models_pleasework[i]\n",
    "#     pred_vals = model.predict_proba(X_test[colpath6[-1]])\n",
    "#     precision, recall, thresholds = precision_recall_curve(y_test, pred_vals[:,1])\n",
    "#     plt.plot(recall, precision, label = modelnames[i])\n",
    "# plt.legend(loc = 'best')"
   ]
  },
  {
   "cell_type": "markdown",
   "metadata": {},
   "source": [
    "# toy set of inspection-level estimates"
   ]
  },
  {
   "cell_type": "code",
   "execution_count": null,
   "metadata": {
    "collapsed": false
   },
   "outputs": [],
   "source": [
    "# wd2=windows_data.sample(n = 1000)\n",
    "# testmodel = Pipeline([('vect', CountVectorizer(ngram_range=(1, 2), lowercase = False, stop_words = 'english')),\n",
    "#                  ('model', Ridge()),])\n",
    "\n",
    "# X = wd2['text']\n",
    "# y = scoreapprox(wd2)\n",
    "# X_train, X_test, y_train, y_test = train_test_split(X,y,test_size = 0.3)"
   ]
  },
  {
   "cell_type": "code",
   "execution_count": null,
   "metadata": {
    "collapsed": false
   },
   "outputs": [],
   "source": [
    "# wd2=windows_data.sample(n = 1000)\n",
    "# testmodel = Pipeline([('vect', CountVectorizer(ngram_range=(1, 2), lowercase = False, stop_words = 'english')),\n",
    "#                  ('model', LogisticRegression()),])\n",
    "\n",
    "# X = wd2['text']\n",
    "# y = ptransform(scoreapprox(wd2),80)\n",
    "# X_train, X_test, y_train, y_test = train_test_split(X,y,test_size = 0.3)\n",
    "\n",
    "# t0 = time.time()\n",
    "# testmodel.fit(X_train, y_train)\n",
    "# pred_vals = testmodel.predict_proba(X_test)\n",
    "# roc = roc_curve(y_test, pred_vals[:,1])\n",
    "# print(modelnames[i])\n",
    "# print('train '+ str(testmodel.score(X_train,y_train)))\n",
    "# print('test '+ str(testmodel.score(X_test,y_test)))\n",
    "# print('auc ' + str(roc_auc_score(y_test, pred_vals[:,1])))\n",
    "# plt.plot(roc[0], roc[1], label = modelnames[i])\n",
    "# plt.title('ROC curve ' + modelnames[i])\n",
    "# plt.xlabel('FP Rate')\n",
    "# plt.ylabel('TP Rate')\n",
    "# print(time.time()-t0)\n"
   ]
  },
  {
   "cell_type": "code",
   "execution_count": null,
   "metadata": {
    "collapsed": false
   },
   "outputs": [],
   "source": [
    "# testmodel = Pipeline([('vect', CountVectorizer(ngram_range=(1, 2), lowercase = False, stop_words = 'english')),\n",
    "#                  ('model', LogisticRegression()),])\n",
    "\n",
    "# X = timeless_data['text']\n",
    "# y = ptransform(scoreapprox(timeless_data),80)\n",
    "# X_train, X_test, y_train, y_test = train_test_split(X,y,test_size = 0.3)\n",
    "\n",
    "# t0 = time.time()\n",
    "# testmodel.fit(X_train, y_train)\n",
    "# pred_vals = testmodel.predict_proba(X_test)\n",
    "# roc = roc_curve(y_test, pred_vals[:,1])\n",
    "# print(modelnames[i])\n",
    "# print('train '+ str(testmodel.score(X_train,y_train)))\n",
    "# print('test '+ str(testmodel.score(X_test,y_test)))\n",
    "# print('auc ' + str(roc_auc_score(y_test, pred_vals[:,1])))\n",
    "# plt.plot(roc[0], roc[1], label = modelnames[i])\n",
    "# plt.title('ROC curve ' + modelnames[i])\n",
    "# plt.xlabel('FP Rate')\n",
    "# plt.ylabel('TP Rate')\n",
    "# print(time.time()-t0)\n"
   ]
  },
  {
   "cell_type": "code",
   "execution_count": null,
   "metadata": {
    "collapsed": false
   },
   "outputs": [],
   "source": [
    "# testmodel = Pipeline([('vect', CountVectorizer(ngram_range=(1, 1), lowercase = False, stop_words = 'english')),\n",
    "#                  ('model', LogisticRegression()),])\n",
    "\n",
    "# X = timeless_data['text']\n",
    "# y = ptransform(scoreapprox(timeless_data),80)\n",
    "# X_train, X_test, y_train, y_test = train_test_split(X,y,test_size = 0.3)\n",
    "\n",
    "# t0 = time.time()\n",
    "# testmodel.fit(X_train, y_train)\n",
    "# pred_vals = testmodel.predict_proba(X_test)\n",
    "# roc = roc_curve(y_test, pred_vals[:,1])\n",
    "# print(modelnames[i])\n",
    "# print('train '+ str(testmodel.score(X_train,y_train)))\n",
    "# print('test '+ str(testmodel.score(X_test,y_test)))\n",
    "# print('auc ' + str(roc_auc_score(y_test, pred_vals[:,1])))\n",
    "# plt.plot(roc[0], roc[1], label = modelnames[i])\n",
    "# plt.title('ROC curve ' + modelnames[i])\n",
    "# plt.xlabel('FP Rate')\n",
    "# plt.ylabel('TP Rate')\n",
    "# print(time.time()-t0)\n"
   ]
  },
  {
   "cell_type": "code",
   "execution_count": null,
   "metadata": {
    "collapsed": false
   },
   "outputs": [],
   "source": [
    "# modeltypes = [LogisticRegression(), GaussianNB(), rf(), xgb()]\n",
    "# modelnames = ['LogReg','NaiveBayes','RF','XGB']\n",
    "\n",
    "# for i in range(len(modeltypes)):\n",
    "\n",
    "#     wd2=windows_data.sample(n = 1000)\n",
    "#     pipe = Pipeline([('vect', CountVectorizer(ngram_range=(1, 2), lowercase = False, stop_words = 'english'))])\n",
    "#     testmodel = modeltypes[i]\n",
    "#     train_stuff = pipe.fit_transform(X_train).todense()\n",
    "#     test_stuff = pipe.transform(X_test).todense()\n",
    "#     X = wd2['text']\n",
    "#     y = ptransform(scoreapprox(wd2),80)\n",
    "#     X_train, X_test, y_train, y_test = train_test_split(X,y,test_size = 0.3)\n",
    "#     t0 = time.time()\n",
    "#     testmodel.fit(train_stuff, y_train)\n",
    "#     pred_vals = testmodel.predict_proba(test_stuff)\n",
    "#     roc = roc_curve(y_test, pred_vals[:,1])\n",
    "#     print(modelnames[i])\n",
    "#     print('train '+ str(testmodel.score(train_stuff,y_train)))\n",
    "#     print('test '+ str(testmodel.score(test_stuff,y_test)))\n",
    "#     print('auc ' + str(roc_auc_score(y_test, pred_vals[:,1])))\n",
    "#     plt.plot(roc[0], roc[1], label = modelnames[i])\n",
    "#     plt.title('ROC curve ' + modelnames[i])\n",
    "#     plt.xlabel('FP Rate')\n",
    "#     plt.ylabel('TP Rate')\n",
    "# print(time.time()-t0)"
   ]
  },
  {
   "cell_type": "code",
   "execution_count": null,
   "metadata": {
    "collapsed": false
   },
   "outputs": [],
   "source": [
    "# testmodel.score(X_test, y_test)"
   ]
  },
  {
   "cell_type": "code",
   "execution_count": null,
   "metadata": {
    "collapsed": false
   },
   "outputs": [],
   "source": [
    "# colpath4[-1] == colpath4[-3]"
   ]
  },
  {
   "cell_type": "code",
   "execution_count": null,
   "metadata": {
    "collapsed": false
   },
   "outputs": [],
   "source": [
    "# plt.plot(list(range(1, len(lens) + 1)), lens)"
   ]
  },
  {
   "cell_type": "code",
   "execution_count": null,
   "metadata": {
    "collapsed": false
   },
   "outputs": [],
   "source": [
    "# train_test_split(X_t)"
   ]
  },
  {
   "cell_type": "code",
   "execution_count": null,
   "metadata": {
    "collapsed": false
   },
   "outputs": [],
   "source": [
    "# X = timeless_data[colpath[-1]]\n",
    "# y = timeless_data['***']\n",
    "# X_train, X_test, y_train, y_test = constsplit(timeless_data.restaurant_id, X, y)\n",
    "\n",
    "# regression_models = [LinearRegression(), Ridge(alpha = 0.1), ElasticNet(), Lasso(), rfr(), SVR()]\n",
    "# modelnames = ['LinReg','Ridge','ElasticNet','Lasso', 'RF', 'SVR']\n",
    "# models_pleasework = []\n",
    "# for i in range(len(modelnames)):\n",
    "#     model = regression_models[i]\n",
    "#     model.fit(X_train, y_train)\n",
    "# #     pred_vals = model.predict_proba(X_test[tc_not_text_feats])\n",
    "# #     roc = roc_curve(y_test, pred_vals[:,1])\n",
    "#     print(modelnames[i])\n",
    "#     print('train '+ str(model.score(X_train,y_train)))\n",
    "#     print('test '+ str(model.score(X_test,y_test)))"
   ]
  },
  {
   "cell_type": "code",
   "execution_count": null,
   "metadata": {
    "collapsed": false
   },
   "outputs": [],
   "source": [
    "# # non-text classifier\n",
    "# t0 = time.time()\n",
    "# X = timeless_data[tc_not_text_feats]\n",
    "# y = ptransform(timeless_data['***'], 80)\n",
    "# X_train, X_test, y_train, y_test = constsplit(timeless_data.restaurant_id, X, y)\n",
    "\n",
    "# colpath_lr = movedown(X_train, X_test, y_train, y_test, list(X_train.columns), LogisticRegression(), 'class')\n",
    "# print(str(len(colpath_lr) - 1) + ' steps, ' +  str(time.time() - t0) + ' seconds')"
   ]
  },
  {
   "cell_type": "code",
   "execution_count": null,
   "metadata": {
    "collapsed": false
   },
   "outputs": [],
   "source": [
    "# onelevelup(X_train, X_test, y_train, y_test, list(X_train.columns), [], model, 'reg')"
   ]
  },
  {
   "cell_type": "code",
   "execution_count": null,
   "metadata": {
    "collapsed": false
   },
   "outputs": [],
   "source": [
    "# # non-text classifier\n",
    "# t0 = time.time()\n",
    "# X = timeless_data[tc_not_text_feats]\n",
    "# y = ptransform(timeless_data['***'], 80)\n",
    "# X_train, X_test, y_train, y_test = constsplit(timeless_data.restaurant_id, X, y)\n",
    "\n",
    "# colpath_nb = movedown(X_train, X_test, y_train, y_test, list(X_train.columns), GaussianNB(), 'class')\n",
    "# print(str(len(colpath_nb) - 1) + ' steps, ' +  str(time.time() - t0) + ' seconds')"
   ]
  },
  {
   "cell_type": "code",
   "execution_count": null,
   "metadata": {
    "collapsed": false
   },
   "outputs": [],
   "source": [
    "# colpath_nb[-1]"
   ]
  },
  {
   "cell_type": "code",
   "execution_count": null,
   "metadata": {
    "collapsed": false
   },
   "outputs": [],
   "source": [
    "# # non-text classifier\n",
    "# t0 = time.time()\n",
    "# X = timeless_data[tc_not_text_feats]\n",
    "# y = ptransform(timeless_data['***'], 80)\n",
    "# X_train, X_test, y_train, y_test = constsplit(timeless_data.restaurant_id, X, y)\n",
    "\n",
    "# colpath_xgb = movedown(X_train, X_test, y_train, y_test, list(X_train.columns), xgb(), 'class')\n",
    "# print(str(len(colpath_xgb) - 1) + ' steps, ' +  str(time.time() - t0) + ' seconds')"
   ]
  },
  {
   "cell_type": "code",
   "execution_count": null,
   "metadata": {
    "collapsed": true
   },
   "outputs": [],
   "source": [
    "# non-text classifier\n",
    "t0 = time.time()\n",
    "X = timeless_data[tc_not_text_feats]\n",
    "y = ptransform(timeless_data['***'], 80)\n",
    "X_train, X_test, y_train, y_test = constsplit(timeless_data.restaurant_id, X, y)\n",
    "\n",
    "colpath_rf = movedown(X_train, X_test, y_train, y_test, list(X_train.columns), rf(), 'class')\n",
    "print(str(len(colpath_rf) - 1) + ' steps, ' +  str(time.time() - t0) + ' seconds')"
   ]
  },
  {
   "cell_type": "code",
   "execution_count": null,
   "metadata": {
    "collapsed": false
   },
   "outputs": [],
   "source": [
    "#non-text\n",
    "xtctc = tc_not_text_feats[:]\n",
    "xtctc.append('text')\n",
    "X = timeless_data[xtctc]\n",
    "y = ptransform(scoreapprox(timeless_data), 80)\n",
    "X_train, X_test, y_train, y_test = constsplit(timeless_data.restaurant_id, X, y)\n",
    "\n",
    "classification_models = [LogisticRegression(), GaussianNB(), rf(), xgb()]\n",
    "modelnames = ['LogReg','NaiveBayes','RF','XGB']\n",
    "models_pleasework = []\n",
    "for i in range(4):\n",
    "    model = classification_models[i]\n",
    "    model.fit(X_train[tc_not_text_feats], y_train)\n",
    "    pred_vals = model.predict_proba(X_test[tc_not_text_feats])\n",
    "    roc = roc_curve(y_test, pred_vals[:,1])\n",
    "    print(modelnames[i])\n",
    "    print('train '+ str(model.score(X_train[tc_not_text_feats],y_train)))\n",
    "    print('test '+ str(model.score(X_test[tc_not_text_feats],y_test)))\n",
    "    print('auc ' + str(roc_auc_score(y_test, pred_vals[:,1])))\n",
    "    plt.plot(roc[0], roc[1], label = modelnames[i])\n",
    "    plt.title('ROC curve ' + modelnames[i])\n",
    "    plt.xlabel('FP Rate')\n",
    "    plt.ylabel('TP Rate')\n",
    "    models_pleasework.append(model)\n",
    "plt.legend(loc = 'best')  \n",
    "plt.figure()\n",
    "plt.title('PR Curve')\n",
    "plt.xlabel('Precision')\n",
    "plt.ylabel('Recall')\n",
    "for i in range(len(models_pleasework)):\n",
    "    model = models_pleasework[i]\n",
    "    pred_vals = model.predict_proba(X_test[tc_not_text_feats])\n",
    "    precision, recall, thresholds = precision_recall_curve(y_test, pred_vals[:,1])\n",
    "    plt.plot(recall, precision, label = modelnames[i])\n",
    "plt.legend(loc = 'best')"
   ]
  },
  {
   "cell_type": "code",
   "execution_count": null,
   "metadata": {
    "collapsed": false
   },
   "outputs": [],
   "source": [
    "plt.hist(scoreapprox(windows_data), bins = 30)"
   ]
  },
  {
   "cell_type": "code",
   "execution_count": null,
   "metadata": {
    "collapsed": false
   },
   "outputs": [],
   "source": [
    "plt.hist(scoreapprox(timeless_data), bins = 30)"
   ]
  },
  {
   "cell_type": "code",
   "execution_count": null,
   "metadata": {
    "collapsed": true
   },
   "outputs": [],
   "source": []
  },
  {
   "cell_type": "code",
   "execution_count": null,
   "metadata": {
    "collapsed": false
   },
   "outputs": [],
   "source": [
    "percentile(scoreapprox(windows_data),90)"
   ]
  },
  {
   "cell_type": "code",
   "execution_count": null,
   "metadata": {
    "collapsed": false
   },
   "outputs": [],
   "source": [
    "max(scoreapprox(windows_data))"
   ]
  },
  {
   "cell_type": "code",
   "execution_count": null,
   "metadata": {
    "collapsed": false
   },
   "outputs": [],
   "source": [
    "plt.hist(windows_data['***'], bins = 15)"
   ]
  },
  {
   "cell_type": "code",
   "execution_count": null,
   "metadata": {
    "collapsed": false
   },
   "outputs": [],
   "source": [
    "# non-text reg\n",
    "\n",
    "X = timeless_data[tc_not_text_feats]\n",
    "y = scoreapprox(timeless_data)\n",
    "X_train, X_test, y_train, y_test = constsplit(timeless_data.restaurant_id, X, y)\n",
    "\n",
    "regression_models = [LinearRegression(), Ridge(alpha = 0.1), ElasticNet(), Lasso(), rfr(), SVR()]\n",
    "modelnames = ['LinReg','Ridge','ElasticNet','Lasso', 'RF', 'SVR']\n",
    "models_pleasework = []\n",
    "for i in range(len(modelnames)):\n",
    "    model = regression_models[i]\n",
    "    model.fit(X_train, y_train)\n",
    "#     pred_vals = model.predict_proba(X_test[tc_not_text_feats])\n",
    "#     roc = roc_curve(y_test, pred_vals[:,1])\n",
    "    print(modelnames[i])\n",
    "    print('train '+ str(model.score(X_train,y_train)))\n",
    "    print('test '+ str(model.score(X_test,y_test)))"
   ]
  },
  {
   "cell_type": "code",
   "execution_count": null,
   "metadata": {
    "collapsed": false
   },
   "outputs": [],
   "source": [
    "sbs = SBS(LinearRegression(), 20)\n",
    "\n",
    "sbs.fit(X_train,y_train, timeless_data.restaurant_id)"
   ]
  },
  {
   "cell_type": "code",
   "execution_count": null,
   "metadata": {
    "collapsed": false
   },
   "outputs": [],
   "source": [
    "yta = np.asarray(y_test.values.tolist())"
   ]
  },
  {
   "cell_type": "code",
   "execution_count": null,
   "metadata": {
    "collapsed": false
   },
   "outputs": [],
   "source": [
    "mse"
   ]
  },
  {
   "cell_type": "code",
   "execution_count": null,
   "metadata": {
    "collapsed": false
   },
   "outputs": [],
   "source": [
    "plt.scatter(list(range(1,11)), y_test[:10].values.tolist(), c = 'b', label = 'true')\n",
    "plt.scatter(list(range(1,11)), y_pred[:10], c = 'r', label = 'predicted')\n",
    "plt.legend()"
   ]
  },
  {
   "cell_type": "code",
   "execution_count": null,
   "metadata": {
    "collapsed": true
   },
   "outputs": [],
   "source": [
    "randguess = "
   ]
  },
  {
   "cell_type": "code",
   "execution_count": null,
   "metadata": {
    "collapsed": false
   },
   "outputs": [],
   "source": [
    "junky_feats = ['crimes_2_km', 'crimes_500_m', 'crimes_250_m', 'crimes_100_m', 'restaurants_2_km', 'restaurants_500_m', 'restaurants_250_m', 'restaurants_100_m', 'city_Allston', 'city_Dorchester', 'city_Jamaica Plain', 'city_Roslindale', 'city_West Roxbury', 'city_Boston', 'city_Brighton']\n",
    "# junky_feats.extend(['x','y', 'neighborhoods_Dorchester', 'neighborhoods_Jamaica Plain', 'neighborhoods_Allston/Brighton', 'neighborhoods_Fenway', 'neighborhoods_Financial District', 'neighborhoods_South End', 'neighborhoods_Chinatown', 'neighborhoods_Back Bay', 'neighborhoods_East Boston', 'neighborhoods_Downtown', 'neighborhoods_Waterfront', 'neighborhoods_Charlestown', 'neighborhoods_North End', 'neighborhoods_Roslindale', 'neighborhoods_South Boston', 'neighborhoods_West Roxbury', 'neighborhoods_Beacon Hill',])\n",
    "junky_feats.append('open')\n",
    "tc_not_text_feats_short = tc_not_text_feats[:]\n",
    "for jf in junky_feats:\n",
    "    while jf in tc_not_text_feats_short:\n",
    "        tc_not_text_feats_short.remove(jf)\n",
    "# tc_not_text_feats_short"
   ]
  },
  {
   "cell_type": "code",
   "execution_count": null,
   "metadata": {
    "collapsed": false
   },
   "outputs": [],
   "source": [
    "# non-text only; fewer features\n",
    "\n",
    "xtctc_short = tc_not_text_feats_short[:]\n",
    "xtctc_short.append('text')\n",
    "X = timeless_data[xtctc_short]\n",
    "y = ptransform(timeless_data['***'], 80)\n",
    "X_train, X_test, y_train, y_test = constsplit(timeless_data.restaurant_id, X, y)\n",
    "\n",
    "classification_models = [LogisticRegression(), GaussianNB(), rf(), xgb()]\n",
    "modelnames = ['LogReg','NaiveBayes','RF','XGB']\n",
    "models_pleasework = []\n",
    "for i in range(4):\n",
    "    model = classification_models[i]\n",
    "    model.fit(X_train[tc_not_text_feats_short], y_train)\n",
    "    pred_vals = model.predict_proba(X_test[tc_not_text_feats_short])\n",
    "    roc = roc_curve(y_test, pred_vals[:,1])\n",
    "    print(modelnames[i])\n",
    "    print('train '+ str(model.score(X_train[tc_not_text_feats_short],y_train)))\n",
    "    print('test '+ str(model.score(X_test[tc_not_text_feats_short],y_test)))\n",
    "    print('auc ' + str(roc_auc_score(y_test, pred_vals[:,1])))\n",
    "    plt.plot(roc[0], roc[1], label = modelnames[i])\n",
    "    plt.title('ROC curve ' + modelnames[i])\n",
    "    plt.xlabel('FP Rate')\n",
    "    plt.ylabel('TP Rate')\n",
    "    models_pleasework.append(model)\n",
    "plt.legend(loc = 'best')  \n",
    "plt.figure()\n",
    "plt.title('PR Curve')\n",
    "plt.xlabel('Precision')\n",
    "plt.ylabel('Recall')\n",
    "for i in range(len(models_pleasework)):\n",
    "    model = models_pleasework[i]\n",
    "    pred_vals = model.predict_proba(X_test[tc_not_text_feats_short])\n",
    "    precision, recall, thresholds = precision_recall_curve(y_test, pred_vals[:,1])\n",
    "    plt.plot(recall, precision, label = modelnames[i])\n",
    "plt.legend(loc = 'best')"
   ]
  },
  {
   "cell_type": "code",
   "execution_count": null,
   "metadata": {
    "collapsed": false
   },
   "outputs": [],
   "source": [
    "# Non-text regression; fewer features\n",
    "\n",
    "xtctc_short = tc_not_text_feats_short[:]\n",
    "xtctc_short.append('text')\n",
    "X = timeless_data[xtctc_short]\n",
    "y = timeless_data['***']\n",
    "X_train, X_test, y_train, y_test = constsplit(timeless_data.restaurant_id, X, y)\n",
    "\n",
    "regression_models = [LinearRegression(), Ridge(), ElasticNet(), Lasso(), rfr(), SVR()]\n",
    "modelnames = ['LinReg','Ridge','ElasticNet','Lasso', 'RF', 'SVR']\n",
    "models_pleasework = []\n",
    "for i in range(len(modelnames)):\n",
    "    model = regression_models[i]\n",
    "    model.fit(X_train[tc_not_text_feats_short], y_train)\n",
    "#     pred_vals = model.predict_proba(X_test[tc_not_text_feats_short])\n",
    "#     roc = roc_curve(y_test, pred_vals[:,1])\n",
    "    print(modelnames[i])\n",
    "    print('train '+ str(model.score(X_train[tc_not_text_feats_short],y_train)))\n",
    "    print('test '+ str(model.score(X_test[tc_not_text_feats_short],y_test)))"
   ]
  },
  {
   "cell_type": "markdown",
   "metadata": {},
   "source": [
    "checking for colinearity in non text features"
   ]
  },
  {
   "cell_type": "code",
   "execution_count": null,
   "metadata": {
    "collapsed": false
   },
   "outputs": [],
   "source": [
    "svd = TruncatedSVD(n_components = 50)\n",
    "\n",
    "X_train_short = svd.fit_transform(X_train[tc_not_text_feats[:]])\n",
    "X_test_short = svd.transform(X_test[tc_not_text_feats[:]])\n",
    "\n",
    "X_test_short.shape"
   ]
  },
  {
   "cell_type": "code",
   "execution_count": null,
   "metadata": {
    "collapsed": false
   },
   "outputs": [],
   "source": [
    "\n",
    "\n",
    "# non-text only\n",
    "classification_models = [LogisticRegression(), GaussianNB(), rf(), xgb()]\n",
    "modelnames = ['LogReg','NaiveBayes','RF','XGB']\n",
    "models_pleasework = []\n",
    "for i in range(4):\n",
    "    model = classification_models[i]\n",
    "    model.fit(X_train_short, y_train)\n",
    "    pred_vals = model.predict_proba(X_test_short)\n",
    "    roc = roc_curve(y_test, pred_vals[:,1])\n",
    "    print(modelnames[i])\n",
    "    print('train '+ str(model.score(X_train_short,y_train)))\n",
    "    print('test '+ str(model.score(X_test_short,y_test)))\n",
    "    print('auc ' + str(roc_auc_score(y_test, pred_vals[:,1])))\n",
    "    plt.plot(roc[0], roc[1], label = modelnames[i])\n",
    "    plt.title('ROC curve ' + modelnames[i])\n",
    "    plt.xlabel('FP Rate')\n",
    "    plt.ylabel('TP Rate')\n",
    "    models_pleasework.append(model)\n",
    "plt.legend(loc = 'best')  \n",
    "plt.figure()\n",
    "plt.title('PR Curve')\n",
    "plt.xlabel('Precision')\n",
    "plt.ylabel('Recall')\n",
    "for i in range(len(models_pleasework)):\n",
    "    model = models_pleasework[i]\n",
    "    pred_vals = model.predict_proba(X_test_short)\n",
    "    precision, recall, thresholds = precision_recall_curve(y_test, pred_vals[:,1])\n",
    "    plt.plot(recall, precision, label = modelnames[i])\n",
    "plt.legend(loc = 'best')"
   ]
  },
  {
   "cell_type": "markdown",
   "metadata": {},
   "source": [
    "Made worse, so try brute force"
   ]
  },
  {
   "cell_type": "code",
   "execution_count": null,
   "metadata": {
    "collapsed": false
   },
   "outputs": [],
   "source": [
    "# Add all music cols\n",
    "muscols = ['Music_dj', 'Music_live', 'Music_background_music', 'Music_jukebox']\n",
    "music = timeless_data[muscols[0]]\n",
    "for col in muscols[1:]:\n",
    "    music = music + timeless_data[col]\n",
    "music.mean()"
   ]
  },
  {
   "cell_type": "code",
   "execution_count": null,
   "metadata": {
    "collapsed": false
   },
   "outputs": [],
   "source": [
    "dense_feats, sparse_feats = [], []\n",
    "for col in tc_not_text_feats:\n",
    "    filled = (timeless_data[col] != 0).mean()\n",
    "    if filled > 0.03:\n",
    "        dense_feats.append(col)\n",
    "    else:\n",
    "        sparse_feats.append(col)\n",
    "sparse_feats"
   ]
  },
  {
   "cell_type": "code",
   "execution_count": null,
   "metadata": {
    "collapsed": false
   },
   "outputs": [],
   "source": [
    "tc_not_text_feats"
   ]
  },
  {
   "cell_type": "code",
   "execution_count": null,
   "metadata": {
    "collapsed": false
   },
   "outputs": [],
   "source": [
    "'text' in time_independent_feats[1:]"
   ]
  },
  {
   "cell_type": "code",
   "execution_count": null,
   "metadata": {
    "collapsed": false
   },
   "outputs": [],
   "source": [
    "timeless_data[['neighborhoods_South Boston', 'neighborhoods_Dorchester', 'neighborhoods_Jamaica Plain', 'neighborhoods_Waterfront', 'neighborhoods_Downtown', 'neighborhoods_Charlestown', 'neighborhoods_East Boston', 'neighborhoods_North End', 'neighborhoods_West Roxbury', 'neighborhoods_Back Bay', 'neighborhoods_Roslindale', 'neighborhoods_South End', 'neighborhoods_Allston/Brighton', 'neighborhoods_Fenway', 'neighborhoods_Financial District',\n",
    "              'neighborhoods_Chinatown', 'neighborhoods_Beacon Hill']].sum()"
   ]
  },
  {
   "cell_type": "code",
   "execution_count": null,
   "metadata": {
    "collapsed": true
   },
   "outputs": [],
   "source": [
    "def fix_times(dataframe):\n",
    "    for day in ['Monday', 'Tuesday', 'Wednesday', 'Thursday', 'Friday','Saturday', 'Sunday']:\n",
    "        topen"
   ]
  },
  {
   "cell_type": "code",
   "execution_count": null,
   "metadata": {
    "collapsed": false
   },
   "outputs": [],
   "source": [
    "weekdays = ['Monday', 'Tuesday', 'Wednesday', 'Thursday', 'Friday']\n",
    "weekends = ['Saturday', 'Sunday']\n",
    "            \n",
    "def time_open(dataframe, mydays, prefix):\n",
    "    cols_summed = []\n",
    "    newname = prefix + '_time_open'\n",
    "    for i in range(len(mydays)):\n",
    "        day = mydays[i]\n",
    "        topen, tclose = day+ '_open', day+ '_close'\n",
    "        if (topen in dataframe.columns)*(tclose in dataframe.columns) == 1:\n",
    "            diff = dataframe[tclose] - dataframe[topen]\n",
    "            diff2 = diff + (diff < 0)*24\n",
    "            if i > 0:\n",
    "                dataframe[newname] = dataframe[newname] + diff2\n",
    "            else:\n",
    "                dataframe[newname] = diff2\n",
    "            cols_summed.extend([topen,tclose])\n",
    "    return cols_summed, newname\n",
    "\n",
    "weekdaycols, weekdaycol = time_open(bdata, weekdays, 'weekday')\n",
    "weekendcols, weekendcol = time_open(bdata, weekends, 'weekend')\n",
    "\n",
    "good_numerical_columns.append([weekdaycol,weekendcol])\n",
    "todrop = weekdaycols[:]\n",
    "todrop.append(weekendcols)\n",
    "for line in todrop:\n",
    "    while line in good_numerical_columns:\n",
    "        good_numerical_columns.remove(line)"
   ]
  },
  {
   "cell_type": "code",
   "execution_count": null,
   "metadata": {
    "collapsed": false
   },
   "outputs": [],
   "source": [
    "good_numerical_columns"
   ]
  },
  {
   "cell_type": "code",
   "execution_count": null,
   "metadata": {
    "collapsed": false
   },
   "outputs": [],
   "source": [
    "bdata.Sunday_oen"
   ]
  },
  {
   "cell_type": "code",
   "execution_count": null,
   "metadata": {
    "collapsed": true
   },
   "outputs": [],
   "source": [
    "timeless_data[weekendcols]"
   ]
  },
  {
   "cell_type": "code",
   "execution_count": null,
   "metadata": {
    "collapsed": false
   },
   "outputs": [],
   "source": []
  },
  {
   "cell_type": "code",
   "execution_count": null,
   "metadata": {
    "collapsed": false
   },
   "outputs": [],
   "source": [
    "diff = timeless_data.Sunday_close - timeless_data.Sunday_open\n",
    "diff = diff + 24*(diff < 0)\n",
    "diff"
   ]
  },
  {
   "cell_type": "code",
   "execution_count": null,
   "metadata": {
    "collapsed": false
   },
   "outputs": [],
   "source": [
    "badcols = time_open(timeless_data)\n",
    "timeless_data.time_open.hist()"
   ]
  },
  {
   "cell_type": "code",
   "execution_count": null,
   "metadata": {
    "collapsed": false
   },
   "outputs": [],
   "source": [
    "# vec = TfidfVectorizer(stop_words='english', max_df=.5, min_df = 0.05, lowercase = True)\n",
    "vec = CountVectorizer(stop_words='english', max_df=.5, min_df = 0.02, lowercase = True)\n",
    "xtctc = tc_not_text_feats[:]\n",
    "xtctc.append('text')\n",
    "X = timeless_data[xtctc]\n",
    "y = ptransform(timeless_data['***'], 80)\n",
    "X_train, X_test, y_train, y_test = constsplit(timeless_data.restaurant_id, X, y)\n",
    "\n",
    "CV_train = vec.fit_transform(X_train['text']).toarray()\n",
    "CV_test = vec.transform(X_test['text']).toarray()"
   ]
  },
  {
   "cell_type": "code",
   "execution_count": null,
   "metadata": {
    "collapsed": false
   },
   "outputs": [],
   "source": [
    "# vec = TfidfVectorizer(stop_words='english', max_df=.5, min_df = 0.05, lowercase = True)\n",
    "vec = TfidfVectorizer(stop_words='english', min_df = 0.01, lowercase = False)\n",
    "xtctc = tc_not_text_feats[:]\n",
    "xtctc.append('text')\n",
    "X = timeless_data[xtctc]\n",
    "y = ptransform(timeless_data['***'], 80)\n",
    "X_train, X_test, y_train, y_test = constsplit(timeless_data.restaurant_id, X, y)\n",
    "\n",
    "vec_train = vec.fit_transform(X_train['text']).toarray()\n",
    "vec_test = vec.transform(X_test['text']).toarray()"
   ]
  },
  {
   "cell_type": "code",
   "execution_count": null,
   "metadata": {
    "collapsed": false
   },
   "outputs": [],
   "source": [
    "validwords = vec.get_feature_names()"
   ]
  },
  {
   "cell_type": "code",
   "execution_count": null,
   "metadata": {
    "collapsed": false
   },
   "outputs": [],
   "source": [
    "# text features only\n",
    "classification_models = [LogisticRegression(), GaussianNB(), rf(), xgb()]\n",
    "modelnames = ['LogReg','NaiveBayes','RF','XGB']\n",
    "models_pleasework = []\n",
    "for i in range(4):\n",
    "    model = classification_models[i]\n",
    "    model.fit(vec_train, y_train)\n",
    "    pred_vals = model.predict_proba(vec_test)\n",
    "    roc = roc_curve(y_test, pred_vals[:,1])\n",
    "    print(modelnames[i])\n",
    "    print('train '+ str(model.score(vec_train,y_train)))\n",
    "    print('test '+ str(model.score(vec_test,y_test)))\n",
    "    print('auc ' + str(roc_auc_score(y_test, pred_vals[:,1])))\n",
    "    plt.plot(roc[0], roc[1], label = modelnames[i])\n",
    "    plt.title('ROC curve ' + modelnames[i])\n",
    "    plt.xlabel('FP Rate')\n",
    "    plt.ylabel('TP Rate')\n",
    "    models_pleasework.append(model)\n",
    "plt.legend(loc = 'best')  \n",
    "plt.figure()\n",
    "plt.title('PR Curve')\n",
    "plt.xlabel('Precision')\n",
    "plt.ylabel('Recall')\n",
    "for i in range(len(models_pleasework)):\n",
    "    model = models_pleasework[i]\n",
    "    pred_vals = model.predict_proba(vec_test)\n",
    "    precision, recall, thresholds = precision_recall_curve(y_test, pred_vals[:,1])\n",
    "    plt.plot(recall, precision, label = modelnames[i])\n",
    "plt.legend(loc = 'best')"
   ]
  },
  {
   "cell_type": "code",
   "execution_count": null,
   "metadata": {
    "collapsed": false
   },
   "outputs": [],
   "source": [
    "xtc = all_non_text_feats[:]\n",
    "xtc.append('text')\n",
    "X = windows_data[xtc]\n",
    "# y = ptransform(windows_data['***'], 80)\n",
    "y = windows_data['***']\n",
    "\n",
    "X_train, X_test, y_train, y_test = constsplit(windows_data.restaurant_id, X, y)\n",
    "vec2 = TfidfVectorizer(stop_words='english', max_df = 0.1, min_df = 0.01, max_features = 300, \n",
    "                       lowercase = True, vocabulary = validwords)\n",
    "\n",
    "vec2_train = vec2.fit_transform(X_train['text']).toarray()\n",
    "vec2_test = vec2.transform(X_test['text']).toarray()"
   ]
  },
  {
   "cell_type": "code",
   "execution_count": null,
   "metadata": {
    "collapsed": false
   },
   "outputs": [],
   "source": [
    "# text features only\n",
    "regression_models = [LinearRegression(), Ridge(), ElasticNet(), Lasso(), rfr()]\n",
    "modelnames = ['LinReg','Ridge','ElasticNet','Lasso', 'RF']\n",
    "models_pleasework = []\n",
    "for i in range(4):\n",
    "    model = regression_models[i]\n",
    "    model.fit(vec2_train, y_train)\n",
    "#     pred_vals = model.predict_proba(vec2_test)\n",
    "#     roc = roc_curve(y_test, pred_vals[:,1])\n",
    "    print(modelnames[i])\n",
    "    print('train '+ str(model.score(vec2_train,y_train)))\n",
    "    print('test '+ str(model.score(vec2_test,y_test)))\n",
    "#     print('auc ' + str(roc_auc_score(y_test, pred_vals[:,1])))\n",
    "#     plt.plot(roc[0], roc[1], label = modelnames[i])\n",
    "#     plt.title('ROC curve ' + modelnames[i])\n",
    "#     plt.xlabel('FP Rate')\n",
    "#     plt.ylabel('TP Rate')\n",
    "#     models_pleasework.append(model)\n",
    "# plt.legend(loc = 'best')  \n",
    "# plt.figure()\n",
    "# plt.title('PR Curve')\n",
    "# plt.xlabel('Precision')\n",
    "# plt.ylabel('Recall')\n",
    "# for i in range(len(models_pleasework)):\n",
    "#     model = models_pleasework[i]\n",
    "#     pred_vals = model.predict_proba(vec2_test)\n",
    "#     precision, recall, thresholds = precision_recall_curve(y_test, pred_vals[:,1])\n",
    "#     plt.plot(recall, precision, label = modelnames[i])\n",
    "# plt.legend(loc = 'best')"
   ]
  },
  {
   "cell_type": "code",
   "execution_count": null,
   "metadata": {
    "collapsed": false
   },
   "outputs": [],
   "source": [
    "# text features only TAG HERE DO STUFF HERE\n",
    "classification_models = [LogisticRegression(), GaussianNB(), rf(), xgb()]\n",
    "modelnames = ['LogReg','NaiveBayes','RF','XGB']\n",
    "models_pleasework = []\n",
    "for i in [0]:\n",
    "    model = classification_models[i]\n",
    "    model.fit(vec2_train, y_train)\n",
    "    pred_vals = model.predict_proba(vec2_test)\n",
    "    roc = roc_curve(y_test, pred_vals[:,1])\n",
    "    print(modelnames[i])\n",
    "    print('train '+ str(model.score(vec2_train,y_train)))\n",
    "    print('test '+ str(model.score(vec2_test,y_test)))\n",
    "    print('auc ' + str(roc_auc_score(y_test, pred_vals[:,1])))\n",
    "    plt.plot(roc[0], roc[1], label = modelnames[i])\n",
    "    plt.title('ROC curve ' + modelnames[i])\n",
    "    plt.xlabel('FP Rate')\n",
    "    plt.ylabel('TP Rate')\n",
    "    models_pleasework.append(model)\n",
    "plt.legend(loc = 'best')  \n",
    "plt.figure()\n",
    "plt.title('PR Curve')\n",
    "plt.xlabel('Precision')\n",
    "plt.ylabel('Recall')\n",
    "for i in range(len(models_pleasework)):\n",
    "    model = models_pleasework[i]\n",
    "    pred_vals = model.predict_proba(vec2_test)\n",
    "    precision, recall, thresholds = precision_recall_curve(y_test, pred_vals[:,1])\n",
    "    plt.plot(recall, precision, label = modelnames[i])\n",
    "plt.legend(loc = 'best')"
   ]
  },
  {
   "cell_type": "code",
   "execution_count": null,
   "metadata": {
    "collapsed": true
   },
   "outputs": [],
   "source": [
    "plt.scatter(timeless_data.['***'],timeless_data.['**'])\n",
    "plt.scatter(timeless_data.['*'],timeless_data.['**'])\n",
    "plt.scatter(timeless_data.['***'],timeless_data.['*'])\n",
    "\n",
    "timeless_data['wsum'] = 3 * timeless_data.['***'] + 2 * timeless_data.['**'] + 1 * timeless_data.['*']\n",
    "\n",
    "plt.scatter(timeless_data.['***'],timeless_data['crimes_within_1_km'])\n",
    "plt.scatter(timeless_data.['***'],timeless_data['restaurants_within_1_km'])"
   ]
  },
  {
   "cell_type": "code",
   "execution_count": null,
   "metadata": {
    "collapsed": false
   },
   "outputs": [],
   "source": [
    "X = windows_data[all_non_text_feats]\n",
    "y = ptransform(windows_data['***'], 80)\n",
    "X_train, X_test, y_train, y_test = constsplit(windows_data.restaurant_id, X, y)\n",
    "\n",
    "classification_models = [LogisticRegression(), GaussianNB(), rf(), xgb()]\n",
    "modelnames = ['LogReg','NaiveBayes','RF','XGB']\n",
    "models_firstpass = []\n",
    "for i in range(len(classification_models)):\n",
    "    model = classification_models[i]\n",
    "    model.fit(X_train, y_train)\n",
    "    pred_vals = model.predict_proba(X_test)\n",
    "    roc = roc_curve(y_test, pred_vals[:,1])\n",
    "    print(modelnames[i])\n",
    "    print('train '+ str(model.score(X_train,y_train)))\n",
    "    print('test '+ str(model.score(X_test,y_test)))\n",
    "    print('auc ' + str(roc_auc_score(y_test, pred_vals[:,1])))\n",
    "    plt.plot(roc[0], roc[1], label = modelnames[i])\n",
    "    plt.title('ROC curve ' + modelnames[i])\n",
    "    plt.xlabel('FP Rate')\n",
    "    plt.ylabel('TP Rate')\n",
    "    models_firstpass.append(model)\n",
    "plt.legend(loc = 'best')  \n",
    "plt.figure()\n",
    "plt.title('PR Curve')\n",
    "plt.xlabel('Precision')\n",
    "plt.ylabel('Recall')\n",
    "for i in range(len(models_firstpass)):\n",
    "    model = models_firstpass[i]\n",
    "    pred_vals = model.predict_proba(X_test)\n",
    "    precision, recall, thresholds = precision_recall_curve(y_test, pred_vals[:,1])\n",
    "    plt.plot(recall, precision, label = modelnames[i])\n",
    "plt.legend(loc = 'best')"
   ]
  },
  {
   "cell_type": "code",
   "execution_count": null,
   "metadata": {
    "collapsed": false
   },
   "outputs": [],
   "source": [
    "X_short = data_timeless[time_independent_feats[1:]] # drops name\n",
    "y_short = ptransform(data_timeless['***'], 80)\n",
    "X_short_train, X_short_test, y_short_train, y_short_test = constsplit(data_timeless.restaurant_id, X_short, y_short)\n",
    "\n",
    "classification_models = [LogisticRegression(), GaussianNB(), rf(), xgb()]\n",
    "models_timeless = []\n",
    "for i in range(len(classification_models)):\n",
    "    model = classification_models[i]\n",
    "    model.fit(X_short_train, y_short_train)\n",
    "    pred_vals = model.predict_proba(X_short_test)\n",
    "    roc = roc_curve(y_short_test, pred_vals[:,1])\n",
    "    print(modelnames[i])\n",
    "    print('train '+ str(model.score(X_short_train,y_short_train)))\n",
    "    print('test '+ str(model.score(X_short_test,y_short_test)))\n",
    "    print('auc ' + str(roc_auc_score(y_short_test, pred_vals[:,1])))\n",
    "    plt.plot(roc[0], roc[1], label = modelnames[i])\n",
    "    plt.title('ROC curve ' + modelnames[i])\n",
    "    plt.xlabel('FP Rate')\n",
    "    plt.ylabel('TP Rate')\n",
    "    models_timeless.append(model)\n",
    "plt.legend(loc = 'best')\n",
    "plt.figure()\n",
    "plt.title('PR Curve')\n",
    "plt.xlabel('Precision')\n",
    "plt.ylabel('Recall')\n",
    "for i in range(len(models_timeless)):\n",
    "    model = models_timeless[i]\n",
    "    pred_vals = model.predict_proba(X_short_test)\n",
    "    precision, recall, thresholds = precision_recall_curve(y_short_test, pred_vals[:,1])\n",
    "    plt.plot(recall, precision, label = modelnames[i])\n",
    "plt.legend(loc = 'best')"
   ]
  },
  {
   "cell_type": "code",
   "execution_count": null,
   "metadata": {
    "collapsed": false
   },
   "outputs": [],
   "source": [
    "#trying again shorter data; can check each model on the other's data set\n",
    "X = windows_data[time_independent_feats[1:]] # drops name\n",
    "y = ptransform(windows_data['***'], 80)\n",
    "X_train, X_test, y_train, y_test = constsplit(windows_data.restaurant_id, X, y)\n",
    "\n",
    "classification_models = [LogisticRegression(), GaussianNB(), rf(), xgb()]\n",
    "modelnames = ['LogReg','NaiveBayes','RF','XGB']\n",
    "models_firstpass = []\n",
    "for i in range(len(classification_models)):\n",
    "    model = classification_models[i]\n",
    "    model.fit(X_train, y_train)\n",
    "    pred_vals = model.predict_proba(X_test)\n",
    "    roc = roc_curve(y_test, pred_vals[:,1])\n",
    "    print(modelnames[i])\n",
    "    print('train '+ str(model.score(X_train,y_train)))\n",
    "    print('test '+ str(model.score(X_test,y_test)))\n",
    "    print('auc ' + str(roc_auc_score(y_test, pred_vals[:,1])))\n",
    "    plt.plot(roc[0], roc[1], label = modelnames[i])\n",
    "    plt.title('ROC curve')\n",
    "    plt.xlabel('FP Rate')\n",
    "    plt.ylabel('TP Rate')\n",
    "    models_firstpass.append(model)\n",
    "plt.legend(loc = 'best')  \n",
    "plt.figure()\n",
    "plt.title('PR Curve')\n",
    "plt.xlabel('Precision')\n",
    "plt.ylabel('Recall')\n",
    "for i in range(len(models_firstpass)):\n",
    "    model = models_firstpass[i]\n",
    "    pred_vals = model.predict_proba(X_test)\n",
    "    precision, recall, thresholds = precision_recall_curve(y_test, pred_vals[:,1])\n",
    "    plt.plot(recall, precision, label = modelnames[i])\n",
    "plt.legend(loc = 'best')"
   ]
  },
  {
   "cell_type": "code",
   "execution_count": null,
   "metadata": {
    "collapsed": false
   },
   "outputs": [],
   "source": [
    "# testing time-dependent models on aggregated data; they do slightly worse than aggregated models\n",
    "for i in range(len(models_firstpass)):\n",
    "    model = models_firstpass[i]\n",
    "    pred_vals = model.predict_proba(X_short_test)\n",
    "    roc = roc_curve(y_short_test, pred_vals[:,1])\n",
    "    print(modelnames[i])\n",
    "    print('train '+ str(model.score(X_short_train,y_short_train)))\n",
    "    print('test '+ str(model.score(X_short_test,y_short_test)))\n",
    "    print('auc ' + str(roc_auc_score(y_short_test, pred_vals[:,1])))\n",
    "    plt.plot(roc[0], roc[1], label = modelnames[i])\n",
    "    plt.title('ROC curve')\n",
    "    plt.xlabel('FP Rate')\n",
    "    plt.ylabel('TP Rate')\n",
    "plt.legend(loc = 'best')\n",
    "plt.figure()\n",
    "plt.title('PR Curve')\n",
    "plt.xlabel('Precision')\n",
    "plt.ylabel('Recall')\n",
    "for i in range(len(models_firstpass)):\n",
    "    model = models_firstpass[i]\n",
    "    pred_vals = model.predict_proba(X_short_test)\n",
    "    precision, recall, thresholds = precision_recall_curve(y_short_test, pred_vals[:,1])\n",
    "    plt.plot(recall, precision, label = modelnames[i])\n",
    "plt.legend(loc = 'best')"
   ]
  },
  {
   "cell_type": "code",
   "execution_count": null,
   "metadata": {
    "collapsed": false
   },
   "outputs": [],
   "source": [
    "# testing aggregated models on aggregated data; they do slightly worse than time-indepenent models\n",
    "for i in range(len(models_timeless)):\n",
    "    model = models_timeless[i]\n",
    "    pred_vals = model.predict_proba(X_test)\n",
    "    roc = roc_curve(y_test, pred_vals[:,1])\n",
    "    print(modelnames[i])\n",
    "    print('train '+ str(model.score(X_train,y_train)))\n",
    "    print('test '+ str(model.score(X_test,y_test)))\n",
    "    print('auc ' + str(roc_auc_score(y_test, pred_vals[:,1])))\n",
    "    plt.plot(roc[0], roc[1], label = modelnames[i])\n",
    "    plt.title('ROC curve')\n",
    "    plt.xlabel('FP Rate')\n",
    "    plt.ylabel('TP Rate')\n",
    "plt.legend(loc = 'best')\n",
    "plt.figure()\n",
    "plt.title('PR Curve')\n",
    "plt.xlabel('Precision')\n",
    "plt.ylabel('Recall')\n",
    "for i in range(len(models_timeless)):\n",
    "    model = models_timeless[i]\n",
    "    pred_vals = model.predict_proba(X_test)\n",
    "    precision, recall, thresholds = precision_recall_curve(y_test, pred_vals[:,1])\n",
    "    plt.plot(recall, precision, label = modelnames[i])\n",
    "plt.legend(loc = 'best')"
   ]
  },
  {
   "cell_type": "markdown",
   "metadata": {},
   "source": [
    "Both models slightly underperformed the other on the other's data. Inconclusive. Will add global model score as a feature, just for the hell of it"
   ]
  },
  {
   "cell_type": "code",
   "execution_count": null,
   "metadata": {
    "collapsed": false
   },
   "outputs": [],
   "source": [
    "good_model = models_timeless[0]\n",
    "windows_data['good_rest_prob'] = good_model.predict_proba(windows_data[time_independent_feats[1:]])[:,1]\n",
    "all_non_text_feats.append('good_rest_prob')\n",
    "windows_data.head()\n",
    "\n",
    "\n",
    "# X_test['good_test_preds'] = good_model.predict_proba(X_test[good_independent_feats])\n",
    "# X_train['good_test_preds'] = good_model.predict_proba(X_test)"
   ]
  },
  {
   "cell_type": "code",
   "execution_count": null,
   "metadata": {
    "collapsed": false
   },
   "outputs": [],
   "source": [
    "local_good_feats = all_non_text_feats[:]\n",
    "for entry in time_independent_feats:\n",
    "    while entry in local_good_feats:\n",
    "        local_good_feats.remove(entry)\n",
    "local_good_feats"
   ]
  },
  {
   "cell_type": "markdown",
   "metadata": {},
   "source": [
    "These are the features that the model can use that don't have to do with the global model. Using them with a simple ensemble."
   ]
  },
  {
   "cell_type": "code",
   "execution_count": null,
   "metadata": {
    "collapsed": false
   },
   "outputs": [],
   "source": [
    "X = windows_data[local_good_feats]\n",
    "y = ptransform(windows_data['***'], 80)\n",
    "X_train, X_test, y_train, y_test = constsplit(windows_data.restaurant_id, X, y)\n",
    "\n",
    "classification_models = [LogisticRegression(), GaussianNB(), rf(), xgb()]\n",
    "modelnames = ['LogReg','NaiveBayes','RF','XGB']\n",
    "models_firstpass = []\n",
    "for i in range(len(classification_models)):\n",
    "    model = classification_models[i]\n",
    "    model.fit(X_train, y_train)\n",
    "    pred_vals = model.predict_proba(X_test)\n",
    "    roc = roc_curve(y_test, pred_vals[:,1])\n",
    "    print(modelnames[i])\n",
    "    print('train '+ str(model.score(X_train,y_train)))\n",
    "    print('test '+ str(model.score(X_test,y_test)))\n",
    "    print('auc ' + str(roc_auc_score(y_test, pred_vals[:,1])))\n",
    "    plt.plot(roc[0], roc[1], label = modelnames[i])\n",
    "    plt.title('ROC curve ' + modelnames[i])\n",
    "    plt.xlabel('FP Rate')\n",
    "    plt.ylabel('TP Rate')\n",
    "    models_firstpass.append(model)\n",
    "plt.legend(loc = 'best')  \n",
    "plt.figure()\n",
    "plt.title('PR Curve')\n",
    "plt.xlabel('Precision')\n",
    "plt.ylabel('Recall')\n",
    "for i in range(len(models_firstpass)):\n",
    "    model = models_firstpass[i]\n",
    "    pred_vals = model.predict_proba(X_test)\n",
    "    precision, recall, thresholds = precision_recall_curve(y_test, pred_vals[:,1])\n",
    "    plt.plot(recall, precision, label = modelnames[i])\n",
    "plt.legend(loc = 'best')"
   ]
  },
  {
   "cell_type": "markdown",
   "metadata": {},
   "source": [
    "NEVERMIND"
   ]
  },
  {
   "cell_type": "code",
   "execution_count": null,
   "metadata": {
    "collapsed": false
   },
   "outputs": [],
   "source": [
    "t0 = time.time()\n",
    "X = windows_data['text']\n",
    "y = ptransform(windows_data['***'], 80)\n",
    "X_train, X_test, y_train, y_test = constsplit(windows_data.restaurant_id, X, y)\n",
    "\n",
    "\n",
    "model = Pipeline([('vect', CountVectorizer(ngram_range=(1, 1), lowercase = True, stop_words = 'english')),\n",
    "                 ('tfidf', TfidfTransformer()),('svd', TruncatedSVD(n_components = 100)),\n",
    "                 ('model', LogisticRegression()),])\n",
    "model.fit(X_train,y_train)\n",
    "pred_vals = model.predict_proba(X_test)\n",
    "roc = roc_curve(y_test, pred_vals[:,1])\n",
    "print('train '+ str(model.score(X_train,y_train)))\n",
    "print('test '+ str(model.score(X_test,y_test)))\n",
    "print('auc ' + str(roc_auc_score(y_test, pred_vals[:,1])))\n",
    "\n",
    "\n",
    "\n",
    "\n",
    "print(str(time.time() - t0) + ' seconds')"
   ]
  },
  {
   "cell_type": "code",
   "execution_count": null,
   "metadata": {
    "collapsed": false
   },
   "outputs": [],
   "source": [
    "plt.plot(roc[0], roc[1])\n",
    "plt.title('ROC curve')\n",
    "plt.xlabel('FP Rate')\n",
    "plt.ylabel('TP Rate')"
   ]
  },
  {
   "cell_type": "code",
   "execution_count": null,
   "metadata": {
    "collapsed": false
   },
   "outputs": [],
   "source": [
    "precision, recall, thresholds = precision_recall_curve(y_test, pred_vals[:,1])\n",
    "plt.plot(recall, precision)\n",
    "plt.title('PR Curve')\n",
    "plt.xlabel('Precision')\n",
    "plt.ylabel('Recall')"
   ]
  },
  {
   "cell_type": "code",
   "execution_count": null,
   "metadata": {
    "collapsed": false
   },
   "outputs": [],
   "source": [
    "# vec = TfidfVectorizer(stop_words='english', max_features=1750, use_idf = True)\n",
    "t0 = time.time()\n",
    "X = windows_data['text']\n",
    "y = ptransform(windows_data['***'], 80)\n",
    "X_train, X_test, y_train, y_test = constsplit(windows_data.restaurant_id, X, y)\n",
    "\n",
    "\n",
    "model = Pipeline([('tfidfvect', TfidfVectorizer(stop_words='english', max_features=1750, use_idf = True)),\n",
    "                 ('model', LogisticRegression()),])\n",
    "model.fit(X_train,y_train)\n",
    "pred_vals = model.predict_proba(X_test)\n",
    "roc = roc_curve(y_test, pred_vals[:,1])\n",
    "print('train '+ str(model.score(X_train,y_train)))\n",
    "print('test '+ str(model.score(X_test,y_test)))\n",
    "print('auc ' + str(roc_auc_score(y_test, pred_vals[:,1])))\n",
    "\n",
    "\n",
    "\n",
    "\n",
    "print(str(time.time() - t0) + ' seconds')"
   ]
  },
  {
   "cell_type": "code",
   "execution_count": null,
   "metadata": {
    "collapsed": false
   },
   "outputs": [],
   "source": [
    "'text' in all_non_text_feats"
   ]
  },
  {
   "cell_type": "code",
   "execution_count": null,
   "metadata": {
    "collapsed": false
   },
   "outputs": [],
   "source": [
    "xtc = all_non_text_feats\n",
    "xtc.append('text')\n",
    "X = windows_data[xtc]\n",
    "y = ptransform(windows_data['***'], 80)\n",
    "X_train, X_test, y_train, y_test = constsplit(windows_data.restaurant_id, X, y)"
   ]
  },
  {
   "cell_type": "code",
   "execution_count": null,
   "metadata": {
    "collapsed": false
   },
   "outputs": [],
   "source": [
    "vec = TfidfVectorizer(stop_words='english', max_features=None, use_idf = True)\n",
    "transform_tfidf = vec.fit_transform(X_train['text'])df_tfidf = pd.DataFrame(data=transform_tfidf.todense(), columns=vec.get_feature_names())\n"
   ]
  },
  {
   "cell_type": "code",
   "execution_count": null,
   "metadata": {
    "collapsed": false
   },
   "outputs": [],
   "source": [
    "df_tfidf.shape"
   ]
  },
  {
   "cell_type": "code",
   "execution_count": null,
   "metadata": {
    "collapsed": false
   },
   "outputs": [],
   "source": [
    "test_tfidf = vec.transform(X_test['text'])\n",
    "df_tfidf_test = pd.DataFrame(data=test_tfidf.todense(), columns=vec.get_feature_names())"
   ]
  },
  {
   "cell_type": "code",
   "execution_count": null,
   "metadata": {
    "collapsed": false
   },
   "outputs": [],
   "source": [
    "df_tfidf_test.shape"
   ]
  },
  {
   "cell_type": "code",
   "execution_count": null,
   "metadata": {
    "collapsed": false
   },
   "outputs": [],
   "source": [
    "test_tfidf2 = vec.fit_transform(X_test['text'])\n",
    "df_tfidf_test2 = pd.DataFrame(data=test_tfidf2.todense(), columns=vec.get_feature_names())\n",
    "df_tfidf_test2.shape"
   ]
  },
  {
   "cell_type": "code",
   "execution_count": null,
   "metadata": {
    "collapsed": false
   },
   "outputs": [],
   "source": [
    "a = pd.DataFrame(list(range(100)), columns = [1])\n",
    "a[2] = list(range(100,200))\n",
    "\n",
    "b = pd.DataFrame(list(range(200,300)), columns = [3])\n",
    "b[2] = list(range(300,400))\n",
    "c = pd.concat([a,b], axis = 1)"
   ]
  },
  {
   "cell_type": "code",
   "execution_count": null,
   "metadata": {
    "collapsed": false
   },
   "outputs": [],
   "source": [
    "def mytransform(X_train,X_test,textcol,featurecols, transforms):\n",
    "    X_train_out = X_train[featurecols].copy()\n",
    "    X_test_out = X_test[featurecols].copy()\n",
    "    for transform in transforms:\n",
    "        transformer = transform\n",
    "        train_transform = transformer.fit_transform(X_train_out[textcol])\n",
    "        test_transform = transformer.transform(X_test_out[textcol])\n",
    "        train_transform_data = pd.DataFrame(data=train_transform.todense(), columns=transformer.get_feature_names())\n",
    "        test_transform_data = pd.DataFrame(data=test_transform.todense(), columns=transformer.get_feature_names())\n",
    "        X_train_out = pd.concat([X_train_out, train_transform_data], axis = 1)\n",
    "        X_test_out = pd.concat([X_test_out, test_transform_data], axis = 1)\n",
    "    return X_train_out, X_test_out\n",
    "\n",
    "#     vec = TfidfVectrizer(stop_words='english', max_features=1750, use_idf = True)\n",
    "#     tfidf_train = vec.fit_transform(X_train[textcol])\n",
    "#     tfidf_\n",
    "#     df_tfidf_train = pd.DataFrame(data=tfidf_train.todense(), columns=vec.get_feature_names())\n",
    "#     svd = TruncatedSVD(150)\n",
    "#     svdcols = []\n",
    "#     for i in range(150):\n",
    "#         svdcols.append('svd_'+str(i))\n",
    "#     transform_svd = svd.fit_transform(df_tfidf)\n",
    "#     df_svd = pd.DataFrame(data = stuff, columns = svdcols)\n",
    "#     X_others = X[othercols].copy()\n",
    "#     X_others = pd.concat([X_others,df_tfidf])\n",
    "#     X_others = pd.concat([X_others,df_svd])\n",
    "#     return X_others"
   ]
  },
  {
   "cell_type": "code",
   "execution_count": null,
   "metadata": {
    "collapsed": false
   },
   "outputs": [],
   "source": [
    "'text' in all_non_text_feats"
   ]
  },
  {
   "cell_type": "code",
   "execution_count": null,
   "metadata": {
    "collapsed": false
   },
   "outputs": [],
   "source": [
    "xtc = all_non_text_feats[:]\n",
    "xtc.append('text')\n",
    "X = windows_data[xtc]\n",
    "y = ptransform(windows_data['***'], 80)\n",
    "X_train, X_test, y_train, y_test = constsplit(windows_data.restaurant_id, X, y)\n",
    "\n",
    "vec = TfidfVectorizer(stop_words='english', max_features=1750, use_idf = True)\n",
    "svd = TruncatedSVD(50)\n",
    "tfidf_train = vec.fit_transform(X_train['text'])\n",
    "df_tfidf_train = pd.DataFrame(data=tfidf_train.todense(), columns=vec.get_feature_names())\n",
    "tfidf_test = vec.transform(X_test['text'])\n",
    "df_tfidf_test  = pd.DataFrame(data=tfidf_test.todense(), columns=vec.get_feature_names())\n",
    "svdcols = []\n",
    "for i in range(50):\n",
    "    svdcols.append('svd_'+str(i))\n",
    "svd_train = svd.fit_transform(df_tfidf_train)\n",
    "df_svd_train = pd.DataFrame(data = svd_train, columns = svdcols)\n",
    "svd_test= svd.transform(df_tfidf_test)\n",
    "df_svd_test = pd.DataFrame(data = svd_test, columns = svdcols)\n",
    "X_train_out1 = pd.concat([X_train[all_non_text_feats], df_tfidf_train, df_svd_train])\n",
    "X_test_out1 = pd.concat([X_test[all_non_text_feats], df_tfidf_test, df_svd_test])"
   ]
  },
  {
   "cell_type": "code",
   "execution_count": null,
   "metadata": {
    "collapsed": true
   },
   "outputs": [],
   "source": []
  },
  {
   "cell_type": "code",
   "execution_count": null,
   "metadata": {
    "collapsed": true
   },
   "outputs": [],
   "source": [
    "X_train_out, X_test_out = X_train_out1, X_test_out1"
   ]
  },
  {
   "cell_type": "code",
   "execution_count": null,
   "metadata": {
    "collapsed": false
   },
   "outputs": [],
   "source": [
    "classification_models = [LogisticRegression(), GaussianNB(), rf(), xgb()]\n",
    "modelnames = ['LogReg','NaiveBayes','RF','XGB']\n",
    "models_firstpass = []\n",
    "for i in range(len(classification_models)):\n",
    "    model = classification_models[i]\n",
    "    model.fit(X_train_out, y_train)\n",
    "    pred_vals = model.predict_proba(X_test_out)\n",
    "    roc = roc_curve(y_test, pred_vals[:,1])\n",
    "    print(modelnames[i])\n",
    "    print('train '+ str(model.score(X_train_out,y_train)))\n",
    "    print('test '+ str(model.score(X_test_out,y_test)))\n",
    "    print('auc ' + str(roc_auc_score(y_test, pred_vals[:,1])))\n",
    "    plt.plot(roc[0], roc[1], label = modelnames[i])\n",
    "    plt.title('ROC curve ' + modelnames[i])\n",
    "    plt.xlabel('FP Rate')\n",
    "    plt.ylabel('TP Rate')\n",
    "    models_firstpass.append(model)\n",
    "plt.legend(loc = 'best')  \n",
    "plt.figure()\n",
    "plt.title('PR Curve')\n",
    "plt.xlabel('Precision')\n",
    "plt.ylabel('Recall')\n",
    "for i in range(len(models_firstpass)):\n",
    "    model = models_firstpass[i]\n",
    "    pred_vals = model.predict_proba(X_test_out)\n",
    "    precision, recall, thresholds = precision_recall_curve(y_test, pred_vals[:,1])\n",
    "    plt.plot(recall, precision, label = modelnames[i])\n",
    "plt.legend(loc = 'best')"
   ]
  },
  {
   "cell_type": "code",
   "execution_count": null,
   "metadata": {
    "collapsed": false
   },
   "outputs": [],
   "source": [
    "df_tfidf_train['yelp'].value_counts()"
   ]
  },
  {
   "cell_type": "code",
   "execution_count": null,
   "metadata": {
    "collapsed": false
   },
   "outputs": [],
   "source": [
    "X_train_out_copy = X_train_out.copy()\n",
    "X_train_out_copy.dropna(inplace = True)\n",
    "len(X_train_out_copy)"
   ]
  },
  {
   "cell_type": "code",
   "execution_count": null,
   "metadata": {
    "collapsed": false
   },
   "outputs": [],
   "source": [
    "# xtc = all_non_text_feats\n",
    "# xtc.append('text')\n",
    "# X = windows_data[xtc]\n",
    "# y = ptransform(windows_data['***'], 80)\n",
    "# X_train, X_test, y_train, y_test = constsplit(windows_data.restaurant_id, X, y)\n",
    "# vec = TfidfVectorizer(stop_words='english', max_features=1750, use_idf = True)\n",
    "# svd = TruncatedSVD(150)\n",
    "# X_train_transform, X_test_transform = mytransform(X_train,X_test,'text',all_non_text_feats,[vec, svd])\n",
    "# # for transform in transforms[0]:\n",
    "# #     transformer = transform\n",
    "# #     transformer.fit_transform(X_train['test'])"
   ]
  },
  {
   "cell_type": "code",
   "execution_count": null,
   "metadata": {
    "collapsed": false
   },
   "outputs": [],
   "source": [
    "X_train_copy = X_train.copy()\n",
    "pd.concat([X_train_copy, thingything], axis = 1)\n"
   ]
  },
  {
   "cell_type": "code",
   "execution_count": null,
   "metadata": {
    "collapsed": true
   },
   "outputs": [],
   "source": []
  },
  {
   "cell_type": "code",
   "execution_count": null,
   "metadata": {
    "collapsed": false
   },
   "outputs": [],
   "source": [
    "X_train['text']"
   ]
  },
  {
   "cell_type": "code",
   "execution_count": null,
   "metadata": {
    "collapsed": true
   },
   "outputs": [],
   "source": []
  },
  {
   "cell_type": "code",
   "execution_count": null,
   "metadata": {
    "collapsed": false
   },
   "outputs": [],
   "source": [
    "n = 150\n",
    "xtc = all_non_text_feats[:]\n",
    "xtc.append('text')\n",
    "X = windows_data[xtc]\n",
    "y = ptransform(windows_data['***'], 80)\n",
    "X_train, X_test, y_train, y_test = constsplit(windows_data.restaurant_id, X, y)\n",
    "\n",
    "\n",
    "\n",
    "pipe = Pipeline([('vect', CountVectorizer(ngram_range=(1, 1), lowercase = True, stop_words = 'english')),\n",
    "                 ('tfidf', TfidfTransformer()),('svd', TruncatedSVD(n_components = n)),])\n",
    "                 ('model', LogisticRegression())\n",
    "#         (\"count_vect\", TfidfVectorizer(stop_words='english', max_features=1750, use_idf = True)), \n",
    "# #                                 (\"count_vect\", TfidfVectorizer(max_df = 0.97, min_df = 0.02, stop_words = 'english')),\n",
    "#                         ('svd', TruncatedSVD(n))\n",
    "#                                ])\n",
    "#                             ])),\n",
    "# #             ('model', xgb())\n",
    "#                 ])\n",
    "# pipe.fit(X_train, y_train)\n",
    "# pipe.score(X_test, y_test)\n",
    "out_train = pipe.fit_transform(X_train['text'])\n",
    "out_test = pipe.transform(X_test['text'])\n",
    "\n",
    "big_train = X_train[all_non_text_feats].copy()\n",
    "big_test = X_test[all_non_text_feats].copy()\n",
    "\n",
    "# out\n",
    "\n",
    "for i in range(n):\n",
    "    big_train['svd_' + str(i)] = out_train[:,i]\n",
    "    big_test['svd_' + str(i)] = out_test[:,i]\n",
    "    \n",
    "# out_train = pd.DataFrame(out_train, columns = svdnames)\n",
    "# out_test = pd.DataFrame(out_test, columns = svdnames)\n",
    "\n",
    "\n",
    "# named_steps['feats'](X_train[['text']])#.named_steps['lsa']\n",
    "# (X_train)"
   ]
  },
  {
   "cell_type": "markdown",
   "metadata": {},
   "source": [
    "# FIX THIS ONCE YOU HAVE BIG DOCS THATS WHAT YOU'RE DOING"
   ]
  },
  {
   "cell_type": "code",
   "execution_count": null,
   "metadata": {
    "collapsed": true
   },
   "outputs": [],
   "source": [
    "timeless_data['*total'] = timeless_data['*'] + 2 * timeless_data['**'] + 3 * timeless_data['***']"
   ]
  },
  {
   "cell_type": "code",
   "execution_count": null,
   "metadata": {
    "collapsed": false
   },
   "outputs": [],
   "source": [
    "t0 = time.time()\n",
    "n = 100\n",
    "xtctc = tc_not_text_feats[:]\n",
    "xtctc.append('text')\n",
    "X = timeless_data[xtctc]\n",
    "y = ptransform(timeless_data['***'], 80)\n",
    "X_train, X_test, y_train, y_test = constsplit(timeless_data.restaurant_id, X, y)\n",
    "\n",
    "\n",
    "\n",
    "pipe = Pipeline([(\"count_vect\", TfidfVectorizer(stop_words='english', use_idf = True, min_df = 0.02, max_df = 0.98))])\n",
    "#         ('vect', CountVectorizer(ngram_range=(1, 1), lowercase = True, stop_words = 'english')),\n",
    "#                  ('tfidf', TfidfTransformer()),('svd', TruncatedSVD(n_components = n)),])\n",
    "# #                  ('model', LogisticRegression())\n",
    "#         (\"count_vect\", TfidfVectorizer(stop_words='english', use_idf = True)), \n",
    "# #                                 (\"count_vect\", TfidfVectorizer(max_df = 0.97, min_df = 0.02, stop_words = 'english')),\n",
    "#                         ('svd', TruncatedSVD(n))\n",
    "#                                ])\n",
    "#                             ])),\n",
    "# #             ('model', xgb())\n",
    "#                 ])\n",
    "\n",
    "# pipe.fit(X_train, y_train)\n",
    "# pipe.score(X_test, y_test)\n",
    "out_train = pipe.fit_transform(X_train['text']).todense()\n",
    "out_test = pipe.transform(X_test['text']).todense()\n",
    "\n",
    "big_train = X_train[tc_not_text_feats].copy()\n",
    "big_test = X_test[tc_not_text_feats].copy()\n",
    "\n",
    "# out\n",
    "\n",
    "# names = []\n",
    "# for i in range(n):\n",
    "#     names.append('svd_' + str(i))\n",
    "\n",
    "names = list(pipe.named_steps['count_vect'].get_feature_names())\n",
    "for i in range(len(names)):\n",
    "    big_train[names[i]] = out_train[:,i]\n",
    "    big_test[names[i]] = out_test[:,i]\n",
    "    \n",
    "# out_train = pd.DataFrame(out_train, columns = svdnames)\n",
    "# out_test = pd.DataFrame(out_test, columns = svdnames)\n",
    "\n",
    "\n",
    "# named_steps['feats'](X_train[['text']])#.named_steps['lsa']\n",
    "# (X_train)\n",
    "print((time.time() - t0) + ' seconds')"
   ]
  },
  {
   "cell_type": "code",
   "execution_count": null,
   "metadata": {
    "collapsed": false
   },
   "outputs": [],
   "source": [
    "out_train[:,1].shape"
   ]
  },
  {
   "cell_type": "code",
   "execution_count": null,
   "metadata": {
    "collapsed": false
   },
   "outputs": [],
   "source": [
    "len(list(pipe.named_steps['count_vect'].get_feature_names()))\n",
    "out_train.shape"
   ]
  },
  {
   "cell_type": "code",
   "execution_count": null,
   "metadata": {
    "collapsed": false
   },
   "outputs": [],
   "source": [
    "# non-text only\n",
    "classification_models = [LogisticRegression(), GaussianNB(), rf(), xgb()]\n",
    "modelnames = ['LogReg','NaiveBayes','RF','XGB']\n",
    "models_pleasework = []\n",
    "for i in range(4):\n",
    "    model = classification_models[i]\n",
    "    model.fit(X_train[tc_not_text_feats], y_train)\n",
    "    pred_vals = model.predict_proba(X_test[tc_not_text_feats])\n",
    "    roc = roc_curve(y_test, pred_vals[:,1])\n",
    "    print(modelnames[i])\n",
    "    print('train '+ str(model.score(X_train[tc_not_text_feats],y_train)))\n",
    "    print('test '+ str(model.score(X_test[tc_not_text_feats],y_test)))\n",
    "    print('auc ' + str(roc_auc_score(y_test, pred_vals[:,1])))\n",
    "    plt.plot(roc[0], roc[1], label = modelnames[i])\n",
    "    plt.title('ROC curve ' + modelnames[i])\n",
    "    plt.xlabel('FP Rate')\n",
    "    plt.ylabel('TP Rate')\n",
    "    models_pleasework.append(model)\n",
    "plt.legend(loc = 'best')  \n",
    "plt.figure()\n",
    "plt.title('PR Curve')\n",
    "plt.xlabel('Precision')\n",
    "plt.ylabel('Recall')\n",
    "for i in range(len(models_pleasework)):\n",
    "    model = models_pleasework[i]\n",
    "    pred_vals = model.predict_proba(X_test[tc_not_text_feats])\n",
    "    precision, recall, thresholds = precision_recall_curve(y_test, pred_vals[:,1])\n",
    "    plt.plot(recall, precision, label = modelnames[i])\n",
    "plt.legend(loc = 'best')"
   ]
  },
  {
   "cell_type": "code",
   "execution_count": null,
   "metadata": {
    "collapsed": false
   },
   "outputs": [],
   "source": [
    "# text features only\n",
    "classification_models = [LogisticRegression(), GaussianNB(), rf(), xgb()]\n",
    "modelnames = ['LogReg','NaiveBayes','RF','XGB']\n",
    "models_pleasework = []\n",
    "for i in range(4):\n",
    "    model = classification_models[i]\n",
    "    model.fit(out_train, y_train)\n",
    "    pred_vals = model.predict_proba(out_test)\n",
    "    roc = roc_curve(y_test, pred_vals[:,1])\n",
    "    print(modelnames[i])\n",
    "    print('train '+ str(model.score(out_train,y_train)))\n",
    "    print('test '+ str(model.score(out_test,y_test)))\n",
    "    print('auc ' + str(roc_auc_score(y_test, pred_vals[:,1])))\n",
    "    plt.plot(roc[0], roc[1], label = modelnames[i])\n",
    "    plt.title('ROC curve ' + modelnames[i])\n",
    "    plt.xlabel('FP Rate')\n",
    "    plt.ylabel('TP Rate')\n",
    "    models_pleasework.append(model)\n",
    "plt.legend(loc = 'best')  \n",
    "plt.figure()\n",
    "plt.title('PR Curve')\n",
    "plt.xlabel('Precision')\n",
    "plt.ylabel('Recall')\n",
    "for i in range(len(models_pleasework)):\n",
    "    model = models_pleasework[i]\n",
    "    pred_vals = model.predict_proba(out_test)\n",
    "    precision, recall, thresholds = precision_recall_curve(y_test, pred_vals[:,1])\n",
    "    plt.plot(recall, precision, label = modelnames[i])\n",
    "plt.legend(loc = 'best')"
   ]
  },
  {
   "cell_type": "code",
   "execution_count": null,
   "metadata": {
    "collapsed": false
   },
   "outputs": [],
   "source": [
    "# both\n",
    "classification_models = [LogisticRegression(), GaussianNB(), rf(), xgb()]\n",
    "modelnames = ['LogReg','NaiveBayes','RF','XGB']\n",
    "models_pleasework = []\n",
    "for i in range(4):\n",
    "    model = classification_models[i]\n",
    "    model.fit(big_train, y_train)\n",
    "    pred_vals = model.predict_proba(big_test)\n",
    "    roc = roc_curve(y_test, pred_vals[:,1])\n",
    "    print(modelnames[i])\n",
    "    print('train '+ str(model.score(big_train,y_train)))\n",
    "    print('test '+ str(model.score(big_test,y_test)))\n",
    "    print('auc ' + str(roc_auc_score(y_test, pred_vals[:,1])))\n",
    "    plt.plot(roc[0], roc[1], label = modelnames[i])\n",
    "    plt.title('ROC curve ' + modelnames[i])\n",
    "    plt.xlabel('FP Rate')\n",
    "    plt.ylabel('TP Rate')\n",
    "    models_pleasework.append(model)\n",
    "plt.legend(loc = 'best')  \n",
    "plt.figure()\n",
    "plt.title('PR Curve')\n",
    "plt.xlabel('Precision')\n",
    "plt.ylabel('Recall')\n",
    "for i in range(len(models_pleasework)):\n",
    "    model = models_pleasework[i]\n",
    "    pred_vals = model.predict_proba(big_test)\n",
    "    precision, recall, thresholds = precision_recall_curve(y_test, pred_vals[:,1])\n",
    "    plt.plot(recall, precision, label = modelnames[i])\n",
    "plt.legend(loc = 'best')"
   ]
  },
  {
   "cell_type": "code",
   "execution_count": null,
   "metadata": {
    "collapsed": false
   },
   "outputs": [],
   "source": [
    "timeless_data['***'].hist()"
   ]
  },
  {
   "cell_type": "code",
   "execution_count": null,
   "metadata": {
    "collapsed": false
   },
   "outputs": [],
   "source": [
    "coefs = list(models_pleasework[0].coef_[0])\n",
    "names = list(X_train.columns)\n",
    "names.remove('text')\n",
    "modeldict = {}\n",
    "for i in range(len(names)):\n",
    "    modeldict[names[i]] = coefs[i]\n",
    "modeldict"
   ]
  },
  {
   "cell_type": "code",
   "execution_count": null,
   "metadata": {
    "collapsed": false
   },
   "outputs": [],
   "source": [
    "len(coefs)"
   ]
  },
  {
   "cell_type": "code",
   "execution_count": null,
   "metadata": {
    "collapsed": false
   },
   "outputs": [],
   "source": [
    "classification_models = [LogisticRegression(), GaussianNB(), rf(), xgb()]\n",
    "modelnames = ['LogReg','NaiveBayes','RF','XGB']\n",
    "models_pleasework = []\n",
    "for i in [0,3]:\n",
    "    model = classification_models[i]\n",
    "    model.fit(big_train, y_train)\n",
    "    pred_vals = model.predict_proba(big_test)\n",
    "    roc = roc_curve(y_test, pred_vals[:,1])\n",
    "    print(modelnames[i])\n",
    "    print('train '+ str(model.score(big_train,y_train)))\n",
    "    print('test '+ str(model.score(big_test,y_test)))\n",
    "    print('auc ' + str(roc_auc_score(y_test, pred_vals[:,1])))\n",
    "    plt.plot(roc[0], roc[1], label = modelnames[i])\n",
    "    plt.title('ROC curve ' + modelnames[i])\n",
    "    plt.xlabel('FP Rate')\n",
    "    plt.ylabel('TP Rate')\n",
    "    models_pleasework.append(model)\n",
    "plt.legend(loc = 'best')  \n",
    "plt.figure()\n",
    "plt.title('PR Curve')\n",
    "plt.xlabel('Precision')\n",
    "plt.ylabel('Recall')\n",
    "for i in range(len(models_pleasework)):\n",
    "    model = models_pleasework[i]\n",
    "    pred_vals = model.predict_proba(big_test)\n",
    "    precision, recall, thresholds = precision_recall_curve(y_test, pred_vals[:,1])\n",
    "    plt.plot(recall, precision, label = modelnames[i])\n",
    "plt.legend(loc = 'best')"
   ]
  },
  {
   "cell_type": "code",
   "execution_count": null,
   "metadata": {
    "collapsed": false
   },
   "outputs": [],
   "source": []
  },
  {
   "cell_type": "code",
   "execution_count": null,
   "metadata": {
    "collapsed": false
   },
   "outputs": [],
   "source": []
  },
  {
   "cell_type": "code",
   "execution_count": null,
   "metadata": {
    "collapsed": false
   },
   "outputs": [],
   "source": [
    "big_train = pd.concat([X_train[all_non_text_feats], out_train], axis = 1)\n",
    "model = LogisticRegression()\n",
    "model.fit(big_train,y_train)"
   ]
  },
  {
   "cell_type": "code",
   "execution_count": null,
   "metadata": {
    "collapsed": false
   },
   "outputs": [],
   "source": [
    "collist = list(big_train.columns)\n",
    "for line in collist:\n",
    "    ct = collist.count(line)\n",
    "    if ct > 1:\n",
    "        print(line)\n",
    "        print(ct)"
   ]
  },
  {
   "cell_type": "code",
   "execution_count": null,
   "metadata": {
    "collapsed": false
   },
   "outputs": [],
   "source": [
    "out_train.head()"
   ]
  },
  {
   "cell_type": "code",
   "execution_count": null,
   "metadata": {
    "collapsed": false
   },
   "outputs": [],
   "source": [
    "X_train[xtc].head()"
   ]
  },
  {
   "cell_type": "code",
   "execution_count": null,
   "metadata": {
    "collapsed": false
   },
   "outputs": [],
   "source": [
    "plt.plot(roc[0], roc[1])\n",
    "plt.title('ROC curve')\n",
    "plt.xlabel('FP Rate')\n",
    "plt.ylabel('TP Rate')"
   ]
  },
  {
   "cell_type": "code",
   "execution_count": null,
   "metadata": {
    "collapsed": true
   },
   "outputs": [],
   "source": []
  },
  {
   "cell_type": "code",
   "execution_count": null,
   "metadata": {
    "collapsed": false
   },
   "outputs": [],
   "source": [
    "precision, recall, thresholds = precision_recall_curve(y_test, pred_vals[:,1])\n",
    "plt.plot(recall, precision)\n",
    "plt.title('PR Curve')\n",
    "plt.xlabel('Precision')\n",
    "plt.ylabel('Recall')"
   ]
  },
  {
   "cell_type": "code",
   "execution_count": null,
   "metadata": {
    "collapsed": false
   },
   "outputs": [],
   "source": [
    "t0 = time.time()\n",
    "X = data_timeless[time_independent_feats[1:]] # drops name\n",
    "y = ptransform(data_timeless['***'], 80)\n",
    "X_train, X_test, y_train, y_test = constsplit(data_timeless.restaurant_id, X, y)\n",
    "\n",
    "# X_train, X_test, y_train, y_test = train_test_split(X, y, test_size = 0.3, random_state = 42)\n",
    "m1 = xgb()\n",
    "m1.fit(X_train, y_train)\n",
    "pred_vals1 = m1.predict_proba(X_test)\n",
    "roc = roc_curve(y_test, pred_vals1[:,1])\n",
    "print('Default model')\n",
    "print('train '+ str(m1.score(X_train,y_train)))\n",
    "print('test '+ str(m1.score(X_test,y_test)))\n",
    "print('auc ' + str(roc_auc_score(y_test, pred_vals1[:,1])))\n",
    "\n",
    "plt.plot(roc[0], roc[1])\n",
    "\n",
    "\n",
    "model = xgb()\n",
    "clf = GridSearchCV(model,\n",
    "                   {'gamma': list(np.arange(0,2.5,0.5)),\n",
    "                    'reg_alpha': list(np.arange(0,2.5,0.5)),\n",
    "                    'reg_lambda': list(np.arange(0,2.5,0.5))}, verbose=1)\n",
    "clf.fit(X_train, y_train)\n",
    "pred_vals = clf.predict_proba(X_test)\n",
    "roc = roc_curve(y_test, pred_vals[:,1])\n",
    "# clf.fit(X_train, y_train, early_stopping_rounds=10, eval_metric=\"auc\",\n",
    "#         eval_set=[(X_test, y_test)])\n",
    "\n",
    "print(clf.best_score_)\n",
    "print(clf.best_params_)\n",
    "\n",
    "print('Fit model')\n",
    "print('train '+ str(clf.score(X_train,y_train)))\n",
    "print('test '+ str(clf.score(X_test,y_test)))\n",
    "print('auc ' + str(roc_auc_score(y_test, pred_vals[:,1])))\n",
    "\n",
    "m2 = xgb(clf.best_params_)\n",
    "m2.fit(X_train, y_train)\n",
    "\n",
    "pred_vals2 = clf.predict_proba(X_test)\n",
    "roc2 = roc_curve(y_test, pred_vals2[:,1])\n",
    "\n",
    "print('Fit model 2')\n",
    "print('train '+ str(m2.score(X_train,y_train)))\n",
    "print('test '+ str(m2.score(X_test,y_test)))\n",
    "print('auc ' + str(roc_auc_score(y_test, pred_vals2[:,1])))\n",
    "\n",
    "\n",
    "\n",
    "# # print('train '+  str(clf.score(X_train, y_train)))\n",
    "# # print('test ' +  str(clf.score(X_test, y_test)))\n",
    "# # print('auc ' + str(roc_auc_score(y_test, pred_vals[:,1])))\n",
    "# #     plt.figure()\n",
    "# plt.plot(roc[0], roc[1])\n",
    "# plt.title('ROC curve')\n",
    "# plt.xlabel('FP Rate')\n",
    "# plt.ylabel('TP Rate')\n",
    "# # (y_test, pred_vals[:,1])\n",
    "# plt.legend(loc = 'best')\n",
    "print(str(time.time() - t0) + ' seconds')"
   ]
  },
  {
   "cell_type": "code",
   "execution_count": null,
   "metadata": {
    "collapsed": false
   },
   "outputs": [],
   "source": [
    "t0 = time.time()\n",
    "X = data_timeless[time_independent_feats[1:]] # drops name\n",
    "y = ptransform(data_timeless['***'], 80)\n",
    "X_train, X_test, y_train, y_test = constsplit(data_timeless.restaurant_id, X, y)\n",
    "\n",
    "# X_train, X_test, y_train, y_test = train_test_split(X, y, test_size = 0.3, random_state = 42)\n",
    "m1 = xgb()\n",
    "m1.fit(X_train, y_train)\n",
    "pred_vals1 = m1.predict_proba(X_test)\n",
    "roc = roc_curve(y_test, pred_vals1[:,1])\n",
    "print('Default model')\n",
    "print('train '+ str(m1.score(X_train,y_train)))\n",
    "print('test '+ str(m1.score(X_test,y_test)))\n",
    "print('auc ' + str(roc_auc_score(y_test, pred_vals1[:,1])))\n",
    "\n",
    "plt.plot(roc[0], roc[1])\n",
    "plt.title('ROC curve model base')\n",
    "plt.xlabel('FP Rate')\n",
    "plt.ylabel('TP Rate')\n",
    "\n",
    "select = sklearn.feature_selection.SelectKBest(k=5)\n",
    "model = xgb()\n",
    "pca = PCA(n_components=20)\n",
    "\n",
    "# Define the steps for the pipeline\n",
    "steps = [('pca', pca),\n",
    "        ('feature_selection', select),\n",
    "        ('model', model)]\n",
    "\n",
    "pipeline_xgb = sklearn.pipeline.Pipeline(steps)\n",
    "\n",
    "parameters_xgb = dict(pca__n_components=[20,30], \n",
    "                      feature_selection__k=[10,'all'])#, \n",
    "#                       random_forest__n_estimators=[100],\n",
    "#                       random_forest__min_samples_split=[10])\n",
    "\n",
    "model_xgb = sklearn.grid_search.GridSearchCV(pipeline_xgb, param_grid=parameters_xgb)\n",
    "\n",
    "model_xgb.fit(X_train, y_train)\n",
    "\n",
    "pred_vals_xgb = m1.predict_proba(X_test)\n",
    "roc_xgb = roc_curve(y_test, pred_vals_xgb[:,1])\n",
    "print('PCA model')\n",
    "print('train '+ str(model_xgb.score(X_train,y_train)))\n",
    "print('test '+ str(model_xgb.score(X_test,y_test)))\n",
    "print('auc ' + str(roc_auc_score(y_test, pred_vals_xgb[:,1])))\n",
    "\n",
    "plt.plot(roc_xgb[0], roc_xgb[1])\n",
    "plt.title('ROC curve model base')\n",
    "plt.xlabel('FP Rate')\n",
    "plt.ylabel('TP Rate')\n",
    "\n",
    "# model = xgb()\n",
    "# clf = GridSearchCV(model,\n",
    "#                    {'gamma': list(np.arange(0,2.5,0.5)),\n",
    "#                     'reg_alpha': list(np.arange(0,2.5,0.5)),\n",
    "#                     'reg_lambda': list(np.arange(0,2.5,0.5))}, verbose=1)\n",
    "# clf.fit(X_train, y_train)\n",
    "# pred_vals = clf.predict_proba(X_test)\n",
    "# roc = roc_curve(y_test, pred_vals[:,1])\n",
    "# # clf.fit(X_train, y_train, early_stopping_rounds=10, eval_metric=\"auc\",\n",
    "# #         eval_set=[(X_test, y_test)])\n",
    "\n",
    "# print(clf.best_score_)\n",
    "# print(clf.best_params_)\n",
    "\n",
    "# print('Fit model')\n",
    "# print('train '+ str(clf.score(X_train,y_train)))\n",
    "# print('test '+ str(clf.score(X_test,y_test)))\n",
    "# print('auc ' + str(roc_auc_score(y_test, pred_vals[:,1])))\n",
    "\n",
    "# m2 = xgb(clf.best_params_)\n",
    "# m2.fit(X_train, y_train)\n",
    "\n",
    "# pred_vals2 = clf.predict_proba(X_test)\n",
    "# roc2 = roc_curve(y_test, pred_vals2[:,1])\n",
    "\n",
    "# print('Fit model 2')\n",
    "# print('train '+ str(m2.score(X_train,y_train)))\n",
    "# print('test '+ str(m2.score(X_test,y_test)))\n",
    "# print('auc ' + str(roc_auc_score(y_test, pred_vals2[:,1])))\n",
    "\n",
    "\n",
    "\n",
    "# # # print('train '+  str(clf.score(X_train, y_train)))\n",
    "# # # print('test ' +  str(clf.score(X_test, y_test)))\n",
    "# # # print('auc ' + str(roc_auc_score(y_test, pred_vals[:,1])))\n",
    "# # #     plt.figure()\n",
    "# # plt.plot(roc[0], roc[1])\n",
    "# # plt.title('ROC curve')\n",
    "# # plt.xlabel('FP Rate')\n",
    "# # plt.ylabel('TP Rate')\n",
    "# # # (y_test, pred_vals[:,1])\n",
    "# # plt.legend(loc = 'best')\n",
    "print(str(time.time() - t0) + ' seconds')"
   ]
  },
  {
   "cell_type": "code",
   "execution_count": null,
   "metadata": {
    "collapsed": true
   },
   "outputs": [],
   "source": [
    "model1 = XGB"
   ]
  },
  {
   "cell_type": "code",
   "execution_count": null,
   "metadata": {
    "collapsed": false
   },
   "outputs": [],
   "source": [
    "list(np.arange(0,2.5,0.5))"
   ]
  },
  {
   "cell_type": "code",
   "execution_count": null,
   "metadata": {
    "collapsed": false
   },
   "outputs": [],
   "source": [
    "print(m1)"
   ]
  },
  {
   "cell_type": "code",
   "execution_count": null,
   "metadata": {
    "collapsed": false
   },
   "outputs": [],
   "source": [
    "list(np.arange(0.05,0.2,0.05))"
   ]
  },
  {
   "cell_type": "code",
   "execution_count": null,
   "metadata": {
    "collapsed": false
   },
   "outputs": [],
   "source": [
    "list(np.arange(20,500,20))"
   ]
  },
  {
   "cell_type": "code",
   "execution_count": null,
   "metadata": {
    "collapsed": false
   },
   "outputs": [],
   "source": [
    "from sklearn.datasets import load_iris, load_digits, load_boston\n",
    "thing = load_boston()\n",
    "thing['data'].shape"
   ]
  },
  {
   "cell_type": "code",
   "execution_count": null,
   "metadata": {
    "collapsed": true
   },
   "outputs": [],
   "source": []
  },
  {
   "cell_type": "code",
   "execution_count": null,
   "metadata": {
    "collapsed": false
   },
   "outputs": [],
   "source": [
    "X = data_timeless[time_independent_feats[1:]] # drops name\n",
    "y = ptransform(data_timeless['***'], 80)\n",
    "X_train, X_test, y_train, y_test = train_test_split(X, y, test_size = 0.3, random_state = 42)\n",
    "\n",
    "model = xgb()\n",
    "clf = GridSearchCV(xgb_model,\n",
    "                   {'max_depth': [6,12,18],\n",
    "                    'n_estimators': [50,100,200]}, verbose=1)\n",
    "\n",
    "modeltypes = [LogisticRegression(), GaussianNB(), rf(), xgb()]\n",
    "modelnames = ['LogReg','NaiveBayes','RF','XGB']\n",
    "models_feats = []\n",
    "for i in range(len(modeltypes)):\n",
    "    model_feats = modeltypes[i]\n",
    "    model_feats.fit(X_train, y_train)\n",
    "    pred_vals = model_feats.predict_proba(X_test)\n",
    "    roc = roc_curve(y_test, pred_vals[:,1])\n",
    "    \n",
    "    print(modelnames[i])\n",
    "    print('train '+  str(model_feats.score(X_train, y_train)))\n",
    "    print('test ' +  str(model_feats.score(X_test, y_test)))\n",
    "    print('auc ' + str(roc_auc_score(y_test, pred_vals[:,1])))\n",
    "#     plt.figure()\n",
    "    plt.plot(roc[0], roc[1], label = modelnames[i])\n",
    "    plt.title('ROC curve')\n",
    "    plt.xlabel('FP Rate')\n",
    "    plt.ylabel('TP Rate')\n",
    "    # (y_test, pred_vals[:,1])\n",
    "    models_feats.append(model_feats)\n",
    "plt.legend(loc = 'best')"
   ]
  },
  {
   "cell_type": "code",
   "execution_count": null,
   "metadata": {
    "collapsed": false
   },
   "outputs": [],
   "source": [
    "X = data_timeless[time_independent_feats[1:]] # drops name\n",
    "y = ptransform(data_timeless['***'], 80)\n",
    "X_train, X_test, y_train, y_test = train_test_split(X, y, test_size = 0.3, random_state = 42)\n",
    "\n",
    "modeltypes = [LogisticRegression(), GaussianNB(), rf(), xgb()]\n",
    "modelnames = ['LogReg','NaiveBayes','RF','XGB']\n",
    "models_feats = []\n",
    "for i in range(len(modeltypes)):\n",
    "    model_feats = modeltypes[i]\n",
    "    model_feats.fit(X_train, y_train)\n",
    "    pred_vals = model_feats.predict_proba(X_test)\n",
    "    roc = roc_curve(y_test, pred_vals[:,1])\n",
    "    \n",
    "    print(modelnames[i])\n",
    "    print('train '+  str(model_feats.score(X_train, y_train)))\n",
    "    print('test ' +  str(model_feats.score(X_test, y_test)))\n",
    "    print('auc ' + str(roc_auc_score(y_test, pred_vals[:,1])))\n",
    "#     plt.figure()\n",
    "    plt.plot(roc[0], roc[1], label = modelnames[i])\n",
    "    plt.title('ROC curve')\n",
    "    plt.xlabel('FP Rate')\n",
    "    plt.ylabel('TP Rate')\n",
    "    # (y_test, pred_vals[:,1])\n",
    "    models_feats.append(model_feats)\n",
    "plt.legend(loc = 'best')"
   ]
  },
  {
   "cell_type": "code",
   "execution_count": null,
   "metadata": {
    "collapsed": false
   },
   "outputs": [],
   "source": [
    "X = data_timeless[time_independent_feats[1:]] # drops name\n",
    "y = ptransform(data_timeless['***'], 50)\n",
    "X_train, X_test, y_train, y_test = train_test_split(X, y, test_size = 0.3, random_state = 42)\n",
    "\n",
    "modeltypes = [LogisticRegression(), GaussianNB(), rf(), xgb()]\n",
    "modelnames = ['LogReg','NaiveBayes','RF','XGB']\n",
    "models_feats = []\n",
    "for i in range(len(modeltypes)):\n",
    "    model_feats = modeltypes[i]\n",
    "    model_feats.fit(X_train, y_train)\n",
    "    pred_vals = model_feats.predict_proba(X_test)\n",
    "    roc = roc_curve(y_test, pred_vals[:,1])\n",
    "    \n",
    "    print(modelnames[i])\n",
    "    print('train '+  str(model_feats.score(X_train, y_train)))\n",
    "    print('test ' +  str(model_feats.score(X_test, y_test)))\n",
    "    print('auc ' + str(roc_auc_score(y_test, pred_vals[:,1])))\n",
    "#     plt.figure()\n",
    "    plt.plot(roc[0], roc[1], label = modelnames[i])\n",
    "    plt.title('ROC curve')\n",
    "    plt.xlabel('FP Rate')\n",
    "    plt.ylabel('TP Rate')\n",
    "    # (y_test, pred_vals[:,1])\n",
    "    models_feats.append(model_feats)\n",
    "plt.legend(loc = 'best')"
   ]
  },
  {
   "cell_type": "code",
   "execution_count": null,
   "metadata": {
    "collapsed": false
   },
   "outputs": [],
   "source": [
    "X = data_timeless[time_independent_feats[1:]] # drops name\n",
    "y = ptransform(data_timeless['***'], 20)\n",
    "X_train, X_test, y_train, y_test = train_test_split(X, y, test_size = 0.3, random_state = 42)\n",
    "\n",
    "modeltypes = [LinearRegression(), rfr()]\n",
    "modelnames = ['LinReg','NaiveBayes','RF','XGB']\n",
    "models_feats = []\n",
    "for i in range(len(modeltypes)):\n",
    "    model_feats = modeltypes[i]\n",
    "    model_feats.fit(X_train, y_train)\n",
    "    pred_vals = model_feats.predict_proba(X_test)\n",
    "    roc = roc_curve(y_test, pred_vals[:,1])\n",
    "    \n",
    "    print(modelnames[i])\n",
    "    print('train '+  str(model_feats.score(X_train, y_train)))\n",
    "    print('test ' +  str(model_feats.score(X_test, y_test)))\n",
    "    print('auc ' + str(roc_auc_score(y_test, pred_vals[:,1])))\n",
    "#     plt.figure()\n",
    "    plt.plot(roc[0], roc[1], label = modelnames[i])\n",
    "    plt.title('ROC curve')\n",
    "    plt.xlabel('FP Rate')\n",
    "    plt.ylabel('TP Rate')\n",
    "    # (y_test, pred_vals[:,1])\n",
    "    models_feats.append(model_feats)\n",
    "plt.legend(loc = 'best')"
   ]
  },
  {
   "cell_type": "code",
   "execution_count": null,
   "metadata": {
    "collapsed": false
   },
   "outputs": [],
   "source": [
    "cdict3 = {}\n",
    "for pctl in [10,20,50,80,90]:\n",
    "    print('\\n\\n\\nPERCENTILE = ' + str(pctl) + '\\n\\n\\n' )\n",
    "    X = data_timeless[time_independent_feats[1:]] # drops name\n",
    "    y = ptransform(data_timeless['***'], pctl)\n",
    "    X_train, X_test, y_train, y_test = train_test_split(X, y, test_size = 0.3, random_state = 42)\n",
    "\n",
    "    modeltypes = [LogisticRegression(), GaussianNB(), rf(), xgb(), SGDClassifier(loss = 'log')]\n",
    "    modelnames = ['LogReg','NaiveBayes','RF','XGB', 'SGD']\n",
    "    models_feats = []\n",
    "    plt.figure()\n",
    "    for i in range(len(modeltypes)):\n",
    "        model_feats = modeltypes[i]\n",
    "        model_feats.fit(X_train, y_train)\n",
    "        pred_vals = model_feats.predict_proba(X_test)\n",
    "        roc = roc_curve(y_test, pred_vals[:,1])\n",
    "\n",
    "        print(modelnames[i])\n",
    "        print('train '+  str(model_feats.score(X_train, y_train)))\n",
    "        print('test ' +  str(model_feats.score(X_test, y_test)))\n",
    "        print('auc ' + str(roc_auc_score(y_test, pred_vals[:,1])))\n",
    "    #     plt.figure()\n",
    "        plt.plot(roc[0], roc[1], label = modelnames[i])\n",
    "        plt.title('ROC curve '+str(pctl)+ ' percentile thresh')\n",
    "        plt.xlabel('FP Rate')\n",
    "        plt.ylabel('TP Rate')\n",
    "        # (y_test, pred_vals[:,1])\n",
    "        models_feats.append(model_feats)\n",
    "    plt.legend(loc = 'best')\n",
    "\n",
    "    coefs = list(models_feats[0].coef_[0])\n",
    "    feats = list(X_train.columns)\n",
    "    for i in range(len(coefs)):\n",
    "        if feats[i] not in cdict3.keys():\n",
    "            cdict3[feats[i]] = {}\n",
    "        cdict3[feats[i]][pctl] = coefs[i]\n",
    "    "
   ]
  },
  {
   "cell_type": "code",
   "execution_count": null,
   "metadata": {
    "collapsed": false
   },
   "outputs": [],
   "source": [
    "cdict3"
   ]
  },
  {
   "cell_type": "code",
   "execution_count": null,
   "metadata": {
    "collapsed": true
   },
   "outputs": [],
   "source": [
    "Xt1 = X_train + 0"
   ]
  },
  {
   "cell_type": "code",
   "execution_count": null,
   "metadata": {
    "collapsed": false
   },
   "outputs": [],
   "source": [
    "X = data_timeless[time_independent_feats[1:]] # drops name\n",
    "# X = data_timeless[['x','y']]\n",
    "y = data_timeless['***']\n",
    "X_train, X_test, y_train, y_test = train_test_split(X, y, test_size = 0.3, random_state = 42)\n",
    "\n",
    "modeltypes = [LinearRegression(), Lasso(), Ridge(), ElasticNet(), rfr(),xgbr()]\n",
    "modelnames = ['LinReg','Lasso','Ridge','ElasticNet', 'RF','XGB']\n",
    "models_feats = []\n",
    "for i in range(len(modeltypes)):\n",
    "    model_feats = modeltypes[i]\n",
    "    model_feats.fit(X_train, y_train)\n",
    "#     pred_vals = model_feats.predict_proba(X_test)\n",
    "#     roc = roc_curve(y_test, pred_vals[:,1])\n",
    "    \n",
    "    print(modelnames[i])\n",
    "    print('train '+  str(model_feats.score(X_train, y_train)))\n",
    "    print('test ' +  str(model_feats.score(X_test, y_test)))\n",
    "#     print('auc ' + str(roc_auc_score(y_test, pred_vals[:,1])))\n",
    "# #     plt.figure()\n",
    "#     plt.plot(roc[0], roc[1], label = modelnames[i])\n",
    "#     plt.title('ROC curve')\n",
    "#     plt.xlabel('FP Rate')\n",
    "#     plt.ylabel('TP Rate')\n",
    "    # (y_test, pred_vals[:,1])\n",
    "    models_feats.append(model_feats)\n",
    "# plt.legend(loc = 'best')"
   ]
  },
  {
   "cell_type": "code",
   "execution_count": null,
   "metadata": {
    "collapsed": false
   },
   "outputs": [],
   "source": [
    "X = data_timeless[time_independent_feats[1:]] # drops name\n",
    "y = ptransform(data_timeless['***'], 10)\n",
    "X_train, X_test, y_train, y_test = train_test_split(X, y, test_size = 0.3, random_state = 42)\n",
    "\n",
    "modeltypes = [LogisticRegression(), GaussianNB(), rf(), xgb()]\n",
    "modelnames = ['LogReg','NaiveBayes','RF','XGB']\n",
    "models_feats = []\n",
    "for i in range(len(modeltypes)):\n",
    "    model_feats = modeltypes[i]\n",
    "    model_feats.fit(X_train, y_train)\n",
    "    pred_vals = model_feats.predict_proba(X_test)\n",
    "    roc = roc_curve(y_test, pred_vals[:,1])\n",
    "    \n",
    "    print(modelnames[i])\n",
    "    print('train '+  str(model_feats.score(X_train, y_train)))\n",
    "    print('test ' +  str(model_feats.score(X_test, y_test)))\n",
    "    print('auc ' + str(roc_auc_score(y_test, pred_vals[:,1])))\n",
    "#     plt.figure()\n",
    "    plt.plot(roc[0], roc[1], label = modelnames[i])\n",
    "    plt.title('ROC curve')\n",
    "    plt.xlabel('FP Rate')\n",
    "    plt.ylabel('TP Rate')\n",
    "    # (y_test, pred_vals[:,1])\n",
    "    models_feats.append(model_feats)\n",
    "plt.legend(loc = 'best')"
   ]
  },
  {
   "cell_type": "code",
   "execution_count": null,
   "metadata": {
    "collapsed": false
   },
   "outputs": [],
   "source": [
    "X = data_timeless[time_independent_feats[1:]] # drops name\n",
    "y = ptransform(data_timeless['***'], 10)\n",
    "X_train, X_test, y_train, y_test = train_test_split(X, y, test_size = 0.3, random_state = 42)\n",
    "\n",
    "modeltypes = [LogisticRegression(), GaussianNB(), rf(), xgb()]\n",
    "modelnames = ['LogReg','NaiveBayes','RF','XGB']\n",
    "models_feats = []\n",
    "for i in range(len(modeltypes)):\n",
    "    model_feats = modeltypes[i]\n",
    "    model_feats.fit(X_train, y_train)\n",
    "    pred_vals = model_feats.predict_proba(X_test)\n",
    "    roc = roc_curve(y_test, pred_vals[:,1])\n",
    "    \n",
    "    print(modelnames[i])\n",
    "    print('train '+  str(model_feats.score(X_train, y_train)))\n",
    "    print('test ' +  str(model_feats.score(X_test, y_test)))\n",
    "    print('auc ' + str(roc_auc_score(y_test, pred_vals[:,1])))\n",
    "#     plt.figure()\n",
    "    plt.plot(roc[0], roc[1], label = modelnames[i])\n",
    "    plt.title('ROC curve')\n",
    "    plt.xlabel('FP Rate')\n",
    "    plt.ylabel('TP Rate')\n",
    "    # (y_test, pred_vals[:,1])\n",
    "    models_feats.append(model_feats)\n",
    "plt.legend(loc = 'best')"
   ]
  },
  {
   "cell_type": "code",
   "execution_count": null,
   "metadata": {
    "collapsed": false
   },
   "outputs": [],
   "source": [
    "mythresh = 80\n",
    "xygood = X[['x','y']][ptransform(data_timeless['***'], mythresh) == 0]\n",
    "xybad = X[['x','y']][ptransform(data_timeless['***'], mythresh) == 1]\n",
    "plt.figure(figsize = [20,20])\n",
    "plt.scatter(xygood.x,xygood.y, c = 'c', alpha = 0.3)\n",
    "plt.scatter(xybad.x,xybad.y, c = 'r', alpha = 1)"
   ]
  },
  {
   "cell_type": "code",
   "execution_count": null,
   "metadata": {
    "collapsed": false
   },
   "outputs": [],
   "source": [
    "X = data_timeless[time_independent_feats[1:]] # drops name\n",
    "y = (data_timeless['***'] > 10) + 0\n",
    "\n",
    "X_train, X_test, y_train, y_test = train_test_split(X, y, test_size = 0.3, random_state = 42)\n",
    "\n",
    "modeltypes = [LogisticRegression(), GaussianNB(), rf(), xgb()]\n",
    "models_feats = []\n",
    "for modeltype in modeltypes:\n",
    "    model_feats = modeltype\n",
    "    model_feats.fit(X_train, y_train)\n",
    "    print(modeltype)\n",
    "    print('train '+  str(model_feats.score(X_train, y_train)))\n",
    "    print('test ' +  str(model_feats.score(X_test, y_test)))\n",
    "    print('auc ' + str(roc_auc_score(y_test, model_feats.predict_proba(X_test)[:,1])))\n",
    "    models_feats.append(model_feats)"
   ]
  },
  {
   "cell_type": "code",
   "execution_count": null,
   "metadata": {
    "collapsed": false
   },
   "outputs": [],
   "source": [
    "sum(Xt1.crimes_1_km == X_train.crimes_1_km)/len(Xt1)"
   ]
  },
  {
   "cell_type": "code",
   "execution_count": null,
   "metadata": {
    "collapsed": false
   },
   "outputs": [],
   "source": [
    "X = data_timeless[time_independent_feats[1:]] # drops name\n",
    "y = (data_timeless['***'] > 5) + 0\n",
    "\n",
    "X_train, X_test, y_train, y_test = train_test_split(X, y, test_size = 0.3, random_state = 42)\n",
    "\n",
    "modeltypes = [LogisticRegression(), GaussianNB(), rf(), xgb()]\n",
    "models_feats = []\n",
    "for modeltype in modeltypes:\n",
    "    model_feats = modeltype\n",
    "    model_feats.fit(X_train, y_train)\n",
    "    print(modeltype)\n",
    "    print('train '+  str(model_feats.score(X_train, y_train)))\n",
    "    print('test ' +  str(model_feats.score(X_test, y_test)))\n",
    "    print('auc ' + str(roc_auc_score(y_test, model_feats.predict_proba(X_test)[:,1])))\n",
    "    models_feats.append(model_feats)"
   ]
  },
  {
   "cell_type": "code",
   "execution_count": null,
   "metadata": {
    "collapsed": false
   },
   "outputs": [],
   "source": [
    "X = data_timeless[time_independent_feats[1:]] # drops name\n",
    "y = (data_timeless['***'] > 30) + 0\n",
    "\n",
    "X_train, X_test, y_train, y_test = train_test_split(X, y, test_size = 0.3, random_state = 42)\n",
    "\n",
    "modeltypes = [LogisticRegression(), GaussianNB(), rf(), xgb()]\n",
    "models_feats = []\n",
    "for modeltype in modeltypes:\n",
    "    model_feats = modeltype\n",
    "    model_feats.fit(X_train, y_train)\n",
    "    print(modeltype)\n",
    "    print('train '+  str(model_feats.score(X_train, y_train)))\n",
    "    print('test ' +  str(model_feats.score(X_test, y_test)))\n",
    "    print('auc ' + str(roc_auc_score(y_test, model_feats.predict_proba(X_test)[:,1])))\n",
    "    models_feats.append(model_feats)"
   ]
  },
  {
   "cell_type": "code",
   "execution_count": null,
   "metadata": {
    "collapsed": false
   },
   "outputs": [],
   "source": [
    "X = data_timeless[time_independent_feats[1:]] # drops name\n",
    "y = (data_timeless['***'] > 8) + 0\n",
    "\n",
    "X_train, X_test, y_train, y_test = train_test_split(X, y, test_size = 0.3, random_state = 42)\n",
    "\n",
    "modeltypes = [LogisticRegression(), GaussianNB(), rf(), xgb()]\n",
    "models_feats = []\n",
    "for modeltype in modeltypes:\n",
    "    model_feats = modeltype\n",
    "    model_feats.fit(X_train, y_train)\n",
    "    print(modeltype)\n",
    "    print('train '+  str(model_feats.score(X_train, y_train)))\n",
    "    print('test ' +  str(model_feats.score(X_test, y_test)))\n",
    "    print('auc ' + str(roc_auc_score(y_test, model_feats.predict_proba(X_test)[:,1])))\n",
    "    models_feats.append(model_feats)"
   ]
  },
  {
   "cell_type": "code",
   "execution_count": null,
   "metadata": {
    "collapsed": false
   },
   "outputs": [],
   "source": []
  },
  {
   "cell_type": "code",
   "execution_count": null,
   "metadata": {
    "collapsed": false
   },
   "outputs": [],
   "source": [
    "modeltypes = [xgb(), LogisticRegression(), rf(), GaussianNB]\n",
    "for modeltype in modeltypes:\n",
    "    model = modeltype\n",
    "    model.fit(X_train,y_train)\n",
    "    print(modeltype)\n",
    "    print('train score ' + str(model.score(X_train,y_train)))\n",
    "    print('test score ' + str(model.score(X_test,y_test)))"
   ]
  },
  {
   "cell_type": "code",
   "execution_count": null,
   "metadata": {
    "collapsed": true
   },
   "outputs": [],
   "source": []
  },
  {
   "cell_type": "code",
   "execution_count": null,
   "metadata": {
    "collapsed": false
   },
   "outputs": [],
   "source": [
    "sum(befores_data.crimes_100_m < 1/1000)/len(befores_data)"
   ]
  },
  {
   "cell_type": "code",
   "execution_count": null,
   "metadata": {
    "collapsed": false
   },
   "outputs": [],
   "source": [
    "befores_data.crimes_100_m.mean()"
   ]
  },
  {
   "cell_type": "code",
   "execution_count": null,
   "metadata": {
    "collapsed": false
   },
   "outputs": [],
   "source": [
    "featurecols = colnames[2:-3]\n",
    "# featurecols.extend(['x','y'])\n",
    "targetcols = colnames[-3:]\n",
    "featurecols"
   ]
  },
  {
   "cell_type": "code",
   "execution_count": null,
   "metadata": {
    "collapsed": false
   },
   "outputs": [],
   "source": [
    "windows_rs, befores_rs = windows_data.restaurant_id.tolist(), befores_data.restaurant_id.tolist()\n",
    "sw, sb = set(windows_rs), set(befores_rs)\n",
    "valid_rs = list(sw.intersection(sb))"
   ]
  },
  {
   "cell_type": "code",
   "execution_count": null,
   "metadata": {
    "collapsed": false
   },
   "outputs": [],
   "source": [
    "len(valid_rs)/len(set(windows_rs))"
   ]
  },
  {
   "cell_type": "code",
   "execution_count": null,
   "metadata": {
    "collapsed": false
   },
   "outputs": [],
   "source": [
    "test_rs, train_rs = train_test_split(valid_rs, test_size = 0.3)\n",
    "def intest(row):\n",
    "    return (row['restaurant_id'] in test_rs) + 0\n",
    "windows_data['intest'] = windows_data.apply(intest, 1)\n",
    "befores_data['intest'] = windows_data.apply(intest, 1)\n",
    "befores_test = befores_data[befores_data.intest == 1]\n",
    "befores_train = befores_data[befores_data.intest == 0]\n",
    "windows_test = windows_data[windows_data.intest == 1]\n",
    "windows_train = windows_data[windows_data.intest == 0]"
   ]
  },
  {
   "cell_type": "code",
   "execution_count": null,
   "metadata": {
    "collapsed": false
   },
   "outputs": [],
   "source": [
    "sum(befores_test['***'] > 0)/len(befores_test)"
   ]
  },
  {
   "cell_type": "code",
   "execution_count": null,
   "metadata": {
    "collapsed": false
   },
   "outputs": [],
   "source": [
    "type(befores_train['***'] > 0)"
   ]
  },
  {
   "cell_type": "code",
   "execution_count": null,
   "metadata": {
    "collapsed": false
   },
   "outputs": [],
   "source": [
    "model = rf()\n",
    "model.fit(befores_train[['x','y', 'crimes_1_km', 'restaurants_1_km']], (befores_train['***'] > 0))\n",
    "model.score(befores_train[['x','y', 'crimes_1_km', 'restaurants_1_km']], (befores_train['***'] > 0))\n",
    "model.score(befores_test[['x','y', 'crimes_1_km', 'restaurants_1_km']], (befores_test['***'] > 0))\n",
    "roc_auc_score(befores_test['***'] > 0,\n",
    "              model.predict_proba((befores_test[['x','y', 'crimes_1_km', 'restaurants_1_km']] > 0) + 0)[:,1])\n",
    "# model.predict_proba((befores_test[['x','y', 'crimes_1_km', 'restaurants_1_km']] > 0) + 0)"
   ]
  },
  {
   "cell_type": "code",
   "execution_count": null,
   "metadata": {
    "collapsed": false
   },
   "outputs": [],
   "source": [
    "modeltypes = [LogisticRegression(), GaussianNB(), rf(), xgb()]\n",
    "models_feats = []\n",
    "for modeltype in modeltypes:\n",
    "    model_feats = modeltype\n",
    "    model_feats.fit(befores_train[featurecols], (befores_train['***'] > 0) + 0)\n",
    "    print(modeltype)\n",
    "    print('train '+  str(model_feats.score(befores_train[featurecols], (befores_train['***'] > 0) + 0)))\n",
    "    print('test ' +  str(model_feats.score(befores_test[featurecols], (befores_test['***'] > 0) + 0)))\n",
    "    print('auc ' + str(roc_auc_score(befores_test['***'] > 0, model_feats.predict_proba((befores_test[featurecols] > 0) + 0)[:,1])))\n",
    "    models_feats.append(model_feats)"
   ]
  },
  {
   "cell_type": "code",
   "execution_count": null,
   "metadata": {
    "collapsed": false
   },
   "outputs": [],
   "source": [
    "ones = np.ones(befores_train[featurecols].shape)\n",
    "ones.shape"
   ]
  },
  {
   "cell_type": "code",
   "execution_count": null,
   "metadata": {
    "collapsed": false
   },
   "outputs": [],
   "source": [
    "modeltypes2 = [LinearRegression(), rfr()]\n",
    "models_feats2 = []\n",
    "for modeltype in modeltypes2:\n",
    "    model_feats = modeltype\n",
    "    model_feats.fit(befores_train[featurecols], befores_train['***'])\n",
    "    model_control = modeltype\n",
    "    model_control.fit(ones,befores_train['***'])\n",
    "    print(modeltype)\n",
    "    print('train '+  str(model_feats.score(befores_train[featurecols], befores_train['***'])))\n",
    "    print('test ' +  str(model_feats.score(befores_test[featurecols], befores_test['***'])))\n",
    "    print('random ' + str(model_control.score(ones, befores_train['***'])))\n",
    "#     print('auc ' + str(roc_auc_score(befores_test['***'], model_feats.predict((befores_test[featurecols])))))\n",
    "#     models_feats2.append(model_feats)"
   ]
  },
  {
   "cell_type": "code",
   "execution_count": null,
   "metadata": {
    "collapsed": true
   },
   "outputs": [],
   "source": []
  },
  {
   "cell_type": "code",
   "execution_count": null,
   "metadata": {
    "collapsed": false
   },
   "outputs": [],
   "source": [
    "model_feats.predict((befores_test[featurecols] > 0) + 0).shape"
   ]
  },
  {
   "cell_type": "code",
   "execution_count": null,
   "metadata": {
    "collapsed": false
   },
   "outputs": [],
   "source": [
    "mycoefs = list(models_feats[0].coef_[0])\n",
    "for i in range(len(mycoefs)):\n",
    "    print(featurecols[i], str(mycoefs[i]))"
   ]
  },
  {
   "cell_type": "code",
   "execution_count": null,
   "metadata": {
    "collapsed": false
   },
   "outputs": [],
   "source": [
    "model_feats.score(befores_test[featurecols], befores_test['***'] > 0)"
   ]
  },
  {
   "cell_type": "code",
   "execution_count": null,
   "metadata": {
    "collapsed": false
   },
   "outputs": [],
   "source": [
    "j = windows_train['crimes_1_km']*1000#\n",
    "zeros = windows_train.crimes_1_km == 0\n",
    "min(windows_train.crimes_1_km)*10000"
   ]
  },
  {
   "cell_type": "code",
   "execution_count": null,
   "metadata": {
    "collapsed": false
   },
   "outputs": [],
   "source": [
    "singles = pd.DataFrame(singledoc, columns = ['text'])\n",
    "multis = pd.DataFrame(multidoc)\n",
    "targets = pd.DataFrame(targetvals, columns = ['*',\"**\",'***','totals'])"
   ]
  },
  {
   "cell_type": "code",
   "execution_count": null,
   "metadata": {
    "collapsed": true
   },
   "outputs": [],
   "source": [
    "for col in ['*',\"**\",'***','totals']:\n",
    "    med = targets[col].median()\n",
    "    targets[col + '_above_med'] = (targets[col] > med) + 0"
   ]
  },
  {
   "cell_type": "code",
   "execution_count": null,
   "metadata": {
    "collapsed": false
   },
   "outputs": [],
   "source": [
    "pctl = 80\n",
    "for col in ['*',\"**\",'***','totals']:\n",
    "    cut = percentile(targets[col].tolist(), pctl)\n",
    "    targets[col + '_above_' + str(pctl) + '_percentile'] = (targets[col] > cut) + 0"
   ]
  },
  {
   "cell_type": "code",
   "execution_count": null,
   "metadata": {
    "collapsed": false
   },
   "outputs": [],
   "source": [
    "targets.head()"
   ]
  },
  {
   "cell_type": "code",
   "execution_count": null,
   "metadata": {
    "collapsed": false
   },
   "outputs": [],
   "source": [
    "# singles_train, singles_test, multis_train, multis_test, targets_train, targets_test = train_test_split(singles, \n",
    "#                                                                    multis, targets, test_size = .3, random_state = 42)\n",
    "\n",
    "# y_train = targets_train['***_above_' + str(pctl) + '_percentile']\n",
    "# y_train.reshape(-1,1)\n",
    "# y_test = targets_test['***_above_' + str(pctl) + '_percentile']\n",
    "# y_test.reshape(-1,1)\n",
    "\n",
    "# X_train, X_test = singles_train['text'], singles_test['text']\n",
    "\n",
    "model= Pipeline([('vect', CountVectorizer(ngram_range=(1, 1), lowercase = True, stop_words = 'english')),\n",
    "                 ('tfidf', TfidfTransformer()),('svd', TruncatedSVD(n_components = 100)),\n",
    "                 ('model', LogisticRegression()),])#  \n",
    "model.fit(befores_train['text'], (befores_train['***'] > 0) + 0)\n",
    "\n",
    "\n",
    "# singles_train.shape"
   ]
  },
  {
   "cell_type": "code",
   "execution_count": null,
   "metadata": {
    "collapsed": false
   },
   "outputs": [],
   "source": [
    "# model2 = rf(n_estimators = 20)\n",
    "\n",
    "pipe = Pipeline([\n",
    "       ('feats', FeatureUnion([\n",
    "                ('lsa', Pipeline([\n",
    "                        (\"count_vect\", TfidfVectorizer(max_df = 0.97, min_df = 0.02, stop_words = 'english')),\n",
    "                        ('svd', TruncatedSVD(100))\n",
    "                               ]))\n",
    "                            ])),\n",
    "            ('model', xgb())\n",
    "                ])\n",
    "pipe.fit(X_train, y_train)\n",
    "pipe.score(X_test, y_test)"
   ]
  },
  {
   "cell_type": "code",
   "execution_count": null,
   "metadata": {
    "collapsed": false
   },
   "outputs": [],
   "source": [
    "pred_vals = pipe.predict_proba(X_test)\n",
    "\n",
    "from matplotlib.pylab import rcParams\n",
    "rcParams['figure.figsize'] = 5, 4\n",
    "#pr_curve(y_test, pred_vals[:,1])\n",
    "roc = roc_curve(y_test, pred_vals[:,1])\n",
    "plt.plot(roc[0], roc[1])\n",
    "plt.title('ROC curve')\n",
    "plt.xlabel('FP Rate')\n",
    "plt.ylabel('TP Rate')"
   ]
  },
  {
   "cell_type": "code",
   "execution_count": null,
   "metadata": {
    "collapsed": false
   },
   "outputs": [],
   "source": [
    "roc_auc_score(y_test, pipe.predict_proba(X_test)[:,1])"
   ]
  },
  {
   "cell_type": "code",
   "execution_count": null,
   "metadata": {
    "collapsed": false
   },
   "outputs": [],
   "source": [
    "comps = pipe.named_steps['feats'].transformer_list[0][1].named_steps['svd'].components_\n",
    "feats = pipe.named_steps['feats'].transformer_list[0][1].named_steps['count_vect'].get_feature_names()\n",
    "sorted(zip(comps[3], feats), key = lambda x: abs(x[0]), reverse = True)"
   ]
  },
  {
   "cell_type": "code",
   "execution_count": null,
   "metadata": {
    "collapsed": false
   },
   "outputs": [],
   "source": [
    "# junktrain = pd.DataFrame([['gross','yucky'],['fresh','good']])\n",
    "# junksoltrain = pd.DataFrame([[1],[0]])\n",
    "# junktest = pd.DataFrame([['gross'],['fresh']])\n",
    "# junksoltest = pd.DataFrame([[1],[0]])\n",
    "\n",
    "# y_test = [1,0]\n",
    "# model1= Pipeline([('vect', CountVectorizer(ngram_range=(1, 1), lowercase = True, stop_words = 'english')),\n",
    "                 \n",
    "#                  ('model', rf()),])#('tfidf', TfidfTransformer()),\n",
    "# model1.fit(junktrain, junksoltrain)\n"
   ]
  },
  {
   "cell_type": "code",
   "execution_count": null,
   "metadata": {
    "collapsed": false
   },
   "outputs": [],
   "source": [
    "preds = model.predict(befores_train['text'])\n",
    "sum(preds == (befores_train['***'] > 0) + 0)/len(preds)"
   ]
  },
  {
   "cell_type": "code",
   "execution_count": null,
   "metadata": {
    "collapsed": true
   },
   "outputs": [],
   "source": [
    "befores_train['text'], (befores_train['***'] > 0) + 0"
   ]
  },
  {
   "cell_type": "code",
   "execution_count": null,
   "metadata": {
    "collapsed": false
   },
   "outputs": [],
   "source": [
    "preds_test = model.predict(befores_test['text'])\n",
    "sum(preds_test == (befores_test['***'] > 0) + 0)/len(preds_test)"
   ]
  },
  {
   "cell_type": "code",
   "execution_count": null,
   "metadata": {
    "collapsed": false
   },
   "outputs": [],
   "source": [
    "roc_auc_score((befores_test['***'] > 0) + 0, model.predict_proba(befores_test['text'])[:,1])"
   ]
  },
  {
   "cell_type": "code",
   "execution_count": null,
   "metadata": {
    "collapsed": true
   },
   "outputs": [],
   "source": []
  },
  {
   "cell_type": "code",
   "execution_count": null,
   "metadata": {
    "collapsed": false
   },
   "outputs": [],
   "source": [
    "# y_test = targets_test['totals']\n",
    "# y.res\n",
    "# preds_test = model.predict(singles_test['text'])\n",
    "\n",
    "coefs = list(model.named_steps['model'].coef_[0])\n",
    "features = model.named_steps['vect'].get_feature_names()\n",
    "# coefs.shape\n",
    "cf, cdict = [], {}\n",
    "for i in range(len(coefs)):\n",
    "    cf.append((coefs[i], features[i]))\n",
    "    cdict[features[i]] = coefs[i]\n",
    "cf.sort(reverse = True)\n",
    "positives = cf[:100]\n",
    "negatives = cf[-100:]\n",
    "negatives.sort()\n"
   ]
  },
  {
   "cell_type": "code",
   "execution_count": null,
   "metadata": {
    "collapsed": false
   },
   "outputs": [],
   "source": [
    "model.named_steps['vect'].get_feature_names()"
   ]
  },
  {
   "cell_type": "code",
   "execution_count": null,
   "metadata": {
    "collapsed": false
   },
   "outputs": [],
   "source": [
    "negatives"
   ]
  },
  {
   "cell_type": "code",
   "execution_count": null,
   "metadata": {
    "collapsed": false
   },
   "outputs": [],
   "source": [
    "positives"
   ]
  },
  {
   "cell_type": "code",
   "execution_count": null,
   "metadata": {
    "collapsed": false
   },
   "outputs": [],
   "source": [
    "badwords = ['bug', 'spider', 'gross', 'disgusting', 'clean', 'dirty', 'dirt', 'ew', 'eww', 'roach',\n",
    "            'cleanliness', 'hygeine', 'egg', 'milk', 'raw', 'uncooked', 'sour', 'bitter', 'is', 'chinese', 'cooked',\n",
    "           'fresh', 'spaghetti', 'politics', 'weak', 'arms', 'heavy']\n",
    "for word in badwords:\n",
    "    if word in cdict.keys():\n",
    "        print(word + ': ' + str(cdict[word]))"
   ]
  },
  {
   "cell_type": "markdown",
   "metadata": {},
   "source": [
    "# NEXT THING\n",
    "\n",
    "Merge rdata tdata\n",
    "Make dictionary to assign scores to each one of those\n",
    "Try an rf\n",
    "\n",
    "get crime/property value data\n",
    "\n",
    "Do an unsupervised classification\n",
    "\n",
    "LDA TO GET TOPICS THERE SHOULD BE A CLEANLINESS TOPIC\n",
    "Well maybe; they probably won't discuss it specifically all that much"
   ]
  },
  {
   "cell_type": "code",
   "execution_count": null,
   "metadata": {
    "collapsed": false
   },
   "outputs": [],
   "source": [
    "targets_train[['totals']].shape\n",
    "singles_train.shape"
   ]
  },
  {
   "cell_type": "code",
   "execution_count": null,
   "metadata": {
    "collapsed": false
   },
   "outputs": [],
   "source": [
    "targets_train"
   ]
  },
  {
   "cell_type": "code",
   "execution_count": null,
   "metadata": {
    "collapsed": false
   },
   "outputs": [],
   "source": [
    "data = pd.DataFrame(doclist)#, columns = ['business_id', 'text'])\n",
    "data.head()"
   ]
  },
  {
   "cell_type": "code",
   "execution_count": null,
   "metadata": {
    "collapsed": false
   },
   "outputs": [],
   "source": [
    "valsdict[id_dict[entry]]"
   ]
  },
  {
   "cell_type": "code",
   "execution_count": null,
   "metadata": {
    "collapsed": false
   },
   "outputs": [],
   "source": [
    "list(tb.text)"
   ]
  },
  {
   "cell_type": "code",
   "execution_count": null,
   "metadata": {
    "collapsed": false
   },
   "outputs": [],
   "source": [
    "alls = m[:]\n",
    "alls.extend(g)\n",
    "alls2 = list(tb.text)\n",
    "alls2.extend(list(rb.text))\n",
    "# alls2 = list(set(alls2))\n",
    "# alls2[:10]\n",
    "# alls2"
   ]
  },
  {
   "cell_type": "code",
   "execution_count": null,
   "metadata": {
    "collapsed": false
   },
   "outputs": [],
   "source": [
    "random.shuffle(alls2)\n"
   ]
  },
  {
   "cell_type": "code",
   "execution_count": null,
   "metadata": {
    "collapsed": false
   },
   "outputs": [],
   "source": [
    "g = list(rb.text)\n",
    "l = '\\n'.join(g)\n",
    "m = list(tb.text)\n",
    "n = '\\n'.join(m)\n",
    "o = '\\n'.join(list(rb.text))\n",
    "o == l"
   ]
  },
  {
   "cell_type": "code",
   "execution_count": null,
   "metadata": {
    "collapsed": true
   },
   "outputs": [],
   "source": [
    "violations = pd.read_csv('AllViolations.csv')"
   ]
  },
  {
   "cell_type": "code",
   "execution_count": null,
   "metadata": {
    "collapsed": false
   },
   "outputs": [],
   "source": [
    "violations"
   ]
  },
  {
   "cell_type": "code",
   "execution_count": null,
   "metadata": {
    "collapsed": true
   },
   "outputs": [],
   "source": [
    "users_list, users_columns = jsonstolista(users)"
   ]
  },
  {
   "cell_type": "code",
   "execution_count": null,
   "metadata": {
    "collapsed": false
   },
   "outputs": [],
   "source": [
    "users_list"
   ]
  },
  {
   "cell_type": "code",
   "execution_count": null,
   "metadata": {
    "collapsed": false
   },
   "outputs": [],
   "source": [
    "# d2 = {}\n",
    "# for key in list(d.keys()):\n",
    "#     if type(d[key]) != dict:\n",
    "#         d2[key] = d[key]\n",
    "#     else:\n",
    "#         for key2 in list(d[key].keys()):\n",
    "#             d2[key2] = d[key][key2]\n",
    "# #     print(type(value))"
   ]
  },
  {
   "cell_type": "code",
   "execution_count": null,
   "metadata": {
    "collapsed": false
   },
   "outputs": [],
   "source": [
    "unique_keys = list(set(allkeys))\n",
    "biglist = []"
   ]
  },
  {
   "cell_type": "code",
   "execution_count": null,
   "metadata": {
    "collapsed": false
   },
   "outputs": [],
   "source": [
    "for d in dicts:\n",
    "    linelist = []\n",
    "    for category in unique_keys:\n",
    "        linelist.append(d[category])\n",
    "    biglist.append(linelist)"
   ]
  },
  {
   "cell_type": "code",
   "execution_count": null,
   "metadata": {
    "collapsed": false
   },
   "outputs": [],
   "source": [
    "# biglist[:5]"
   ]
  },
  {
   "cell_type": "code",
   "execution_count": null,
   "metadata": {
    "collapsed": false
   },
   "outputs": [],
   "source": [
    "data = pd.DataFrame(biglist, columns = unique_keys)"
   ]
  },
  {
   "cell_type": "code",
   "execution_count": null,
   "metadata": {
    "collapsed": false
   },
   "outputs": [],
   "source": [
    "data.head()"
   ]
  },
  {
   "cell_type": "code",
   "execution_count": null,
   "metadata": {
    "collapsed": false
   },
   "outputs": [],
   "source": [
    "dicts2, allkeys2 = [], []\n",
    "for line in lines2:\n",
    "    d = json.loads(line)\n",
    "    d2 = {}\n",
    "    for key in list(d.keys()):\n",
    "        if type(d[key]) != dict:\n",
    "            d2[key] = d[key]\n",
    "        else:\n",
    "            for key2 in list(d[key].keys()):\n",
    "                d2[key2] = d[key][key2]\n",
    "    dicts.append(d2)\n",
    "    allkeys.extend(list(d2.keys()))"
   ]
  },
  {
   "cell_type": "code",
   "execution_count": null,
   "metadata": {
    "collapsed": false
   },
   "outputs": [],
   "source": []
  },
  {
   "cell_type": "code",
   "execution_count": null,
   "metadata": {
    "collapsed": false
   },
   "outputs": [],
   "source": [
    "list(dicts[0].keys())\n"
   ]
  },
  {
   "cell_type": "code",
   "execution_count": null,
   "metadata": {
    "collapsed": false
   },
   "outputs": [],
   "source": [
    "violations = pd.read_csv('AllViolations.csv')"
   ]
  },
  {
   "cell_type": "code",
   "execution_count": null,
   "metadata": {
    "collapsed": false
   },
   "outputs": [],
   "source": [
    "restaurants = list(violations.restaurant_id.unique())\n"
   ]
  },
  {
   "cell_type": "code",
   "execution_count": null,
   "metadata": {
    "collapsed": true
   },
   "outputs": [],
   "source": []
  }
 ],
 "metadata": {
  "kernelspec": {
   "display_name": "Python 3",
   "language": "python",
   "name": "python3"
  },
  "language_info": {
   "codemirror_mode": {
    "name": "ipython",
    "version": 3
   },
   "file_extension": ".py",
   "mimetype": "text/x-python",
   "name": "python",
   "nbconvert_exporter": "python",
   "pygments_lexer": "ipython3",
   "version": "3.5.2"
  }
 },
 "nbformat": 4,
 "nbformat_minor": 0
}
