{
 "cells": [
  {
   "cell_type": "markdown",
   "metadata": {},
   "source": [
    "This reads in a file pulled by the scraping scripts in the adjacent folder.\n",
    "\n",
    "A simple Logistic Regression performed best, so I stayed with that. Left the SVD out since it didn't change things much."
   ]
  },
  {
   "cell_type": "code",
   "execution_count": 1,
   "metadata": {
    "collapsed": false
   },
   "outputs": [],
   "source": [
    "import pandas as pd\n",
    "import numpy as np\n",
    "import matplotlib.pyplot as plt\n",
    "%matplotlib inline\n",
    "from sklearn.cross_validation import train_test_split\n",
    "from sklearn.feature_extraction.text import CountVectorizer, TfidfVectorizer, TfidfTransformer\n",
    "from sklearn import linear_model, cross_validation\n",
    "from sklearn.linear_model import LogisticRegression\n",
    "from sklearn import pipeline\n",
    "from sklearn.ensemble import RandomForestClassifier as rf\n",
    "from sklearn.ensemble import RandomForestRegressor as rfr\n",
    "\n",
    "from xgboost import XGBClassifier as xgb\n",
    "import string\n",
    "from sklearn.pipeline import TransformerMixin, FeatureUnion, make_pipeline, make_union\n",
    "from sklearn.decomposition import TruncatedSVD\n",
    "from sklearn.metrics import roc_auc_score, precision_recall_curve\n",
    "from sklearn.preprocessing import Normalizer\n",
    "from sklearn.naive_bayes import MultinomialNB, GaussianNB\n",
    "from sklearn.pipeline import Pipeline\n",
    "\n",
    "from nltk.tokenize import word_tokenize #, PunktSentenceTokenizer, \n",
    "from nltk.stem import PorterStemmer\n",
    "from nltk.corpus import stopwords\n",
    "from gensim import corpora, models, similarities, matutils\n",
    "import time, random"
   ]
  },
  {
   "cell_type": "code",
   "execution_count": 2,
   "metadata": {
    "collapsed": true
   },
   "outputs": [],
   "source": [
    "def uniqueweights(dataframe, column):\n",
    "    uniques = list(set(dataframe[column]))\n",
    "    d = {}\n",
    "    for unique in uniques:\n",
    "        d[unique] = sum(dataframe[column] == unique)\n",
    "    minimum = min(d.values())\n",
    "    for unique in uniques:\n",
    "        d[unique] = minimum/d[unique]\n",
    "    return d\n",
    "\n",
    "def rebalance(dataframe, column, number_per_val = 'min'):\n",
    "    if number_per_val == 'min':\n",
    "        number_per_val = min(list(dataframe[column].value_counts()))\n",
    "    columns = list(dataframe[column].unique())\n",
    "    column_chunks = []\n",
    "    for value in columns:\n",
    "        data_column = dataframe[dataframe[column] == value] \n",
    "        data_column_sub, junk = train_test_split(data_column, test_size = 1 - (number_per_val/len(data_column)))\n",
    "        column_chunks.append(data_column_sub)\n",
    "    return pd.concat(column_chunks)"
   ]
  },
  {
   "cell_type": "code",
   "execution_count": 3,
   "metadata": {
    "collapsed": false
   },
   "outputs": [
    {
     "data": {
      "text/html": [
       "<div>\n",
       "<table border=\"1\" class=\"dataframe\">\n",
       "  <thead>\n",
       "    <tr style=\"text-align: right;\">\n",
       "      <th></th>\n",
       "      <th>century</th>\n",
       "      <th>text</th>\n",
       "    </tr>\n",
       "  </thead>\n",
       "  <tbody>\n",
       "    <tr>\n",
       "      <th>0</th>\n",
       "      <td>17</td>\n",
       "      <td>vndcNorvve:mporibus iJlis  i,in perpecuum  Cam...</td>\n",
       "    </tr>\n",
       "    <tr>\n",
       "      <th>1</th>\n",
       "      <td>17</td>\n",
       "      <td>215 23 ) r Bruno Ryvcs gives a remarkable inst...</td>\n",
       "    </tr>\n",
       "    <tr>\n",
       "      <th>2</th>\n",
       "      <td>17</td>\n",
       "      <td>Cor. Sdeath,vs' hat a humorous fellow is this/...</td>\n",
       "    </tr>\n",
       "    <tr>\n",
       "      <th>3</th>\n",
       "      <td>17</td>\n",
       "      <td>AmohinÃ¡base  el perro, y, dando ladridos y au...</td>\n",
       "    </tr>\n",
       "    <tr>\n",
       "      <th>4</th>\n",
       "      <td>17</td>\n",
       "      <td>A cleane fpirit and vndefiled Co ule is  the d...</td>\n",
       "    </tr>\n",
       "  </tbody>\n",
       "</table>\n",
       "</div>"
      ],
      "text/plain": [
       "   century                                               text\n",
       "0       17  vndcNorvve:mporibus iJlis  i,in perpecuum  Cam...\n",
       "1       17  215 23 ) r Bruno Ryvcs gives a remarkable inst...\n",
       "2       17  Cor. Sdeath,vs' hat a humorous fellow is this/...\n",
       "3       17  AmohinÃ¡base  el perro, y, dando ladridos y au...\n",
       "4       17  A cleane fpirit and vndefiled Co ule is  the d..."
      ]
     },
     "execution_count": 3,
     "metadata": {},
     "output_type": "execute_result"
    }
   ],
   "source": [
    "data = pd.read_csv('/Users/derekupdegraff/Metis_Class/Fletcher_Scraping/collected_text.csv', names = ['century', 'text'])\n",
    "data.head()"
   ]
  },
  {
   "cell_type": "code",
   "execution_count": 4,
   "metadata": {
    "collapsed": false
   },
   "outputs": [
    {
     "data": {
      "text/plain": [
       "19    15974\n",
       "18     5677\n",
       "20     4852\n",
       "17     1393\n",
       "21       44\n",
       "Name: century, dtype: int64"
      ]
     },
     "execution_count": 4,
     "metadata": {},
     "output_type": "execute_result"
    }
   ],
   "source": [
    "data.century.value_counts()"
   ]
  },
  {
   "cell_type": "code",
   "execution_count": 5,
   "metadata": {
    "collapsed": false
   },
   "outputs": [
    {
     "data": {
      "text/html": [
       "<div>\n",
       "<table border=\"1\" class=\"dataframe\">\n",
       "  <thead>\n",
       "    <tr style=\"text-align: right;\">\n",
       "      <th></th>\n",
       "      <th>century</th>\n",
       "      <th>text</th>\n",
       "    </tr>\n",
       "  </thead>\n",
       "  <tbody>\n",
       "    <tr>\n",
       "      <th>1393</th>\n",
       "      <td>18</td>\n",
       "      <td>And till he an fivers like a Logician to Dr.Ru...</td>\n",
       "    </tr>\n",
       "    <tr>\n",
       "      <th>1394</th>\n",
       "      <td>18</td>\n",
       "      <td>The Glory of EttgiaaJ yiis arriv'd to -fjie  a...</td>\n",
       "    </tr>\n",
       "    <tr>\n",
       "      <th>1395</th>\n",
       "      <td>18</td>\n",
       "      <td>I what I fhould do next, a good Woman (in all ...</td>\n",
       "    </tr>\n",
       "    <tr>\n",
       "      <th>1396</th>\n",
       "      <td>18</td>\n",
       "      <td>it cannot be wondered at : And that they were ...</td>\n",
       "    </tr>\n",
       "    <tr>\n",
       "      <th>1397</th>\n",
       "      <td>18</td>\n",
       "      <td>1 For a complete list of these Editions, see t...</td>\n",
       "    </tr>\n",
       "  </tbody>\n",
       "</table>\n",
       "</div>"
      ],
      "text/plain": [
       "      century                                               text\n",
       "1393       18  And till he an fivers like a Logician to Dr.Ru...\n",
       "1394       18  The Glory of EttgiaaJ yiis arriv'd to -fjie  a...\n",
       "1395       18  I what I fhould do next, a good Woman (in all ...\n",
       "1396       18  it cannot be wondered at : And that they were ...\n",
       "1397       18  1 For a complete list of these Editions, see t..."
      ]
     },
     "execution_count": 5,
     "metadata": {},
     "output_type": "execute_result"
    }
   ],
   "source": [
    "data = data[data.century > 17]\n",
    "data = data[data.century < 21]\n",
    "data.head()"
   ]
  },
  {
   "cell_type": "code",
   "execution_count": 6,
   "metadata": {
    "collapsed": false
   },
   "outputs": [
    {
     "data": {
      "text/plain": [
       "20    4852\n",
       "18    4852\n",
       "19    4851\n",
       "Name: century, dtype: int64"
      ]
     },
     "execution_count": 6,
     "metadata": {},
     "output_type": "execute_result"
    }
   ],
   "source": [
    "data = rebalance(data, 'century')\n",
    "data.century.value_counts()"
   ]
  },
  {
   "cell_type": "code",
   "execution_count": 7,
   "metadata": {
    "collapsed": false
   },
   "outputs": [
    {
     "data": {
      "text/html": [
       "<div>\n",
       "<table border=\"1\" class=\"dataframe\">\n",
       "  <thead>\n",
       "    <tr style=\"text-align: right;\">\n",
       "      <th></th>\n",
       "      <th>century</th>\n",
       "      <th>text</th>\n",
       "      <th>18th</th>\n",
       "      <th>19th</th>\n",
       "      <th>20th</th>\n",
       "    </tr>\n",
       "  </thead>\n",
       "  <tbody>\n",
       "    <tr>\n",
       "      <th>3809</th>\n",
       "      <td>18</td>\n",
       "      <td>That now had chang'd her former wonted hue :  ...</td>\n",
       "      <td>1</td>\n",
       "      <td>0</td>\n",
       "      <td>0</td>\n",
       "    </tr>\n",
       "    <tr>\n",
       "      <th>1906</th>\n",
       "      <td>18</td>\n",
       "      <td>pel of Chrift ; of all which thou mayfl: find ...</td>\n",
       "      <td>1</td>\n",
       "      <td>0</td>\n",
       "      <td>0</td>\n",
       "    </tr>\n",
       "    <tr>\n",
       "      <th>3617</th>\n",
       "      <td>18</td>\n",
       "      <td>born to trample on their fellow creatures, wit...</td>\n",
       "      <td>1</td>\n",
       "      <td>0</td>\n",
       "      <td>0</td>\n",
       "    </tr>\n",
       "    <tr>\n",
       "      <th>1996</th>\n",
       "      <td>18</td>\n",
       "      <td>the Law of God have puhlick Authority given un...</td>\n",
       "      <td>1</td>\n",
       "      <td>0</td>\n",
       "      <td>0</td>\n",
       "    </tr>\n",
       "    <tr>\n",
       "      <th>1447</th>\n",
       "      <td>18</td>\n",
       "      <td>i)cfiy and Tour SubjeBs, and indeed to /ri? Eu...</td>\n",
       "      <td>1</td>\n",
       "      <td>0</td>\n",
       "      <td>0</td>\n",
       "    </tr>\n",
       "  </tbody>\n",
       "</table>\n",
       "</div>"
      ],
      "text/plain": [
       "      century                                               text  18th  19th  \\\n",
       "3809       18  That now had chang'd her former wonted hue :  ...     1     0   \n",
       "1906       18  pel of Chrift ; of all which thou mayfl: find ...     1     0   \n",
       "3617       18  born to trample on their fellow creatures, wit...     1     0   \n",
       "1996       18  the Law of God have puhlick Authority given un...     1     0   \n",
       "1447       18  i)cfiy and Tour SubjeBs, and indeed to /ri? Eu...     1     0   \n",
       "\n",
       "      20th  \n",
       "3809     0  \n",
       "1906     0  \n",
       "3617     0  \n",
       "1996     0  \n",
       "1447     0  "
      ]
     },
     "execution_count": 7,
     "metadata": {},
     "output_type": "execute_result"
    }
   ],
   "source": [
    "for i in [18, 19, 20]:\n",
    "    data[str(i)+'th'] = (data['century'] == i) + 0\n",
    "# data['20'] = (data['century'] == 20) + 0\n",
    "# data['19'] = (data['century'] == 19) + 0\n",
    "# data['18'] = (data['century'] == 18) + 0\n",
    "data.head()"
   ]
  },
  {
   "cell_type": "code",
   "execution_count": 8,
   "metadata": {
    "collapsed": false
   },
   "outputs": [
    {
     "data": {
      "text/html": [
       "<div>\n",
       "<table border=\"1\" class=\"dataframe\">\n",
       "  <thead>\n",
       "    <tr style=\"text-align: right;\">\n",
       "      <th></th>\n",
       "      <th>century</th>\n",
       "      <th>text</th>\n",
       "      <th>18th</th>\n",
       "      <th>19th</th>\n",
       "      <th>20th</th>\n",
       "    </tr>\n",
       "  </thead>\n",
       "  <tbody>\n",
       "    <tr>\n",
       "      <th>3809</th>\n",
       "      <td>18</td>\n",
       "      <td>That now had chang'd her former wonted hue :  ...</td>\n",
       "      <td>1</td>\n",
       "      <td>0</td>\n",
       "      <td>0</td>\n",
       "    </tr>\n",
       "    <tr>\n",
       "      <th>1906</th>\n",
       "      <td>18</td>\n",
       "      <td>pel of Chrift ; of all which thou mayfl: find ...</td>\n",
       "      <td>1</td>\n",
       "      <td>0</td>\n",
       "      <td>0</td>\n",
       "    </tr>\n",
       "    <tr>\n",
       "      <th>3617</th>\n",
       "      <td>18</td>\n",
       "      <td>born to trample on their fellow creatures, wit...</td>\n",
       "      <td>1</td>\n",
       "      <td>0</td>\n",
       "      <td>0</td>\n",
       "    </tr>\n",
       "    <tr>\n",
       "      <th>1996</th>\n",
       "      <td>18</td>\n",
       "      <td>the Law of God have puhlick Authority given un...</td>\n",
       "      <td>1</td>\n",
       "      <td>0</td>\n",
       "      <td>0</td>\n",
       "    </tr>\n",
       "    <tr>\n",
       "      <th>1447</th>\n",
       "      <td>18</td>\n",
       "      <td>i)cfiy and Tour SubjeBs, and indeed to /ri? Eu...</td>\n",
       "      <td>1</td>\n",
       "      <td>0</td>\n",
       "      <td>0</td>\n",
       "    </tr>\n",
       "  </tbody>\n",
       "</table>\n",
       "</div>"
      ],
      "text/plain": [
       "      century                                               text  18th  19th  \\\n",
       "3809       18  That now had chang'd her former wonted hue :  ...     1     0   \n",
       "1906       18  pel of Chrift ; of all which thou mayfl: find ...     1     0   \n",
       "3617       18  born to trample on their fellow creatures, wit...     1     0   \n",
       "1996       18  the Law of God have puhlick Authority given un...     1     0   \n",
       "1447       18  i)cfiy and Tour SubjeBs, and indeed to /ri? Eu...     1     0   \n",
       "\n",
       "      20th  \n",
       "3809     0  \n",
       "1906     0  \n",
       "3617     0  \n",
       "1996     0  \n",
       "1447     0  "
      ]
     },
     "execution_count": 8,
     "metadata": {},
     "output_type": "execute_result"
    }
   ],
   "source": [
    "# SUBSET FOR SPEED\n",
    "# data_sub, junk = train_test_split(data, test_size = 0.8)\n",
    "data_sub = data\n",
    "data_sub.head()"
   ]
  },
  {
   "cell_type": "code",
   "execution_count": 9,
   "metadata": {
    "collapsed": true
   },
   "outputs": [],
   "source": [
    "X, y = data_sub['text'], data_sub[['18th', '19th', '20th', 'century']]\n",
    "\n",
    "X_train, X_test, y_train, y_test = train_test_split(X, y, test_size = .3, random_state = 42)\n",
    "\n",
    "def subset(mytext, minlen = 100):\n",
    "    return mytext[:mytext[minlen:].find('.') + minlen]\n",
    "\n",
    "X_train_short = X_test.apply(subset, 1)\n",
    "X_test_short = X_test.apply(subset, 1)"
   ]
  },
  {
   "cell_type": "code",
   "execution_count": 10,
   "metadata": {
    "collapsed": false
   },
   "outputs": [
    {
     "name": "stdout",
     "output_type": "stream",
     "text": [
      "\n",
      "18th Century\n",
      "\n",
      "Train Score: 0.965204725536\n",
      "Test Score: 0.947332264713\n",
      "AUC Score: 0.967458738614\n",
      "\n",
      "19th Century\n",
      "\n",
      "Train Score: 0.899002160867\n",
      "Test Score: 0.844744675979\n",
      "AUC Score: 0.909447775377\n",
      "\n",
      "20th Century\n",
      "\n",
      "Train Score: 0.956210434418\n",
      "Test Score: 0.89031371651\n",
      "AUC Score: 0.959228219846\n"
     ]
    },
    {
     "data": {
      "image/png": "[encoded data removed]",
      "text/plain": [
       "<matplotlib.figure.Figure at 0x11bc42320>"
      ]
     },
     "metadata": {},
     "output_type": "display_data"
    }
   ],
   "source": [
    "# Lots of modeling in other places; found logistic regression was at least as good as others. \n",
    "\n",
    "models_lr = {}\n",
    "for i in [18,19,20]:\n",
    "    model= Pipeline([('vect', CountVectorizer(ngram_range=(1, 1), lowercase = False, stop_words = 'english')),\n",
    "                     ('tfidf', TfidfTransformer()), \n",
    "                     ('model', LogisticRegression()),])\n",
    "    model.fit(X_train, y_train[str(i) + 'th'])\n",
    "    pred = model.predict(X_test)\n",
    "    print('\\n' + str(i) + 'th Century\\n')\n",
    "    print(\"Train Score: \" + str(np.mean(cross_validation.cross_val_score(model, X_train, y_train[str(i)+'th'], scoring='roc_auc'))))\n",
    "    print('Test Score: ' + str(model.score(X_test, y_test[str(i)+'th'])))\n",
    "    print('AUC Score: ' + str(roc_auc_score(y_test[str(i)+'th'], model.predict_proba(X_test)[:,1])))\n",
    "    models_lr[i] = model\n",
    "    \n",
    "colors = 'brg'\n",
    "for i in [18,19,20]:\n",
    "    probs = models_lr[i].predict_proba(X_test)[:,1]\n",
    "    precision, recall, thresholds = precision_recall_curve(y_test[str(i)+'th'], probs)\n",
    "    plt.plot(recall, precision, c = colors[i-18], label = str(i) + 'th  Century')\n",
    "    plt.title('PR Curve')\n",
    "    plt.xlabel('Precision')\n",
    "    plt.ylabel('Recall')\n",
    "    plt.legend(loc = 'best')"
   ]
  },
  {
   "cell_type": "code",
   "execution_count": 11,
   "metadata": {
    "collapsed": false
   },
   "outputs": [
    {
     "name": "stdout",
     "output_type": "stream",
     "text": [
      "\n",
      "18th Century\n",
      "\n",
      "Train Score: 0.956189474107\n",
      "Test Score: 0.938172658576\n",
      "AUC Score: 0.960476834646\n",
      "\n",
      "19th Century\n",
      "\n",
      "Train Score: 0.861855770167\n",
      "Test Score: 0.786352186856\n",
      "AUC Score: 0.869184666704\n",
      "\n",
      "20th Century\n",
      "\n",
      "Train Score: 0.925270549276\n",
      "Test Score: 0.844744675979\n",
      "AUC Score: 0.927648180393\n"
     ]
    },
    {
     "data": {
      "image/png": "[encoded data removed]",
      "text/plain": [
       "<matplotlib.figure.Figure at 0x127e46828>"
      ]
     },
     "metadata": {},
     "output_type": "display_data"
    }
   ],
   "source": [
    "models_xgb = {}\n",
    "for i in [18,19,20]:\n",
    "    model= Pipeline([('vect', CountVectorizer(ngram_range=(1, 1), lowercase = False, stop_words = 'english')),\n",
    "                     ('tfidf', TfidfTransformer()),\n",
    "                     ('model', xgb()),])\n",
    "    model.fit(X_train, y_train[str(i) + 'th'])\n",
    "    pred = model.predict(X_test)\n",
    "    print('\\n' + str(i) + 'th Century\\n')\n",
    "    print(\"Train Score: \" + str(np.mean(cross_validation.cross_val_score(model, X_train, y_train[str(i)+'th'], scoring='roc_auc'))))\n",
    "    print('Test Score: ' + str(model.score(X_test, y_test[str(i)+'th'])))\n",
    "    print('AUC Score: ' + str(roc_auc_score(y_test[str(i)+'th'], model.predict_proba(X_test)[:,1])))\n",
    "    models_xgb[i] = model\n",
    "    \n",
    "\n",
    "colors = 'brg'\n",
    "for i in [18,19,20]:\n",
    "    probs = models_xgb[i].predict_proba(X_test)[:,1]\n",
    "    precision, recall, thresholds = precision_recall_curve(y_test[str(i)+'th'], probs)\n",
    "    plt.plot(recall, precision, c = colors[i-18], label = str(i) + 'th  Century')\n",
    "    plt.title('PR Curve -- XGBoost')\n",
    "    plt.xlabel('Precision')\n",
    "    plt.ylabel('Recall')\n",
    "    plt.legend(loc = 'best')"
   ]
  },
  {
   "cell_type": "code",
   "execution_count": 12,
   "metadata": {
    "collapsed": false
   },
   "outputs": [
    {
     "name": "stdout",
     "output_type": "stream",
     "text": [
      "\n",
      "18th Century\n",
      "\n",
      "Train Score: 0.945563309797\n",
      "Test Score: 0.946187313946\n",
      "AUC Score: 0.9542466696\n",
      "\n",
      "19th Century\n",
      "\n",
      "Train Score: 0.805832024955\n",
      "Test Score: 0.748339821388\n",
      "AUC Score: 0.813093376181\n",
      "\n",
      "20th Century\n",
      "\n",
      "Train Score: 0.891603519578\n",
      "Test Score: 0.822990611404\n",
      "AUC Score: 0.899627009102\n"
     ]
    },
    {
     "data": {
      "image/png": "[encoded data removed]",
      "text/plain": [
       "<matplotlib.figure.Figure at 0x12c008438>"
      ]
     },
     "metadata": {},
     "output_type": "display_data"
    }
   ],
   "source": [
    "models_rf = {}\n",
    "for i in [18,19,20]:\n",
    "    model= Pipeline([('vect', CountVectorizer(ngram_range=(1, 1), lowercase = False, stop_words = 'english')),\n",
    "                     ('tfidf', TfidfTransformer()),\n",
    "                     ('model', rf()),])\n",
    "    model.fit(X_train, y_train[str(i) + 'th'])\n",
    "    pred = model.predict(X_test)\n",
    "    print('\\n' + str(i) + 'th Century\\n')\n",
    "    print(\"Train Score: \" + str(np.mean(cross_validation.cross_val_score(model, X_train, y_train[str(i)+'th'], scoring='roc_auc'))))\n",
    "    print('Test Score: ' + str(model.score(X_test, y_test[str(i)+'th'])))\n",
    "    print('AUC Score: ' + str(roc_auc_score(y_test[str(i)+'th'], model.predict_proba(X_test)[:,1])))\n",
    "    models_rf[i] = model\n",
    "    \n",
    "\n",
    "colors = 'brg'\n",
    "for i in [18,19,20]:\n",
    "    probs = models_rf[i].predict_proba(X_test)[:,1]\n",
    "    precision, recall, thresholds = precision_recall_curve(y_test[str(i)+'th'], probs)\n",
    "    plt.plot(recall, precision, c = colors[i-18], label = str(i) + 'th  Century')\n",
    "    plt.title('PR Curve -- Random Forest')\n",
    "    plt.xlabel('Precision')\n",
    "    plt.ylabel('Recall')\n",
    "    plt.legend(loc = 'best')"
   ]
  },
  {
   "cell_type": "code",
   "execution_count": 14,
   "metadata": {
    "collapsed": false
   },
   "outputs": [
    {
     "name": "stdout",
     "output_type": "stream",
     "text": [
      "\n",
      "18th Century\n",
      "\n",
      "Train Score: 0.892271416533\n",
      "Test Score: 0.807877261278\n",
      "AUC Score: 0.908193884047\n",
      "\n",
      "19th Century\n",
      "\n",
      "Train Score: 0.845372716036\n",
      "Test Score: 0.794366842226\n",
      "AUC Score: 0.845672730332\n",
      "\n",
      "20th Century\n",
      "\n",
      "Train Score: 0.871548596412\n",
      "Test Score: 0.788871078544\n",
      "AUC Score: 0.876820491049\n"
     ]
    },
    {
     "data": {
      "image/png": "[encoded data removed]",
      "text/plain": [
       "<matplotlib.figure.Figure at 0x137feb588>"
      ]
     },
     "metadata": {},
     "output_type": "display_data"
    }
   ],
   "source": [
    "models_nb = {}\n",
    "for i in [18,19,20]:\n",
    "    model= Pipeline([('vect', CountVectorizer(ngram_range=(1, 1), lowercase = False, stop_words = 'english')),\n",
    "                     ('tfidf', TfidfTransformer()), ('svd', TruncatedSVD(n_components = 100)),\n",
    "                     ('model', GaussianNB()),])\n",
    "    model.fit(X_train, y_train[str(i) + 'th'])\n",
    "    pred = model.predict(X_test)\n",
    "    print('\\n' + str(i) + 'th Century\\n')\n",
    "    print(\"Train Score: \" + str(np.mean(cross_validation.cross_val_score(model, X_train, y_train[str(i)+'th'], scoring='roc_auc'))))\n",
    "    print('Test Score: ' + str(model.score(X_test, y_test[str(i)+'th'])))\n",
    "    print('AUC Score: ' + str(roc_auc_score(y_test[str(i)+'th'], model.predict_proba(X_test)[:,1])))\n",
    "    models_nb[i] = model\n",
    "    \n",
    "\n",
    "colors = 'brg'\n",
    "for i in [18,19,20]:\n",
    "    probs = models_nb[i].predict_proba(X_test)[:,1]\n",
    "    precision, recall, thresholds = precision_recall_curve(y_test[str(i)+'th'], probs)\n",
    "    plt.plot(recall, precision, c = colors[i-18], label = str(i) + 'th  Century')\n",
    "    plt.title('PR Curve -- Naive Bayes')\n",
    "    plt.xlabel('Precision')\n",
    "    plt.ylabel('Recall')\n",
    "    plt.legend(loc = 'best')"
   ]
  },
  {
   "cell_type": "code",
   "execution_count": 15,
   "metadata": {
    "collapsed": false
   },
   "outputs": [],
   "source": [
    "def probest(mystring, modelsdict = models_lr):\n",
    "    estimate_probs = {}\n",
    "    total = 0\n",
    "    for key in modelsdict.keys():\n",
    "        estimate_probs[key] = modelsdict[key].predict_proba([mystring])[0][1]\n",
    "    # estimate_probs = np.asarray(estimate_numbers)/sum(estimate_numbers)\n",
    "    totalprob = sum(estimate_probs.values())\n",
    "    for key in modelsdict.keys():\n",
    "        estimate_probs[key] = estimate_probs[key]/totalprob\n",
    "    return estimate_probs#, mystring"
   ]
  },
  {
   "cell_type": "code",
   "execution_count": 16,
   "metadata": {
    "collapsed": false
   },
   "outputs": [
    {
     "data": {
      "text/plain": [
       "[['fo', 6.340479882648709],\n",
       " ['thofe', 4.9286083775847773],\n",
       " ['thefe', 4.7675959687684735],\n",
       " ['fuch', 4.7432181023206956],\n",
       " ['fome', 4.7022737127726861],\n",
       " ['fame', 4.4273464581399748],\n",
       " ['firft', 3.7071101000249604],\n",
       " ['moft', 3.6125024960095002],\n",
       " ['muft', 3.1846124987591464],\n",
       " ['feveral', 2.9849626173182751]]"
      ]
     },
     "execution_count": 16,
     "metadata": {},
     "output_type": "execute_result"
    }
   ],
   "source": [
    "maxes, mins = {}, {}\n",
    "for i in [18, 19, 20]:\n",
    "    coefs = list(models_lr[i].named_steps['model'].coef_[0])[:]\n",
    "    features = models_lr[i].named_steps['vect'].get_feature_names()[:]\n",
    "    maxstuff, minstuff = [], []\n",
    "    while (len(maxstuff) > 9) * (len(minstuff) > 9) < 1:\n",
    "        maxind, minind = coefs.index(max(coefs)), coefs.index(min(coefs))\n",
    "        maxstuff.append([features[maxind], coefs[maxind]])\n",
    "        coefs[coefs.index(max(coefs))] = 0\n",
    "        minstuff.append([features[minind], coefs[minind]])\n",
    "        coefs[coefs.index(min(coefs))] = 0\n",
    "    maxes[i], mins[i] = maxstuff, minstuff\n",
    "maxes[18]"
   ]
  },
  {
   "cell_type": "code",
   "execution_count": 17,
   "metadata": {
    "collapsed": false
   },
   "outputs": [
    {
     "data": {
      "text/plain": [
       "{18: 0.37840791209282632, 19: 0.34914536905617932, 20: 0.27244671885099442}"
      ]
     },
     "execution_count": 17,
     "metadata": {},
     "output_type": "execute_result"
    }
   ],
   "source": [
    "# Principia Mathematica; 1729 translation\n",
    "probest(\"If any force generates a motion, a double force will generate double the motion, a triple force triple the motion, whether that force be impressed altogether and at once, or gradually and successively. And this motion (being always directed the same way with the generating force), if the body moved before, is added to or subtracted from the former motion, according as they directly conspire with or are directly contrary to each other; or obliquely joined, when they are oblique, so as to produce a new motion compounded from the determination of both.\")"
   ]
  },
  {
   "cell_type": "code",
   "execution_count": 18,
   "metadata": {
    "collapsed": false
   },
   "outputs": [
    {
     "data": {
      "text/plain": [
       "{18: 0.29883546307778086, 19: 0.50283428929498653, 20: 0.19833024762723267}"
      ]
     },
     "execution_count": 18,
     "metadata": {},
     "output_type": "execute_result"
    }
   ],
   "source": [
    "# US Declaration of independence 1776\n",
    "probest(\"When in the Course of human events, it becomes necessary for one people to dissolve the political bands which have connected them with another, and to assume among the powers of the earth, the separate and equal station to which the Laws of Nature and of Nature's God entitle them, a decent respect to the opinions of mankind requires that they should declare the causes which impel them to the separation.\")"
   ]
  },
  {
   "cell_type": "code",
   "execution_count": 19,
   "metadata": {
    "collapsed": false
   },
   "outputs": [
    {
     "data": {
      "text/plain": [
       "{18: 0.25502697215056791, 19: 0.59835775257042456, 20: 0.14661527527900764}"
      ]
     },
     "execution_count": 19,
     "metadata": {},
     "output_type": "execute_result"
    }
   ],
   "source": [
    "# David Ricardo, On the Principles of Political Economy and Taxation (Early 19th century)\n",
    "probest(\"The writer, in combating received opinions, has found it necessary to advert more particularly to those passages in the writings of Adam Smith from which he sees reason to differ; but he hopes it will not, on that account, be suspected that he does not, in common with all those who acknowledge the importance of the science of Political Economy, participate in the admiration which the profound work of this celebrated author so justly excites.\")"
   ]
  },
  {
   "cell_type": "code",
   "execution_count": 20,
   "metadata": {
    "collapsed": false
   },
   "outputs": [
    {
     "data": {
      "text/plain": [
       "{18: 0.10716211250350702, 19: 0.4459615198125515, 20: 0.4468763676839414}"
      ]
     },
     "execution_count": 20,
     "metadata": {},
     "output_type": "execute_result"
    }
   ],
   "source": [
    "# Gettysburg Address (1863)\n",
    "probest(\"Four score and seven years ago our fathers brought forth on this continent a new nation, conceived in liberty, and dedicated to the proposition that all men are created equal. Now we are engaged in a great civil war, testing whether that nation, or any nation so conceived and so dedicated, can long endure. We are met on a great battlefield of that war. We have come to dedicate a portion of that field, as a final resting place for those who here gave their lives that that nation might live. It is altogether fitting and proper that we should do this. But, in a larger sense, we can not dedicate, we can not consecrate, we can not hallow this ground. The brave men, living and dead, who struggled here, have consecrated it, far above our poor power to add or detract. The world will little note, nor long remember what we say here, but it can never forget what they did here. It is for us the living, rather, to be dedicated here to the unfinished work which they who fought here have thus far so nobly advanced. It is rather for us to be here dedicated to the great task remaining before us—that from these honored dead we take increased devotion to that cause for which they gave the last full measure of devotion—that we here highly resolve that these dead shall not have died in vain—that this nation, under God, shall have a new birth of freedom—and that government of the people, by the people, for the people, shall not perish from the earth.\")"
   ]
  },
  {
   "cell_type": "code",
   "execution_count": 21,
   "metadata": {
    "collapsed": false
   },
   "outputs": [
    {
     "data": {
      "text/plain": [
       "{18: 0.10899478164639025, 19: 0.22660851717752808, 20: 0.66439670117608163}"
      ]
     },
     "execution_count": 21,
     "metadata": {},
     "output_type": "execute_result"
    }
   ],
   "source": [
    "# War of the Worlds (1898)\n",
    "probest(\"No one would have believed in the last years of the nineteenth century that this world was being watched keenly and closely by intelligences greater than man's and yet as mortal as his own; that as men busied themselves about their various concerns they were scrutinised and studied, perhaps almost as narrowly as a man with a microscope might scrutinise the transient creatures that swarm and multiply in a drop of water. With infinite complacency men went to and fro over this globe about their little affairs, serene in their assurance of their empire over matter. It is possible that the infusoria under the microscope do the same. No one gave a thought to the older worlds of space as sources of human danger, or thought of them only to dismiss the idea of life upon them as impossible or improbable. It is curious to recall some of the mental habits of those departed days. At most terrestrial men fancied there might be other men upon Mars, perhaps inferior to themselves and ready to welcome a missionary enterprise. Yet across the gulf of space, minds that are to our minds as ours are to those of the beasts that perish, intellects vast and cool and unsympathetic, regarded this earth with envious eyes, and slowly and surely drew their plans against us. And early in the twentieth century came the great disillusionment.\")"
   ]
  },
  {
   "cell_type": "code",
   "execution_count": 22,
   "metadata": {
    "collapsed": false
   },
   "outputs": [
    {
     "data": {
      "text/plain": [
       "{18: 0.13009896444746427, 19: 0.26537195629041527, 20: 0.60452907926212041}"
      ]
     },
     "execution_count": 22,
     "metadata": {},
     "output_type": "execute_result"
    }
   ],
   "source": [
    "# Star Trek Opening (1966)\n",
    "probest(\"Space: the final frontier. These are the voyages of the starship Enterprise. Its five-year mission: to explore strange new worlds, to seek out new life and new civilizations, to boldly go where no man has gone before.\")"
   ]
  },
  {
   "cell_type": "code",
   "execution_count": 23,
   "metadata": {
    "collapsed": false
   },
   "outputs": [
    {
     "data": {
      "text/plain": [
       "{18: 0.088906512756083439, 19: 0.14371313013481379, 20: 0.76738035710910268}"
      ]
     },
     "execution_count": 23,
     "metadata": {},
     "output_type": "execute_result"
    }
   ],
   "source": [
    "# Neuromancer Opening (1984)\n",
    "probest(\"The sky above the port was the color of television, tuned to a dead channel. 'It's not like I'm using,' Case heard someone say, as he shouldered his way through the crowd around the door of the Chat. 'It's like my body's developed this massive drug deficiency.' It was a Sprawl voice and a Sprawl joke. The Chatsubo was a bar for professional expatriates; you could drink there for a week and never hear two words in Japanese.\")"
   ]
  },
  {
   "cell_type": "code",
   "execution_count": null,
   "metadata": {
    "collapsed": true
   },
   "outputs": [],
   "source": []
  }
 ],
 "metadata": {
  "kernelspec": {
   "display_name": "Python 3",
   "language": "python",
   "name": "python3"
  },
  "language_info": {
   "codemirror_mode": {
    "name": "ipython",
    "version": 3
   },
   "file_extension": ".py",
   "mimetype": "text/x-python",
   "name": "python",
   "nbconvert_exporter": "python",
   "pygments_lexer": "ipython3",
   "version": "3.5.2"
  }
 },
 "nbformat": 4,
 "nbformat_minor": 0
}
