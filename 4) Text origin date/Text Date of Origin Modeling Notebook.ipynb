{
 "cells": [
  {
   "cell_type": "code",
   "execution_count": 1,
   "metadata": {
    "collapsed": false
   },
   "outputs": [],
   "source": [
    "import pandas as pd\n",
    "from pprint import pprint\n",
    "import numpy as np\n",
    "from sklearn.utils import shuffle\n",
    "import matplotlib.pyplot as plt\n",
    "%matplotlib inline\n",
    "from sklearn.cross_validation import cross_val_score, train_test_split, KFold\n",
    "from sklearn.feature_extraction.text import CountVectorizer, TfidfVectorizer, TfidfTransformer\n",
    "from sklearn import linear_model, cross_validation\n",
    "from sklearn.linear_model import LogisticRegression\n",
    "from sklearn import pipeline\n",
    "from sklearn.ensemble import RandomForestClassifier as rf\n",
    "from sklearn.ensemble import RandomForestRegressor as rfr\n",
    "from sklearn.linear_model import LinearRegression, Lasso, Ridge, ElasticNet\n",
    "from sklearn.metrics import r2_score\n",
    "\n",
    "from xgboost import XGBClassifier as xgb\n",
    "import string\n",
    "from sklearn.pipeline import TransformerMixin, FeatureUnion, make_pipeline, make_union, Pipeline\n",
    "from sklearn.decomposition import TruncatedSVD\n",
    "from sklearn.metrics import roc_auc_score, precision_recall_curve\n",
    "from sklearn.preprocessing import Normalizer\n",
    "from sklearn.naive_bayes import MultinomialNB, GaussianNB\n",
    "from sklearn.pipeline import Pipeline\n",
    "\n",
    "from nltk.tokenize import word_tokenize #, PunktSentenceTokenizer, \n",
    "from nltk.stem import PorterStemmer\n",
    "from nltk.corpus import stopwords\n",
    "from gensim import corpora, models, similarities, matutils\n",
    "import time, random, operator"
   ]
  },
  {
   "cell_type": "code",
   "execution_count": 2,
   "metadata": {
    "collapsed": false
   },
   "outputs": [
    {
     "data": {
      "text/html": [
       "<div>\n",
       "<table border=\"1\" class=\"dataframe\">\n",
       "  <thead>\n",
       "    <tr style=\"text-align: right;\">\n",
       "      <th></th>\n",
       "      <th>year</th>\n",
       "      <th>text</th>\n",
       "    </tr>\n",
       "  </thead>\n",
       "  <tbody>\n",
       "    <tr>\n",
       "      <th>0</th>\n",
       "      <td>1600</td>\n",
       "      <td>215 23 ) r Bruno Ryvcs gives a remarkable inst...</td>\n",
       "    </tr>\n",
       "    <tr>\n",
       "      <th>1</th>\n",
       "      <td>1600</td>\n",
       "      <td>AmohinÃ¡base  el perro, y, dando ladridos y au...</td>\n",
       "    </tr>\n",
       "    <tr>\n",
       "      <th>2</th>\n",
       "      <td>1600</td>\n",
       "      <td>Sate deep remorle of Confcience, all bcfprenc ...</td>\n",
       "    </tr>\n",
       "    <tr>\n",
       "      <th>3</th>\n",
       "      <td>1600</td>\n",
       "      <td>Lorinser, I have added occasional notes of my ...</td>\n",
       "    </tr>\n",
       "    <tr>\n",
       "      <th>4</th>\n",
       "      <td>1600</td>\n",
       "      <td>This is a long process towards baptism, and se...</td>\n",
       "    </tr>\n",
       "  </tbody>\n",
       "</table>\n",
       "</div>"
      ],
      "text/plain": [
       "   year                                               text\n",
       "0  1600  215 23 ) r Bruno Ryvcs gives a remarkable inst...\n",
       "1  1600  AmohinÃ¡base  el perro, y, dando ladridos y au...\n",
       "2  1600  Sate deep remorle of Confcience, all bcfprenc ...\n",
       "3  1600  Lorinser, I have added occasional notes of my ...\n",
       "4  1600  This is a long process towards baptism, and se..."
      ]
     },
     "execution_count": 2,
     "metadata": {},
     "output_type": "execute_result"
    }
   ],
   "source": [
    "data = pd.read_csv('/Users/derekupdegraff/Metis_Class/octtext.csv', names = ['year', 'text'])\n",
    "data.head()"
   ]
  },
  {
   "cell_type": "markdown",
   "metadata": {},
   "source": [
    "\"Confcience\" in document 2 is a bit of a red flag and indicative of a larger issue with the data; old-style long-S's are often transcribed as f's, making it far easier than it should be to sort.\n",
    "\n",
    "So I looked through the most common words in the English language, found those with s's in them, and eliminated any document that had an s-f transposition there."
   ]
  },
  {
   "cell_type": "code",
   "execution_count": 3,
   "metadata": {
    "collapsed": false
   },
   "outputs": [
    {
     "data": {
      "text/plain": [
       "[<matplotlib.lines.Line2D at 0x118bd7ba8>]"
      ]
     },
     "execution_count": 3,
     "metadata": {},
     "output_type": "execute_result"
    },
    {
     "data": {
      "image/png": "[encoded data removed]",
      "text/plain": [
       "<matplotlib.figure.Figure at 0x118755278>"
      ]
     },
     "metadata": {},
     "output_type": "display_data"
    }
   ],
   "source": [
    "commonbads = ['waf','thif','faid', 'itf', \"it'f\",'ufe','thofe','moft','juft','fentence','fhow','fmall']\n",
    "\n",
    "def checkbads(mytext):\n",
    "    tlower = mytext.lower()\n",
    "    count = 0\n",
    "    for word in commonbads:\n",
    "        count = count + tlower.count(word)\n",
    "    lwords = len(tlower.split())\n",
    "    return count/lwords\n",
    "    \n",
    "data['bads'] = (data.text.apply(checkbads,1)> 0)\n",
    "avsb = data[['bads','year']].groupby(\"year\", as_index = False).mean()\n",
    "plt.plot(avsb.year, avsb.bads)"
   ]
  },
  {
   "cell_type": "markdown",
   "metadata": {},
   "source": [
    "This is almost all documents until about 1800 -- a big problem. I'll remove them."
   ]
  },
  {
   "cell_type": "code",
   "execution_count": 4,
   "metadata": {
    "collapsed": false
   },
   "outputs": [
    {
     "data": {
      "text/html": [
       "<div>\n",
       "<table border=\"1\" class=\"dataframe\">\n",
       "  <thead>\n",
       "    <tr style=\"text-align: right;\">\n",
       "      <th></th>\n",
       "      <th>year</th>\n",
       "      <th>text</th>\n",
       "    </tr>\n",
       "  </thead>\n",
       "  <tbody>\n",
       "    <tr>\n",
       "      <th>0</th>\n",
       "      <td>1600</td>\n",
       "      <td>215 23 ) r Bruno Ryvcs gives a remarkable inst...</td>\n",
       "    </tr>\n",
       "    <tr>\n",
       "      <th>1</th>\n",
       "      <td>1600</td>\n",
       "      <td>AmohinÃ¡base  el perro, y, dando ladridos y au...</td>\n",
       "    </tr>\n",
       "    <tr>\n",
       "      <th>3</th>\n",
       "      <td>1600</td>\n",
       "      <td>Lorinser, I have added occasional notes of my ...</td>\n",
       "    </tr>\n",
       "    <tr>\n",
       "      <th>4</th>\n",
       "      <td>1600</td>\n",
       "      <td>This is a long process towards baptism, and se...</td>\n",
       "    </tr>\n",
       "    <tr>\n",
       "      <th>5</th>\n",
       "      <td>1600</td>\n",
       "      <td>Cap.4. Curferrum tadum acquirit contrariam ver...</td>\n",
       "    </tr>\n",
       "  </tbody>\n",
       "</table>\n",
       "</div>"
      ],
      "text/plain": [
       "   year                                               text\n",
       "0  1600  215 23 ) r Bruno Ryvcs gives a remarkable inst...\n",
       "1  1600  AmohinÃ¡base  el perro, y, dando ladridos y au...\n",
       "3  1600  Lorinser, I have added occasional notes of my ...\n",
       "4  1600  This is a long process towards baptism, and se...\n",
       "5  1600  Cap.4. Curferrum tadum acquirit contrariam ver..."
      ]
     },
     "execution_count": 4,
     "metadata": {},
     "output_type": "execute_result"
    }
   ],
   "source": [
    "data = data[data.bads == 0]\n",
    "data.drop('bads',axis = 1, inplace = True)\n",
    "data.head()\n"
   ]
  },
  {
   "cell_type": "code",
   "execution_count": 5,
   "metadata": {
    "collapsed": false
   },
   "outputs": [
    {
     "data": {
      "text/html": [
       "<div>\n",
       "<table border=\"1\" class=\"dataframe\">\n",
       "  <thead>\n",
       "    <tr style=\"text-align: right;\">\n",
       "      <th></th>\n",
       "      <th>year</th>\n",
       "      <th>text</th>\n",
       "      <th>decade</th>\n",
       "    </tr>\n",
       "  </thead>\n",
       "  <tbody>\n",
       "    <tr>\n",
       "      <th>0</th>\n",
       "      <td>1600</td>\n",
       "      <td>215 23 ) r Bruno Ryvcs gives a remarkable inst...</td>\n",
       "      <td>1600</td>\n",
       "    </tr>\n",
       "    <tr>\n",
       "      <th>1</th>\n",
       "      <td>1600</td>\n",
       "      <td>AmohinÃ¡base  el perro, y, dando ladridos y au...</td>\n",
       "      <td>1600</td>\n",
       "    </tr>\n",
       "    <tr>\n",
       "      <th>3</th>\n",
       "      <td>1600</td>\n",
       "      <td>Lorinser, I have added occasional notes of my ...</td>\n",
       "      <td>1600</td>\n",
       "    </tr>\n",
       "    <tr>\n",
       "      <th>4</th>\n",
       "      <td>1600</td>\n",
       "      <td>This is a long process towards baptism, and se...</td>\n",
       "      <td>1600</td>\n",
       "    </tr>\n",
       "    <tr>\n",
       "      <th>5</th>\n",
       "      <td>1600</td>\n",
       "      <td>Cap.4. Curferrum tadum acquirit contrariam ver...</td>\n",
       "      <td>1600</td>\n",
       "    </tr>\n",
       "  </tbody>\n",
       "</table>\n",
       "</div>"
      ],
      "text/plain": [
       "   year                                               text  decade\n",
       "0  1600  215 23 ) r Bruno Ryvcs gives a remarkable inst...    1600\n",
       "1  1600  AmohinÃ¡base  el perro, y, dando ladridos y au...    1600\n",
       "3  1600  Lorinser, I have added occasional notes of my ...    1600\n",
       "4  1600  This is a long process towards baptism, and se...    1600\n",
       "5  1600  Cap.4. Curferrum tadum acquirit contrariam ver...    1600"
      ]
     },
     "execution_count": 5,
     "metadata": {},
     "output_type": "execute_result"
    }
   ],
   "source": [
    "def getdecade(year):\n",
    "    return int(year/10)*10\n",
    "\n",
    "data['decade'] = data.year.apply(getdecade,1)\n",
    "\n",
    "data.head()"
   ]
  },
  {
   "cell_type": "markdown",
   "metadata": {},
   "source": [
    "My data set is unbalanced, so I'm looking to balance it on a subset of decades with enough documents.\n",
    "This will keep things even for fair prediction, as well as saving computational resources that would otherwise be used predicting major decades.\n",
    "\n",
    "First this means filtering out sparse decades to focus on a densely populated region, then evening the samples there."
   ]
  },
  {
   "cell_type": "code",
   "execution_count": 6,
   "metadata": {
    "collapsed": false
   },
   "outputs": [
    {
     "data": {
      "text/plain": [
       "1900    8358\n",
       "1940    2448\n",
       "1820    2266\n",
       "1810    1993\n",
       "1800    1499\n",
       "1830    1099\n",
       "1910     933\n",
       "1890     835\n",
       "1870     765\n",
       "1880     752\n",
       "1850     732\n",
       "1840     689\n",
       "1860     622\n",
       "1920     512\n",
       "1950     499\n",
       "1970     445\n",
       "1990     440\n",
       "1960     272\n",
       "1930     257\n",
       "1980     255\n",
       "1790     223\n",
       "1780     102\n",
       "1770      55\n",
       "1760      54\n",
       "1730      43\n",
       "1700      43\n",
       "2010      40\n",
       "1750      39\n",
       "1710      36\n",
       "1680      32\n",
       "1720      31\n",
       "1740      30\n",
       "1650      28\n",
       "1690      26\n",
       "1630      21\n",
       "1640      20\n",
       "1620      17\n",
       "1600      17\n",
       "1660      15\n",
       "1610      11\n",
       "1670       5\n",
       "2000       1\n",
       "Name: decade, dtype: int64"
      ]
     },
     "execution_count": 6,
     "metadata": {},
     "output_type": "execute_result"
    }
   ],
   "source": [
    "data.decade.value_counts()"
   ]
  },
  {
   "cell_type": "code",
   "execution_count": 7,
   "metadata": {
    "collapsed": false
   },
   "outputs": [
    {
     "data": {
      "text/plain": [
       "1900    8358\n",
       "1940    2448\n",
       "1820    2266\n",
       "1810    1993\n",
       "1800    1499\n",
       "1830    1099\n",
       "1910     933\n",
       "1890     835\n",
       "1870     765\n",
       "1880     752\n",
       "1850     732\n",
       "1840     689\n",
       "1860     622\n",
       "1920     512\n",
       "1950     499\n",
       "1970     445\n",
       "1960     272\n",
       "1930     257\n",
       "Name: decade, dtype: int64"
      ]
     },
     "execution_count": 7,
     "metadata": {},
     "output_type": "execute_result"
    }
   ],
   "source": [
    "# 1800-1970 is well populated\n",
    "data = data[data.decade > 1790]\n",
    "data = data[data.decade < 1980]\n",
    "data.decade.value_counts()"
   ]
  },
  {
   "cell_type": "code",
   "execution_count": 8,
   "metadata": {
    "collapsed": false
   },
   "outputs": [
    {
     "data": {
      "text/plain": [
       "257"
      ]
     },
     "execution_count": 8,
     "metadata": {},
     "output_type": "execute_result"
    }
   ],
   "source": [
    "min(list(data['decade'].value_counts()))"
   ]
  },
  {
   "cell_type": "code",
   "execution_count": 9,
   "metadata": {
    "collapsed": false
   },
   "outputs": [],
   "source": [
    "decades = list(data.decade.unique())\n",
    "    \n",
    "def rebalance(dataframe, column, number_per_val = 'min'):\n",
    "    if number_per_val == 'min':\n",
    "        number_per_val = min(list(dataframe[column].value_counts()))\n",
    "    columns = list(dataframe[column].unique())\n",
    "    column_chunks = []\n",
    "    for value in columns:\n",
    "        data_column = dataframe[dataframe[column] == value] \n",
    "        data_column_sub, junk = train_test_split(data_column, test_size = 1 - (number_per_val/len(data_column)))\n",
    "        column_chunks.append(data_column_sub)\n",
    "    return pd.concat(column_chunks)"
   ]
  },
  {
   "cell_type": "code",
   "execution_count": 10,
   "metadata": {
    "collapsed": false
   },
   "outputs": [
    {
     "data": {
      "text/plain": [
       "1970    257\n",
       "1940    257\n",
       "1820    257\n",
       "1840    257\n",
       "1860    257\n",
       "1880    257\n",
       "1900    257\n",
       "1920    257\n",
       "1800    257\n",
       "1810    257\n",
       "1830    257\n",
       "1850    257\n",
       "1870    257\n",
       "1910    257\n",
       "1930    257\n",
       "1950    256\n",
       "1890    256\n",
       "1960    256\n",
       "Name: decade, dtype: int64"
      ]
     },
     "execution_count": 10,
     "metadata": {},
     "output_type": "execute_result"
    }
   ],
   "source": [
    "data = rebalance(data,'decade')\n",
    "data.decade.value_counts()"
   ]
  },
  {
   "cell_type": "code",
   "execution_count": 11,
   "metadata": {
    "collapsed": false
   },
   "outputs": [
    {
     "data": {
      "text/html": [
       "<div>\n",
       "<table border=\"1\" class=\"dataframe\">\n",
       "  <thead>\n",
       "    <tr style=\"text-align: right;\">\n",
       "      <th></th>\n",
       "      <th>year</th>\n",
       "      <th>text</th>\n",
       "      <th>decade</th>\n",
       "    </tr>\n",
       "  </thead>\n",
       "  <tbody>\n",
       "    <tr>\n",
       "      <th>34676</th>\n",
       "      <td>1970</td>\n",
       "      <td>In the summer of 1869, I was in Florence,  Ita...</td>\n",
       "      <td>1970</td>\n",
       "    </tr>\n",
       "    <tr>\n",
       "      <th>20544</th>\n",
       "      <td>1900</td>\n",
       "      <td>His present position in  Italy as a poet and p...</td>\n",
       "      <td>1900</td>\n",
       "    </tr>\n",
       "    <tr>\n",
       "      <th>34818</th>\n",
       "      <td>1973</td>\n",
       "      <td>The Monthly will be glad to receive new public...</td>\n",
       "      <td>1970</td>\n",
       "    </tr>\n",
       "    <tr>\n",
       "      <th>34590</th>\n",
       "      <td>1967</td>\n",
       "      <td>record. Grid resolution of graph paper indicat...</td>\n",
       "      <td>1960</td>\n",
       "    </tr>\n",
       "    <tr>\n",
       "      <th>16510</th>\n",
       "      <td>1854</td>\n",
       "      <td>of these methods of treatment, and the conditi...</td>\n",
       "      <td>1850</td>\n",
       "    </tr>\n",
       "    <tr>\n",
       "      <th>17349</th>\n",
       "      <td>1866</td>\n",
       "      <td>called a Dissyllable; as, truthful: one which ...</td>\n",
       "      <td>1860</td>\n",
       "    </tr>\n",
       "    <tr>\n",
       "      <th>10418</th>\n",
       "      <td>1815</td>\n",
       "      <td>I believe, that the effusion of fluid  from th...</td>\n",
       "      <td>1810</td>\n",
       "    </tr>\n",
       "    <tr>\n",
       "      <th>16887</th>\n",
       "      <td>1859</td>\n",
       "      <td>Natural History, considered in reference to th...</td>\n",
       "      <td>1850</td>\n",
       "    </tr>\n",
       "    <tr>\n",
       "      <th>18380</th>\n",
       "      <td>1878</td>\n",
       "      <td>Common-wealth v. Pease .  V. Peck  v. Pemberto...</td>\n",
       "      <td>1870</td>\n",
       "    </tr>\n",
       "    <tr>\n",
       "      <th>29653</th>\n",
       "      <td>1912</td>\n",
       "      <td>4. Inner Forces. The internal or inner forces ...</td>\n",
       "      <td>1910</td>\n",
       "    </tr>\n",
       "    <tr>\n",
       "      <th>27953</th>\n",
       "      <td>1905</td>\n",
       "      <td>One of the first questions asked by those inte...</td>\n",
       "      <td>1900</td>\n",
       "    </tr>\n",
       "    <tr>\n",
       "      <th>34593</th>\n",
       "      <td>1967</td>\n",
       "      <td>Painting, once a flat art, may now bulge forwa...</td>\n",
       "      <td>1960</td>\n",
       "    </tr>\n",
       "    <tr>\n",
       "      <th>19654</th>\n",
       "      <td>1893</td>\n",
       "      <td>Verzeichniss von chymischen, alchymischen, phy...</td>\n",
       "      <td>1890</td>\n",
       "    </tr>\n",
       "    <tr>\n",
       "      <th>13954</th>\n",
       "      <td>1829</td>\n",
       "      <td>The character of our government, and of our co...</td>\n",
       "      <td>1820</td>\n",
       "    </tr>\n",
       "    <tr>\n",
       "      <th>17263</th>\n",
       "      <td>1865</td>\n",
       "      <td>Nothing could induce her any longer to  encour...</td>\n",
       "      <td>1860</td>\n",
       "    </tr>\n",
       "    <tr>\n",
       "      <th>12613</th>\n",
       "      <td>1824</td>\n",
       "      <td>Murray's plea: the Cookery-book his sheetancho...</td>\n",
       "      <td>1820</td>\n",
       "    </tr>\n",
       "    <tr>\n",
       "      <th>31212</th>\n",
       "      <td>1938</td>\n",
       "      <td>feared that the new college would be narrowly ...</td>\n",
       "      <td>1930</td>\n",
       "    </tr>\n",
       "    <tr>\n",
       "      <th>17073</th>\n",
       "      <td>1862</td>\n",
       "      <td>\"Smaller associations [aristocracies] rejoice ...</td>\n",
       "      <td>1860</td>\n",
       "    </tr>\n",
       "    <tr>\n",
       "      <th>17988</th>\n",
       "      <td>1874</td>\n",
       "      <td>\" Pardon me, friend,\" said the stranger, extri...</td>\n",
       "      <td>1870</td>\n",
       "    </tr>\n",
       "    <tr>\n",
       "      <th>19662</th>\n",
       "      <td>1893</td>\n",
       "      <td>In the light of such influences, any who are n...</td>\n",
       "      <td>1890</td>\n",
       "    </tr>\n",
       "    <tr>\n",
       "      <th>34414</th>\n",
       "      <td>1961</td>\n",
       "      <td>Fifteen years later, after extensive work had ...</td>\n",
       "      <td>1960</td>\n",
       "    </tr>\n",
       "    <tr>\n",
       "      <th>17488</th>\n",
       "      <td>1868</td>\n",
       "      <td>I find  that on a scale which would make the p...</td>\n",
       "      <td>1860</td>\n",
       "    </tr>\n",
       "    <tr>\n",
       "      <th>29699</th>\n",
       "      <td>1912</td>\n",
       "      <td>The county of Perth is situated in the middle ...</td>\n",
       "      <td>1910</td>\n",
       "    </tr>\n",
       "    <tr>\n",
       "      <th>17011</th>\n",
       "      <td>1861</td>\n",
       "      <td>Chloroform may be depended on that has  a sp. ...</td>\n",
       "      <td>1860</td>\n",
       "    </tr>\n",
       "    <tr>\n",
       "      <th>10394</th>\n",
       "      <td>1815</td>\n",
       "      <td>The poem appeared to be written with a  manjy ...</td>\n",
       "      <td>1810</td>\n",
       "    </tr>\n",
       "    <tr>\n",
       "      <th>34717</th>\n",
       "      <td>1970</td>\n",
       "      <td>Behind Gideon's back, Lavina, as she dried the...</td>\n",
       "      <td>1970</td>\n",
       "    </tr>\n",
       "    <tr>\n",
       "      <th>11126</th>\n",
       "      <td>1818</td>\n",
       "      <td>But the powers of Excisemen do not terminate h...</td>\n",
       "      <td>1810</td>\n",
       "    </tr>\n",
       "    <tr>\n",
       "      <th>18916</th>\n",
       "      <td>1885</td>\n",
       "      <td>The Cards being Cut, to tell whether the Numbe...</td>\n",
       "      <td>1880</td>\n",
       "    </tr>\n",
       "    <tr>\n",
       "      <th>18432</th>\n",
       "      <td>1879</td>\n",
       "      <td>its molecules are just as immovable as the bal...</td>\n",
       "      <td>1870</td>\n",
       "    </tr>\n",
       "    <tr>\n",
       "      <th>8853</th>\n",
       "      <td>1808</td>\n",
       "      <td>Might I my footsteps bend,  In whose enchantin...</td>\n",
       "      <td>1800</td>\n",
       "    </tr>\n",
       "    <tr>\n",
       "      <th>26452</th>\n",
       "      <td>1904</td>\n",
       "      <td>(a) Colic produced by overfeeding.  (h) Colic ...</td>\n",
       "      <td>1900</td>\n",
       "    </tr>\n",
       "    <tr>\n",
       "      <th>16897</th>\n",
       "      <td>1859</td>\n",
       "      <td>Mr. McDonald then apprised the company of the ...</td>\n",
       "      <td>1850</td>\n",
       "    </tr>\n",
       "    <tr>\n",
       "      <th>29458</th>\n",
       "      <td>1910</td>\n",
       "      <td>The Fahrenheit is the more commonly used tempe...</td>\n",
       "      <td>1910</td>\n",
       "    </tr>\n",
       "    <tr>\n",
       "      <th>31077</th>\n",
       "      <td>1934</td>\n",
       "      <td>\"The observations and general behavior of Adel...</td>\n",
       "      <td>1930</td>\n",
       "    </tr>\n",
       "    <tr>\n",
       "      <th>29807</th>\n",
       "      <td>1913</td>\n",
       "      <td>Under the modern  system of affixation, which ...</td>\n",
       "      <td>1910</td>\n",
       "    </tr>\n",
       "    <tr>\n",
       "      <th>12275</th>\n",
       "      <td>1823</td>\n",
       "      <td>It seems hardly possible for any mind to  be s...</td>\n",
       "      <td>1820</td>\n",
       "    </tr>\n",
       "    <tr>\n",
       "      <th>18660</th>\n",
       "      <td>1882</td>\n",
       "      <td>(Tutor), supported the young King, Ptolemaeus,...</td>\n",
       "      <td>1880</td>\n",
       "    </tr>\n",
       "    <tr>\n",
       "      <th>33849</th>\n",
       "      <td>1950</td>\n",
       "      <td>year he lived in Indiana. By the time he was s...</td>\n",
       "      <td>1950</td>\n",
       "    </tr>\n",
       "    <tr>\n",
       "      <th>30785</th>\n",
       "      <td>1924</td>\n",
       "      <td>While sheep raising is carried on chiefly with...</td>\n",
       "      <td>1920</td>\n",
       "    </tr>\n",
       "    <tr>\n",
       "      <th>29974</th>\n",
       "      <td>1915</td>\n",
       "      <td>provisions of act.  Unlawful for any,  except...</td>\n",
       "      <td>1910</td>\n",
       "    </tr>\n",
       "    <tr>\n",
       "      <th>35046</th>\n",
       "      <td>1978</td>\n",
       "      <td>Since large areas are advertised and sold ever...</td>\n",
       "      <td>1970</td>\n",
       "    </tr>\n",
       "    <tr>\n",
       "      <th>17379</th>\n",
       "      <td>1866</td>\n",
       "      <td>Thomas Lee died in the year 1750, leaving six ...</td>\n",
       "      <td>1860</td>\n",
       "    </tr>\n",
       "    <tr>\n",
       "      <th>29659</th>\n",
       "      <td>1912</td>\n",
       "      <td>No point is made by petitioner as to the regul...</td>\n",
       "      <td>1910</td>\n",
       "    </tr>\n",
       "    <tr>\n",
       "      <th>9556</th>\n",
       "      <td>1811</td>\n",
       "      <td>III. The publication of an important part of t...</td>\n",
       "      <td>1810</td>\n",
       "    </tr>\n",
       "    <tr>\n",
       "      <th>31745</th>\n",
       "      <td>1941</td>\n",
       "      <td>If 21 percent of the atmosphere consists of ox...</td>\n",
       "      <td>1940</td>\n",
       "    </tr>\n",
       "    <tr>\n",
       "      <th>30477</th>\n",
       "      <td>1920</td>\n",
       "      <td>2 In the use of the word \"Animism\" we refer to...</td>\n",
       "      <td>1920</td>\n",
       "    </tr>\n",
       "    <tr>\n",
       "      <th>20032</th>\n",
       "      <td>1897</td>\n",
       "      <td>To recall the first general conception reached...</td>\n",
       "      <td>1890</td>\n",
       "    </tr>\n",
       "    <tr>\n",
       "      <th>16725</th>\n",
       "      <td>1857</td>\n",
       "      <td>WHEN modern public opinion on great moral and ...</td>\n",
       "      <td>1850</td>\n",
       "    </tr>\n",
       "    <tr>\n",
       "      <th>18439</th>\n",
       "      <td>1879</td>\n",
       "      <td>As a matter of course marriage itself fell of ...</td>\n",
       "      <td>1870</td>\n",
       "    </tr>\n",
       "    <tr>\n",
       "      <th>34549</th>\n",
       "      <td>1965</td>\n",
       "      <td>An accomplishment of particular significance h...</td>\n",
       "      <td>1960</td>\n",
       "    </tr>\n",
       "  </tbody>\n",
       "</table>\n",
       "</div>"
      ],
      "text/plain": [
       "       year                                               text  decade\n",
       "34676  1970  In the summer of 1869, I was in Florence,  Ita...    1970\n",
       "20544  1900  His present position in  Italy as a poet and p...    1900\n",
       "34818  1973  The Monthly will be glad to receive new public...    1970\n",
       "34590  1967  record. Grid resolution of graph paper indicat...    1960\n",
       "16510  1854  of these methods of treatment, and the conditi...    1850\n",
       "17349  1866  called a Dissyllable; as, truthful: one which ...    1860\n",
       "10418  1815  I believe, that the effusion of fluid  from th...    1810\n",
       "16887  1859  Natural History, considered in reference to th...    1850\n",
       "18380  1878  Common-wealth v. Pease .  V. Peck  v. Pemberto...    1870\n",
       "29653  1912  4. Inner Forces. The internal or inner forces ...    1910\n",
       "27953  1905  One of the first questions asked by those inte...    1900\n",
       "34593  1967  Painting, once a flat art, may now bulge forwa...    1960\n",
       "19654  1893  Verzeichniss von chymischen, alchymischen, phy...    1890\n",
       "13954  1829  The character of our government, and of our co...    1820\n",
       "17263  1865  Nothing could induce her any longer to  encour...    1860\n",
       "12613  1824  Murray's plea: the Cookery-book his sheetancho...    1820\n",
       "31212  1938  feared that the new college would be narrowly ...    1930\n",
       "17073  1862  \"Smaller associations [aristocracies] rejoice ...    1860\n",
       "17988  1874  \" Pardon me, friend,\" said the stranger, extri...    1870\n",
       "19662  1893  In the light of such influences, any who are n...    1890\n",
       "34414  1961  Fifteen years later, after extensive work had ...    1960\n",
       "17488  1868  I find  that on a scale which would make the p...    1860\n",
       "29699  1912  The county of Perth is situated in the middle ...    1910\n",
       "17011  1861  Chloroform may be depended on that has  a sp. ...    1860\n",
       "10394  1815  The poem appeared to be written with a  manjy ...    1810\n",
       "34717  1970  Behind Gideon's back, Lavina, as she dried the...    1970\n",
       "11126  1818  But the powers of Excisemen do not terminate h...    1810\n",
       "18916  1885  The Cards being Cut, to tell whether the Numbe...    1880\n",
       "18432  1879  its molecules are just as immovable as the bal...    1870\n",
       "8853   1808  Might I my footsteps bend,  In whose enchantin...    1800\n",
       "26452  1904  (a) Colic produced by overfeeding.  (h) Colic ...    1900\n",
       "16897  1859  Mr. McDonald then apprised the company of the ...    1850\n",
       "29458  1910  The Fahrenheit is the more commonly used tempe...    1910\n",
       "31077  1934  \"The observations and general behavior of Adel...    1930\n",
       "29807  1913  Under the modern  system of affixation, which ...    1910\n",
       "12275  1823  It seems hardly possible for any mind to  be s...    1820\n",
       "18660  1882  (Tutor), supported the young King, Ptolemaeus,...    1880\n",
       "33849  1950  year he lived in Indiana. By the time he was s...    1950\n",
       "30785  1924  While sheep raising is carried on chiefly with...    1920\n",
       "29974  1915   provisions of act.  Unlawful for any,  except...    1910\n",
       "35046  1978  Since large areas are advertised and sold ever...    1970\n",
       "17379  1866  Thomas Lee died in the year 1750, leaving six ...    1860\n",
       "29659  1912  No point is made by petitioner as to the regul...    1910\n",
       "9556   1811  III. The publication of an important part of t...    1810\n",
       "31745  1941  If 21 percent of the atmosphere consists of ox...    1940\n",
       "30477  1920  2 In the use of the word \"Animism\" we refer to...    1920\n",
       "20032  1897  To recall the first general conception reached...    1890\n",
       "16725  1857  WHEN modern public opinion on great moral and ...    1850\n",
       "18439  1879  As a matter of course marriage itself fell of ...    1870\n",
       "34549  1965  An accomplishment of particular significance h...    1960"
      ]
     },
     "execution_count": 11,
     "metadata": {},
     "output_type": "execute_result"
    }
   ],
   "source": [
    "data = shuffle(data)\n",
    "data.head(50)"
   ]
  },
  {
   "cell_type": "code",
   "execution_count": 12,
   "metadata": {
    "collapsed": false
   },
   "outputs": [
    {
     "data": {
      "text/plain": [
       "1970    257\n",
       "1940    257\n",
       "1820    257\n",
       "1840    257\n",
       "1860    257\n",
       "1880    257\n",
       "1900    257\n",
       "1920    257\n",
       "1800    257\n",
       "1810    257\n",
       "1830    257\n",
       "1850    257\n",
       "1870    257\n",
       "1910    257\n",
       "1930    257\n",
       "1950    256\n",
       "1890    256\n",
       "1960    256\n",
       "Name: decade, dtype: int64"
      ]
     },
     "execution_count": 12,
     "metadata": {},
     "output_type": "execute_result"
    }
   ],
   "source": [
    "# SUBSET FOR SPEED\n",
    "# data_sub, junk = train_test_split(data, test_size = 0.9)\n",
    "# data_sub = rebalance(data,'decade', number_per_val = 40)\n",
    "data_sub = data\n",
    "data_sub.decade.value_counts()"
   ]
  },
  {
   "cell_type": "code",
   "execution_count": 13,
   "metadata": {
    "collapsed": false
   },
   "outputs": [],
   "source": [
    "# Building test and train sets\n",
    "othercols = list(data_sub.columns)\n",
    "othercols.remove('text')\n",
    "othercols\n",
    "\n",
    "X, y = data_sub['text'], data_sub[['year','decade']]"
   ]
  },
  {
   "cell_type": "markdown",
   "metadata": {},
   "source": [
    "Next, I clean years from my data set to avoid fitting on that -- documents mentioning \"1974\" are probably not going to be from the 1820s, and that's not fair to include in the model."
   ]
  },
  {
   "cell_type": "code",
   "execution_count": 14,
   "metadata": {
    "collapsed": true
   },
   "outputs": [],
   "source": [
    "badstrings = [str(c) for c in list(range(1000,2016))]\n",
    "replacedict = {}\n",
    "for string in badstrings:\n",
    "    for c in ' -,;()[]':\n",
    "        replacedict[string + c] = c\n",
    "        replacedict[c+ string] = c\n",
    "\n",
    "def numberscrub(mytext):\n",
    "    for key in replacedict.keys():\n",
    "        mytext = mytext.replace(key, replacedict[key])\n",
    "    return mytext\n",
    "\n",
    "X = X.apply(numberscrub,1)"
   ]
  },
  {
   "cell_type": "code",
   "execution_count": 15,
   "metadata": {
    "collapsed": true
   },
   "outputs": [],
   "source": [
    "X_train, X_test, y_train, y_test = train_test_split(X, y, test_size = .3, random_state = 42)\n",
    "\n",
    "def subset(mytext, minlen = 100):\n",
    "    return mytext[:mytext[minlen:].find('.') + minlen]\n",
    "\n",
    "X_train_short = X_test.apply(subset, 1)\n",
    "X_test_short = X_test.apply(subset, 1)"
   ]
  },
  {
   "cell_type": "markdown",
   "metadata": {},
   "source": [
    "Next I build a model to predict the year of text. \n",
    "\n",
    "Because I'm going to be doing a lot of cross validation checking, I want to transform my data just once, as opposed to doing it every time I build a different model."
   ]
  },
  {
   "cell_type": "code",
   "execution_count": 16,
   "metadata": {
    "collapsed": true
   },
   "outputs": [],
   "source": [
    "def fold_transform(X, y, nfolds, mypipe, random_state = 42):\n",
    "    X_trainfolds, X_testfolds, y_trainfolds, y_testfolds = [], [], [], []\n",
    "    blanks = np.zeros(len(X))\n",
    "    for i in range(nfolds):\n",
    "        blanks[:round(i*len(X)/nfolds)] = blanks[:round(i*len(X)/nfolds)] + 1\n",
    "    shuffled = shuffle(blanks, random_state = random_state)\n",
    "    for i in range(nfolds):\n",
    "        X_trainfolds.append(mypipe.fit_transform(X[shuffled != i]))\n",
    "        X_testfolds.append(mypipe.transform(X[shuffled == i]))\n",
    "        y_trainfolds.append(y[shuffled != i])\n",
    "        y_testfolds.append(y[shuffled == i])\n",
    "        \n",
    "    return X_trainfolds, X_testfolds, y_trainfolds, y_testfolds"
   ]
  },
  {
   "cell_type": "code",
   "execution_count": 17,
   "metadata": {
    "collapsed": true
   },
   "outputs": [],
   "source": [
    "def makepipe(params, model = None):\n",
    "    [ngram_ceil, stop_words, lowercase, svd] = params\n",
    "    if model == None:\n",
    "        if svd in [0,None]:\n",
    "            return Pipeline([('vect', CountVectorizer(ngram_range=(1, ngram_ceil), lowercase = lowercase, stop_words = stop_words)),\n",
    "                    ('tfidf', TfidfTransformer()),])\n",
    "        elif type(svd) == int:\n",
    "            return Pipeline([('vect', CountVectorizer(ngram_range=(1, ngram_ceil), lowercase = lowercase, stop_words = stop_words)),\n",
    "                    ('tfidf', TfidfTransformer()),('svd', TruncatedSVD(n_components = svd)),])\n",
    "    else:\n",
    "        if svd in [0,None]:\n",
    "            return Pipeline([('vect', CountVectorizer(ngram_range=(1, ngram_ceil), lowercase = lowercase, stop_words = stop_words)),\n",
    "                    ('tfidf', TfidfTransformer()),('model', model)])\n",
    "        elif type(svd) == int:\n",
    "            return Pipeline([('vect', CountVectorizer(ngram_range=(1, ngram_ceil), lowercase = lowercase, stop_words = stop_words)),\n",
    "                    ('tfidf', TfidfTransformer()),('svd', TruncatedSVD(n_components = svd)),('model', model)])"
   ]
  },
  {
   "cell_type": "code",
   "execution_count": 18,
   "metadata": {
    "collapsed": false
   },
   "outputs": [
    {
     "name": "stdout",
     "output_type": "stream",
     "text": [
      "Process took 3394.0058150291443 seconds.\n"
     ]
    }
   ],
   "source": [
    "t0 = time.time()\n",
    "X_trainfolds, X_testfolds, y_trainfolds, y_testfolds = {},{},{},{}\n",
    "# ngram_ceils, stop_wordses, lowercases, svds = [1], ['english'], [True], [None]# for quick testing\n",
    "ngram_ceils, stop_wordses, lowercases, svds = [1,2], [None], [False], [None,100]\n",
    "\n",
    "\n",
    "for ngram_ceil in ngram_ceils:\n",
    "    if ngram_ceil not in y_testfolds.keys():\n",
    "        X_trainfolds[ngram_ceil], X_testfolds[ngram_ceil], y_trainfolds[ngram_ceil], y_testfolds[ngram_ceil] = {},{},{},{}\n",
    "    for stop_words in stop_wordses:\n",
    "        if stop_words not in y_testfolds[ngram_ceil].keys():\n",
    "            X_trainfolds[ngram_ceil][stop_words], X_testfolds[ngram_ceil][stop_words] = {},{}\n",
    "            y_trainfolds[ngram_ceil][stop_words], y_testfolds[ngram_ceil][stop_words] = {},{}\n",
    "        for lowercase in lowercases:\n",
    "            if lowercase not in y_testfolds[ngram_ceil][stop_words].keys():\n",
    "                X_trainfolds[ngram_ceil][stop_words][lowercase], X_testfolds[ngram_ceil][stop_words][lowercase] = {},{}\n",
    "                y_trainfolds[ngram_ceil][stop_words][lowercase], y_testfolds[ngram_ceil][stop_words][lowercase] = {},{}\n",
    "            for svd in svds:\n",
    "                if svd not in y_testfolds[ngram_ceil][stop_words][lowercase].keys():\n",
    "                    Xtr, Xte, ytr, yte = fold_transform(X_train, y_train, 5, \n",
    "                                                        makepipe([ngram_ceil, stop_words, lowercase, svd]),\n",
    "                                                        random_state = 42)\n",
    "                    X_trainfolds[ngram_ceil][stop_words][lowercase][svd] = Xtr\n",
    "                    X_testfolds[ngram_ceil][stop_words][lowercase][svd] = Xte\n",
    "                    y_trainfolds[ngram_ceil][stop_words][lowercase][svd] = ytr\n",
    "                    y_testfolds[ngram_ceil][stop_words][lowercase][svd] = yte\n",
    "print('Process took ' + str(time.time()-t0) + ' seconds.')"
   ]
  },
  {
   "cell_type": "code",
   "execution_count": 19,
   "metadata": {
    "collapsed": false
   },
   "outputs": [
    {
     "name": "stderr",
     "output_type": "stream",
     "text": [
      "//anaconda/lib/python3.5/site-packages/scipy/linalg/basic.py:884: RuntimeWarning: internal gelsd driver lwork query error, required iwork dimension not returned. This is likely the result of LAPACK bug 0038, fixed in LAPACK 3.2.2 (released July 21, 2010). Falling back to 'gelss' driver.\n",
      "  warnings.warn(mesg, RuntimeWarning)\n"
     ]
    },
    {
     "name": "stdout",
     "output_type": "stream",
     "text": [
      "LinReg:\n",
      "\n",
      "R2 Score: 0.746992098819\n",
      "Best ngram_ceil: 2\n",
      "Best lowercase: False\n",
      "Best stop_words: None\n",
      "Best svd: None\n",
      "\n",
      "59.42421889305115 seconds to build model\n",
      "\n",
      "\n",
      "Lasso:\n",
      "\n",
      "R2 Score: 0.143738734633\n",
      "Best ngram_ceil: 1\n",
      "Best lowercase: False\n",
      "Best stop_words: None\n",
      "Best svd: 100\n",
      "\n",
      "55.13739204406738 seconds to build model\n",
      "\n",
      "\n",
      "Ridge:\n",
      "\n",
      "R2 Score: 0.693983994357\n",
      "Best ngram_ceil: 1\n",
      "Best lowercase: False\n",
      "Best stop_words: None\n",
      "Best svd: None\n",
      "\n",
      "41.95932197570801 seconds to build model\n",
      "\n",
      "\n",
      "ElasticNet:\n",
      "\n",
      "R2 Score: 0.0126334670951\n",
      "Best ngram_ceil: 1\n",
      "Best lowercase: False\n",
      "Best stop_words: None\n",
      "Best svd: 100\n",
      "\n",
      "48.08889293670654 seconds to build model\n",
      "\n",
      "\n",
      "RF:\n",
      "\n",
      "R2 Score: 0.519873675102\n",
      "Best ngram_ceil: 1\n",
      "Best lowercase: False\n",
      "Best stop_words: None\n",
      "Best svd: 100\n",
      "\n",
      "12.717246055603027 seconds to build model\n",
      "\n",
      "\n",
      "XGB:\n",
      "\n",
      "R2 Score: 0.266067422548\n",
      "Best ngram_ceil: 1\n",
      "Best lowercase: False\n",
      "Best stop_words: None\n",
      "Best svd: 100\n",
      "\n",
      "2213.989958047867 seconds to build model\n",
      "\n",
      "\n",
      "2431.3533461093903 seconds overall\n"
     ]
    }
   ],
   "source": [
    "t0 = time.time()\n",
    "modelnames_reg = ['LinReg','Lasso','Ridge','ElasticNet','RF','XGB']\n",
    "regression_models_outer = [LinearRegression(), Lasso(),Ridge(),ElasticNet(),rfr(),xgb(objective = 'reg:linear')]\n",
    "regression_models_dict = {}\n",
    "model_best_params = {}\n",
    "for j in range(len(modelnames_reg)):\n",
    "    t1 = time.time()\n",
    "    regression_models_dict[modelnames_reg[j]] = regression_models_outer[j]\n",
    "    model_best_score, model_best_type = -1000, 0\n",
    "    for ngram_ceil in ngram_ceils:\n",
    "        for stop_words in stop_wordses:\n",
    "            for lowercase in lowercases:\n",
    "                for svd in svds:\n",
    "                    regression_models = [LinearRegression(), Lasso(),Ridge(),ElasticNet(),rfr(),xgb(objective = 'reg:linear')]\n",
    "#                     regression_models = [LinearRegression(), Lasso(),Ridge(),ElasticNet(),rfr(),xgb(objective = 'reg:linear')]\n",
    "                    #define these here so the models initialize differently\n",
    "                    gosvd = 0\n",
    "                    if (type(svd) == int):\n",
    "                        gosvd = (svd > 0) + 0\n",
    "                    model_iter = regression_models[j]\n",
    "#                     model_fit = regression_models_[j]\n",
    "                    scores = []\n",
    "                    if ((j<4) + gosvd) > 0:# only run RF, XGB on SVD -- too slow for full feature set\n",
    "                        for fold in range(5):\n",
    "                            Xtr = X_trainfolds[ngram_ceil][stop_words][lowercase][svd][fold]\n",
    "                            Xte = X_testfolds[ngram_ceil][stop_words][lowercase][svd][fold]\n",
    "                            ytr = y_trainfolds[ngram_ceil][stop_words][lowercase][svd][fold]['year']\n",
    "                            yte = y_testfolds[ngram_ceil][stop_words][lowercase][svd][fold]['year']\n",
    "                            model_iter.fit(Xtr,ytr)\n",
    "                            scores.append(r2_score(yte, model_iter.predict(Xte)))\n",
    "                        currentscore = sum(scores)/len(scores)\n",
    "                        if currentscore > model_best_score:\n",
    "                            model_best_score, model_best_params[modelnames_reg[j]] = currentscore, [ngram_ceil, stop_words, lowercase, svd]\n",
    "\n",
    "    [bngram_ceil, bstop_words, blowercase, bsvd] = model_best_params[modelnames_reg[j]]\n",
    "    print(modelnames_reg[j] + ':\\n')\n",
    "    print('R2 Score: ' + str(model_best_score))\n",
    "    print('Best ngram_ceil: ' + str(bngram_ceil))\n",
    "    print('Best lowercase: ' + str(blowercase))\n",
    "    print('Best stop_words: ' + str(bstop_words))\n",
    "    print('Best svd: ' + str(bsvd) + '\\n')\n",
    "    print(str(time.time()-t1) + ' seconds to build model\\n\\n')\n",
    "print(str(time.time()-t0) + ' seconds overall')"
   ]
  },
  {
   "cell_type": "code",
   "execution_count": 20,
   "metadata": {
    "collapsed": false
   },
   "outputs": [
    {
     "name": "stdout",
     "output_type": "stream",
     "text": [
      "LinReg:\n",
      "\n",
      "Correct Decade: 19.54%\n",
      "R2: 0.746655408563\n",
      "\n",
      "\n",
      "Lasso:\n",
      "\n",
      "Correct Decade: 5.84%\n",
      "R2: 0.127009327326\n",
      "\n",
      "\n",
      "Ridge:\n",
      "\n",
      "Correct Decade: 15.0%\n",
      "R2: 0.699379194112\n",
      "\n",
      "\n",
      "ElasticNet:\n",
      "\n",
      "Correct Decade: 5.34%\n",
      "R2: 0.0125886545398\n",
      "\n",
      "\n",
      "RF:\n",
      "\n",
      "Correct Decade: 14.28%\n",
      "R2: 0.544547171953\n",
      "\n",
      "\n",
      "XGB:\n",
      "\n",
      "Correct Decade: 14.28%\n",
      "R2: 0.324885164557\n",
      "\n",
      "\n",
      "449.2221682071686\n"
     ]
    }
   ],
   "source": [
    "t0 = time.time()\n",
    "models_pipe_reg = {}\n",
    "for key in modelnames_reg:\n",
    "    innermodel = regression_models_dict[key]\n",
    "    mymodel = makepipe(model_best_params[key], model = innermodel)\n",
    "    mymodel.fit(X_train,y_train.year)\n",
    "    predsyear = mymodel.predict(X_test)\n",
    "    models_pipe_reg[key] = mymodel\n",
    "    predsdec = np.floor(predsyear/10)*10\n",
    "    print(key + ':\\n')\n",
    "    print('Correct Decade: ' + str(round((predsdec == y_test.decade).mean()*100,2)) + '%')\n",
    "    print('R2: ' + str(r2_score(y_test.year,predsyear)) + '\\n\\n')\n",
    "print(time.time()-t0)"
   ]
  },
  {
   "cell_type": "code",
   "execution_count": 21,
   "metadata": {
    "collapsed": false
   },
   "outputs": [
    {
     "data": {
      "text/html": [
       "<div>\n",
       "<table border=\"1\" class=\"dataframe\">\n",
       "  <thead>\n",
       "    <tr style=\"text-align: right;\">\n",
       "      <th></th>\n",
       "      <th>text</th>\n",
       "      <th>predicted</th>\n",
       "      <th>actual</th>\n",
       "      <th>decade</th>\n",
       "    </tr>\n",
       "  </thead>\n",
       "  <tbody>\n",
       "    <tr>\n",
       "      <th>19178</th>\n",
       "      <td>Sractised as a barrister in the Supreme Court ...</td>\n",
       "      <td>1892.117948</td>\n",
       "      <td>1888</td>\n",
       "      <td>1880.0</td>\n",
       "    </tr>\n",
       "    <tr>\n",
       "      <th>34729</th>\n",
       "      <td>She could see Mary Ellen's back as she  climbe...</td>\n",
       "      <td>1910.889498</td>\n",
       "      <td>1971</td>\n",
       "      <td>1970.0</td>\n",
       "    </tr>\n",
       "    <tr>\n",
       "      <th>19432</th>\n",
       "      <td>At the same time, as we have already indicated...</td>\n",
       "      <td>1889.945156</td>\n",
       "      <td>1891</td>\n",
       "      <td>1890.0</td>\n",
       "    </tr>\n",
       "    <tr>\n",
       "      <th>28415</th>\n",
       "      <td>It is an enormous  theatre, in which thousands...</td>\n",
       "      <td>1883.510386</td>\n",
       "      <td>1905</td>\n",
       "      <td>1900.0</td>\n",
       "    </tr>\n",
       "    <tr>\n",
       "      <th>32301</th>\n",
       "      <td>Numerous varieties of perfumes have long  been...</td>\n",
       "      <td>1923.979403</td>\n",
       "      <td>1943</td>\n",
       "      <td>1940.0</td>\n",
       "    </tr>\n",
       "  </tbody>\n",
       "</table>\n",
       "</div>"
      ],
      "text/plain": [
       "                                                    text    predicted  actual  \\\n",
       "19178  Sractised as a barrister in the Supreme Court ...  1892.117948    1888   \n",
       "34729  She could see Mary Ellen's back as she  climbe...  1910.889498    1971   \n",
       "19432  At the same time, as we have already indicated...  1889.945156    1891   \n",
       "28415  It is an enormous  theatre, in which thousands...  1883.510386    1905   \n",
       "32301  Numerous varieties of perfumes have long  been...  1923.979403    1943   \n",
       "\n",
       "       decade  \n",
       "19178  1880.0  \n",
       "34729  1970.0  \n",
       "19432  1890.0  \n",
       "28415  1900.0  \n",
       "32301  1940.0  "
      ]
     },
     "execution_count": 21,
     "metadata": {},
     "output_type": "execute_result"
    }
   ],
   "source": [
    "truths = pd.DataFrame(data = X_test.copy(), columns = ['text'])\n",
    "truths['predicted'] = models_pipe_reg['LinReg'].predict(X_test)\n",
    "truths['actual'] = y_test.year.copy()\n",
    "truths['decade'] = np.floor(np.asarray(truths.actual/10))*10\n",
    "truths.head()"
   ]
  },
  {
   "cell_type": "code",
   "execution_count": 22,
   "metadata": {
    "collapsed": false
   },
   "outputs": [],
   "source": [
    "decs = sorted(truths.decade.unique().tolist())\n",
    "errdecs = []\n",
    "for dec in decs:\n",
    "    tdec = truths[truths.decade == dec]\n",
    "    errdecs.append((np.square(tdec.actual - tdec.predicted).mean())**.5)"
   ]
  },
  {
   "cell_type": "code",
   "execution_count": 23,
   "metadata": {
    "collapsed": false
   },
   "outputs": [
    {
     "data": {
      "text/plain": [
       "<matplotlib.text.Text at 0x159363208>"
      ]
     },
     "execution_count": 23,
     "metadata": {},
     "output_type": "execute_result"
    },
    {
     "data": {
      "image/png": "[encoded data removed]",
      "text/plain": [
       "<matplotlib.figure.Figure at 0x159260358>"
      ]
     },
     "metadata": {},
     "output_type": "display_data"
    }
   ],
   "source": [
    "plt.bar(decs, errdecs, width = 6)\n",
    "plt.xlim(1790,1990)\n",
    "plt.title('RMS Error vs Actual Decade')\n",
    "plt.xlabel('Decade (Actual)')\n",
    "plt.ylabel('RMS Error (years)')"
   ]
  },
  {
   "cell_type": "code",
   "execution_count": 24,
   "metadata": {
    "collapsed": false
   },
   "outputs": [],
   "source": [
    "coefs = list(models_pipe_reg['LinReg'].named_steps['model'].coef_)\n",
    "features = models_pipe_reg['LinReg'].named_steps['vect'].get_feature_names()[:]\n",
    "coefdict = {}\n",
    "for i in range(len(coefs)):\n",
    "    coefdict[features[i]] = coefs[i]\n"
   ]
  },
  {
   "cell_type": "code",
   "execution_count": 70,
   "metadata": {
    "collapsed": false
   },
   "outputs": [
    {
     "data": {
      "text/plain": [
       "[('which', -108.61921153735224),\n",
       " ('it', -89.10384126978569),\n",
       " ('every', -78.540683716086548),\n",
       " ('their', -75.150165476129146),\n",
       " ('till', -69.864465587647345),\n",
       " ('st', -68.72207568029674),\n",
       " ('tlie', -63.237485752952423),\n",
       " ('upon', -62.441289213836086),\n",
       " ('by', -60.753405656428825),\n",
       " ('And', -60.623268593220487),\n",
       " ('so', -59.560689734505381),\n",
       " ('therefore', -58.989313642421962),\n",
       " ('he', -58.765976371988444),\n",
       " ('the same', -57.720847307365489),\n",
       " ('same', -57.446219262670986),\n",
       " ('the said', -55.560121490594874),\n",
       " ('Mr', -55.078685339940826),\n",
       " ('being', -52.895537781053022),\n",
       " ('any thing', -52.557143193069301),\n",
       " ('est', -49.486670413527158),\n",
       " ('Av', -48.180218555390624),\n",
       " ('Elsa', -48.169456138044971),\n",
       " ('towards', -47.573781264763241),\n",
       " ('my', -46.945945980581499),\n",
       " ('yet', -45.396118452195097),\n",
       " ('thee', -44.629693312076903),\n",
       " ('them', -43.668370064163312),\n",
       " ('much', -43.166393035708943),\n",
       " ('Virgile', -43.154723086984689),\n",
       " ('very', -42.924336706323665),\n",
       " ('every thing', -42.828601950727254),\n",
       " ('without', -42.518217900955555),\n",
       " ('Esq', -42.180255295638531),\n",
       " ('manner', -41.924949794349324),\n",
       " ('state of', -41.365937025781676),\n",
       " ('to the', -41.235769397446226),\n",
       " ('this', -41.136578302703789),\n",
       " ('be', -40.248130544910993),\n",
       " ('employed', -39.502221441153104),\n",
       " ('the most', -39.467009269060128),\n",
       " ('inhabitants', -39.378008267292834),\n",
       " ('colour', -39.124606211439144),\n",
       " ('supposed', -38.513016775135341),\n",
       " ('proportion', -38.471972165956387),\n",
       " ('il', -37.933092757867435),\n",
       " ('honour', -37.555427052832506),\n",
       " ('His Majestie', -36.983426381719859),\n",
       " ('favour', -36.966065520834952),\n",
       " ('labour', -36.802702589141539),\n",
       " ('the former', -36.112502534491561),\n",
       " ('thou', -36.003219796110393),\n",
       " ('mind', -35.95625064904366),\n",
       " ('thing', -35.884070193845467),\n",
       " ('thy', -35.845532906686934),\n",
       " ('shew', -35.702716831634625),\n",
       " ('of his', -35.613805498497442),\n",
       " ('in every', -35.545653014570796),\n",
       " ('quantity', -35.432805194522132),\n",
       " ('the whole', -35.386783770262916),\n",
       " ('country', -35.347380690537612),\n",
       " ('mode', -35.332764222841675),\n",
       " ('upon the', -35.16263989910027),\n",
       " ('ad', -34.780007626888853),\n",
       " ('consequence', -34.760165427493966),\n",
       " ('degree', -34.674443613994733),\n",
       " ('prince', -34.501414676300385),\n",
       " ('former', -34.384366451610347),\n",
       " ('Majestie', -33.854114204522666),\n",
       " ('all the', -33.593783827659507),\n",
       " ('those', -33.589243218247184),\n",
       " ('quantity of', -33.348070459380708),\n",
       " ('generally', -32.972409482960714),\n",
       " ('persons', -32.905175010388476),\n",
       " ('having', -32.80106401550885),\n",
       " ('several', -32.56206316499042),\n",
       " ('kyng', -32.374069273043652),\n",
       " ('consequently', -32.309669320224899),\n",
       " ('of which', -32.287200756383577),\n",
       " ('from', -32.284393886616826),\n",
       " ('of those', -31.968319305992587),\n",
       " ('Lord', -31.927664274229507),\n",
       " ('river', -31.877253321091043),\n",
       " ('proceed', -31.693958537784138),\n",
       " ('heart', -31.682786327868044),\n",
       " ('grace', -31.568138845161936),\n",
       " ('opinion', -31.472943328439314),\n",
       " ('this subject', -31.00650567802537),\n",
       " ('vain', -30.877179044131765),\n",
       " ('subject', -30.832481187498484),\n",
       " ('dollars', -30.821637748405546),\n",
       " ('afterwards', -30.745247371393379),\n",
       " ('whole', -30.741091151456917),\n",
       " ('part of', -30.738688478204825),\n",
       " ('to be', -30.577522374813611),\n",
       " ('procured', -30.521193363660021),\n",
       " ('equal', -30.40969252876123),\n",
       " ('fortune', -30.321449232377578),\n",
       " ('the plan', -30.083920848638723),\n",
       " ('Messrs', -29.940028146664488),\n",
       " ('must', -29.914308557675501)]"
      ]
     },
     "execution_count": 70,
     "metadata": {},
     "output_type": "execute_result"
    }
   ],
   "source": [
    "asc_coefs = sorted(coefdict.items(), key=operator.itemgetter(1))\n",
    "asc_coefs[:100]"
   ]
  },
  {
   "cell_type": "code",
   "execution_count": 71,
   "metadata": {
    "collapsed": false
   },
   "outputs": [
    {
     "data": {
      "text/plain": [
       "[('for', 105.813224363914),\n",
       " ('later', 91.614494267589293),\n",
       " ('in', 82.019920624560854),\n",
       " ('de', 79.084195142385823),\n",
       " ('area', 73.343194308302955),\n",
       " ('rÃ', 67.811546651362448),\n",
       " ('Act', 66.072664540844798),\n",
       " ('section', 63.562460553093324),\n",
       " ('The', 59.281289466122963),\n",
       " ('was', 56.614551895034417),\n",
       " ('come', 56.205075612576913),\n",
       " ('However', 56.073848224173638),\n",
       " ('life', 55.655400327875164),\n",
       " ('used', 54.784728166936624),\n",
       " ('control', 54.744523617735325),\n",
       " ('Kenan', 54.628662598805946),\n",
       " ('di', 53.504070904568138),\n",
       " ('In', 53.450577191400029),\n",
       " ('century', 53.276756166761736),\n",
       " ('today', 51.99502406969674),\n",
       " ('group', 51.801258168215149),\n",
       " ('fact that', 50.87535691978271),\n",
       " ('Mother', 49.655684510551922),\n",
       " ('Wagner', 49.49743170256756),\n",
       " ('material', 48.995675247018887),\n",
       " ('because of', 48.363488983156685),\n",
       " ('Illinois', 48.274878405715661),\n",
       " ('special', 48.019538808953044),\n",
       " ('toward', 47.615366248283586),\n",
       " ('Church', 47.306506279958349),\n",
       " ('lord de', 47.179584972176805),\n",
       " ('mm', 47.082449346243891),\n",
       " ('River', 47.048420666467429),\n",
       " ('type', 46.969796499425193),\n",
       " ('en', 46.681160483241143),\n",
       " ('American', 46.142731175981176),\n",
       " ('known as', 46.136207163627233),\n",
       " ('color', 45.934332507120494),\n",
       " ('one', 44.87925249653027),\n",
       " ('major', 44.665308875575754),\n",
       " ('is', 44.601185733464789),\n",
       " ('position', 44.221780914487297),\n",
       " ('years', 43.211651952314988),\n",
       " ('members', 42.994486953834112),\n",
       " ('Mudd', 42.947078061548588),\n",
       " ('story', 42.831303758461466),\n",
       " ('people', 42.399392035850717),\n",
       " ('problem', 42.258689667330451),\n",
       " ('date', 41.976929782011631),\n",
       " ('She', 41.663854936361908),\n",
       " ('dorsal', 41.465342874679209),\n",
       " ('ike', 41.12698392973617),\n",
       " ('Co', 40.914365029822953),\n",
       " ('relationship', 40.905397582691165),\n",
       " ('social', 40.850817970844453),\n",
       " ('shall be', 40.371093099640838),\n",
       " ('early', 40.138485341720092),\n",
       " ('Department', 39.990366586467843),\n",
       " ('on', 39.853960887831278),\n",
       " ('und', 39.489716638783442),\n",
       " ('normal', 39.484397121512394),\n",
       " ('fact', 39.414847771489192),\n",
       " ('based', 39.170633320395794),\n",
       " ('out', 38.923048467832203),\n",
       " ('had to', 38.781224314348094),\n",
       " ('problems', 38.736520315731468),\n",
       " ('conditions', 38.6861975504181),\n",
       " ('anything', 38.548425116868955),\n",
       " ('music', 38.531022228068139),\n",
       " ('earlier', 38.488479675112522),\n",
       " ('une', 38.427308033572956),\n",
       " ('Senator', 38.298680318269724),\n",
       " ('Fig', 37.929697762783533),\n",
       " ('Article', 37.849583651644515),\n",
       " ('Lincoln', 37.716841608018441),\n",
       " ('can be', 37.651861486002723),\n",
       " ('His', 37.392857118102619),\n",
       " ('know', 37.382383662866964),\n",
       " ('developed', 37.245953350613462),\n",
       " ('shown', 37.063557373844382),\n",
       " ('van', 37.015273323215304),\n",
       " ('only', 36.948421464931208),\n",
       " ('center', 36.817090171110166),\n",
       " ('world', 36.601881358521744),\n",
       " ('Federal', 36.584148500379634),\n",
       " ('Niger', 36.281440393586593),\n",
       " ('Museum', 36.265183403425915),\n",
       " ('can', 36.059982626830639),\n",
       " ('development', 35.974554296923912),\n",
       " ('role', 35.906137406407069),\n",
       " ('Lake', 35.78015789213898),\n",
       " ('provide', 35.736100253780762),\n",
       " ('over', 35.694536969585627),\n",
       " ('basic', 35.659243969915927),\n",
       " ('Browning', 35.609237998527227),\n",
       " ('available', 35.435990482289235),\n",
       " ('research', 35.405254374760148),\n",
       " ('came', 35.371036738365639),\n",
       " ('noted', 35.317487838916279),\n",
       " ('As', 35.015132250272565)]"
      ]
     },
     "execution_count": 71,
     "metadata": {},
     "output_type": "execute_result"
    }
   ],
   "source": [
    "desc_coefs = sorted(coefdict.items(), key=operator.itemgetter(1), reverse = True)\n",
    "desc_coefs[:100]"
   ]
  },
  {
   "cell_type": "markdown",
   "metadata": {},
   "source": [
    "Looks like a lot of political stuff (democracy vs monarchy), science terms, and US vs British english spellings, as the latter's share of the english language corpus declines."
   ]
  },
  {
   "cell_type": "code",
   "execution_count": 54,
   "metadata": {
    "collapsed": true
   },
   "outputs": [],
   "source": [
    "def printscores(words,mydict):\n",
    "    for word in words:\n",
    "        scores = []\n",
    "        if word.lower() in mydict:\n",
    "            scores.append(mydict[word.lower()])\n",
    "        if word.upper() in mydict:\n",
    "            scores.append(mydict[word.upper()])\n",
    "        if word.capitalize() in mydict:\n",
    "            scores.append(mydict[word.capitalize()])\n",
    "        score = sum(scores)/max([len(scores),1])# returns zero if scores is empty\n",
    "        print(word + ': ' + str(score))"
   ]
  },
  {
   "cell_type": "code",
   "execution_count": 84,
   "metadata": {
    "collapsed": true
   },
   "outputs": [],
   "source": [
    "old = ['lord','earl','duke','king','aether','ark','humour','colour','flavour']\n",
    "new = ['federal', 'subcommittee','mayor','president','nuclear','oxygen','humor','color','flavor']"
   ]
  },
  {
   "cell_type": "code",
   "execution_count": 85,
   "metadata": {
    "collapsed": false
   },
   "outputs": [
    {
     "name": "stdout",
     "output_type": "stream",
     "text": [
      "lord: -13.8528646297\n",
      "earl: -7.78696194796\n",
      "duke: -8.80249508052\n",
      "king: -2.40514336763\n",
      "aether: -0.0735818023356\n",
      "ark: -5.89658746189\n",
      "humour: -7.07773791572\n",
      "colour: -19.2913627267\n",
      "flavour: -3.32091373335\n",
      "\n",
      "federal: 19.2736618667\n",
      "subcommittee: 15.6203634498\n",
      "mayor: 1.19060745749\n",
      "president: 10.1156412821\n",
      "nuclear: 6.95767114573\n",
      "oxygen: 5.57586088372\n",
      "humor: 6.03971462223\n",
      "color: 15.1040811773\n",
      "flavor: 5.50997360966\n"
     ]
    }
   ],
   "source": [
    "printscores(old,coefdict)\n",
    "print()\n",
    "printscores(new, coefdict)"
   ]
  },
  {
   "cell_type": "code",
   "execution_count": 41,
   "metadata": {
    "collapsed": false
   },
   "outputs": [
    {
     "data": {
      "text/html": [
       "<div>\n",
       "<table border=\"1\" class=\"dataframe\">\n",
       "  <thead>\n",
       "    <tr style=\"text-align: right;\">\n",
       "      <th></th>\n",
       "      <th>earlier</th>\n",
       "      <th>later</th>\n",
       "    </tr>\n",
       "  </thead>\n",
       "  <tbody>\n",
       "    <tr>\n",
       "      <th>0</th>\n",
       "      <td>lord</td>\n",
       "      <td>federal</td>\n",
       "    </tr>\n",
       "    <tr>\n",
       "      <th>1</th>\n",
       "      <td>earl</td>\n",
       "      <td>subcommittee</td>\n",
       "    </tr>\n",
       "    <tr>\n",
       "      <th>2</th>\n",
       "      <td>duke</td>\n",
       "      <td>mayor</td>\n",
       "    </tr>\n",
       "    <tr>\n",
       "      <th>3</th>\n",
       "      <td>king</td>\n",
       "      <td>president</td>\n",
       "    </tr>\n",
       "    <tr>\n",
       "      <th>4</th>\n",
       "      <td>aether</td>\n",
       "      <td>nuclear</td>\n",
       "    </tr>\n",
       "    <tr>\n",
       "      <th>5</th>\n",
       "      <td>ark</td>\n",
       "      <td>oxygen</td>\n",
       "    </tr>\n",
       "    <tr>\n",
       "      <th>6</th>\n",
       "      <td>humour</td>\n",
       "      <td>humor</td>\n",
       "    </tr>\n",
       "    <tr>\n",
       "      <th>7</th>\n",
       "      <td>colour</td>\n",
       "      <td>color</td>\n",
       "    </tr>\n",
       "    <tr>\n",
       "      <th>8</th>\n",
       "      <td>flavour</td>\n",
       "      <td>flavor</td>\n",
       "    </tr>\n",
       "  </tbody>\n",
       "</table>\n",
       "</div>"
      ],
      "text/plain": [
       "   earlier         later\n",
       "0     lord       federal\n",
       "1     earl  subcommittee\n",
       "2     duke         mayor\n",
       "3     king     president\n",
       "4   aether       nuclear\n",
       "5      ark        oxygen\n",
       "6   humour         humor\n",
       "7   colour         color\n",
       "8  flavour        flavor"
      ]
     },
     "execution_count": 41,
     "metadata": {},
     "output_type": "execute_result"
    }
   ],
   "source": [
    "examples = pd.DataFrame(data = old, columns = ['earlier'])\n",
    "examples['later'] = new\n",
    "examples"
   ]
  }
 ],
 "metadata": {
  "kernelspec": {
   "display_name": "Python 3",
   "language": "python",
   "name": "python3"
  },
  "language_info": {
   "codemirror_mode": {
    "name": "ipython",
    "version": 3
   },
   "file_extension": ".py",
   "mimetype": "text/x-python",
   "name": "python",
   "nbconvert_exporter": "python",
   "pygments_lexer": "ipython3",
   "version": "3.5.2"
  }
 },
 "nbformat": 4,
 "nbformat_minor": 0
}
